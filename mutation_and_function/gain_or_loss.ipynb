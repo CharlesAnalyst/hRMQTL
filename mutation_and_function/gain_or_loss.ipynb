{
 "cells": [
  {
   "cell_type": "code",
   "execution_count": 2,
   "metadata": {},
   "outputs": [],
   "source": [
    "import os\n",
    "import sys\n",
    "import csv\n",
    "import glob\n",
    "import datetime\n",
    "import shutil\n",
    "import random\n",
    "import subprocess\n",
    "import pandas as pd\n",
    "import numpy as np\n",
    "from multiprocessing import Pool\n",
    "pd.options.mode.chained_assignment = None  # default='warn'"
   ]
  },
  {
   "cell_type": "markdown",
   "metadata": {},
   "source": [
    "#### Generate hg19 vcf format files, which are needed by m6aSNP"
   ]
  },
  {
   "cell_type": "code",
   "execution_count": 10,
   "metadata": {},
   "outputs": [],
   "source": [
    "in_dir = \"/home/galaxy/data/QTL/m6a_related_SNPs/sQTL/sQTLSeekeR_Transcript-Ratio/hg19_m6a_qtl_bed\"\n",
    "in_list = glob.glob(\"%s/*.bed\" % in_dir)\n",
    "result_dir = \"/home/galaxy/project/QTL_analysis/SNP_gain_or_loss/sQTL/sQTLSeekeR_Transcript-Ratio/vcf_formatted\"\n",
    "if not os.path.exists(result_dir):\n",
    "    os.makedirs(result_dir)\n",
    "for x in in_list:\n",
    "    process_each_bed(x)"
   ]
  },
  {
   "cell_type": "code",
   "execution_count": 1,
   "metadata": {},
   "outputs": [],
   "source": [
    "def process_each_bed(bed):\n",
    "    result_vcf = os.path.join(result_dir, os.path.basename(bed))\n",
    "    #\n",
    "    tissue = os.path.basename(bed).split(\".\")[0]\n",
    "    df = pd.read_table(bed, sep=\"\\t\", header=None, names=[\"chr\", \"start\", \"end\", \"info\"])\n",
    "    # [\"new_chr\", \"new_pos\", \"variant_id\", \"ref\", \"alt\", \"sample\"]\n",
    "    df[\"RS ID\"] = df[\"info\"].str.split(\";\").str[2]\n",
    "    df[\"Ref\"] = df[\"info\"].str.split(\";\").str[3]\n",
    "    df[\"Alt\"] = df[\"info\"].str.split(\";\").str[4]\n",
    "    df[\"Sample\"] = tissue\n",
    "    df_res = df[[\"chr\", \"end\", \"RS ID\", \"Ref\", \"Alt\", \"Sample\"]].sort_values([\"chr\", \"end\"]).drop_duplicates()\n",
    "    df_res.to_csv(result_vcf, sep=\"\\t\", header=False, index=False)\n",
    "#     print(df_res.head())"
   ]
  },
  {
   "cell_type": "markdown",
   "metadata": {},
   "source": [
    "#### m6ASNP predict"
   ]
  },
  {
   "cell_type": "code",
   "execution_count": 11,
   "metadata": {},
   "outputs": [],
   "source": [
    "######################################################################################################################\n",
    "m6aSNP_jar = \"/data/software/m6ASNP/m6ASNP.jar\"\n",
    "eQTL_dir = \"/home/galaxy/project/QTL_analysis/SNP_gain_or_loss/sQTL/sQTLSeekeR_Transcript-Ratio/vcf_formatted\"\n",
    "ucsc_annotation = \"/data/software/m6ASNP/knownGeneAnnotation_hg19\"\n",
    "genome_sequence = \"/data/software/m6ASNP/hg19.2bit\"\n",
    "result_dir = \"/home/galaxy/project/QTL_analysis/SNP_gain_or_loss/sQTL/sQTLSeekeR_Transcript-Ratio/m6ASNP_result\"\n",
    "if not os.path.exists(result_dir):\n",
    "    os.makedirs(result_dir)\n",
    "###################################\n",
    "\n",
    "\n",
    "def predict_single_file(eQTL_vcf):\n",
    "    result_txt = os.path.join(result_dir, os.path.basename(eQTL_vcf).split(\".bed\")[0])\n",
    "    os.system(\"java -jar %s -predict -i %s -it tab -sp Human -a %s -g %s -o %s\" %\n",
    "              (m6aSNP_jar, eQTL_vcf, ucsc_annotation, genome_sequence, result_txt))\n",
    "    # java -jar /data/software/m6ASNP/m6ASNP.jar -predict -i liver.txt -it tab -sp Human -a /data/software/m6ASNP/knownGeneAnnotation_hg19 -g /data/software/m6ASNP/hg19.2bit -o test_result\n",
    "\n",
    "\n",
    "if __name__ == '__main__':\n",
    "    eQTL_vcf_list = glob.glob(\"%s/*.bed\" % eQTL_dir)\n",
    "    pool = Pool()\n",
    "    for eQTL_vcf in eQTL_vcf_list:\n",
    "        pool.apply_async(predict_single_file, (eQTL_vcf, ))\n",
    "    pool.close()\n",
    "    pool.join()"
   ]
  },
  {
   "cell_type": "markdown",
   "metadata": {},
   "source": [
    "##### parse m6ASNP result and prepare input data for WebLogo"
   ]
  },
  {
   "cell_type": "code",
   "execution_count": 7,
   "metadata": {},
   "outputs": [],
   "source": [
    "#############################################################################################################\n",
    "data_dir = \"/home/galaxy/project/QTL_analysis/SNP_gain_or_loss/pQTL/m6ASNP_result\"\n",
    "info_list = glob.glob(\"%s/*.txt\" % data_dir)\n",
    "# postfix = \".txt\"\n",
    "# m6a_dir = \"/data6/revised_version/data/total_m6a_peak/hg19_version\"\n",
    "# m6a_list = glob.glob(\"%s/*.bed\" % m6a_dir)\n",
    "# tissue_list = [\"BRAIN\", \"HEART\", \"LIVER\", \"LUNG\", \"MUSCLE\", \"STOMACH\"]\n",
    "result_dir = \"/home/galaxy/project/QTL_analysis/SNP_gain_or_loss/pQTL/input_for_m6ASNP\"\n",
    "if not os.path.exists(result_dir):\n",
    "    os.makedirs(result_dir)\n",
    "# result_file = os.path.join(result_dir, \"result_info_GRCh37.bed\")\n",
    "##############################################################################################################"
   ]
  },
  {
   "cell_type": "code",
   "execution_count": 8,
   "metadata": {},
   "outputs": [],
   "source": [
    "for txt in info_list:\n",
    "    for term in [\"Functional Gain\", \"Functional Loss\"]:\n",
    "        process_each_file(txt, term)"
   ]
  },
  {
   "cell_type": "code",
   "execution_count": 6,
   "metadata": {},
   "outputs": [],
   "source": [
    "def process_each_file(in_file, GAIN_OR_LOSS): # \"Functional Gain\" or \"Functional Loss\"\n",
    "    prefix = os.path.basename(in_file).split(\".\")[0]\n",
    "    ref_result = os.path.join(result_dir, \"Ref-%s-%s.fa\" % (\"_\".join(GAIN_OR_LOSS.split()), prefix))\n",
    "    alt_result = os.path.join(result_dir, \"Alt-%s-%s.fa\" % (\"_\".join(GAIN_OR_LOSS.split()), prefix))\n",
    "    names = [\"SampleID\", \"UCSCID\", \"Gene symbol\", \"Chromosome\", \"Position\", \"Strand\", \"Reference sequence\", \"Mutation sequence\", \"Reference score\", \"Mutation score\", \"Significance\", \"Mutation event\", \"Related mutations\", \"unknown\"]\n",
    "    df = pd.read_table(in_file, sep=\"\\t\", header=None, skiprows=1, names=names)\n",
    "#     print(df.head())\n",
    "    df_fun = df[df[\"Mutation event\"] == GAIN_OR_LOSS]\n",
    "#     print(df_fun.head())\n",
    "    df_fun[\"RS ID\"] = df_fun[\"Related mutations\"].str.split(\"|\").str[-4]\n",
    "    fw_ref, fw_alt = open(ref_result, 'w'), open(alt_result, 'w')\n",
    "    for index, values in df_fun.iterrows():\n",
    "        fw_ref.write(\">%s\\n%s\\n\" % (values[\"RS ID\"], values[\"Reference sequence\"]))\n",
    "        fw_alt.write(\">%s\\n%s\\n\" % (values[\"RS ID\"], values[\"Mutation sequence\"]))\n",
    "    fw_ref.close()\n",
    "    fw_alt.close()"
   ]
  }
 ],
 "metadata": {
  "kernelspec": {
   "display_name": "Python 3",
   "language": "python",
   "name": "python3"
  },
  "language_info": {
   "codemirror_mode": {
    "name": "ipython",
    "version": 3
   },
   "file_extension": ".py",
   "mimetype": "text/x-python",
   "name": "python",
   "nbconvert_exporter": "python",
   "pygments_lexer": "ipython3",
   "version": "3.6.6"
  }
 },
 "nbformat": 4,
 "nbformat_minor": 2
}
