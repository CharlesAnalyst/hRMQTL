{
 "cells": [
  {
   "cell_type": "code",
   "execution_count": 33,
   "metadata": {},
   "outputs": [],
   "source": [
    "import os\n",
    "import glob\n",
    "import pandas as pd\n",
    "import numpy as np\n",
    "from collections import Counter"
   ]
  },
  {
   "cell_type": "code",
   "execution_count": 22,
   "metadata": {},
   "outputs": [],
   "source": [
    "m6a = \"/home/galaxy/project/m6AQTL/data/data_for_website/data_for_website.txt\"\n",
    "m5c = \"/home/galaxy/project/m6AQTL/data/data_for_website/m5C.txt\"\n",
    "pseudouridine = \"/home/galaxy/project/m6AQTL/data/data_for_website/PseudoU.txt\""
   ]
  },
  {
   "cell_type": "code",
   "execution_count": 24,
   "metadata": {},
   "outputs": [
    {
     "name": "stdout",
     "output_type": "stream",
     "text": [
      "eQTL\n",
      "cis: 38\n",
      "trans: 1\n",
      "meQTL\n",
      "cis: 0\n",
      "trans: 0\n",
      "pQTL\n",
      "cis: 0\n",
      "trans: 0\n",
      "sQTL\n",
      "cis: 0\n",
      "trans: 0\n",
      "circQTL\n",
      "cis: 0\n",
      "trans: 0\n"
     ]
    }
   ],
   "source": [
    "df = pd.read_table(pseudouridine, sep=\"\\t\")\n",
    "# df.head()\n",
    "position_dict = {\"eQTL\": [1,2,3], \"meQTL\": [2,4,5], \"pQTL\": [2,3,4], \"sQTL\": [3,5,6], \"circQTL\": [2,3,4]}\n",
    "qtl_cols = [x for x in df.columns if \"QTL\" in x]\n",
    "for qtl in qtl_cols:\n",
    "    stat_dict = {}\n",
    "    qtl_type = qtl.split(\"_\")[0]\n",
    "    print(qtl_type)\n",
    "    qtl_list = df[qtl].tolist()\n",
    "    for line in qtl_list:\n",
    "        if len(str(line).split(\"@\")) > 1:\n",
    "            term_list = str(line).split(\"@\")\n",
    "            for term in term_list:\n",
    "                f_id = term.split(\"|\")[position_dict[qtl_type][0]]\n",
    "                rs = term.split(\"|\")[position_dict[qtl_type][1]]\n",
    "                rs_key = \"%s:%s\" % (f_id, rs)\n",
    "                rs_type = term.split(\"|\")[position_dict[qtl_type][2]]\n",
    "                stat_dict[rs_key] = stat_dict.get(rs_key, []) + [rs_type]\n",
    "    result_dict = {}\n",
    "    for i_key, i_value in stat_dict.items():\n",
    "        result_dict[i_key] = list(set(i_value))\n",
    "    cis_count, trans_count = 0, 0\n",
    "    value_list = result_dict.values()\n",
    "    for x in value_list:\n",
    "        if \"cis\" in x:\n",
    "            cis_count += 1\n",
    "        if \"trans\" in x:\n",
    "            trans_count += 1\n",
    "    print(\"cis: %d\" % cis_count)\n",
    "    print(\"trans: %d\" % trans_count)\n",
    "#     print(result_dict.keys())\n",
    "#     print(result_dict.values())\n",
    "#     break"
   ]
  },
  {
   "cell_type": "code",
   "execution_count": 38,
   "metadata": {},
   "outputs": [],
   "source": [
    "# stat RNA modification sites number for each tissue\n",
    "m6a = \"/home/lzg/1905/m6AQTL/data/RIP_seq/RIP_m6a_add_tissue.txt\"\n",
    "pseudouridine = \"/home/lzg/1906/PseudoU_QTL/data/hg38_PseudoU_standard.sort.txt\"\n",
    "m5c = \"/home/lzg/1906/m5CQTL/data/hg38_m5C_standard.sort.txt\""
   ]
  },
  {
   "cell_type": "code",
   "execution_count": 41,
   "metadata": {},
   "outputs": [
    {
     "name": "stdout",
     "output_type": "stream",
     "text": [
      "GSE114150:GSM3135640,GSM3135641,GSM3135642|31036937|Kidney 72758\n",
      "GSE114150:GSM3135643,GSM3135644,GSM3135645|31036937|Liver 41120\n",
      "GSE114150:GSM3135646,GSM3135647|31036937|Lung 39391\n",
      "GSE114150:GSM3135650,GSM3135651|31036937|Stomach 35151\n",
      "GSE114150:GSM3135652,GSM3135653,GSM3135654|31036937|Placenta 60375\n",
      "GSE114150:GSM3135637,GSM3135638,GSM3135639|31036937|Heart 43997\n",
      "GSE112970:GSM3092531|26458103|RWPE-1 12398\n",
      "GSE76367:GSM1982262|27117702|H1299 5408\n",
      "GSE114150:GSM3135648,GSM3135649|31036937|Muscle 47614\n",
      "GSE114150:GSM3135634,GSM3135635,GSM3135636|31036937|Brain 57238\n",
      "GSE87190:GSM2324291|29249359|Peripheral blood 20875\n",
      "GSE87516:GSM2332979|28344040|HEK293T 34931\n",
      "GSE93911:GSM2464922|30154548|Endometrial tissue 25984\n",
      "GSE99017:GSM2630327|28965759|Organoid tissue 13792\n",
      "GSE87515:GSM2332971|28344040|Glioblastoma stem-like cells 29970\n",
      "GSE93911:GSM2464906|30154548|Endometrial tissue 20846\n",
      "GSE93911:GSM2464912|30154548|Endometrial tissue 24535\n",
      "GSE93911:GSM2464914|30154548|Endometrial tissue 16240\n",
      "GSE76367:GSM1982256|27117702|A549 Cell 13003\n",
      "GSE76414:GSM2010453|28017614|Human MONOMAC-6/t AML cells 29468\n",
      "GSE97408:GSM2564017|29290617|NB4 cell 14741\n",
      "GSE54365,GSE55572:GSM1339401|24981863|HEK293T 11522\n",
      "GSE113798,GSE113801:GSM3119577|30048615|Immortalized B lymphocyte cell lines 7195\n",
      "GSE93911:GSM2464930|30154548|HEC-1-A cell line 17790\n",
      "GSE90642,GSE90686:GSM2409802|29476152|HepG2 16591\n",
      "GSE90642,GSE90686:GSM2715523|29476152|HepG2 11161\n",
      "GSE93676:GSM2460353|29109479|MSC 14947\n",
      "GSE94808:GSM2483501|28297667|PBT003 gliblastoma stem cells 6664\n",
      "GSE102620:GSM2741913|29902206|HepG2 7586\n",
      "GSE113798,GSE113801:GSM3119581|30048615|Immortalized B lymphocyte cell lines 3717\n",
      "GSE113798,GSE113801:GSM3119585|30048615|Immortalized B lymphocyte cell lines 2651\n",
      "GSE117299:GSM3290723|30232453|Lung cancer tumor tissue 10193\n",
      "GSE65380:GSM1594130|25611135|GM12878 12839\n",
      "GSE93676:GSM2460357|29109479|TIME 14335\n",
      "GSE48037:GSM1166133|24209618|U2OS 6633\n",
      "GSE102620:GSM2741915|29902206|HepG2 9064\n",
      "GSE94613:GSM2481058|29186125|Leukemia cell line MOLM13 4795\n",
      "GSE74016:GSM1908205|27572442|MT4_T-cells 959\n",
      "GSE87190:GSM2324303|29249359|Peripheral blood 206\n"
     ]
    }
   ],
   "source": [
    "# df = pd.read_table(m6a, sep=\"\\t\", header=None)\n",
    "# df.head()\n",
    "# line_list = df.iloc[:, 3].tolist()\n",
    "# x_list = []\n",
    "# for line in line_list:\n",
    "#     x_list.append(\"|\".join(line.split(\"|\")[-3:]))\n",
    "# # print(x_list[1])\n",
    "# count_dict = Counter(x_list)\n",
    "# for x, y in count_dict.items():\n",
    "#     print(x, y)\n",
    "df[\"id\"] = df.iloc[:, 6] + \"|\" + df.iloc[:, 7].astype(str) + \"|\" + df.iloc[:, 9]\n",
    "x_list = df[\"id\"].tolist()\n",
    "count_dict = Counter(x_list)\n",
    "for x, y in count_dict.items():\n",
    "    print(x, y)"
   ]
  },
  {
   "cell_type": "code",
   "execution_count": null,
   "metadata": {},
   "outputs": [],
   "source": [
    "##pseudouridine\n",
    "HEK293T\t1617\n",
    "HEK293\t652\n",
    "HeLa\t771\n",
    "\n",
    "## m5C\n",
    "HEK293T\t149\n",
    "Testis\t1160\n",
    "Heart\t216\n",
    "Liver\t379\n",
    "Lung\t349\n",
    "Spleen\t274\n",
    "Frontal\t512\n",
    "Muscle\t367\n",
    "HeLa\t617\n",
    "\n",
    "## m6A\n",
    "U2OS\t6633\n",
    "HEK293T\t11522\n",
    "GM12878\t12839\n",
    "RWPE-1\t12398\n",
    "H1299\t5408\n",
    "A549\t13003\n",
    "MT4\t959\n",
    "MONO-MAC-6\t29468\n",
    "HEK293T\t34931\n",
    "GSC\t29970\n",
    "Brain\t13792\n",
    "MSC\t14947\n",
    "TIME\t14335\n",
    "MOLM13\t4795\n",
    "NOMO-1\t20875\n",
    "NB4\t14741\n",
    "HepG2\t16591\n",
    "BLCL\t7195\n",
    "HEC-1-A\t25984\n",
    "Lung-cancer\t10193\n",
    "Kidney\t72758\n",
    "Liver\t41120\n",
    "Lung\t39391\n",
    "Stomach\t35151\n",
    "Placenta\t60375\n",
    "Heart\t43997\n",
    "Muscle\t47614\n",
    "Brain\t57238\n",
    "\n"
   ]
  }
 ],
 "metadata": {
  "kernelspec": {
   "display_name": "Python 3",
   "language": "python",
   "name": "python3"
  },
  "language_info": {
   "codemirror_mode": {
    "name": "ipython",
    "version": 3
   },
   "file_extension": ".py",
   "mimetype": "text/x-python",
   "name": "python",
   "nbconvert_exporter": "python",
   "pygments_lexer": "ipython3",
   "version": "3.6.7"
  }
 },
 "nbformat": 4,
 "nbformat_minor": 2
}
