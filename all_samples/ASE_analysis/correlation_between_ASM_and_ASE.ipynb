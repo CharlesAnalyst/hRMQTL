{
 "cells": [
  {
   "cell_type": "markdown",
   "metadata": {},
   "source": [
    "#### overlap ASM and ASE"
   ]
  },
  {
   "cell_type": "code",
   "execution_count": 1,
   "metadata": {},
   "outputs": [],
   "source": [
    "asm_dir = \"/Data_Resource/m6A-seq/com_fetus_vs_adult/diff_ASE/all_data/input_vcf/filter_readcounts/reformat_data/Fisher_results/sig_results\"\n",
    "ase_dir = \"/Data_Resource/m6A-seq/com_fetus_vs_adult/diff_ASE/all_data/input_vcf/filter_readcounts/ASE_analysis/binomial_results/sig_results/\"\n",
    "result_dir = \"/Data_Resource/m6A-seq/com_fetus_vs_adult/diff_ASE/all_data/corr_ASM_ASE\""
   ]
  },
  {
   "cell_type": "code",
   "execution_count": 8,
   "metadata": {},
   "outputs": [
    {
     "name": "stdout",
     "output_type": "stream",
     "text": [
      "lungadult3 340 64 276\n",
      "brainfetus2 253 35 218\n",
      "liverfetus3 84 15 69\n",
      "lungadult4 98 21 77\n",
      "heartfetus2 105 15 90\n",
      "liverfetus1 121 19 102\n",
      "lungfetus1 182 23 159\n",
      "brainadult6 424 74 350\n",
      "heartadult2 363 84 279\n",
      "brainfetus3 182 23 159\n",
      "stomachfetus1 133 28 105\n",
      "liverfetus2 118 16 102\n",
      "brainadult5 490 71 419\n",
      "heartfetus3 99 17 82\n",
      "lungadult1 430 63 367\n",
      "stomachfetus2 62 7 55\n",
      "brainadult2 2249 220 2029\n",
      "heartfetus1 62 11 51\n",
      "brainadult1 558 68 490\n",
      "brainfetus1 235 44 191\n",
      "liveradult1 265 26 239\n",
      "brainadult4 568 67 501\n",
      "heartadult1 301 39 262\n",
      "stomachadult1 351 46 305\n",
      "lungfetus2 80 12 68\n",
      "stomachadult2 267 41 226\n",
      "brainadult3 571 88 483\n",
      "lungadult2 128 20 108\n"
     ]
    }
   ],
   "source": [
    "# \n",
    "prefix_list = [os.path.basename(x).split(\".txt\")[0] for x in glob.glob(\"%s/*.txt\" % asm_dir)]\n",
    "for x in prefix_list:\n",
    "    asm = os.path.join(asm_dir, \"%s.txt\" % x)\n",
    "    ase = os.path.join(ase_dir, \"%s.input.readcounts.qvalue.txt\" % x)\n",
    "    df_asm = pd.read_table(asm)\n",
    "    df_ase = pd.read_table(ase)\n",
    "    df = df_asm.merge(df_ase, on=['contig','position','refAllele','altAllele']).dropna(how=\"any\")\n",
    "    df_sub = df[['contig','position','refAllele','altAllele', 'foldchange', 'allelicRatio']]\n",
    "    # print(df_sub.head())\n",
    "    df_same_mt = df_sub[(df_sub['foldchange']>1) & (df_sub['allelicRatio'] > 0.5)]\n",
    "    df_same_lt = df_sub[(df_sub['foldchange']<1) & (df_sub['allelicRatio'] < 0.5)]\n",
    "    total_num, num_same = len(df_sub), len(df_same_mt)+len(df_same_lt)\n",
    "    print(x, total_num, num_same, (total_num-num_same))"
   ]
  }
 ],
 "metadata": {
  "kernelspec": {
   "display_name": "Python 3",
   "language": "python",
   "name": "python3"
  },
  "language_info": {
   "codemirror_mode": {
    "name": "ipython",
    "version": 3
   },
   "file_extension": ".py",
   "mimetype": "text/x-python",
   "name": "python",
   "nbconvert_exporter": "python",
   "pygments_lexer": "ipython3",
   "version": "3.7.2"
  }
 },
 "nbformat": 4,
 "nbformat_minor": 2
}
