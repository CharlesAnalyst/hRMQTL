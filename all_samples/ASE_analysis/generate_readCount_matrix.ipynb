{
 "cells": [
  {
   "cell_type": "code",
   "execution_count": 6,
   "metadata": {},
   "outputs": [],
   "source": [
    "input_dir = \"/home/galaxy/project/alleleSpecific_analysis/results/ASE_analysis/ASE_readCount/input_count/\"\n",
    "ip_dir = \"/home/galaxy/project/alleleSpecific_analysis/results/ASE_analysis/ASE_readCount/ip_count/\"\n",
    "###\n",
    "result_dir = \"/home/galaxy/project/alleleSpecific_analysis/results/ASE_analysis/ASE_readCount/read_matrix/\"\n",
    "ip_list = glob.glob(\"%s/*.readcounts.txt\" % ip_dir)"
   ]
  },
  {
   "cell_type": "code",
   "execution_count": 2,
   "metadata": {},
   "outputs": [],
   "source": [
    "map_file = \"/home/galaxy/project/alleleSpecific_analysis/results/ASE_analysis/ASE_readCount/total_Input_vs_IP.txt\"\n",
    "map_dict = {}\n",
    "df_map = pd.read_table(map_file)\n",
    "map_dict = dict(zip(df_map['IP'], df_map['Input']))"
   ]
  },
  {
   "cell_type": "code",
   "execution_count": 3,
   "metadata": {},
   "outputs": [],
   "source": [
    "# filter based on read counts > 5;\n",
    "# file_type == \"ip\" or \"input\"\n",
    "def preprocess_count(in_file, file_type): \n",
    "    df = pd.read_table(in_file)\n",
    "    df[\"ID\"] = df[\"contig\"] + \":\" + df[\"position\"].astype(str)\n",
    "    df_sub = df[[\"ID\", \"refCount\", \"altCount\"]]\n",
    "    df_sub = df_sub[(df_sub['refCount']>5) & (df_sub['altCount']>5)]\n",
    "    df_sub.columns = [\"ID\", \"refCount_%s\" % file_type, \"altCount_%s\" % file_type]\n",
    "    return df_sub"
   ]
  },
  {
   "cell_type": "code",
   "execution_count": 5,
   "metadata": {},
   "outputs": [
    {
     "name": "stdout",
     "output_type": "stream",
     "text": [
      "[109697553, 'CRR042313', 59713070]\n"
     ]
    }
   ],
   "source": [
    "def generate_totalNum_dict():\n",
    "    df_map = pd.read_table(\"/home/galaxy/project/alleleSpecific_analysis/data/bam_wasp/total_Input_vs_IP.txt\")\n",
    "    map_dict = dict(zip(df_map['IP'], df_map['Input']))\n",
    "    #\n",
    "    summary_file = \"/home/galaxy/project/alleleSpecific_analysis/data/bam_wasp/stat/AllSamples.bam_stat.txt\"\n",
    "    df_stat = pd.read_table(summary_file, header=None)\n",
    "    number_dict = dict(zip(df_stat.iloc[:,0].tolist(), df_stat.iloc[:,1].tolist()))\n",
    "    #\n",
    "    totalNum_dict = {}\n",
    "    for sample in number_dict.keys():\n",
    "        if sample in map_dict:\n",
    "            # ip_sample: [ip_num, input_sample, input_num]\n",
    "            totalNum_dict[sample] = [number_dict[sample], map_dict[sample], number_dict[map_dict[sample]]]\n",
    "    return totalNum_dict\n",
    "totalNum_dict = generate_totalNum_dict()\n",
    "print(totalNum_dict[\"CRR042312\"]) # [a, \"CRR042313\", b]"
   ]
  },
  {
   "cell_type": "code",
   "execution_count": 7,
   "metadata": {},
   "outputs": [],
   "source": [
    "for ip_count in ip_list:\n",
    "    ip_prefix = os.path.basename(ip_count).split(\".\")[0]\n",
    "    result_file = os.path.join(result_dir, \"%s.matrix\" % ip_prefix)\n",
    "    input_prefix = map_dict[ip_prefix]\n",
    "    ###\n",
    "    input_count = os.path.join(input_dir, input_prefix + \".readcounts.txt\")\n",
    "    df_input, df_ip = preprocess_count(input_count, \"input\"), preprocess_count(ip_count, \"ip\")\n",
    "    df = df_input.merge(df_ip, on=\"ID\")\n",
    "    ip_totalNum, input_totalNum = int(totalNum_dict[ip_prefix][0]), int(totalNum_dict[ip_prefix][2])\n",
    "    # normalized by total number\n",
    "    df[\"refCount_input_norm\"] = df[\"refCount_input\"] / input_totalNum\n",
    "    df[\"altCount_input_norm\"] = df[\"altCount_input\"] / input_totalNum\n",
    "    df[\"refCount_ip_norm\"] = df[\"refCount_ip\"] / ip_totalNum\n",
    "    df[\"altCount_ip_norm\"] = df[\"altCount_ip\"] / ip_totalNum\n",
    "    # calculate m6A abundance\n",
    "    df[\"refCount_abundance\"] = df[\"refCount_ip_norm\"] / df[\"refCount_input_norm\"]\n",
    "    df[\"altCount_abundance\"] = df[\"altCount_ip_norm\"] / df[\"altCount_input_norm\"]\n",
    "#     print(df.head())\n",
    "    df.to_csv(result_file, sep=\"\\t\", index=False)"
   ]
  }
 ],
 "metadata": {
  "kernelspec": {
   "display_name": "Python 3",
   "language": "python",
   "name": "python3"
  },
  "language_info": {
   "codemirror_mode": {
    "name": "ipython",
    "version": 3
   },
   "file_extension": ".py",
   "mimetype": "text/x-python",
   "name": "python",
   "nbconvert_exporter": "python",
   "pygments_lexer": "ipython3",
   "version": "3.7.2"
  }
 },
 "nbformat": 4,
 "nbformat_minor": 2
}
