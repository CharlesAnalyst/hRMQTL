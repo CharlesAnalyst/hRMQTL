{
 "cells": [
  {
   "cell_type": "code",
   "execution_count": 1,
   "metadata": {},
   "outputs": [],
   "source": [
    "import os\n",
    "import glob"
   ]
  },
  {
   "cell_type": "code",
   "execution_count": 12,
   "metadata": {},
   "outputs": [],
   "source": [
    "base_dir = \"/home/galaxy/project/m6AQTL/2019_10_10/transcriptome_snp/SNPiR/shell/all_samples/results/ASE_analysis/ASE_readCount/input_count/\"\n",
    "input_log = \"%s/input_counter.log\" % base_dir\n",
    "analysis_out = \"%s/input_analysis.log\" % base_dir\n",
    "with open(analysis_out, 'w') as fw:\n",
    "    with open(input_log, 'r') as f:\n",
    "        for line in f.readlines():\n",
    "            if line.startswith(\"SRR\"):\n",
    "                fw.write(line)\n",
    "            if \"Program Args:\" in line:\n",
    "                fw.write(line.split(\"-sites\")[1].split(\".vcf.recode.vcf -U\")[0].strip() + \"\\n\")\n",
    "#             if \"reads were filtered out during the traversal out of approximately\" in line:\n",
    "#                 fw.write(line.split(\"MicroScheduler - \")[1].strip() + \"\\n\")\n",
    "            if \"failing NotPrimaryAlignmentFilter\" in line:\n",
    "                fw.write(line.split(\"MicroScheduler - \")[1].strip() + \"\\n\\n\")"
   ]
  },
  {
   "cell_type": "code",
   "execution_count": 13,
   "metadata": {},
   "outputs": [],
   "source": [
    "base_dir = \"/home/galaxy/project/m6AQTL/2019_10_10/transcriptome_snp/SNPiR/shell/all_samples/results/ASE_analysis/ASE_readCount/ip_count/\"\n",
    "input_log = \"%s/ip_counter.log\" % base_dir\n",
    "analysis_out = \"%s/ip_analysis.log\" % base_dir\n",
    "with open(analysis_out, 'w') as fw:\n",
    "    with open(input_log, 'r') as f:\n",
    "        for line in f.readlines():\n",
    "            if line.startswith(\"SRR\"):\n",
    "                fw.write(line)\n",
    "            if \"Program Args:\" in line:\n",
    "                fw.write(line.split(\"-sites\")[1].split(\".vcf.recode.vcf -U\")[0].strip() + \"\\n\")\n",
    "#             if \"reads were filtered out during the traversal out of approximately\" in line:\n",
    "#                 fw.write(line.split(\"MicroScheduler - \")[1].strip() + \"\\n\")\n",
    "            if \"failing NotPrimaryAlignmentFilter\" in line:\n",
    "                fw.write(line.split(\"MicroScheduler - \")[1].strip() + \"\\n\\n\")"
   ]
  }
 ],
 "metadata": {
  "kernelspec": {
   "display_name": "Python 3",
   "language": "python",
   "name": "python3"
  },
  "language_info": {
   "codemirror_mode": {
    "name": "ipython",
    "version": 3
   },
   "file_extension": ".py",
   "mimetype": "text/x-python",
   "name": "python",
   "nbconvert_exporter": "python",
   "pygments_lexer": "ipython3",
   "version": "3.7.2"
  }
 },
 "nbformat": 4,
 "nbformat_minor": 2
}
