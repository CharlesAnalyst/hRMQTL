{
 "cells": [
  {
   "cell_type": "code",
   "execution_count": 29,
   "metadata": {},
   "outputs": [],
   "source": [
    "import os\n",
    "import glob\n",
    "from collections import Counter\n",
    "import numpy as np\n",
    "import matplotlib.pyplot as plt\n",
    "import seaborn as sns\n",
    "%matplotlib inline\n",
    "\n",
    "sns.set(color_codes=True)"
   ]
  },
  {
   "cell_type": "code",
   "execution_count": 1,
   "metadata": {},
   "outputs": [],
   "source": [
    "anno_dir = \"/home/galaxy/project/alleleSpecific_analysis/results/ASE_analysis/readCount/by_ind/sig/anno/\"\n",
    "os.chdir(anno_dir)"
   ]
  },
  {
   "cell_type": "code",
   "execution_count": 10,
   "metadata": {},
   "outputs": [],
   "source": [
    "# up or donw\n",
    "result_dir = \"../up_down/\"\n",
    "\n",
    "anno_list = glob.glob(\"individual_*.txt\")\n",
    "for ind in anno_list:\n",
    "    up_file = os.path.join(result_dir, ind.replace(\".txt\", \"_up.txt\"))\n",
    "    down_file = os.path.join(result_dir, ind.replace(\".txt\", \"_down.txt\"))\n",
    "    df = pd.read_table(ind)\n",
    "    effect_cols = [x for x in df.columns if \"effect_\" in x]\n",
    "    df['median'] = df[effect_cols].median(axis = 1, skipna = True)\n",
    "    df['type'] = np.where(df['median'] > 1, 'up', 'down')\n",
    "    df_up, df_down = df[df['type'] == \"up\"], df[df['type'] == \"down\"]\n",
    "    del df_up['median']\n",
    "    del df_down['median']\n",
    "    del df_up['type']\n",
    "    del df_down['type']\n",
    "    df_up.to_csv(up_file, sep=\"\\t\", index=False)\n",
    "    df_down.to_csv(down_file, sep=\"\\t\", index=False)"
   ]
  },
  {
   "cell_type": "code",
   "execution_count": 14,
   "metadata": {},
   "outputs": [
    {
     "name": "stdout",
     "output_type": "stream",
     "text": [
      "Counter({'protein_coding': 1477, 'antisense': 99, 'processed_transcript': 49, 'pseudogene': 44, 'lincRNA': 40, 'sense_overlapping': 4, 'polymorphic_pseudogene': 3, 'sense_intronic': 2, 'miRNA': 1})\n",
      "Counter({'protein_coding': 1673, 'antisense': 142, 'pseudogene': 52, 'lincRNA': 46, 'processed_transcript': 41, 'IG_V_gene': 23, 'IG_C_gene': 12, 'sense_intronic': 6, 'snRNA': 3, 'misc_RNA': 2, 'TR_C_gene': 2, 'sense_overlapping': 2, 'IG_V_pseudogene': 1})\n",
      "Counter({'protein_coding': 1124, 'antisense': 79, 'pseudogene': 48, 'lincRNA': 33, 'processed_transcript': 31, 'sense_intronic': 3, 'sense_overlapping': 2})\n",
      "Counter({'protein_coding': 672, 'antisense': 43, 'pseudogene': 26, 'processed_transcript': 20, 'lincRNA': 18, 'miRNA': 1, '3prime_overlapping_ncrna': 1})\n",
      "Counter({'protein_coding': 349, 'antisense': 19, 'processed_transcript': 18, 'pseudogene': 13, 'lincRNA': 4, 'sense_intronic': 1})\n",
      "Counter({'protein_coding': 432, 'antisense': 38, 'processed_transcript': 16, 'pseudogene': 7, 'snRNA': 5, 'lincRNA': 2, 'IG_C_gene': 2, 'IG_V_gene': 1, 'sense_intronic': 1})\n",
      "Counter({'protein_coding': 1746, 'antisense': 126, 'pseudogene': 76, 'lincRNA': 68, 'processed_transcript': 43, 'snRNA': 5, 'misc_RNA': 4, 'sense_intronic': 3, 'sense_overlapping': 3, '3prime_overlapping_ncrna': 2, 'miRNA': 1, 'snoRNA': 1})\n",
      "Counter({'protein_coding': 2270, 'pseudogene': 199, 'antisense': 162, 'lincRNA': 47, 'processed_transcript': 46, 'sense_overlapping': 8, 'sense_intronic': 6, 'polymorphic_pseudogene': 3, 'miRNA': 1, '3prime_overlapping_ncrna': 1, 'IG_C_gene': 1, 'TR_C_gene': 1})\n",
      "Counter({'protein_coding': 1768, 'antisense': 121, 'pseudogene': 54, 'processed_transcript': 44, 'lincRNA': 37, 'IG_V_gene': 17, 'sense_overlapping': 9, 'snRNA': 8, 'IG_C_gene': 2, 'misc_RNA': 2, 'rRNA': 2, 'sense_intronic': 1, 'polymorphic_pseudogene': 1, 'IG_J_pseudogene': 1, 'TR_C_gene': 1})\n",
      "Counter({'protein_coding': 1990, 'antisense': 198, 'pseudogene': 119, 'lincRNA': 81, 'processed_transcript': 57, 'sense_overlapping': 11, 'sense_intronic': 5})\n",
      "Counter({'protein_coding': 302, 'antisense': 21, 'lincRNA': 9, 'pseudogene': 7, 'processed_transcript': 3, 'sense_intronic': 2})\n",
      "Counter({'protein_coding': 1118, 'antisense': 73, 'pseudogene': 63, 'processed_transcript': 39, 'lincRNA': 13})\n",
      "Counter({'protein_coding': 500, 'antisense': 31, 'lincRNA': 11, 'pseudogene': 11, 'processed_transcript': 10, 'IG_V_gene': 7, 'snRNA': 3})\n"
     ]
    }
   ],
   "source": [
    "# snp2gene\n",
    "# for x in individual_*.bed;do bedtools intersect -a $x -b gencode.v19.annotation_Gene.bed -wb | sort -u > ${x%%bed}txt;done\n",
    "work_dir = \"/home/galaxy/project/alleleSpecific_analysis/results/ASE_analysis/readCount/by_ind/sig/snp2gene/\"\n",
    "os.chdir(work_dir)\n",
    "txt_list = glob.glob(\"*.txt\")\n",
    "for x in txt_list:\n",
    "    df = pd.read_table(x, header=None)\n",
    "    type_list= df.iloc[:,9].tolist()\n",
    "    type_dict = Counter(type_list)\n",
    "    print(type_dict)"
   ]
  },
  {
   "cell_type": "code",
   "execution_count": 1,
   "metadata": {},
   "outputs": [],
   "source": [
    "### measure mapping biase"
   ]
  },
  {
   "cell_type": "code",
   "execution_count": 34,
   "metadata": {},
   "outputs": [
    {
     "data": {
      "text/plain": [
       "<matplotlib.axes._subplots.AxesSubplot at 0x7fb323382d68>"
      ]
     },
     "execution_count": 34,
     "metadata": {},
     "output_type": "execute_result"
    },
    {
     "data": {
      "image/png": "[encoded data removed]",
      "text/plain": [
       "<Figure size 432x288 with 1 Axes>"
      ]
     },
     "metadata": {},
     "output_type": "display_data"
    }
   ],
   "source": [
    "os.chdir(\"/home/galaxy/project/alleleSpecific_analysis/results/ASE_analysis/readCount/binomial_test/\")\n",
    "txt_list = glob.glob(\"*.txt\")\n",
    "# for x in txt_list:\n",
    "#     if \"_\" not in x:\n",
    "#         df = pd.read_table(x)\n",
    "#         df['allelicRatio'] = df['altRPKM_ratio'] / (df['refRPKM_ratio']+df['altRPKM_ratio'])\n",
    "#         # print(df.head())\n",
    "#         print(x, np.median(df['allelicRatio']))\n",
    "    # print(df.hist('allelicRatio'))\n",
    "    # break\n",
    "df = pd.read_table(\"heart_1_L6.binomials.txt\")\n",
    "# df['allelicRatio'] = df['altRPKM_ratio'] / (df['refRPKM_ratio']+df['altRPKM_ratio'])\n",
    "# print(df['allelicRatio'].hist(grid=False))\n",
    "x=df['allelicRatio'].tolist()\n",
    "sns.distplot(x, kde=True,color = 'g')"
   ]
  }
 ],
 "metadata": {
  "kernelspec": {
   "display_name": "Python 3",
   "language": "python",
   "name": "python3"
  },
  "language_info": {
   "codemirror_mode": {
    "name": "ipython",
    "version": 3
   },
   "file_extension": ".py",
   "mimetype": "text/x-python",
   "name": "python",
   "nbconvert_exporter": "python",
   "pygments_lexer": "ipython3",
   "version": "3.7.2"
  }
 },
 "nbformat": 4,
 "nbformat_minor": 2
}
