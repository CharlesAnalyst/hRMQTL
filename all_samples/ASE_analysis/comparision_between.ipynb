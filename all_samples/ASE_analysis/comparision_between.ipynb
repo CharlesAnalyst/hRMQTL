{
 "cells": [
  {
   "cell_type": "code",
   "execution_count": 1,
   "metadata": {},
   "outputs": [],
   "source": [
    "import os\n",
    "import glob"
   ]
  },
  {
   "cell_type": "code",
   "execution_count": 2,
   "metadata": {},
   "outputs": [],
   "source": [
    "cis_dir = \"/home/galaxy/project/m6AQTL/2019_10_10/transcriptome_snp/SNPiR/shell/all_samples/results/MatrixEQTL_result\"\n",
    "cis_file = \"%s/m6AQTL_cis_linear_v8.txt\" % cis_dir\n",
    "\n",
    "df_cis = pd.read_table(cis_file)\n",
    "cis_list = df_cis[\"SNP\"].tolist()"
   ]
  },
  {
   "cell_type": "code",
   "execution_count": 3,
   "metadata": {},
   "outputs": [
    {
     "name": "stdout",
     "output_type": "stream",
     "text": [
      "8996\n"
     ]
    }
   ],
   "source": [
    "hypothesis_dir = \"/home/galaxy/project/m6AQTL/2019_10_10/transcriptome_snp/SNPiR/shell/all_samples/results/ASE_analysis/ASE_readCount/hypothesis_result\"\n",
    "file_list = glob.glob(\"%s/*.txt\" % hypothesis_dir)\n",
    "ase_list = []\n",
    "for x in file_list:\n",
    "    ase_list += pd.read_table(x)[\"ID\"].tolist()\n",
    "print(len(ase_list))"
   ]
  },
  {
   "cell_type": "code",
   "execution_count": 5,
   "metadata": {},
   "outputs": [
    {
     "data": {
      "text/plain": [
       "{'chr15:85189464',\n",
       " 'chr16:3452193',\n",
       " 'chr1:161130701',\n",
       " 'chr20:62259368',\n",
       " 'chr8:18729496',\n",
       " 'chr9:14690'}"
      ]
     },
     "execution_count": 5,
     "metadata": {},
     "output_type": "execute_result"
    }
   ],
   "source": [
    "set(cis_list).intersection(set(ase_list))"
   ]
  },
  {
   "cell_type": "code",
   "execution_count": 6,
   "metadata": {},
   "outputs": [
    {
     "name": "stdout",
     "output_type": "stream",
     "text": [
      "26977\n"
     ]
    }
   ],
   "source": [
    "# \n",
    "raw_dir = \"/home/galaxy/project/m6AQTL/2019_10_10/transcriptome_snp/SNPiR/shell/all_samples/results/ASE_analysis/ASE_readCount/read_matrix/\"\n",
    "matrix_list = glob.glob(\"%s/*\" % raw_dir)\n",
    "raw_list = []\n",
    "for x in matrix_list:\n",
    "    raw_list += pd.read_table(x)[\"ID\"].tolist()\n",
    "print(len(raw_list))"
   ]
  },
  {
   "cell_type": "code",
   "execution_count": 7,
   "metadata": {},
   "outputs": [
    {
     "data": {
      "text/plain": [
       "{'chr12:14927389',\n",
       " 'chr13:110959464',\n",
       " 'chr13:110959688',\n",
       " 'chr15:74219582',\n",
       " 'chr15:85189464',\n",
       " 'chr16:3452193',\n",
       " 'chr17:4904564',\n",
       " 'chr19:2073354',\n",
       " 'chr19:2077125',\n",
       " 'chr19:6380023',\n",
       " 'chr1:161130701',\n",
       " 'chr20:47261017',\n",
       " 'chr20:62259368',\n",
       " 'chr5:10761182',\n",
       " 'chr5:175772208',\n",
       " 'chr8:18729496',\n",
       " 'chr9:14690'}"
      ]
     },
     "execution_count": 7,
     "metadata": {},
     "output_type": "execute_result"
    }
   ],
   "source": [
    "set(cis_list).intersection(set(raw_list))"
   ]
  },
  {
   "cell_type": "code",
   "execution_count": 13,
   "metadata": {},
   "outputs": [],
   "source": [
    "f_dir = \"/home/galaxy/project/m6AQTL/2019_10_10/transcriptome_snp/SNPiR/shell/all_samples/results/input_snp_hg19/split_by_ind/heterogyzous_vcf/sorted_vcf/\"\n",
    "vcf_list = glob.glob(\"%s/*.vcf\" % f_dir)\n",
    "het_list = []\n",
    "for vcf in vcf_list:\n",
    "    print(os.path.basename(vcf))\n",
    "    df = pd.read_table(vcf, sep=\"\\t\", comment=\"#\", header=None)\n",
    "    df[\"SNP\"] = df.iloc[:, 0] + \":\" + df.iloc[:, 1].astype(str)\n",
    "    snp_list = df[\"SNP\"].tolist()\n",
    "    het_list += snp_list\n",
    "#     print(df.head())\n",
    "#     break"
   ]
  },
  {
   "cell_type": "code",
   "execution_count": 14,
   "metadata": {},
   "outputs": [
    {
     "data": {
      "text/plain": [
       "740"
      ]
     },
     "execution_count": 14,
     "metadata": {},
     "output_type": "execute_result"
    }
   ],
   "source": [
    "len(set(cis_list).intersection(set(het_list)))"
   ]
  },
  {
   "cell_type": "code",
   "execution_count": 19,
   "metadata": {},
   "outputs": [
    {
     "data": {
      "text/plain": [
       "4847"
      ]
     },
     "execution_count": 19,
     "metadata": {},
     "output_type": "execute_result"
    }
   ],
   "source": [
    "len(set(cis_list))"
   ]
  },
  {
   "cell_type": "code",
   "execution_count": 17,
   "metadata": {},
   "outputs": [
    {
     "name": "stdout",
     "output_type": "stream",
     "text": [
      "chr1:64649\n"
     ]
    }
   ],
   "source": [
    "het_snp = \"/home/galaxy/project/m6AQTL/2019_10_10/transcriptome_snp/SNPiR/shell/all_samples/results/MatrixEQTL_result/het.sites\"\n",
    "het_list = pd.read_csv(het_snp).iloc[:, 0].tolist()\n",
    "print(het_list[0])"
   ]
  },
  {
   "cell_type": "code",
   "execution_count": 18,
   "metadata": {},
   "outputs": [
    {
     "data": {
      "text/plain": [
       "3564"
      ]
     },
     "execution_count": 18,
     "metadata": {},
     "output_type": "execute_result"
    }
   ],
   "source": [
    "len(set(cis_list).intersection(set(het_list)))"
   ]
  }
 ],
 "metadata": {
  "kernelspec": {
   "display_name": "Python 3",
   "language": "python",
   "name": "python3"
  },
  "language_info": {
   "codemirror_mode": {
    "name": "ipython",
    "version": 3
   },
   "file_extension": ".py",
   "mimetype": "text/x-python",
   "name": "python",
   "nbconvert_exporter": "python",
   "pygments_lexer": "ipython3",
   "version": "3.7.2"
  }
 },
 "nbformat": 4,
 "nbformat_minor": 2
}
