{
 "cells": [
  {
   "cell_type": "code",
   "execution_count": 12,
   "metadata": {},
   "outputs": [
    {
     "data": {
      "text/plain": [
       "0"
      ]
     },
     "execution_count": 12,
     "metadata": {},
     "output_type": "execute_result"
    }
   ],
   "source": [
    "anno_dir = \"/home/galaxy/project/alleleSpecific_analysis/results/ASE_analysis/corr_ASE_m6A/oppo/\"\n",
    "os.chdir(anno_dir)\n",
    "result_dir=\"/home/galaxy/project/alleleSpecific_analysis/results/ASE_analysis/corr_ASE_m6A/oppo/for_experiment/\"\n",
    "os.system(\"mkdir -p %s\" % result_dir)"
   ]
  },
  {
   "cell_type": "code",
   "execution_count": 2,
   "metadata": {},
   "outputs": [],
   "source": [
    "df=pd.read_table(\"/home/galaxy/project/alleleSpecific_analysis/data/hg19_genome/dbsnp_138.hg19.txt\",sep=\" \",header=None,comment=\"#\")\n",
    "df.columns = ['chr','pos','rs','ref','alt']\n",
    "df['term'] = df['chr'] + \":\" + df['pos'].astype(str)\n",
    "df['ref2alt'] = df['ref'] + \">\" + df['alt'] + \";\" + df['rs']\n",
    "snp_dict = dict(zip(df['term'], df['ref2alt']))"
   ]
  },
  {
   "cell_type": "code",
   "execution_count": 13,
   "metadata": {},
   "outputs": [],
   "source": [
    "anno_list = glob.glob(\"*.txt\")\n",
    "for ind in anno_list:\n",
    "    array_list = []\n",
    "    res_file = os.path.join(result_dir, ind.replace(\".txt\", \"_snp.txt\"))\n",
    "    df = pd.read_table(ind)\n",
    "#     print(df.head())\n",
    "    for i, values in df.iterrows():\n",
    "        if values['term'] in snp_dict:\n",
    "            array_list.append(values.tolist() + [snp_dict[values['term']]])\n",
    "    df_res = pd.DataFrame(array_list)\n",
    "    df_res.columns = ['term','m6a_mark','m6a_difference','expression_mark','expression_difference','SNP_info']\n",
    "    df_res.to_csv(res_file, sep=\"\\t\", index=False)"
   ]
  },
  {
   "cell_type": "code",
   "execution_count": 14,
   "metadata": {},
   "outputs": [
    {
     "name": "stdout",
     "output_type": "stream",
     "text": [
      "66\n"
     ]
    }
   ],
   "source": [
    "#txt to bed\n",
    "os.chdir(\"/home/galaxy/project/alleleSpecific_analysis/results/ASE_analysis/corr_ASE_m6A/oppo/for_experiment/\")\n",
    "# txt_list = glob.glob(\"*.txt\")\n",
    "# for txt in txt_list:\n",
    "#     # term    ASE_type        Allelic-m6A_type        SNP_info\n",
    "#     df = pd.read_table(txt)\n",
    "#     df['chr'] = df['term'].str.split(\":\").str[0]\n",
    "#     df['pos'] = df['term'].str.split(\":\").str[1]\n",
    "#     df['info']=df['m6a_mark']+\":\"+df['m6a_difference'].astype(str)+\":\"+df['expression_mark']+\":\"+ df['expression_difference'].astype(str)+\":\"+df['SNP_info']\n",
    "#     df[['chr','pos','pos','info']].to_csv(txt.replace(\".txt\", '.bed'), sep=\"\\t\", header=False, index=False)\n",
    "    \n",
    "# bed_list = glob.glob(\"*.bed\")\n",
    "# gene=\"/home/galaxy/project/alleleSpecific_analysis/results/ASE_analysis/readCount/by_ind/sig/snp2gene/gencode.v19.annotation_Gene.bed\"\n",
    "# result_dir = \"overlap/\"\n",
    "# for bed in bed_list:\n",
    "#     res = os.path.join(result_dir, os.path.basename(bed))\n",
    "#     os.system(\"bedtools intersect -a %s -b %s -wa -wb > %s\" % (bed, gene, res))\n",
    "    \n",
    "result_dir = \"30nt_bed\"\n",
    "bed_list = glob.glob(\"*.bed\")\n",
    "for bed in bed_list:\n",
    "    res = os.path.join(result_dir, bed)\n",
    "    df = pd.read_table(bed, header=None)\n",
    "    df.columns = ['chr','s','e','info']\n",
    "    df['new_s'] = df['s'] - 31 #\n",
    "    df['new_e'] = df['e'] + 30 #\n",
    "    df['name'] = df['chr']+\":\"+df['e'].astype(str)+\":\"+df['info']\n",
    "    df[['chr','new_s','new_e','name']].to_csv(res, sep=\"\\t\", header=False, index=False)\n",
    "    \n",
    "result_dir = \"fasta/\"\n",
    "bed_list = glob.glob(\"30nt_bed/*.bed\")\n",
    "print(len(bed_list))\n",
    "genome = \"/home/galaxy/project/alleleSpecific_analysis/data/hg19_genome/hg19.fa\"\n",
    "for bed in bed_list:\n",
    "    # print(bed)\n",
    "    res = os.path.join(result_dir, os.path.basename(bed).replace(\".bed\",\".fa\"))\n",
    "    os.system(\"bedtools getfasta -tab -fi %s -bed %s -fo %s -name\" % (genome, bed, res))"
   ]
  },
  {
   "cell_type": "code",
   "execution_count": 15,
   "metadata": {},
   "outputs": [],
   "source": [
    "gene_dir=\"/home/galaxy/project/alleleSpecific_analysis/results/ASE_analysis/corr_ASE_m6A/oppo/for_experiment/overlap/\"\n",
    "fa_dir=\"/home/galaxy/project/alleleSpecific_analysis/results/ASE_analysis/corr_ASE_m6A/oppo/for_experiment/fasta/\"\n",
    "gene_list = glob.glob(\"%s/*.bed\" % gene_dir)\n",
    "result_dir = \"final_format/\"\n",
    "for gene in gene_list:\n",
    "    res = os.path.join(result_dir, os.path.basename(gene).split(\".\")[0] + \".txt\")\n",
    "    fa = os.path.join(fa_dir, os.path.basename(gene).replace(\".bed\",'.fa'))\n",
    "    df_gene = pd.read_table(gene, sep=\"\\t\", header=None)\n",
    "    df_gene.columns = ['chr','s','e','snp','g_chr','g_s','g_e','g_n','d','str','type','ens']\n",
    "    df_gene['term'] = df_gene['chr']+\":\"+df_gene['s'].astype(str)+\":\"+df_gene['snp']\n",
    "    df_fa = pd.read_table(fa, sep=\"\\t\", header=None)\n",
    "    df_fa.columns = ['term','fa']\n",
    "    df = df_gene.merge(df_fa, on=\"term\", how=\"left\").dropna()\n",
    "    # print(df.head())\n",
    "    df['SNP_chr'],df['SNP_position'] = df['chr'],df['s']\n",
    "    df['reference > alterative'] = df['snp'].str.split(\":\").str[4]\n",
    "    df['RS ID'] = df['snp'].str.split(\":\").str[5]\n",
    "    df['m6A_type'] = df['snp'].str.split(\":\").str[0]\n",
    "    df['m6A_difference'] = df['snp'].str.split(\":\").str[1]\n",
    "    df['expression_type'] = df['snp'].str.split(\":\").str[2]\n",
    "    df['expression_difference'] = df['snp'].str.split(\":\").str[3]\n",
    "    df['Gene Name'],df['Gene ensemble'] = df['g_n'], df['ens']\n",
    "    df['Gene Start'], df['Gene End'], df['Gene Strand'] = df['g_s'], df['g_e'], df['str']\n",
    "    df['sequence_surrounding_30nt'] = df['fa']\n",
    "    selected_cols = ['SNP_chr','SNP_position','reference > alterative','RS ID', \n",
    "                     'm6A_type','m6A_difference','expression_type','expression_difference', \n",
    "                     'Gene Name','Gene ensemble','Gene Start','Gene End','Gene Strand','sequence_surrounding_30nt']\n",
    "    df[selected_cols].to_csv(res, sep=\"\\t\", index=False)"
   ]
  },
  {
   "cell_type": "code",
   "execution_count": 16,
   "metadata": {},
   "outputs": [],
   "source": [
    "# overlap with m6AVar db\n",
    "db=\"/home/galaxy/project/alleleSpecific_analysis/results/ASE_analysis/readCount/Fisher_test/sig/bed/overlap_withDB/m6AVar_hg19.txt\"\n",
    "term_list = pd.read_table(db,header=None).iloc[:,0].tolist()\n",
    "\n",
    "result_dir = \"/home/galaxy/project/alleleSpecific_analysis/results/ASE_analysis/corr_ASE_m6A/oppo/for_experiment/final_format/overlap_m6AVar/\"\n",
    "\n",
    "txt_dir = \"/home/galaxy/project/alleleSpecific_analysis/results/ASE_analysis/corr_ASE_m6A/oppo/for_experiment/final_format/\"\n",
    "txt_list = glob.glob(\"%s/*.txt\" % txt_dir)\n",
    "for txt in txt_list:\n",
    "    df = pd.read_table(txt)\n",
    "    df['tmp'] = df['SNP_chr'] + \":\" + df['SNP_position'].astype(str)\n",
    "    df['overlap_m6AVar'] = np.where(df['tmp'].isin(term_list), \"Yes\", \"No\")\n",
    "    del df['tmp']\n",
    "    result_file = os.path.join(result_dir, os.path.basename(txt))\n",
    "    df.to_csv(result_file, sep=\"\\t\", index=False)"
   ]
  },
  {
   "cell_type": "code",
   "execution_count": null,
   "metadata": {},
   "outputs": [],
   "source": []
  }
 ],
 "metadata": {
  "kernelspec": {
   "display_name": "Python 3",
   "language": "python",
   "name": "python3"
  },
  "language_info": {
   "codemirror_mode": {
    "name": "ipython",
    "version": 3
   },
   "file_extension": ".py",
   "mimetype": "text/x-python",
   "name": "python",
   "nbconvert_exporter": "python",
   "pygments_lexer": "ipython3",
   "version": "3.7.2"
  }
 },
 "nbformat": 4,
 "nbformat_minor": 2
}
