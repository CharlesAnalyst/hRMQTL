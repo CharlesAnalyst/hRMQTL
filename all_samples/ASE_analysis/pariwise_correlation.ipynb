{
 "cells": [
  {
   "cell_type": "markdown",
   "metadata": {},
   "source": [
    "#### clustering"
   ]
  },
  {
   "cell_type": "code",
   "execution_count": 27,
   "metadata": {},
   "outputs": [],
   "source": [
    "from itertools import combinations"
   ]
  },
  {
   "cell_type": "code",
   "execution_count": 2,
   "metadata": {},
   "outputs": [],
   "source": [
    "os.chdir(\"/home/galaxy/project/alleleSpecific_analysis/results/ASE_analysis/readCount/Fisher_test/sig/\")\n",
    "in_list = glob.glob(\"*.txt\")\n",
    "df = pd.read_table(in_list[0])\n",
    "df[\"effectSize_%s\"% in_list[0].split(\".\")[0]] = df['foldchange']\n",
    "for sample in in_list[1:]:\n",
    "    df_i = pd.read_table(sample)\n",
    "    df_i[\"effectSize_%s\"% sample.split(\".\")[0]] = df_i['foldchange']\n",
    "    df = df.merge(df_i, on=['contig','position','refAllele','altAllele'], how='outer')\n",
    "df['term'] = df['contig'] + \";\" + df['position'].astype(str) + \";\" + df['refAllele'] + \";\" + df['altAllele']\n",
    "cols = ['term'] + [x for x in df.columns if \"effectSize_\" in x]\n",
    "df = df[cols]\n",
    "df = df.set_index(['term'])\n",
    "# \n",
    "df_corr = spearman(df)\n",
    "df_corr.to_csv(\"sample_correlation.txt\", sep=\"\\t\")"
   ]
  },
  {
   "cell_type": "code",
   "execution_count": 44,
   "metadata": {},
   "outputs": [
    {
     "name": "stdout",
     "output_type": "stream",
     "text": [
      "                   median_individual_1         ...           median_individual_6\n",
      "term                                           ...                              \n",
      "chr1;1650807;T;C              0.333511         ...                      0.384083\n",
      "chr1;1650832;A;G              2.095892         ...                      3.000000\n",
      "chr1;3807258;G;C              0.260390         ...                           NaN\n",
      "chr1;16798902;G;A             3.462608         ...                           NaN\n",
      "chr1;23688933;A;G             2.201389         ...                           NaN\n",
      "\n",
      "[5 rows x 6 columns]\n"
     ]
    }
   ],
   "source": [
    "# ASE\n",
    "os.chdir(\"/home/galaxy/project/alleleSpecific_analysis/results/ASE_analysis/readCount/Fisher_test/by_ind/sig/\")\n",
    "ind_list = glob.glob(\"ind*.txt\")\n",
    "fetal_list = [\"individual_%d.txt\"% i for i in range(1,7)]\n",
    "adult_list = [\"individual_%d.txt\"% i for i in range(7,14)]\n",
    "\n",
    "def allele_matrix(in_list):\n",
    "    df = pd.read_table(in_list[0])\n",
    "    effect_cols = [x for x in df.columns if \"effect_\" in x]\n",
    "    df[\"median_%s\"%(in_list[0].split(\".txt\")[0])] = df[effect_cols].median(axis=1)\n",
    "    for ind in in_list[1:]:\n",
    "        df_i = pd.read_table(ind)\n",
    "        effect_cols = [x for x in df_i.columns if \"effect_\" in x]\n",
    "        df_i[\"median_%s\"%(ind.split(\".txt\")[0])] = df_i[effect_cols].median(axis=1)\n",
    "        #\n",
    "        df = df.merge(df_i, on=['contig','position','refAllele','altAllele'], how='outer')\n",
    "    df['term'] = df['contig'] + \";\" + df['position'].astype(str) + \";\" + df['refAllele'] + \";\" + df['altAllele']\n",
    "    cols = ['term'] + [x for x in df.columns if \"median_\" in x]\n",
    "    df = df[cols]\n",
    "    df = df.set_index(['term'])\n",
    "    return df\n",
    "\n",
    "df_fetal = allele_matrix(fetal_list)\n",
    "df_adult = allele_matrix(adult_list)\n",
    "print(df_fetal.head())"
   ]
  },
  {
   "cell_type": "code",
   "execution_count": 1,
   "metadata": {},
   "outputs": [],
   "source": [
    "def spearman(df):\n",
    "    coef_array = []\n",
    "    col_list = df.columns\n",
    "    for x in col_list:\n",
    "        coef_list = []\n",
    "        for y in col_list: \n",
    "            df_i = df[[x, y]].dropna(how=\"any\")\n",
    "            coef = df_i.corr(method=\"spearman\").iloc[0,1]\n",
    "            coef_list.append(coef)\n",
    "        coef_array.append(coef_list)\n",
    "    df_result = pd.DataFrame(coef_array)\n",
    "    df_result.columns = col_list\n",
    "    df_result.index = col_list\n",
    "    return df_result\n",
    "\n",
    "# df_corr_fetal = spearman(df_fetal)\n",
    "# df_corr_fetal.to_csv(\"fetal_correlation.txt\", sep=\"\\t\")\n",
    "# df_corr_adult = spearman(df_adult)\n",
    "# df_corr_adult.to_csv(\"adult_correlation.txt\", sep=\"\\t\")\n",
    "# print(df_corr_fetal.head())\n",
    "# df_total = df_fetal.merge(df_adult, how=\"outer\", left_index=True, right_index=True)\n",
    "# df_corr_total = spearman(df_total)\n",
    "# df_corr_total.to_csv(\"total_correlation.txt\", sep=\"\\t\")\n",
    "# print(df_total.head())"
   ]
  },
  {
   "cell_type": "code",
   "execution_count": null,
   "metadata": {},
   "outputs": [],
   "source": []
  }
 ],
 "metadata": {
  "kernelspec": {
   "display_name": "Python 3",
   "language": "python",
   "name": "python3"
  },
  "language_info": {
   "codemirror_mode": {
    "name": "ipython",
    "version": 3
   },
   "file_extension": ".py",
   "mimetype": "text/x-python",
   "name": "python",
   "nbconvert_exporter": "python",
   "pygments_lexer": "ipython3",
   "version": "3.7.2"
  }
 },
 "nbformat": 4,
 "nbformat_minor": 2
}
