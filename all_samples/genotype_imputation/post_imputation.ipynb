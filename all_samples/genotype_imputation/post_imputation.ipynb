{
 "cells": [
  {
   "cell_type": "code",
   "execution_count": 1,
   "metadata": {},
   "outputs": [
    {
     "name": "stdout",
     "output_type": "stream",
     "text": [
      "['SRR7130881', 'SRR456937', 'SRR1035213', 'SRR494617', 'SRR1182585-86', 'SRR2079362', 'SRR1811010', 'SRR7130886', 'SRR494615', 'SRR1035215', 'SRR1182596', 'SRR1182598', 'SRR1182600', 'SRR1182589-90', 'SRR2079369', 'SRR7075089', 'SRR1777361', 'SRR7130884', 'SRR5978827-33', 'SRR7130896', 'SRR7130889', 'SRR1182602', 'SRR494613', 'SRR1035217', 'SRR7130875', 'SRR1035219', 'SRR4310473', 'SRR4042261', 'SRR5978890-96', 'SRR1811016', 'SRR2079355', 'SRR5934172']\n"
     ]
    }
   ],
   "source": [
    "im_dir = \"/home/galaxy/project/m6AQTL/2019_10_10/transcriptome_snp/SNPiR/shell/all_samples/results/input_snp_hg19/imputation\"\n",
    "os.chdir(im_dir)\n",
    "prefix_list = glob.glob(\"SRR*\")\n",
    "print(prefix_list)"
   ]
  },
  {
   "cell_type": "markdown",
   "metadata": {},
   "source": [
    "#### Function 1: merging all chunks results into one file\n",
    "##### \"*.phased.impute2\" and \"*.phased.impute2_info\""
   ]
  },
  {
   "cell_type": "code",
   "execution_count": 2,
   "metadata": {},
   "outputs": [],
   "source": [
    "# ls -d SRR* | parallel -j 16 \"cat {}/{}*.phased.impute2 > imputation_result/{}.phased.impute2\""
   ]
  },
  {
   "cell_type": "code",
   "execution_count": 3,
   "metadata": {},
   "outputs": [],
   "source": [
    "# ls -d SRR* | parallel -j 16 \"cat {}/{}*.phased.impute2_info > imputation_result/{}.phased.impute2 _info\""
   ]
  },
  {
   "cell_type": "markdown",
   "metadata": {},
   "source": [
    "#### Function 2: \n",
    "2.1 filtering with imputation confidence score \"info\" > 0.4\n",
    "2.2 filtering with best-guessed genotypes at posterior probability > 0.9\n",
    "###### # 2.3 filtering with minor allele frequency > 0.05\n",
    "###### # 2.4 filtering with hardy-weinberg equilibrium p > 1e-6\n",
    "###### # 2.5 filtering with SNP missing rate < 0.05"
   ]
  },
  {
   "cell_type": "code",
   "execution_count": 5,
   "metadata": {},
   "outputs": [],
   "source": [
    "data_dir = \"/home/galaxy/project/m6AQTL/2019_10_10/transcriptome_snp/SNPiR/shell/all_samples/results/input_snp_hg19/imputation/imputation_result\"\n",
    "os.chdir(data_dir)"
   ]
  },
  {
   "cell_type": "code",
   "execution_count": 27,
   "metadata": {},
   "outputs": [
    {
     "name": "stdout",
     "output_type": "stream",
     "text": [
      "Academic tradition requires you to cite works you base your article on.\r\n",
      "When using programs that use GNU Parallel to process data for publication\r\n",
      "please cite:\r\n",
      "\r\n",
      "  O. Tange (2011): GNU Parallel - The Command-Line Power Tool,\r\n",
      "  ;login: The USENIX Magazine, February 2011:42-47.\r\n",
      "\r\n",
      "This helps funding further development; AND IT WON'T COST YOU A CENT.\r\n",
      "If you pay 10000 EUR you should feel free to use GNU Parallel without citing.\r\n",
      "\r\n",
      "To silence this citation notice: run 'parallel --citation'.\r\n",
      "\r\n"
     ]
    }
   ],
   "source": [
    "! for x in *.impute2_info; do echo awk -F ' ' '{if($7 > 0.4) {print}}' $x > tmp_dir/$x >> awk.sh;done\n",
    "vim %s/(/( $7/g\n",
    "! cat awk.sh | parallel\n",
    "#\n",
    "! ls *impute2_info | parallel \"cut -d ' ' -f2 tmp_dir/{} | sort -u | grep -v '\\.' > tmp_dir/{.}.list\"\n",
    "# #\n",
    "! for x in *_info;do echo \"grep -F -f tmp_dir/${x%%.impute2_info}.list ${x%%_info} | sort -u > filter_result/${x%%.impute2_info}.gen\" >> grep.sh;done\n",
    "! cat grep.sh | parallel"
   ]
  },
  {
   "cell_type": "code",
   "execution_count": null,
   "metadata": {},
   "outputs": [],
   "source": [
    "! ls SRR* | parallel \"/home/software/qctool/qctool_v2.0.1-Ubuntu16.04-x86_64/qctool -g ../../{.}.phased.gen -s {} -threshold 0.9 -sort -og ../../convert2vcf/{.}.vcf\""
   ]
  },
  {
   "cell_type": "code",
   "execution_count": null,
   "metadata": {},
   "outputs": [],
   "source": []
  }
 ],
 "metadata": {
  "kernelspec": {
   "display_name": "Python 3",
   "language": "python",
   "name": "python3"
  },
  "language_info": {
   "codemirror_mode": {
    "name": "ipython",
    "version": 3
   },
   "file_extension": ".py",
   "mimetype": "text/x-python",
   "name": "python",
   "nbconvert_exporter": "python",
   "pygments_lexer": "ipython3",
   "version": "3.7.2"
  }
 },
 "nbformat": 4,
 "nbformat_minor": 2
}
