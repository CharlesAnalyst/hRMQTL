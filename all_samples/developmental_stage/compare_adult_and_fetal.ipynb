{
 "cells": [
  {
   "cell_type": "code",
   "execution_count": 1,
   "metadata": {},
   "outputs": [],
   "source": [
    "os.chdir(\"/home/galaxy/project/alleleSpecific_analysis/results/ASE_analysis/readCount/Fisher_test/sig/\")\n",
    "result_dir = \"../by_tissue/\""
   ]
  },
  {
   "cell_type": "code",
   "execution_count": 3,
   "metadata": {},
   "outputs": [],
   "source": [
    "def process_tissue(file_list):\n",
    "    # file_list = [\"stomach\", [\"sto_IP_4.txt\",'sto_IP_5.txt','CRR042306.txt','CRR042308.txt']]\n",
    "    result_file = os.path.join(result_dir, \"%s.txt\" % file_list[0])\n",
    "    file_list = file_list[1]\n",
    "    df = pd.read_table(file_list[0])\n",
    "    df['effect_%s'% file_list[0].split(\".\")[0]] = df['foldchange']\n",
    "    for x in file_list[1:]:\n",
    "        df_i = pd.read_table(x)\n",
    "        df_i['effect_%s'% x.split(\".\")[0]] = df_i['foldchange']\n",
    "        df = df.merge(df_i, on=['contig','position','refAllele','altAllele'], how=\"outer\")\n",
    "    selected_cols = ['contig','position','refAllele','altAllele'] + [x for x in df.columns if \"effect_\" in x]\n",
    "    df_result = df[selected_cols]\n",
    "    df_result.to_csv(result_file, sep=\"\\t\", index=False)"
   ]
  },
  {
   "cell_type": "code",
   "execution_count": 4,
   "metadata": {},
   "outputs": [],
   "source": [
    "file_1 = [\"stomach\", [\"sto_IP_4.txt\",'sto_IP_5.txt','CRR042306.txt','CRR042308.txt']]\n",
    "file_2 = [\"muscle\", [\"mus_IP_4.txt\",'mus_IP_5.txt','CRR042298.txt','CRR055549.txt']]\n",
    "file_3 = [\"lung\", [\"lung_IP_4.txt\",'lung_IP_5.txt','CRR073020.txt','CRR042296.txt','CRR073018.txt','CRR055533.txt']]\n",
    "# file_4 = [\"liver\", [\"liver_IP_1.txt\",'liver_IP_2.txt','liver_IP_3.txt','CRR042294.txt']]\n",
    "file_5 = [\"heart\", [\"heart_IP_1.txt\",'heart_IP_2.txt','heart_IP_3.txt','CRR055527.txt','CRR042290.txt']]\n",
    "file_6 = [\"brain\", [\"brain_IP_1.txt\",'brain_IP_2.txt','brain_IP_3.txt','CRR042286.txt','CRR042282.txt','CRR042284.txt','CRR042292.txt','CRR073016.txt','CRR055553.txt']]\n",
    "for file_list in [file_1,file_2,file_3,file_5,file_6]:\n",
    "    process_tissue(file_list)"
   ]
  },
  {
   "cell_type": "code",
   "execution_count": 27,
   "metadata": {},
   "outputs": [],
   "source": [
    "### process each tissue\n",
    "os.chdir(\"/home/galaxy/project/alleleSpecific_analysis/results/ASE_analysis/readCount/Fisher_test/by_tissue/\")\n",
    "txt_list = glob.glob(\"*.txt\")\n",
    "for txt in txt_list:\n",
    "    tissue = txt.split(\".\")[0]\n",
    "    df = pd.read_table(txt)\n",
    "    df['term'] = df['contig'] + \":\" + df['position'].astype(str) + \":\" + df['refAllele'] + \":\" + df['altAllele']\n",
    "    fetal_cols, adult_cols = [x for x in df.columns if \"IP_\" in x], [x for x in df.columns if \"_CRR\" in x]\n",
    "    df_fetal, df_adult = df[['term'] + fetal_cols], df[['term'] + adult_cols]\n",
    "    df_fetal, df_adult = select_same_trend(df_fetal), select_same_trend(df_adult)\n",
    "    convert_to_bed(df_fetal, tissue, \"fetal\")\n",
    "    convert_to_bed(df_adult, tissue, \"adult\")\n",
    "    fetal_mt_list, fetal_lt_list= mark_snp(df_fetal)\n",
    "    adult_mt_list, adult_lt_list= mark_snp(df_adult)\n",
    "    \n",
    "    common_list, diff_list = [],[]\n",
    "    for x in fetal_mt_list:\n",
    "        if x in adult_mt_list:\n",
    "            common_list.append(x)\n",
    "        elif x in adult_lt_list:\n",
    "            diff_list.append(x)\n",
    "    for x in fetal_lt_list:\n",
    "        if x in adult_lt_list:\n",
    "            common_list.append(x)\n",
    "        elif x in adult_mt_list:\n",
    "            diff_list.append(x)\n",
    "    list_to_bed(common_list, tissue, \"same\")\n",
    "    list_to_bed(diff_list, tissue, \"opposite\")"
   ]
  },
  {
   "cell_type": "code",
   "execution_count": 26,
   "metadata": {},
   "outputs": [],
   "source": [
    "def select_same_trend(df):\n",
    "    array_list = []\n",
    "    df = df.dropna(thresh=3)\n",
    "    cols = df.columns\n",
    "    for i, v in df.iterrows():\n",
    "        values = v.dropna()[1:]\n",
    "        if (min(values) >= 1) or (max(values) < 1):\n",
    "            array_list.append(v)\n",
    "    df_result = pd.DataFrame(array_list)\n",
    "    df_result.columns = cols\n",
    "    return df_result\n",
    "\n",
    "def convert_to_bed(df, tissue, data_type):\n",
    "    df['chr'] = df['term'].str.split(\":\").str[0]\n",
    "    df['pos'] = df['term'].str.split(\":\").str[1]\n",
    "    df_bed = df[['chr','pos','pos','term']]\n",
    "    df_bed.to_csv(\"%s_%s.bed\"%(tissue,data_type), sep=\"\\t\", header=False, index=False)\n",
    "    \n",
    "def mark_snp(df):\n",
    "    mt_list, lt_list = [], []\n",
    "    s_cols = [x for x in df.columns if \"effect_\" in x]\n",
    "    for i,j in df.iterrows():\n",
    "        values = [j[x] for x in s_cols if not np.isnan(j[x])]\n",
    "        if np.mean(values) > 1:\n",
    "            mt_list.append(j['term'])\n",
    "        else:\n",
    "            lt_list.append(j['term'])\n",
    "    return mt_list, lt_list\n",
    "\n",
    "def list_to_bed(in_list, tissue, oriention):\n",
    "    result_file = \"%s_%s.bed\" % (tissue, oriention)\n",
    "    if len(in_list) == 0:\n",
    "        os.system(\"touch %s\" % result_file)\n",
    "    else:\n",
    "        array_list = []\n",
    "        for x in in_list:\n",
    "            array_list.append(x.split(\":\"))\n",
    "        df = pd.DataFrame(array_list)\n",
    "        df.columns = ['contig','position','refAllele','altAllele']\n",
    "        df_sub = df[['contig','position','position']]\n",
    "        df_sub.to_csv(result_file, sep=\"\\t\", header=False, index=False)"
   ]
  },
  {
   "cell_type": "code",
   "execution_count": 3,
   "metadata": {},
   "outputs": [],
   "source": [
    "# select different loci based on overlap;\n",
    "os.chdir(\"/home/galaxy/project/alleleSpecific_analysis/results/ASE_analysis/readCount/Fisher_test/by_tissue/\")\n",
    "tissue_list = ['brain','heart','stomach','lung','muscle']\n",
    "for tissue in tissue_list:\n",
    "    fetal, adult = \"%s_fetal.bed\" % tissue, \"%s_adult.bed\" % tissue\n",
    "    res_fetal, res_adult = \"%s_diff_fetal\"%tissue, \"%s_diff_adult\"%tissue\n",
    "    with open(fetal, 'r') as f_fetal:\n",
    "        fetal_lines = f_fetal.readlines()\n",
    "    with open(adult, 'r') as f_adult:\n",
    "        adult_lines = f_adult.readlines()\n",
    "    with open(res_fetal, 'w') as fw_fetal:\n",
    "        fw_fetal.writelines([x for x in fetal_lines if x not in adult_lines])\n",
    "    with open(res_adult, 'w') as fw_adult:\n",
    "        fw_adult.writelines([x for x in adult_lines if x not in fetal_lines])"
   ]
  },
  {
   "cell_type": "code",
   "execution_count": null,
   "metadata": {},
   "outputs": [],
   "source": []
  }
 ],
 "metadata": {
  "kernelspec": {
   "display_name": "Python 3",
   "language": "python",
   "name": "python3"
  },
  "language_info": {
   "codemirror_mode": {
    "name": "ipython",
    "version": 3
   },
   "file_extension": ".py",
   "mimetype": "text/x-python",
   "name": "python",
   "nbconvert_exporter": "python",
   "pygments_lexer": "ipython3",
   "version": "3.7.2"
  }
 },
 "nbformat": 4,
 "nbformat_minor": 2
}
