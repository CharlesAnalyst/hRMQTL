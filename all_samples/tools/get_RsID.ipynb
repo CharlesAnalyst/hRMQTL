{
 "cells": [
  {
   "cell_type": "code",
   "execution_count": 1,
   "metadata": {},
   "outputs": [],
   "source": [
    "import os"
   ]
  },
  {
   "cell_type": "code",
   "execution_count": null,
   "metadata": {},
   "outputs": [],
   "source": [
    "df = pd.read_table(\"/home/galaxy/project/alleleSpecific_analysis/data/hg19_genome/dbsnp_138.hg19.txt\", sep=\" \", comment=\"#\", header=None)\n",
    "df.columns = ['chr','pos','rs','ref','alt']\n",
    "df['term'] = df['chr'] + \":\" + df['pos'].astype(str)\n",
    "snp_dict = dict(zip(df['term'], df['rs']))"
   ]
  },
  {
   "cell_type": "code",
   "execution_count": null,
   "metadata": {},
   "outputs": [],
   "source": [
    "df_bed = pd.read_table(\"total_snp.bed\", header=None)\n",
    "df_bed.columns = ['chr', 's', 'e']\n",
    "df_bed['term'] = df_bed['chr'] + \":\" + df_bed['s'].astype(str)\n",
    "term_list = df_bed['term'].tolist()\n",
    "rs_list = [snp_dict[x] for x in term_list if x in snp_dict]"
   ]
  }
 ],
 "metadata": {
  "kernelspec": {
   "display_name": "Python 3",
   "language": "python",
   "name": "python3"
  },
  "language_info": {
   "codemirror_mode": {
    "name": "ipython",
    "version": 3
   },
   "file_extension": ".py",
   "mimetype": "text/x-python",
   "name": "python",
   "nbconvert_exporter": "python",
   "pygments_lexer": "ipython3",
   "version": "3.7.2"
  }
 },
 "nbformat": 4,
 "nbformat_minor": 2
}
