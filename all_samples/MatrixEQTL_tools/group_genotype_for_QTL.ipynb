{
 "cells": [
  {
   "cell_type": "code",
   "execution_count": 1,
   "metadata": {},
   "outputs": [],
   "source": [
    "import os\n",
    "import glob\n",
    "import pandas as pd"
   ]
  },
  {
   "cell_type": "code",
   "execution_count": 3,
   "metadata": {},
   "outputs": [],
   "source": [
    "matrix_dir = \"/home/galaxy/project/m6AQTL/2019_10_10/transcriptome_snp/SNPiR/shell/all_samples/results/MatrixEQTL_result\"\n",
    "snp = \"%s/final_SNP_reorder.csv\" % matrix_dir"
   ]
  },
  {
   "cell_type": "code",
   "execution_count": 30,
   "metadata": {},
   "outputs": [
    {
     "data": {
      "text/html": [
       "<div>\n",
       "<style scoped>\n",
       "    .dataframe tbody tr th:only-of-type {\n",
       "        vertical-align: middle;\n",
       "    }\n",
       "\n",
       "    .dataframe tbody tr th {\n",
       "        vertical-align: top;\n",
       "    }\n",
       "\n",
       "    .dataframe thead th {\n",
       "        text-align: right;\n",
       "    }\n",
       "</style>\n",
       "<table border=\"1\" class=\"dataframe\">\n",
       "  <thead>\n",
       "    <tr style=\"text-align: right;\">\n",
       "      <th></th>\n",
       "      <th>SRR7075101</th>\n",
       "      <th>SRR1811018</th>\n",
       "      <th>SRR1811012</th>\n",
       "      <th>SRR1182601</th>\n",
       "      <th>SRR1182599</th>\n",
       "      <th>SRR1182597</th>\n",
       "      <th>SRR1182595</th>\n",
       "      <th>SRR1182587-88</th>\n",
       "      <th>SRR1182582-84</th>\n",
       "      <th>SRR5978883-89</th>\n",
       "      <th>...</th>\n",
       "      <th>SRR494616</th>\n",
       "      <th>SRR494614</th>\n",
       "      <th>SRR5934169</th>\n",
       "      <th>SRR456936</th>\n",
       "      <th>SRR7130854</th>\n",
       "      <th>SRR7130859</th>\n",
       "      <th>SRR7130862</th>\n",
       "      <th>SRR7130864</th>\n",
       "      <th>SRR7130867</th>\n",
       "      <th>SRR7130874</th>\n",
       "    </tr>\n",
       "    <tr>\n",
       "      <th>id</th>\n",
       "      <th></th>\n",
       "      <th></th>\n",
       "      <th></th>\n",
       "      <th></th>\n",
       "      <th></th>\n",
       "      <th></th>\n",
       "      <th></th>\n",
       "      <th></th>\n",
       "      <th></th>\n",
       "      <th></th>\n",
       "      <th></th>\n",
       "      <th></th>\n",
       "      <th></th>\n",
       "      <th></th>\n",
       "      <th></th>\n",
       "      <th></th>\n",
       "      <th></th>\n",
       "      <th></th>\n",
       "      <th></th>\n",
       "      <th></th>\n",
       "      <th></th>\n",
       "    </tr>\n",
       "  </thead>\n",
       "  <tbody>\n",
       "    <tr>\n",
       "      <th>chr1:15774</th>\n",
       "      <td>0</td>\n",
       "      <td>1</td>\n",
       "      <td>0</td>\n",
       "      <td>1</td>\n",
       "      <td>1</td>\n",
       "      <td>1</td>\n",
       "      <td>1</td>\n",
       "      <td>1</td>\n",
       "      <td>1</td>\n",
       "      <td>0</td>\n",
       "      <td>...</td>\n",
       "      <td>0</td>\n",
       "      <td>0</td>\n",
       "      <td>0</td>\n",
       "      <td>1</td>\n",
       "      <td>0</td>\n",
       "      <td>0</td>\n",
       "      <td>1</td>\n",
       "      <td>1</td>\n",
       "      <td>0</td>\n",
       "      <td>0</td>\n",
       "    </tr>\n",
       "    <tr>\n",
       "      <th>chr1:64649</th>\n",
       "      <td>0</td>\n",
       "      <td>0</td>\n",
       "      <td>1</td>\n",
       "      <td>1</td>\n",
       "      <td>1</td>\n",
       "      <td>1</td>\n",
       "      <td>1</td>\n",
       "      <td>0</td>\n",
       "      <td>1</td>\n",
       "      <td>0</td>\n",
       "      <td>...</td>\n",
       "      <td>0</td>\n",
       "      <td>0</td>\n",
       "      <td>0</td>\n",
       "      <td>0</td>\n",
       "      <td>1</td>\n",
       "      <td>0</td>\n",
       "      <td>1</td>\n",
       "      <td>1</td>\n",
       "      <td>0</td>\n",
       "      <td>1</td>\n",
       "    </tr>\n",
       "    <tr>\n",
       "      <th>chr1:67631</th>\n",
       "      <td>0</td>\n",
       "      <td>0</td>\n",
       "      <td>1</td>\n",
       "      <td>1</td>\n",
       "      <td>0</td>\n",
       "      <td>1</td>\n",
       "      <td>1</td>\n",
       "      <td>1</td>\n",
       "      <td>1</td>\n",
       "      <td>0</td>\n",
       "      <td>...</td>\n",
       "      <td>0</td>\n",
       "      <td>0</td>\n",
       "      <td>0</td>\n",
       "      <td>0</td>\n",
       "      <td>1</td>\n",
       "      <td>0</td>\n",
       "      <td>0</td>\n",
       "      <td>0</td>\n",
       "      <td>0</td>\n",
       "      <td>1</td>\n",
       "    </tr>\n",
       "    <tr>\n",
       "      <th>chr1:70317</th>\n",
       "      <td>0</td>\n",
       "      <td>0</td>\n",
       "      <td>1</td>\n",
       "      <td>1</td>\n",
       "      <td>0</td>\n",
       "      <td>1</td>\n",
       "      <td>0</td>\n",
       "      <td>1</td>\n",
       "      <td>1</td>\n",
       "      <td>0</td>\n",
       "      <td>...</td>\n",
       "      <td>0</td>\n",
       "      <td>0</td>\n",
       "      <td>0</td>\n",
       "      <td>0</td>\n",
       "      <td>0</td>\n",
       "      <td>0</td>\n",
       "      <td>1</td>\n",
       "      <td>0</td>\n",
       "      <td>0</td>\n",
       "      <td>1</td>\n",
       "    </tr>\n",
       "    <tr>\n",
       "      <th>chr1:78942</th>\n",
       "      <td>0</td>\n",
       "      <td>1</td>\n",
       "      <td>0</td>\n",
       "      <td>0</td>\n",
       "      <td>0</td>\n",
       "      <td>1</td>\n",
       "      <td>0</td>\n",
       "      <td>1</td>\n",
       "      <td>1</td>\n",
       "      <td>0</td>\n",
       "      <td>...</td>\n",
       "      <td>0</td>\n",
       "      <td>0</td>\n",
       "      <td>0</td>\n",
       "      <td>1</td>\n",
       "      <td>1</td>\n",
       "      <td>0</td>\n",
       "      <td>1</td>\n",
       "      <td>1</td>\n",
       "      <td>0</td>\n",
       "      <td>1</td>\n",
       "    </tr>\n",
       "  </tbody>\n",
       "</table>\n",
       "<p>5 rows × 32 columns</p>\n",
       "</div>"
      ],
      "text/plain": [
       "            SRR7075101  SRR1811018  SRR1811012  SRR1182601  SRR1182599  \\\n",
       "id                                                                       \n",
       "chr1:15774           0           1           0           1           1   \n",
       "chr1:64649           0           0           1           1           1   \n",
       "chr1:67631           0           0           1           1           0   \n",
       "chr1:70317           0           0           1           1           0   \n",
       "chr1:78942           0           1           0           0           0   \n",
       "\n",
       "            SRR1182597  SRR1182595  SRR1182587-88  SRR1182582-84  \\\n",
       "id                                                                 \n",
       "chr1:15774           1           1              1              1   \n",
       "chr1:64649           1           1              0              1   \n",
       "chr1:67631           1           1              1              1   \n",
       "chr1:70317           1           0              1              1   \n",
       "chr1:78942           1           0              1              1   \n",
       "\n",
       "            SRR5978883-89     ...      SRR494616  SRR494614  SRR5934169  \\\n",
       "id                            ...                                         \n",
       "chr1:15774              0     ...              0          0           0   \n",
       "chr1:64649              0     ...              0          0           0   \n",
       "chr1:67631              0     ...              0          0           0   \n",
       "chr1:70317              0     ...              0          0           0   \n",
       "chr1:78942              0     ...              0          0           0   \n",
       "\n",
       "            SRR456936  SRR7130854  SRR7130859  SRR7130862  SRR7130864  \\\n",
       "id                                                                      \n",
       "chr1:15774          1           0           0           1           1   \n",
       "chr1:64649          0           1           0           1           1   \n",
       "chr1:67631          0           1           0           0           0   \n",
       "chr1:70317          0           0           0           1           0   \n",
       "chr1:78942          1           1           0           1           1   \n",
       "\n",
       "            SRR7130867  SRR7130874  \n",
       "id                                  \n",
       "chr1:15774           0           0  \n",
       "chr1:64649           0           1  \n",
       "chr1:67631           0           1  \n",
       "chr1:70317           0           1  \n",
       "chr1:78942           0           1  \n",
       "\n",
       "[5 rows x 32 columns]"
      ]
     },
     "execution_count": 30,
     "metadata": {},
     "output_type": "execute_result"
    }
   ],
   "source": [
    "df = pd.read_csv(snp, index_col=0)\n",
    "df.head()"
   ]
  },
  {
   "cell_type": "markdown",
   "metadata": {},
   "source": [
    "#### the proportion of QTL SNPs identified from heterogyzous and homogyzous"
   ]
  },
  {
   "cell_type": "code",
   "execution_count": 17,
   "metadata": {},
   "outputs": [],
   "source": [
    "cis_file = \"%s/m6AQTL_cis_linear_v8.txt\" % matrix_dir\n",
    "df_cis = pd.read_table(cis_file)\n",
    "df_cis.head()\n",
    "cis_list = df_cis[\"SNP\"].tolist()"
   ]
  },
  {
   "cell_type": "code",
   "execution_count": 32,
   "metadata": {},
   "outputs": [
    {
     "name": "stdout",
     "output_type": "stream",
     "text": [
      "4847\n",
      "3626 1221\n"
     ]
    }
   ],
   "source": [
    "#df_het.head()\n",
    "df_cis_geno = df[df.index.isin(cis_list)]\n",
    "print(len(df_cis_geno))\n",
    "df_cis_geno.head()\n",
    "\n",
    "df_cis_geno_het = df_cis_geno[df_cis_geno.isin({1}).any(1)]\n",
    "df_cis_geno_hom = df_cis_geno[~(df_cis_geno.isin({1}).any(1))]\n",
    "print(len(df_cis_geno_het), len(df_cis_geno_hom))"
   ]
  },
  {
   "cell_type": "markdown",
   "metadata": {},
   "source": [
    "#### the proportion of heterogyzous QTL SNPs didn't appear in ASE analysis\n",
    "##### only those SNPs which located within the ip samples (with reads cover) were considered."
   ]
  },
  {
   "cell_type": "code",
   "execution_count": 36,
   "metadata": {},
   "outputs": [
    {
     "name": "stdout",
     "output_type": "stream",
     "text": [
      "chr1:890295\n"
     ]
    }
   ],
   "source": [
    "df_cis_geno_het.head()\n",
    "cis_het_list = df_cis_geno_het.index\n",
    "print(cis_het_list[0])"
   ]
  },
  {
   "cell_type": "code",
   "execution_count": 43,
   "metadata": {},
   "outputs": [
    {
     "name": "stdout",
     "output_type": "stream",
     "text": [
      "chr18:812170\n"
     ]
    },
    {
     "name": "stderr",
     "output_type": "stream",
     "text": [
      "/home/galaxy/anaconda3/lib/python3.7/site-packages/IPython/core/interactiveshell.py:2901: DtypeWarning: Columns (1,5,6,7,8,9,10,11,12) have mixed types. Specify dtype option on import or set low_memory=False.\n",
      "  if self.run_code(code, result):\n"
     ]
    },
    {
     "name": "stdout",
     "output_type": "stream",
     "text": [
      "chr1:672132\n"
     ]
    }
   ],
   "source": [
    "ip_dir = \"/home/galaxy/project/m6AQTL/2019_10_10/transcriptome_snp/SNPiR/shell/all_samples/results/ASE_analysis/ASE_readCount/ip_count\"\n",
    "ip_total_file = \"%s/ip_total.count\" % ip_dir\n",
    "#\n",
    "input_dir = \"/home/galaxy/project/m6AQTL/2019_10_10/transcriptome_snp/SNPiR/shell/all_samples/results/ASE_analysis/ASE_readCount/input_count\"\n",
    "input_total_file = \"%s/input_total.count\" % input_dir\n",
    "###########################################\n",
    "\n",
    "def get_snps(in_file):\n",
    "    df = pd.read_table(in_file)\n",
    "    df['SNP'] = df.iloc[:, 0] + \":\" + df.iloc[:, 1].astype(str)\n",
    "    total_list = df[\"SNP\"].tolist()\n",
    "    print(total_list[0])\n",
    "    return total_list\n",
    "ip_total_list = get_snps(ip_total_file)\n",
    "input_total_list = get_snps(input_total_file)"
   ]
  },
  {
   "cell_type": "code",
   "execution_count": 45,
   "metadata": {},
   "outputs": [
    {
     "name": "stdout",
     "output_type": "stream",
     "text": [
      "3626 753746\n",
      "160\n",
      "3626 2701540\n",
      "424\n",
      "753358\n"
     ]
    }
   ],
   "source": [
    "#\n",
    "print(len(list(set(cis_het_list))), len(list(set(ip_total_list))))\n",
    "print(len(set(ip_total_list).intersection(set(cis_het_list))))\n",
    "#\n",
    "print(len(list(set(cis_het_list))), len(list(set(input_total_list))))\n",
    "print(len(set(input_total_list).intersection(set(cis_het_list))))\n",
    "#\n",
    "print(len(set(input_total_list).intersection(set(ip_total_list))))"
   ]
  },
  {
   "cell_type": "markdown",
   "metadata": {},
   "source": [
    "#### distinguish SNP from input sample and reference imputation (abandon)"
   ]
  },
  {
   "cell_type": "code",
   "execution_count": 46,
   "metadata": {},
   "outputs": [
    {
     "name": "stdout",
     "output_type": "stream",
     "text": [
      "3466 chr6:36362328\n"
     ]
    }
   ],
   "source": [
    "diff_list = list(set(cis_het_list).difference(set(ip_total_list)))\n",
    "print(len(diff_list), diff_list[0])"
   ]
  },
  {
   "cell_type": "code",
   "execution_count": null,
   "metadata": {},
   "outputs": [],
   "source": [
    "## before imputation\n",
    "vcf_dir = \"/home/galaxy/project/m6AQTL/2019_10_10/transcriptome_snp/SNPiR/shell/all_samples/results/input_snp/\"\n",
    "example = \"%s/SRR7130896/SRR7130896-filtered_variants_hg19_uniq.vcf\"\n",
    "def get_snp_from_vcf(vcf):\n",
    "    df = pd.read_table(example, comment=\"#\", header=None)\n",
    "    df[\"SNP\"] = df.iloc[:, 0] + \":\" + df.iloc[:, 1].astype(str)\n",
    "    snp_list = df[\"SNP\"].tolist()"
   ]
  }
 ],
 "metadata": {
  "kernelspec": {
   "display_name": "Python 3",
   "language": "python",
   "name": "python3"
  },
  "language_info": {
   "codemirror_mode": {
    "name": "ipython",
    "version": 3
   },
   "file_extension": ".py",
   "mimetype": "text/x-python",
   "name": "python",
   "nbconvert_exporter": "python",
   "pygments_lexer": "ipython3",
   "version": "3.7.2"
  }
 },
 "nbformat": 4,
 "nbformat_minor": 2
}
