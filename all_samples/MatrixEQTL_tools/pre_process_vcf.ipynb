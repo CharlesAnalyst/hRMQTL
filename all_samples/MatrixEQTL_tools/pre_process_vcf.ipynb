{
 "cells": [
  {
   "cell_type": "code",
   "execution_count": 1,
   "metadata": {},
   "outputs": [],
   "source": [
    "import os\n",
    "import glob\n",
    "import pandas as pd"
   ]
  },
  {
   "cell_type": "code",
   "execution_count": 3,
   "metadata": {},
   "outputs": [],
   "source": [
    "raw_dir = \"/home/galaxy/project/m6AQTL/2019_10_10/transcriptome_snp/SNPiR/shell/HeLa_cell/combined_results/results/input_snp/raw_vcf\"\n",
    "filtered_dir = \"/home/galaxy/project/m6AQTL/2019_10_10/transcriptome_snp/SNPiR/shell/HeLa_cell/combined_results/results/input_snp/filtered_vcf\"\n",
    "\n",
    "os.chdir(filtered_dir)\n",
    "raw_list = glob.glob(\"%s/*.vcf.gz\" % raw_dir)\n",
    "for raw_vcf in raw_list:\n",
    "    f_vcf = os.path.join(filtered_dir, os.path.basename(raw_vcf))\n",
    "    command = \"bcftools view -V indels,mnps,other %s | bcftools norm -d both | bgzip -c > %s\" % (raw_vcf, f_vcf)\n",
    "    os.system(command)\n",
    "    os.system(\"bcftools index %s\" % f_vcf)"
   ]
  },
  {
   "cell_type": "code",
   "execution_count": 4,
   "metadata": {},
   "outputs": [
    {
     "name": "stderr",
     "output_type": "stream",
     "text": [
      "bash: line 2: cd: data_dir: No such file or directory\n",
      "Warning: The column names do not match (e.g. SRR5925272-):\n",
      "SRR5925272-\n",
      "SRR5925271-\n",
      "[E::main] unrecognized command '-o'\n"
     ]
    }
   ],
   "source": [
    "# %%bash\n",
    "# data_dir=/home/galaxy/project/m6AQTL/2019_10_10/transcriptome_snp/SNPiR/shell/HeLa_cell/combined_results/results/input_snp/filtered_vcf\n",
    "# cd $data_dir\n",
    "\n",
    "# export PERL5LIB=/home/software/vcftools-vcftools-954e607/src/perl\n",
    "# vcf-isec -f -n +12 SRR*.vcf.gz | bgzip -c > ../intersected.vcf.gz\n",
    "# bcftools index -o ../intersected.vcf.gz.csi ../intersected.vcf.gz"
   ]
  },
  {
   "cell_type": "code",
   "execution_count": 5,
   "metadata": {},
   "outputs": [],
   "source": [
    "%%bash\n",
    "data_dir=/home/galaxy/project/m6AQTL/2019_10_10/transcriptome_snp/SNPiR/shell/HeLa_cell/combined_results/results/input_snp/filtered_vcf\n",
    "cd $data_dir\n",
    "\n",
    "bcftools merge SRR*.vcf.gz -o ../merged_vcf.gz"
   ]
  }
 ],
 "metadata": {
  "kernelspec": {
   "display_name": "Python 3",
   "language": "python",
   "name": "python3"
  },
  "language_info": {
   "codemirror_mode": {
    "name": "ipython",
    "version": 3
   },
   "file_extension": ".py",
   "mimetype": "text/x-python",
   "name": "python",
   "nbconvert_exporter": "python",
   "pygments_lexer": "ipython3",
   "version": "3.7.2"
  }
 },
 "nbformat": 4,
 "nbformat_minor": 2
}
