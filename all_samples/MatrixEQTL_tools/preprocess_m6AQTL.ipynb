{
 "cells": [
  {
   "cell_type": "code",
   "execution_count": 1,
   "metadata": {},
   "outputs": [],
   "source": [
    "import os\n",
    "import glob\n",
    "import pandas as pd"
   ]
  },
  {
   "cell_type": "code",
   "execution_count": 2,
   "metadata": {},
   "outputs": [],
   "source": [
    "work_dir=\"/home/galaxy/project/m6AQTL/2019_10_10/transcriptome_snp/SNPiR/shell/HeLa_cell/results/PE/results/input_snp/SNP_matrix/matrix_data/\"\n",
    "os.chdir(work_dir)"
   ]
  },
  {
   "cell_type": "code",
   "execution_count": 10,
   "metadata": {},
   "outputs": [],
   "source": [
    "m6a_qtl = \"trans_filter.txt\"\n",
    "df = pd.read_table(m6a_qtl, sep=\"\\t\", header=None)\n",
    "df.columns = [\"SNP\", \"gene\", \"beta\", \"t-stat\", \"p-value\", \"FDR\"]\n",
    "df.head()\n",
    "querysnp_list = df[\"SNP\"].tolist()"
   ]
  },
  {
   "cell_type": "code",
   "execution_count": 8,
   "metadata": {},
   "outputs": [
    {
     "name": "stderr",
     "output_type": "stream",
     "text": [
      "/home/galaxy/anaconda3/lib/python3.7/site-packages/IPython/core/interactiveshell.py:2785: DtypeWarning: Columns (2) have mixed types. Specify dtype option on import or set low_memory=False.\n",
      "  interactivity=interactivity, compiler=compiler, result=result)\n"
     ]
    },
    {
     "name": "stdout",
     "output_type": "stream",
     "text": [
      "chr1:22356993 320440\n"
     ]
    }
   ],
   "source": [
    "# m6AVAR db\n",
    "db_file = \"%s/m6aVar_db/m6avar_info.txt\" % (work_dir)\n",
    "df_db = pd.read_table(db_file, sep=\"\\t\")\n",
    "df_db[\"db_snp\"] = df_db[\"Chromosome\"].astype(str) + \":\" + df_db[\"Position\"].astype(str)\n",
    "dbsnp_list = df_db[\"db_snp\"].tolist()\n",
    "print(dbsnp_list[0], len(dbsnp_list))"
   ]
  },
  {
   "cell_type": "code",
   "execution_count": 11,
   "metadata": {},
   "outputs": [
    {
     "name": "stdout",
     "output_type": "stream",
     "text": [
      "11 3.4327799275995505e-05\n"
     ]
    }
   ],
   "source": [
    "pos_num = 0\n",
    "for x in querysnp_list:\n",
    "    if x in dbsnp_list:\n",
    "        pos_num += 1\n",
    "print(pos_num, pos_num/len(dbsnp_list))"
   ]
  }
 ],
 "metadata": {
  "kernelspec": {
   "display_name": "Python 3",
   "language": "python",
   "name": "python3"
  },
  "language_info": {
   "codemirror_mode": {
    "name": "ipython",
    "version": 3
   },
   "file_extension": ".py",
   "mimetype": "text/x-python",
   "name": "python",
   "nbconvert_exporter": "python",
   "pygments_lexer": "ipython3",
   "version": "3.7.2"
  }
 },
 "nbformat": 4,
 "nbformat_minor": 2
}
