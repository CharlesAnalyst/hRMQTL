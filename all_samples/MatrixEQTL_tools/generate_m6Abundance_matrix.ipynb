{
 "cells": [
  {
   "cell_type": "markdown",
   "metadata": {},
   "source": [
    "#### generate m6A abundance matrix"
   ]
  },
  {
   "cell_type": "code",
   "execution_count": 1,
   "metadata": {},
   "outputs": [],
   "source": [
    "import os\n",
    "import pandas as pd"
   ]
  },
  {
   "cell_type": "code",
   "execution_count": 2,
   "metadata": {},
   "outputs": [],
   "source": [
    "data_dir = \"/home/galaxy/project/m6AQTL/2019_10_10/transcriptome_snp/SNPiR/shell/HeLa_cell/combined_results/results/MatrixEQTL_result\"\n",
    "m6a_matrix = os.path.join(data_dir, \"bedtools_quantification.matrix\")\n",
    "os.chdir(data_dir)"
   ]
  },
  {
   "cell_type": "code",
   "execution_count": 3,
   "metadata": {},
   "outputs": [],
   "source": [
    "df = pd.read_table(m6a_matrix, sep=\"\\t\")\n",
    "bed_file = \"hg38_m6Amatrix.bed\"\n",
    "with open(bed_file, 'w') as fw:\n",
    "    for x in df.index.tolist():\n",
    "        # in order to matching\n",
    "        bed_line = \"%s\\t%s\\t%s\\t%s\" % (x.split(\":\")[0], x.split(\":\")[1].split(\"-\")[0], x.split(\"-\")[1].strip(), x.strip())\n",
    "        fw.write(bed_line + \"\\n\")"
   ]
  },
  {
   "cell_type": "code",
   "execution_count": 4,
   "metadata": {},
   "outputs": [
    {
     "name": "stderr",
     "output_type": "stream",
     "text": [
      "Reading liftover chains\n",
      "Mapping coordinates\n"
     ]
    }
   ],
   "source": [
    "%%bash\n",
    "hg38_bed=hg38_m6Amatrix.bed\n",
    "hg19_bed=hg19_m6Amatrix.bed\n",
    "unmapped_bed=unmapped.bed\n",
    "chain_file=/data/database/chain_file/hg38ToHg19.over.chain\n",
    "liftOver $hg38_bed $chain_file $hg19_bed $unmapped_bed"
   ]
  },
  {
   "cell_type": "code",
   "execution_count": 5,
   "metadata": {},
   "outputs": [
    {
     "data": {
      "text/html": [
       "<div>\n",
       "<style scoped>\n",
       "    .dataframe tbody tr th:only-of-type {\n",
       "        vertical-align: middle;\n",
       "    }\n",
       "\n",
       "    .dataframe tbody tr th {\n",
       "        vertical-align: top;\n",
       "    }\n",
       "\n",
       "    .dataframe thead th {\n",
       "        text-align: right;\n",
       "    }\n",
       "</style>\n",
       "<table border=\"1\" class=\"dataframe\">\n",
       "  <thead>\n",
       "    <tr style=\"text-align: right;\">\n",
       "      <th></th>\n",
       "      <th>HeLa_01</th>\n",
       "      <th>HeLa_02</th>\n",
       "      <th>HeLa_03</th>\n",
       "      <th>HeLa_04</th>\n",
       "      <th>HeLa_05</th>\n",
       "      <th>HeLa_06</th>\n",
       "      <th>HeLa_07</th>\n",
       "      <th>HeLa_08</th>\n",
       "      <th>HeLa_09</th>\n",
       "      <th>HeLa_10</th>\n",
       "      <th>HeLa_11</th>\n",
       "      <th>HeLa_12</th>\n",
       "      <th>HeLa_13</th>\n",
       "      <th>HeLa_14</th>\n",
       "      <th>HeLa_15</th>\n",
       "      <th>HeLa_16</th>\n",
       "    </tr>\n",
       "  </thead>\n",
       "  <tbody>\n",
       "    <tr>\n",
       "      <th>chr8:40153414-40154625</th>\n",
       "      <td>0.538113</td>\n",
       "      <td>1.006682</td>\n",
       "      <td>8.096520</td>\n",
       "      <td>9.064683</td>\n",
       "      <td>10.653016</td>\n",
       "      <td>4.963064</td>\n",
       "      <td>11.631622</td>\n",
       "      <td>17.317888</td>\n",
       "      <td>4.796017</td>\n",
       "      <td>4.169224</td>\n",
       "      <td>3.845882</td>\n",
       "      <td>8.709373</td>\n",
       "      <td>9.085666</td>\n",
       "      <td>8.020432</td>\n",
       "      <td>3.058206</td>\n",
       "      <td>5.495821</td>\n",
       "    </tr>\n",
       "    <tr>\n",
       "      <th>chr5:172334066-172335316</th>\n",
       "      <td>0.664089</td>\n",
       "      <td>1.015084</td>\n",
       "      <td>6.207203</td>\n",
       "      <td>6.631909</td>\n",
       "      <td>6.102155</td>\n",
       "      <td>2.878968</td>\n",
       "      <td>1.571427</td>\n",
       "      <td>2.088330</td>\n",
       "      <td>2.838839</td>\n",
       "      <td>2.195517</td>\n",
       "      <td>1.209731</td>\n",
       "      <td>2.281207</td>\n",
       "      <td>1.631635</td>\n",
       "      <td>1.256419</td>\n",
       "      <td>1.739456</td>\n",
       "      <td>2.933057</td>\n",
       "    </tr>\n",
       "    <tr>\n",
       "      <th>chr16:46928815-46930453</th>\n",
       "      <td>0.671419</td>\n",
       "      <td>1.189949</td>\n",
       "      <td>2.831050</td>\n",
       "      <td>3.148784</td>\n",
       "      <td>3.112060</td>\n",
       "      <td>1.797235</td>\n",
       "      <td>0.510891</td>\n",
       "      <td>0.776471</td>\n",
       "      <td>2.238562</td>\n",
       "      <td>1.671577</td>\n",
       "      <td>1.309307</td>\n",
       "      <td>2.258178</td>\n",
       "      <td>1.592884</td>\n",
       "      <td>1.244928</td>\n",
       "      <td>1.363850</td>\n",
       "      <td>2.182791</td>\n",
       "    </tr>\n",
       "    <tr>\n",
       "      <th>chr6:89643511-89644216</th>\n",
       "      <td>0.684190</td>\n",
       "      <td>0.965920</td>\n",
       "      <td>4.726068</td>\n",
       "      <td>4.444011</td>\n",
       "      <td>3.213446</td>\n",
       "      <td>1.723473</td>\n",
       "      <td>1.641062</td>\n",
       "      <td>2.910035</td>\n",
       "      <td>1.980402</td>\n",
       "      <td>1.598916</td>\n",
       "      <td>0.715831</td>\n",
       "      <td>1.222273</td>\n",
       "      <td>0.749198</td>\n",
       "      <td>0.676402</td>\n",
       "      <td>1.195761</td>\n",
       "      <td>2.012460</td>\n",
       "    </tr>\n",
       "    <tr>\n",
       "      <th>chr9:27455132-27455795</th>\n",
       "      <td>0.867411</td>\n",
       "      <td>1.151983</td>\n",
       "      <td>3.619904</td>\n",
       "      <td>3.744498</td>\n",
       "      <td>4.159758</td>\n",
       "      <td>2.155304</td>\n",
       "      <td>1.447960</td>\n",
       "      <td>1.739681</td>\n",
       "      <td>3.378559</td>\n",
       "      <td>2.513339</td>\n",
       "      <td>2.848819</td>\n",
       "      <td>6.168314</td>\n",
       "      <td>4.935373</td>\n",
       "      <td>4.327435</td>\n",
       "      <td>2.211527</td>\n",
       "      <td>3.821381</td>\n",
       "    </tr>\n",
       "  </tbody>\n",
       "</table>\n",
       "</div>"
      ],
      "text/plain": [
       "                           HeLa_01   HeLa_02   HeLa_03   HeLa_04    HeLa_05  \\\n",
       "chr8:40153414-40154625    0.538113  1.006682  8.096520  9.064683  10.653016   \n",
       "chr5:172334066-172335316  0.664089  1.015084  6.207203  6.631909   6.102155   \n",
       "chr16:46928815-46930453   0.671419  1.189949  2.831050  3.148784   3.112060   \n",
       "chr6:89643511-89644216    0.684190  0.965920  4.726068  4.444011   3.213446   \n",
       "chr9:27455132-27455795    0.867411  1.151983  3.619904  3.744498   4.159758   \n",
       "\n",
       "                           HeLa_06    HeLa_07    HeLa_08   HeLa_09   HeLa_10  \\\n",
       "chr8:40153414-40154625    4.963064  11.631622  17.317888  4.796017  4.169224   \n",
       "chr5:172334066-172335316  2.878968   1.571427   2.088330  2.838839  2.195517   \n",
       "chr16:46928815-46930453   1.797235   0.510891   0.776471  2.238562  1.671577   \n",
       "chr6:89643511-89644216    1.723473   1.641062   2.910035  1.980402  1.598916   \n",
       "chr9:27455132-27455795    2.155304   1.447960   1.739681  3.378559  2.513339   \n",
       "\n",
       "                           HeLa_11   HeLa_12   HeLa_13   HeLa_14   HeLa_15  \\\n",
       "chr8:40153414-40154625    3.845882  8.709373  9.085666  8.020432  3.058206   \n",
       "chr5:172334066-172335316  1.209731  2.281207  1.631635  1.256419  1.739456   \n",
       "chr16:46928815-46930453   1.309307  2.258178  1.592884  1.244928  1.363850   \n",
       "chr6:89643511-89644216    0.715831  1.222273  0.749198  0.676402  1.195761   \n",
       "chr9:27455132-27455795    2.848819  6.168314  4.935373  4.327435  2.211527   \n",
       "\n",
       "                           HeLa_16  \n",
       "chr8:40153414-40154625    5.495821  \n",
       "chr5:172334066-172335316  2.933057  \n",
       "chr16:46928815-46930453   2.182791  \n",
       "chr6:89643511-89644216    2.012460  \n",
       "chr9:27455132-27455795    3.821381  "
      ]
     },
     "execution_count": 5,
     "metadata": {},
     "output_type": "execute_result"
    }
   ],
   "source": [
    "df.head()"
   ]
  },
  {
   "cell_type": "code",
   "execution_count": 6,
   "metadata": {},
   "outputs": [],
   "source": [
    "df.head()\n",
    "new_title = [\"SRR6714636-\", \"SRR6714637-\", \"SRR847370-\", \"SRR847371-\", \"SRR847358-\", \"SRR847359-\", \\\n",
    "\"SRR6714644-\", \"SRR6714645-\", \"SRR6714640-\", \"SRR6714641-\", \"SRR5925299-\", \"SRR5925300-\", \\\n",
    "\"SRR5925287-\", \"SRR5925288-\", \"SRR5925271-\", \"SRR5925272-\"]\n",
    "assembl_dict = {}\n",
    "with open(\"hg19_m6Amatrix.bed\", 'r') as f:\n",
    "    for line in f.readlines():\n",
    "        hg38 = line.strip().split(\"\\t\")[-1]\n",
    "        assembl_dict[hg38] = \"%s:%s-%s\" % (line.split(\"\\t\")[0], line.split(\"\\t\")[1], line.split(\"\\t\")[2])\n",
    "##\n",
    "df.columns = new_title\n",
    "df_new = df[[\"SRR5925271-\",\"SRR5925272-\",\"SRR5925287-\",\"SRR5925288-\",\"SRR5925299-\",\"SRR5925300-\",\\\n",
    "             \"SRR6714636-\",\"SRR6714637-\",\"SRR6714640-\",\"SRR6714641-\", \"SRR6714644-\",\"SRR6714645-\", \\\n",
    "             \"SRR847358-\",\"SRR847359-\",\"SRR847370-\",\"SRR847371-\"]]\n",
    "##\n",
    "with open(\"hg19_quantification.matrix\", 'w') as fw:\n",
    "    fw.write(\"id\\t\" + \"\\t\".join(df_new.columns) + \"\\n\")\n",
    "    for index, values in df_new.iterrows():\n",
    "        if index in assembl_dict:\n",
    "            fw.write(\"%s\\t%s\\n\" % (assembl_dict[index], \"\\t\".join([str(x) for x in values])))"
   ]
  },
  {
   "cell_type": "code",
   "execution_count": 7,
   "metadata": {},
   "outputs": [],
   "source": [
    "with open(\"hg19_m6aloc.txt\", 'w') as fw:\n",
    "    with open(\"hg19_quantification.matrix\", 'r') as f:\n",
    "        f.readline()\n",
    "        fw.write(\"m6aid\\tchr\\tleft\\tright\\n\")\n",
    "        for line in f.readlines():\n",
    "            m6aid = line.split(\"\\t\")[0]\n",
    "            chr_name, start, end = m6aid.split(\":\")[0],m6aid.split(\":\")[1].split(\"-\")[0],m6aid.split(\"-\")[1].strip()\n",
    "            fw.write(\"\\t\".join([m6aid, chr_name, start, end]) + \"\\n\")"
   ]
  },
  {
   "cell_type": "markdown",
   "metadata": {},
   "source": [
    "##### reformat file"
   ]
  },
  {
   "cell_type": "code",
   "execution_count": 8,
   "metadata": {},
   "outputs": [],
   "source": [
    "with open(\"hg19_SNP.matrix\", 'w') as fw:\n",
    "    with open(\"final_SNP.txt\", 'r') as f:\n",
    "        title = f.readline()\n",
    "        fw.write(title.strip() + \"\\n\")\n",
    "        for line in f.readlines():\n",
    "            fw.write(\"chr\" + line)"
   ]
  },
  {
   "cell_type": "code",
   "execution_count": 12,
   "metadata": {},
   "outputs": [],
   "source": [
    "with open(\"hg19_SNP.csv\", 'w') as fw:\n",
    "    with open(\"hg19_SNP.matrix\", 'r') as f:\n",
    "        for line in f.readlines():\n",
    "            fw.write(\",\".join(line.split()) + \"\\n\")"
   ]
  },
  {
   "cell_type": "code",
   "execution_count": 9,
   "metadata": {},
   "outputs": [],
   "source": [
    "with open(\"hg19_snpsloc.txt\", 'w') as fw:\n",
    "    with open(\"filtered_snpsloc.txt\", 'r') as f:\n",
    "        title = f.readline()\n",
    "        fw.write(title.strip() + \"\\n\")\n",
    "        for line in f.readlines():\n",
    "            a,b,c = line.strip().split(\"\\t\")\n",
    "            fw.write(\"chr%s\\tchr%s\\t%s\\n\" % (a, b, c))"
   ]
  },
  {
   "cell_type": "markdown",
   "metadata": {},
   "source": [
    "#### smartPCA"
   ]
  },
  {
   "cell_type": "code",
   "execution_count": 14,
   "metadata": {},
   "outputs": [
    {
     "name": "stdout",
     "output_type": "stream",
     "text": [
      "                         id  SRR5925271-  SRR5925272-  SRR5925287-  \\\n",
      "0    chr8:40010933-40012144     3.058206     5.495821     9.085666   \n",
      "1  chr5:171761070-171762320     1.739456     2.933057     1.631635   \n",
      "2   chr16:46962727-46964365     1.363850     2.182791     1.592884   \n",
      "3    chr6:90353230-90353935     1.195761     2.012460     0.749198   \n",
      "4    chr9:27455130-27455793     2.211527     3.821381     4.935373   \n",
      "\n",
      "   SRR5925288-  SRR5925299-  SRR5925300-  SRR6714636-  SRR6714637-  \\\n",
      "0     8.020432     3.845882     8.709373     0.538113     1.006682   \n",
      "1     1.256419     1.209731     2.281207     0.664089     1.015084   \n",
      "2     1.244928     1.309307     2.258178     0.671419     1.189949   \n",
      "3     0.676402     0.715831     1.222273     0.684190     0.965920   \n",
      "4     4.327435     2.848819     6.168314     0.867411     1.151983   \n",
      "\n",
      "   SRR6714640-  SRR6714641-  SRR6714644-  SRR6714645-  SRR847358-  SRR847359-  \\\n",
      "0     4.796017     4.169224    11.631622    17.317888   10.653016    4.963064   \n",
      "1     2.838839     2.195517     1.571427     2.088330    6.102155    2.878968   \n",
      "2     2.238562     1.671577     0.510891     0.776471    3.112060    1.797235   \n",
      "3     1.980402     1.598916     1.641062     2.910035    3.213446    1.723473   \n",
      "4     3.378559     2.513339     1.447960     1.739681    4.159758    2.155304   \n",
      "\n",
      "   SRR847370-  SRR847371-  \n",
      "0    8.096520    9.064683  \n",
      "1    6.207203    6.631909  \n",
      "2    2.831050    3.148784  \n",
      "3    4.726068    4.444011  \n",
      "4    3.619904    3.744498  \n"
     ]
    }
   ],
   "source": [
    "in_file = \"hg19_quantification.matrix\"\n",
    "df_m = pd.read_table(in_file, sep=\"\\t\")\n",
    "print(df_m.head())\n",
    "df_n = df_m.T\n",
    "df_n.to_csv(\"hg19_quantification_T.matrix\", index=False, header=False)"
   ]
  },
  {
   "cell_type": "code",
   "execution_count": 33,
   "metadata": {},
   "outputs": [],
   "source": [
    "map_file = \"../combined.map\"\n",
    "with open(\"../combined_2.map\", 'w') as fw:\n",
    "    with open(map_file, 'r') as f:\n",
    "        for line in f.readlines():\n",
    "            tmp_list = line.split()\n",
    "            tmp_list[1] = str(tmp_list[0]) + \":\" + str(tmp_list[3])\n",
    "            fw.write(\"\\t\".join(tmp_list) + \"\\n\")"
   ]
  }
 ],
 "metadata": {
  "kernelspec": {
   "display_name": "Python 3",
   "language": "python",
   "name": "python3"
  },
  "language_info": {
   "codemirror_mode": {
    "name": "ipython",
    "version": 3
   },
   "file_extension": ".py",
   "mimetype": "text/x-python",
   "name": "python",
   "nbconvert_exporter": "python",
   "pygments_lexer": "ipython3",
   "version": "3.7.2"
  }
 },
 "nbformat": 4,
 "nbformat_minor": 2
}
