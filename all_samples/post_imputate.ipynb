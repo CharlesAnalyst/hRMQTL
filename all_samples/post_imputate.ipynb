{
 "cells": [
  {
   "cell_type": "code",
   "execution_count": null,
   "metadata": {},
   "outputs": [],
   "source": [
    "import os\n",
    "import glob\n",
    "import argparse\n",
    "import pandas as pd\n",
    "# from multiprocessing import Pool\n",
    "qctool = \"/home/software/qctool/qctool_v2.0.1-Ubuntu16.04-x86_64/qctool\"\n",
    "base_dir = \"/home/galaxy/project/m6AQTL/2019_10_10/transcriptome_snp/SNPiR/shell/all_samples/results/input_snp\"\n",
    "parser = argparse.ArgumentParser()\n",
    "parser.add_argument(\"--prefix\", \"-p\", help=\"The SRR id of each sample\")\n",
    "args = parser.parse_args()\n",
    "prefix = args.prefix\n",
    "\n",
    "os.chdir(os.path.join(base_dir, prefix))\n",
    "os.system(\"{qctool} -g {prefix}.chr#.gen -s {prefix}.sample -threshold 0.6 -sort -og {prefix}.vcf\".format(qctool=qctool, prefix=prefix))\n",
    "os.system(\"bgzip -c {prefix}.vcf > {prefix}.vcf.gz\".format(prefix=prefix))\n",
    "os.system(\"bcftools index {prefix}.vcf.gz\".format(prefix=prefix))"
   ]
  }
 ],
 "metadata": {
  "kernelspec": {
   "display_name": "Python 3",
   "language": "python",
   "name": "python3"
  },
  "language_info": {
   "codemirror_mode": {
    "name": "ipython",
    "version": 3
   },
   "file_extension": ".py",
   "mimetype": "text/x-python",
   "name": "python",
   "nbconvert_exporter": "python",
   "pygments_lexer": "ipython3",
   "version": "3.7.2"
  }
 },
 "nbformat": 4,
 "nbformat_minor": 2
}
