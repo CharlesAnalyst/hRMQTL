{
 "cells": [
  {
   "cell_type": "code",
   "execution_count": 1,
   "metadata": {},
   "outputs": [],
   "source": [
    "import os\n",
    "import glob\n",
    "import pandas as pd\n",
    "from collections import Counter"
   ]
  },
  {
   "cell_type": "code",
   "execution_count": 2,
   "metadata": {},
   "outputs": [],
   "source": [
    "os.chdir(\"/home/galaxy/project/m6AQTL/2019_10_10/transcriptome_snp/SNPiR/shell/all_samples/data/m6a_peak/selected_peak/\")\n",
    "ref = \"NCB_brain_1.bed\"\n",
    "file_list= [x for x in glob.glob(\"*.bed\") if x != ref]\n",
    "os.system(\"rm intersection/raw_overlap/*\")\n",
    "for bed in file_list:\n",
    "    a = ref\n",
    "    c = \"intersection/raw_overlap/%s\" % (os.path.basename(bed))\n",
    "    os.system(\"bedtools intersect -a %s -b %s -u > %s\" % (a, bed, c))"
   ]
  },
  {
   "cell_type": "code",
   "execution_count": 3,
   "metadata": {},
   "outputs": [
    {
     "name": "stdout",
     "output_type": "stream",
     "text": [
      "121211\n",
      "chr10\t100171085\t100171160\n",
      "\n"
     ]
    }
   ],
   "source": [
    "# with open(ref, 'r') as f:\n",
    "#     f.readline()\n",
    "#     ref_list = f.readlines()\n",
    "#     print(len(ref_list))\n",
    "! cat intersection/raw_overlap/*.bed | sort -u > intersection/raw_overlap/total_ref.txt\n",
    "with open(\"intersection/raw_overlap/total_ref.txt\", 'r') as f:\n",
    "    ref_list = f.readlines()\n",
    "    print(len(ref_list))\n",
    "    print(ref_list[0])"
   ]
  },
  {
   "cell_type": "code",
   "execution_count": 4,
   "metadata": {},
   "outputs": [
    {
     "name": "stdout",
     "output_type": "stream",
     "text": [
      "chr1\t880541\t880916\n",
      "\n",
      "42\n"
     ]
    }
   ],
   "source": [
    "overlap_list = glob.glob(\"intersection/raw_overlap/*.bed\")\n",
    "peak_array = []\n",
    "for bed in overlap_list:\n",
    "    with open(bed, 'r') as f:\n",
    "        peak_array.append(f.readlines())\n",
    "print(peak_array[1][1])\n",
    "print(len(peak_array))"
   ]
  },
  {
   "cell_type": "code",
   "execution_count": 8,
   "metadata": {},
   "outputs": [
    {
     "name": "stdout",
     "output_type": "stream",
     "text": [
      "55057\n"
     ]
    }
   ],
   "source": [
    "#os.chdir(\"/home/galaxy/project/m6AQTL/2019_10_10/transcriptome_snp/SNPiR/shell/all_samples/data/m6a_peak/selected_peak/\")\n",
    "raw_peaks, common_peaks = [], []\n",
    "for peak_list in peak_array:\n",
    "    inse_list = list(set(ref_list).intersection(set(peak_list)))\n",
    "    raw_peaks += inse_list\n",
    "count_dict = Counter(raw_peaks)\n",
    "cutoff = int(len(peak_array)) * 0.1\n",
    "for peak, count in count_dict.items():\n",
    "    if count >= cutoff:\n",
    "        common_peaks.append(peak)\n",
    "\n",
    "with open(\"intersection/raw_commonPeaks_refBrain-01.bed\", 'w') as fw:\n",
    "    print(len(common_peaks))\n",
    "    fw.writelines(common_peaks)"
   ]
  },
  {
   "cell_type": "code",
   "execution_count": 9,
   "metadata": {},
   "outputs": [],
   "source": [
    "# os.chdir(\"/home/galaxy/project/m6AQTL/2019_10_10/transcriptome_snp/SNPiR/shell/all_samples/data/m6a_peak/selected_peak/intersection/\")\n",
    "in_file = \"intersection/raw_commonPeaks_refBrain-01.bed\"\n",
    "out_file = \"intersection/commonPeaks_refBrain-01.bed\"\n",
    "df = pd.read_table(in_file, sep=\"\\t\", header=None)\n",
    "df[\"peak_id\"] = df.iloc[:, 0].astype(str) + \":\" + df.iloc[:, 1].astype(str) + \"-\" + df.iloc[:, 2].astype(str)\n",
    "df.to_csv(out_file, sep=\"\\t\", header=False, index=False)"
   ]
  }
 ],
 "metadata": {
  "kernelspec": {
   "display_name": "Python 3",
   "language": "python",
   "name": "python3"
  },
  "language_info": {
   "codemirror_mode": {
    "name": "ipython",
    "version": 3
   },
   "file_extension": ".py",
   "mimetype": "text/x-python",
   "name": "python",
   "nbconvert_exporter": "python",
   "pygments_lexer": "ipython3",
   "version": "3.7.2"
  }
 },
 "nbformat": 4,
 "nbformat_minor": 2
}
