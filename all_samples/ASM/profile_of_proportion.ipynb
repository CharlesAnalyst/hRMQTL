{
 "cells": [
  {
   "cell_type": "code",
   "execution_count": 1,
   "metadata": {},
   "outputs": [],
   "source": [
    "m6a_dir = \"/home/galaxy/project/alleleSpecific_analysis/results/ASE_analysis/readCount/Fisher_test/sig01/bed/extended_10kb/\"\n",
    "amr_dir = \"/home/galaxy/project/alleleSpecific_analysis/results/ASM/allelicEpigenome/by_tissue/bed/\"\n",
    "total_dir = \"/home/galaxy/project/alleleSpecific_analysis/results/ASM/allelicEpigenome/allchrs/merge/by_tissue/bed/\""
   ]
  },
  {
   "cell_type": "code",
   "execution_count": 7,
   "metadata": {},
   "outputs": [
    {
     "name": "stdout",
     "output_type": "stream",
     "text": [
      "   0    1    2    3    4   ...   195  196  197  198  199\n",
      "0  0.0  0.0  0.0  0.0  0.0 ...   0.0  0.0  0.0  0.0  0.0\n",
      "1  0.0  0.0  0.0  0.0  0.0 ...   0.0  0.0  0.0  0.0  0.0\n",
      "2  0.0  0.0  0.0  0.0  0.0 ...   0.0  0.0  0.0  0.0  0.0\n",
      "3  0.0  0.0  0.0  0.0  0.0 ...   0.0  0.0  0.0  0.0  0.0\n",
      "4  0.0  0.0  0.0  0.0  0.0 ...   0.0  0.0  0.0  0.0  0.0\n",
      "\n",
      "[5 rows x 200 columns]\n",
      "[0.00044072278536800354, 0.00044072278536800354, 0.0, 0.0, 0.0, 0.0, 0.0, 0.0, 0.0, 0.0, 0.0008814455707360071, 0.0, 0.00044072278536800354, 0.0, 0.0, 0.0, 0.0, 0.00044072278536800354, 0.0, 0.0, 0.0, 0.0008814455707360071, 0.00044072278536800354, 0.0, 0.0, 0.0, 0.00044072278536800354, 0.002644336712208021, 0.0022036139268400176, 0.0013221683561040105, 0.00044072278536800354, 0.0, 0.00044072278536800354, 0.0017628911414720142, 0.00044072278536800354, 0.0013221683561040105, 0.0, 0.0, 0.00044072278536800354, 0.0, 0.0, 0.0, 0.0, 0.0, 0.0, 0.0, 0.00044072278536800354, 0.0, 0.0, 0.0, 0.0, 0.0, 0.0, 0.0, 0.0, 0.00044072278536800354, 0.00044072278536800354, 0.0022036139268400176, 0.0, 0.0, 0.0, 0.0, 0.0, 0.0, 0.0, 0.0, 0.0013221683561040105, 0.0013221683561040105, 0.0, 0.0, 0.0, 0.0, 0.0013221683561040105, 0.0, 0.0, 0.0008814455707360071, 0.0, 0.0, 0.0, 0.0, 0.0, 0.0, 0.0, 0.0, 0.0, 0.0, 0.0, 0.0, 0.0, 0.0, 0.00044072278536800354, 0.00044072278536800354, 0.0, 0.0, 0.0, 0.0, 0.0, 0.0, 0.0, 0.0]\n"
     ]
    }
   ],
   "source": [
    "##\n",
    "def get_positon(infile):\n",
    "    df = pd.read_table(infile, sep=\"\\t\", header=None)\n",
    "    if len(df.columns) == 3:\n",
    "        df.columns = ['chr', 'start', 'end']\n",
    "    else:\n",
    "        df.columns = ['chr', 'start', 'end', 'info']\n",
    "    chr_dict = {}\n",
    "    for x,y in df.iterrows():\n",
    "        chr_dict[y['chr']] = chr_dict.get(y['chr'], []) + [y['start']]\n",
    "    return chr_dict\n",
    "    \n",
    "amr = \"%s/Spleen.bed\" % amr_dir\n",
    "amr_dict = get_positon(amr)\n",
    "total = \"%s/Spleen.bed\" % total_dir\n",
    "total_dict = get_positon(total)\n",
    "##\n",
    "m6a = \"%s/Spleen-2-1.bed\" % m6a_dir\n",
    "df = pd.read_table(m6a, sep=\"\\t\", header=None)\n",
    "df.columns = ['chr', 'start', 'end']\n",
    "prop_array = []\n",
    "for x, values in df.iterrows():\n",
    "    prop_list = []\n",
    "    chrom, start, end = values['chr'], values['start'], values['end']\n",
    "    for i in range(start, end-100, 100):\n",
    "        j,k = i, i+100\n",
    "        amr_list, total_list = amr_dict[chrom], total_dict[chrom]\n",
    "        amr_num, total_num = len([x for x in amr_list if j <= x <= k]), len([x for x in total_list if j <= x <= k])\n",
    "        prop = 0\n",
    "        if total_num > 0:\n",
    "            prop = amr_num / total_num\n",
    "        prop_list.append(prop)\n",
    "    prop_array.append(prop_list)\n",
    "df_prop = pd.DataFrame(prop_array)\n",
    "print(df_prop.head())\n",
    "mean_list = [df_prop.iloc[:,i].mean() for i in range(100)]\n",
    "print(mean_list)"
   ]
  },
  {
   "cell_type": "code",
   "execution_count": null,
   "metadata": {},
   "outputs": [],
   "source": []
  }
 ],
 "metadata": {
  "kernelspec": {
   "display_name": "Python 3",
   "language": "python",
   "name": "python3"
  },
  "language_info": {
   "codemirror_mode": {
    "name": "ipython",
    "version": 3
   },
   "file_extension": ".py",
   "mimetype": "text/x-python",
   "name": "python",
   "nbconvert_exporter": "python",
   "pygments_lexer": "ipython3",
   "version": "3.7.2"
  }
 },
 "nbformat": 4,
 "nbformat_minor": 2
}
