{
 "cells": [
  {
   "cell_type": "code",
   "execution_count": 3,
   "metadata": {},
   "outputs": [],
   "source": [
    "# m6a_dir = \"/home/galaxy/project/alleleSpecific_analysis/results/ASE_analysis/readCount/Fisher_test/\"\n",
    "# sig_dir = \"/home/galaxy/project/alleleSpecific_analysis/results/ASE_analysis/readCount/Fisher_test/sig/bed/\"\n",
    "# unsig_dir = \"/home/galaxy/project/alleleSpecific_analysis/results/ASE_analysis/readCount/Fisher_test/unsig/\"\n",
    "\n",
    "# # txt 2 bed\n",
    "# txt_list = glob.glob(\"%s/*.txt\" % m6a_dir)\n",
    "# for txt in txt_list:\n",
    "#     df = pd.read_table(txt)\n",
    "#     df[['contig','position','position']].to_csv(txt.replace(\".txt\",\".bed\"), sep=\"\\t\", header=False,index=False)\n",
    "    \n",
    "# # select non-overlapping SNP\n",
    "# m6a_list = glob.glob(\"%s/*.bed\" % m6a_dir)\n",
    "# for m6a in m6a_list:\n",
    "#     sig = os.path.join(sig_dir, os.path.basename(m6a))\n",
    "#     unsig = os.path.join(unsig_dir, os.path.basename(m6a))\n",
    "#     os.system(\"bedtools intersect -a %s -b %s -v -wa | sort -u > %s\" % (m6a, sig, unsig))\n",
    "\n",
    "# random subset\n",
    "result_dir = \"/home/galaxy/project/alleleSpecific_analysis/results/ASM/corr_m6A/corr_results/plot_profile/AMR_region/\"\n",
    "#\n",
    "m6a_sig_dir = \"/home/galaxy/project/alleleSpecific_analysis/results/ASE_analysis/readCount/Fisher_test/sig/bed/\"\n",
    "sig_list = glob.glob(\"%s/*.bed\" % m6a_sig_dir)\n",
    "m6a_unsig_dir = \"/home/galaxy/project/alleleSpecific_analysis/results/ASE_analysis/readCount/Fisher_test/unsig/\"\n",
    "\n",
    "for sig in sig_list:\n",
    "    subset_num, prefix = 0, os.path.basename(sig).split(\".bed\")[0]\n",
    "    unsig = os.path.join(m6a_unsig_dir, os.path.basename(sig))\n",
    "    sig_num = int(os.popen(\"wc -l %s\" % sig).read().split()[0])\n",
    "    unsig_num = int(os.popen(\"wc -l %s\" % unsig).read().split()[0])\n",
    "    if sig_num >= unsig_num:\n",
    "        subset_num = unsig_num\n",
    "        df = pd.read_table(sig, header=None).sample(n=subset_num)\n",
    "        df.to_csv(os.path.join(result_dir, os.path.basename(sig)), sep=\"\\t\", header=False, index=False)\n",
    "        os.system(\"ln -s %s %s\" % (unsig, os.path.join(result_dir, \"%s_control.bed\"%prefix)))\n",
    "    else:\n",
    "        subset_num = sig_num\n",
    "        os.system(\"ln -s %s %s\" % (sig, os.path.join(result_dir,os.path.basename(sig))))\n",
    "        df = pd.read_table(unsig, header=None).sample(n=subset_num)\n",
    "        df.to_csv(os.path.join(result_dir, \"%s_control.bed\"%prefix), sep=\"\\t\", header=False, index=False)"
   ]
  },
  {
   "cell_type": "code",
   "execution_count": 6,
   "metadata": {},
   "outputs": [],
   "source": [
    "# select AMR control"
   ]
  },
  {
   "cell_type": "code",
   "execution_count": 7,
   "metadata": {
    "collapsed": true
   },
   "outputs": [
    {
     "name": "stderr",
     "output_type": "stream",
     "text": [
      "/home/galaxy/anaconda3/lib/python3.7/site-packages/IPython/core/interactiveshell.py:2785: DtypeWarning: Columns (9) have mixed types. Specify dtype option on import or set low_memory=False.\n",
      "  interactivity=interactivity, compiler=compiler, result=result)\n"
     ]
    }
   ],
   "source": [
    "# select based on experiment;\n",
    "# txt 2 bed\n",
    "asm_dir = \"/home/galaxy/project/alleleSpecific_analysis/results/ASM/allelicEpigenome/AllChrs_AllDocs/\"\n",
    "txt_list = glob.glob(\"%s/*.txt\" % asm_dir)\n",
    "for txt in txt_list:\n",
    "    df = pd.read_table(txt)\n",
    "    df_sub = df[df['Experiment Identifier'] == \"coll/AllelicEpigenome-Experiment/doc/Experiment02\"]\n",
    "    df_res = df_sub[['Chromosome','Position','Position']].drop_duplicates()\n",
    "    df_res.to_csv(txt.replace(\".txt\",'.bed'), sep=\"\\t\", header=False, index=False)\n",
    "# cat AllelicEpigenome-chr[0-9]*.bed > AllelicEpigenome-chr1-22.bed"
   ]
  },
  {
   "cell_type": "code",
   "execution_count": 9,
   "metadata": {},
   "outputs": [
    {
     "data": {
      "text/plain": [
       "0"
      ]
     },
     "execution_count": 9,
     "metadata": {},
     "output_type": "execute_result"
    }
   ],
   "source": [
    "### select control for ASM \n",
    "res_dir=\"/home/galaxy/project/alleleSpecific_analysis/results/ASM/corr_m6A/corr_results/plot_profile/m6A_region/\"\n",
    "#\n",
    "db=\"/home/galaxy/project/alleleSpecific_analysis/results/ASM/allelicEpigenome/AllChrs_AllDocs/AllelicEpigenome-chr1-22.bed\"\n",
    "asm = \"/home/galaxy/project/alleleSpecific_analysis/results/ASM/allelicEpigenome/ASM.bed\"\n",
    "\n",
    "asm_num = int(os.popen(\"wc -l %s\" % asm).read().split()[0])\n",
    "df = pd.read_table(db, header=None).sample(n=asm_num)\n",
    "df.to_csv(os.path.join(res_dir, \"ASM_control.bed\"), sep=\"\\t\", header=False, index=False)\n",
    "os.system(\"ln -s %s %s\" % (asm, os.path.join(res_dir, os.path.basename(asm))))"
   ]
  }
 ],
 "metadata": {
  "kernelspec": {
   "display_name": "Python 3",
   "language": "python",
   "name": "python3"
  },
  "language_info": {
   "codemirror_mode": {
    "name": "ipython",
    "version": 3
   },
   "file_extension": ".py",
   "mimetype": "text/x-python",
   "name": "python",
   "nbconvert_exporter": "python",
   "pygments_lexer": "ipython3",
   "version": "3.7.2"
  }
 },
 "nbformat": 4,
 "nbformat_minor": 2
}
