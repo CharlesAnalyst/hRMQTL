{
 "cells": [
  {
   "cell_type": "code",
   "execution_count": 3,
   "metadata": {},
   "outputs": [],
   "source": [
    "# extend to 2000bp\n",
    "asm = \"/home/galaxy/project/alleleSpecific_analysis/results/ASM/allelicEpigenome/ASM.bed\"\n",
    "asm_region = \"/home/galaxy/project/alleleSpecific_analysis/results/ASM/allelicEpigenome/ASM_2kb.bed\"\n",
    "df = pd.read_table(asm, header=None)\n",
    "df['s'] = df.iloc[:,1] - 1000\n",
    "df['e'] = df.iloc[:,1] + 1001\n",
    "df['chr'] = df.iloc[:,0]\n",
    "df['mark'] = df.iloc[:,3]\n",
    "df = df[['chr','s','e','mark']].drop_duplicates()\n",
    "df.to_csv(asm_region, sep=\"\\t\", header=False, index=False)"
   ]
  },
  {
   "cell_type": "code",
   "execution_count": 5,
   "metadata": {},
   "outputs": [],
   "source": [
    "awk '{OFS=\"\\t\"}{print $1, $2-250,$3+250}' ASM_control.bed > ASM_control.bed2\n",
    "awk '{OFS=\"\\t\"}{print $1, $2-250,$3+250}' ASM.bed > ASM.bed2"
   ]
  },
  {
   "cell_type": "code",
   "execution_count": 1,
   "metadata": {},
   "outputs": [
    {
     "data": {
      "text/plain": [
       "0"
      ]
     },
     "execution_count": 1,
     "metadata": {},
     "output_type": "execute_result"
    }
   ],
   "source": [
    "#### \n",
    "cg = \"/home/galaxy/project/alleleSpecific_analysis/data/hg19_genome/CG/CpG.position_hg19.bed\"\n",
    "#m6a_dir = \"/home/galaxy/project/alleleSpecific_analysis/results/ASE_analysis/readCount/Fisher_test/sig01/bed/extended_500bp/\"\n",
    "#m6a_list = glob.glob(\"%s/*.bed\" % m6a_dir)\n",
    "#for m6a in m6a_list:\n",
    "liver = \"/home/galaxy/project/alleleSpecific_analysis/results/ASE_analysis/readCount/Fisher_test/sig01/bed/extended_500bp/liver_IP_1.bed\"\n",
    "result_dir = \"/home/galaxy/project/alleleSpecific_analysis/results/ASM/corr_m6A/corr_results/plot_profile/direction/\"\n",
    "\n",
    "results = os.path.join(result_dir, \"overlap_cg_liver.txt\")\n",
    "os.system(\"bedtools intersect -a %s -b %s -wa -wb > %s\" % (liver, cg, results))"
   ]
  },
  {
   "cell_type": "code",
   "execution_count": null,
   "metadata": {},
   "outputs": [],
   "source": []
  }
 ],
 "metadata": {
  "kernelspec": {
   "display_name": "Python 3",
   "language": "python",
   "name": "python3"
  },
  "language_info": {
   "codemirror_mode": {
    "name": "ipython",
    "version": 3
   },
   "file_extension": ".py",
   "mimetype": "text/x-python",
   "name": "python",
   "nbconvert_exporter": "python",
   "pygments_lexer": "ipython3",
   "version": "3.7.2"
  }
 },
 "nbformat": 4,
 "nbformat_minor": 2
}
