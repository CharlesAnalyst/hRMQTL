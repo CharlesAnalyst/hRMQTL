{
 "cells": [
  {
   "cell_type": "code",
   "execution_count": 11,
   "metadata": {},
   "outputs": [],
   "source": [
    "# os.chdir(\"/home/galaxy/project/alleleSpecific_analysis/results/ASM/allelicEpigenome/\")\n",
    "os.chdir(\"/home/galaxy/project/alleleSpecific_analysis/results/ASM/allelicEpigenome/\")"
   ]
  },
  {
   "cell_type": "code",
   "execution_count": 2,
   "metadata": {},
   "outputs": [],
   "source": [
    "def create_index(in_file, key_word):\n",
    "    index_list = []\n",
    "    with open(in_file, 'r') as f:\n",
    "        t = f.readlines()\n",
    "        for i in range(len(t)):\n",
    "            line = t[i]\n",
    "            if key_word in line:\n",
    "                index_list.append(i)\n",
    "    return t, index_list"
   ]
  },
  {
   "cell_type": "code",
   "execution_count": null,
   "metadata": {},
   "outputs": [],
   "source": [
    "# t, index_list = create_index(\"AllelicEpigenome-sigOnly-AllDocs.json\", \"AllelicEpigenome-Variant\")"
   ]
  },
  {
   "cell_type": "code",
   "execution_count": 3,
   "metadata": {
    "collapsed": true
   },
   "outputs": [
    {
     "name": "stdout",
     "output_type": "stream",
     "text": [
      "AllelicEpigenome-chr2-AllDocs.json\n",
      "AllelicEpigenome-chr21-AllDocs.json\n",
      "AllelicEpigenome-chr13-AllDocs.json\n",
      "AllelicEpigenome-chr12-AllDocs.json\n",
      "AllelicEpigenome-chr14-AllDocs.json\n",
      "AllelicEpigenome-chr15-AllDocs.json\n",
      "AllelicEpigenome-chr18-AllDocs.json\n",
      "AllelicEpigenome-chr11-AllDocs.json\n",
      "AllelicEpigenome-chr5-AllDocs.json\n",
      "AllelicEpigenome-chr4-AllDocs.json\n",
      "AllelicEpigenome-chr8-AllDocs.json\n",
      "AllelicEpigenome-chr19-AllDocs.json\n",
      "AllelicEpigenome-chr10-AllDocs.json\n",
      "AllelicEpigenome-chr22-AllDocs.json\n",
      "AllelicEpigenome-chr17-AllDocs.json\n",
      "AllelicEpigenome-chr20-AllDocs.json\n",
      "AllelicEpigenome-chr9-AllDocs.json\n",
      "AllelicEpigenome-chr3-AllDocs.json\n",
      "AllelicEpigenome-chrX-AllDocs.json\n",
      "AllelicEpigenome-chr16-AllDocs.json\n",
      "AllelicEpigenome-chr1-AllDocs.json\n",
      "AllelicEpigenome-chrY-AllDocs.json\n",
      "AllelicEpigenome-chr7-AllDocs.json\n",
      "AllelicEpigenome-chr6-AllDocs.json\n"
     ]
    }
   ],
   "source": [
    "key_words = ['AllelicEpigenome-Variant','Chromosome','Position','Reference Allele','Alternative Allele', \n",
    "             'Ref Allele Unmethylated CpG Count','Ref Allele Methylated CpG Count', \n",
    "             'Alt Allele Unmethylated CpG Count','Alt Allele Methylated CpG Count', \n",
    "             'Tissue Identifier','Ref Allele Read Count','Alt Allele Read Count','Experiment Identifier']\n",
    "            # 'Methylation Difference','Raw P-value','FDR Corrected P-value',\n",
    "\n",
    "def process_sub(sub_text):\n",
    "    term_dict = {}\n",
    "    for y in key_words:\n",
    "        for i in range(len(sub_text)):\n",
    "            if y in sub_text[i]:\n",
    "                value = sub_text[i+1].split('\": \"')[1].split('\"')[0].strip()\n",
    "                if len(value) > 0:\n",
    "                    term_dict[y] = value\n",
    "    return term_dict\n",
    "\n",
    "json_list = glob.glob(\"AllelicEpigenome-chr*-AllDocs.json\")  # AllelicEpigenome-chr1-AllDocs.json\n",
    "for json in json_list:\n",
    "    print(json)\n",
    "    t, index_list = create_index(json, \"AllelicEpigenome-Variant\") # AllelicEpigenome-sigOnly-AllDocs.json\n",
    "    result_dict_list = []\n",
    "    for i in range(0, len(index_list)-1):\n",
    "        sub_text = [t[j] for j in range(index_list[i], index_list[i+1])]\n",
    "        sub_dict = process_sub(sub_text)\n",
    "        result_dict_list.append(sub_dict)\n",
    "    result_dict_list.append(process_sub([t[j] for j in range(index_list[-1],len(t))]))\n",
    "    # output\n",
    "    with open(json.replace(\"AllDocs.json\",\"results.txt\"), 'w') as fw:\n",
    "        fw.write(\"\\t\".join(key_words) + \"\\n\")\n",
    "        for i_dict in result_dict_list:\n",
    "            fw.write(\"\\t\".join([i_dict[x] if x in i_dict else \"\" for x in key_words]) + \"\\n\")"
   ]
  },
  {
   "cell_type": "code",
   "execution_count": 13,
   "metadata": {
    "collapsed": true
   },
   "outputs": [
    {
     "name": "stdout",
     "output_type": "stream",
     "text": [
      "[{'Experiment01': 'Whole Genome Sequencing'}, {'Experiment02': 'Bisulfite-Seq'}, {'Experiment03': 'Chromatin Accessibility'}, {'Experiment04': 'Digital Genomic Footprinting'}, {'Experiment05': 'Histone H2A.Z'}, {'Experiment06': 'Histone H2AK5ac'}, {'Experiment07': 'Histone H2AK9ac'}, {'Experiment08': 'Histone H2BK120ac'}, {'Experiment09': 'Histone H2BK12ac'}, {'Experiment10': 'Histone H2BK15ac'}, {'Experiment11': 'Histone H2BK20ac'}, {'Experiment12': 'Histone H2BK5ac'}, {'Experiment13': 'Histone H3K14ac'}, {'Experiment14': 'Histone H3K18ac'}, {'Experiment15': 'Histone H3K23ac'}, {'Experiment16': 'Histone H3K23me2'}, {'Experiment17': 'Histone H3K27ac'}, {'Experiment18': 'Histone H3K27me3'}, {'Experiment19': 'Histone H3K36me3'}, {'Experiment20': 'Histone H3K4ac'}, {'Experiment21': 'Histone H3K4me1'}, {'Experiment22': 'Histone H3K4me2'}, {'Experiment23': 'Histone H3K4me3'}, {'Experiment24': 'Histone H3K56ac'}, {'Experiment25': 'Histone H3K79me1'}, {'Experiment26': 'Histone H3K79me2'}, {'Experiment27': 'Histone H3K9ac'}, {'Experiment28': 'Histone H3K9me1'}, {'Experiment29': 'Histone H3K9me3'}, {'Experiment30': 'Histone H3T11ph'}, {'Experiment31': 'Histone H4K20me1'}, {'Experiment32': 'Histone H4K5ac'}, {'Experiment33': 'Histone H4K8ac'}, {'Experiment34': 'Histone H4K91ac'}, {'Experiment35': 'mRNA-Seq'}, {'Experiment36': 'smRNA-Seq'}]\n"
     ]
    }
   ],
   "source": [
    "# Extract experiment info\n",
    "asm_dir = \"/home/galaxy/project/alleleSpecific_analysis/results/ASM/allelicEpigenome/\"\n",
    "os.chdir(asm_dir)\n",
    "experiment_file = \"%s/AllelicEpigenome-Experiment.docs.json\" % asm_dir\n",
    "t, index_list = create_index(experiment_file, \"AllelicEpigenome-Experiment\")\n",
    "key_words = [\"AllelicEpigenome-Experiment\", \"Name\"]\n",
    "\n",
    "def process_sub(sub_text):\n",
    "    term_dict,value_list = {},[]\n",
    "    for y in key_words:\n",
    "        for i in range(len(sub_text)):\n",
    "            if y in sub_text[i]:\n",
    "                value = sub_text[i+1].split('\": \"')[1].split('\"')[0].strip()\n",
    "                value_list.append(value)\n",
    "                if len(value_list) == 2:\n",
    "                    term_dict[value_list[0]] = value_list[1]\n",
    "    return term_dict\n",
    "\n",
    "result_dict_list = []\n",
    "for i in range(0, len(index_list)-1):\n",
    "    sub_text = [t[j] for j in range(index_list[i], index_list[i+1])]\n",
    "    sub_dict = process_sub(sub_text)\n",
    "    result_dict_list.append(sub_dict)\n",
    "result_dict_list.append(process_sub([t[j] for j in range(index_list[-1],len(t))]))\n",
    "\n",
    "print(result_dict_list)\n",
    "with open(\"AllelicEpigenome-Experiment_results.txt\", 'w') as fw:\n",
    "    fw.write(\"\\t\".join(key_words) + \"\\n\")\n",
    "    for i_dict in result_dict_list:\n",
    "        fw.write(list(i_dict.keys())[0] + \"\\t\" + list(i_dict.values())[0] + \"\\n\")"
   ]
  },
  {
   "cell_type": "code",
   "execution_count": 10,
   "metadata": {},
   "outputs": [],
   "source": [
    "def process_experiment():\n",
    "    exp_file = \"AllelicEpigenome-Experiment_results.txt\"\n",
    "    df = pd.read_table(exp_file)\n",
    "    exp_dict = dict(zip(df['AllelicEpigenome-Experiment'], df['Name']))\n",
    "    return exp_dict\n",
    "\n",
    "def process_tissue():\n",
    "    index_list = []\n",
    "    with open(\"AllelicEpigenome-Tissue.docs.json\", 'r') as f:\n",
    "        t = f.readlines()\n",
    "        for i in range(len(t)):\n",
    "            line = t[i]\n",
    "            if \"AllelicEpigenome-Tissue\" in line:\n",
    "                index_list.append(i)\n",
    "    result_dict = {}\n",
    "    for i in index_list:\n",
    "        num, tissue = t[i+1].split('\": \"')[1].split('\"')[0], t[i+7].split('\": \"')[1].split('\"')[0]\n",
    "        result_dict[num] = tissue\n",
    "    return result_dict"
   ]
  },
  {
   "cell_type": "code",
   "execution_count": 12,
   "metadata": {},
   "outputs": [
    {
     "name": "stderr",
     "output_type": "stream",
     "text": [
      "/home/galaxy/anaconda3/lib/python3.7/site-packages/IPython/core/interactiveshell.py:2785: DtypeWarning: Columns (2,5,6,7,8,10,11) have mixed types. Specify dtype option on import or set low_memory=False.\n",
      "  interactivity=interactivity, compiler=compiler, result=result)\n"
     ]
    }
   ],
   "source": [
    "# replace\n",
    "tissue_dict = process_tissue()\n",
    "exp_dict = process_experiment()\n",
    "#\n",
    "# df = pd.read_table(\"AllelicEpigenome-sigOnly-AllDocs_results.txt\", sep=\"\\t\")\n",
    "df = pd.read_table(\"allchrs/merge/AllelicEpigenome-chr1-22.txt\", sep=\"\\t\")\n",
    "#\n",
    "raw_list = df['Tissue Identifier'].tolist()\n",
    "clean_list = [tissue_dict[x.split(\"/\")[-1]] if str(x).split(\"/\")[-1] in tissue_dict else np.nan for x in raw_list]\n",
    "df['Tissue Identifier'] = clean_list\n",
    "#\n",
    "raw_list = df['Experiment Identifier'].tolist()\n",
    "clean_list = [exp_dict[x.split(\"/\")[-1]] if str(x).split(\"/\")[-1] in exp_dict else np.nan for x in raw_list]\n",
    "df['Experiment Identifier'] = clean_list\n",
    "#\n",
    "df = df[df['Experiment Identifier'] == \"Bisulfite-Seq\"]\n",
    "#df.to_csv(\"AllelicEpigenome-sigOnly-AllDocs_final.txt\", sep=\"\\t\", index=False)\n",
    "df.to_csv(\"allchrs/merge/AllelicEpigenome-chr1-22.txt_final.txt\", sep=\"\\t\", index=False)"
   ]
  },
  {
   "cell_type": "code",
   "execution_count": 4,
   "metadata": {},
   "outputs": [],
   "source": [
    "# reformat\n",
    "os.chdir(\"/home/galaxy/project/alleleSpecific_analysis/results/ASM/allelicEpigenome/\")\n",
    "in_file = \"AllelicEpigenome-sigOnly-AllDocs_final.txt\"\n",
    "result_file = \"ASM.bed\"\n",
    "\n",
    "df = pd.read_table(in_file, sep=\"\\t\")\n",
    "df['foldchange'] = (df['Alt Allele Methylated CpG Count']/(df['Alt Allele Methylated CpG Count']+df['Alt Allele Unmethylated CpG Count']))/(df['Ref Allele Methylated CpG Count']/(df['Ref Allele Methylated CpG Count']+df['Ref Allele Unmethylated CpG Count']))\n",
    "df['mark'] = np.where(df['foldchange']>1, \"alt\", \"ref\")\n",
    "df = df[df['Experiment Identifier'] == \"Bisulfite-Seq\"]\n",
    "df_sub = df[['Chromosome', 'Position', 'Position', 'mark']]\n",
    "df_sub.to_csv(result_file, sep=\"\\t\", header=False,index=False)"
   ]
  },
  {
   "cell_type": "code",
   "execution_count": 1,
   "metadata": {},
   "outputs": [],
   "source": [
    "#### split by tissue"
   ]
  },
  {
   "cell_type": "code",
   "execution_count": 1,
   "metadata": {},
   "outputs": [],
   "source": [
    "# os.chdir(\"/home/galaxy/project/alleleSpecific_analysis/results/ASM/allelicEpigenome/allchrs/merge/\")\n",
    "# result_dir = \"by_tissue\"\n",
    "# in_file = \"AllelicEpigenome-chr1-22.final.txt\"\n",
    "# df = pd.read_table(in_file, sep=\"\\t\")\n",
    "# df = df[df['Experiment Identifier'] == \"Bisulfite-Seq\"] #\n",
    "\n",
    "# def write_to_file(df):\n",
    "#     tissue = df['Tissue Identifier'].tolist()[0].replace(\" \", \"-\").replace(\",\", \"\")\n",
    "#     result = os.path.join(result_dir, tissue+\".txt\")\n",
    "#     df.to_csv(result, sep=\"\\t\", index=False)\n",
    "    \n",
    "# df.groupby(['Tissue Identifier']).apply(write_to_file)\n",
    "\n",
    "# txt to bed\n",
    "# assign mark\n",
    "os.chdir(\"/home/galaxy/project/alleleSpecific_analysis/results/ASM/allelicEpigenome/by_tissue/\")\n",
    "result_dir = \"bed/\"\n",
    "txt_list = glob.glob(\"*.txt\")\n",
    "for txt in txt_list:\n",
    "    df = pd.read_table(txt)\n",
    "    df['foldchange'] = (df['Alt Allele Methylated CpG Count']/(df['Alt Allele Methylated CpG Count']+df['Alt Allele Unmethylated CpG Count']))/(df['Ref Allele Methylated CpG Count']/(df['Ref Allele Methylated CpG Count']+df['Ref Allele Unmethylated CpG Count']))\n",
    "    df['mark'] = np.where(df['foldchange']>1, \"alt\", \"ref\")\n",
    "    df['info'] = df['mark'] + \";\" + df['Reference Allele'] + \">\" + df['Alternative Allele']\n",
    "    df_sub = df[['Chromosome', 'Position', 'Position', 'info']]\n",
    "    df_sub.to_csv(os.path.join(result_dir,txt.replace(\".txt\",\".bed\")), sep=\"\\t\", header=False,index=False)"
   ]
  },
  {
   "cell_type": "code",
   "execution_count": 2,
   "metadata": {},
   "outputs": [],
   "source": [
    "# overlap with Coding and Non-coding region\n",
    "os.chdir(\"/home/galaxy/project/alleleSpecific_analysis/results/ASM/allelicEpigenome/by_tissue/bed/\")\n",
    "bed_list = glob.glob(\"*.bed\")\n",
    "coding_region = \"/home/galaxy/project/alleleSpecific_analysis/data/hg19_genome/coding_exon.bed\"\n",
    "gene = \"/home/galaxy/project/alleleSpecific_analysis/results/ASM/corr_m6A/gencode.v19.annotation_Gene.bed\"\n",
    "# \n",
    "os.system(\"mkdir -p Coding/overlap_Gene/\")\n",
    "os.system(\"mkdir -p Noncoding/overlap_Gene/\")\n",
    "for bed in bed_list:\n",
    "    res = \"Coding/%s\" % bed\n",
    "    os.system(\"bedtools intersect -a %s -b %s -wa | sort -u > %s\" % (bed, coding_region, res))\n",
    "    res_2 = \"Coding/overlap_Gene/%s\" % bed.replace(\".bed\", \".txt\")\n",
    "    os.system(\"bedtools intersect -a %s -b %s -wa -wb | sort -u > %s\" % (res, gene, res_2))\n",
    "    #\n",
    "    res = \"Noncoding/%s\" % bed\n",
    "    os.system(\"bedtools intersect -a %s -b %s -v -wa | sort -u > %s\" % (bed, coding_region, res))\n",
    "    res_2 = \"Noncoding/overlap_Gene/%s\" % bed.replace(\".bed\", \".txt\")\n",
    "    os.system(\"bedtools intersect -a %s -b %s -wa -wb | sort -u > %s\" % (res, gene, res_2))"
   ]
  },
  {
   "cell_type": "code",
   "execution_count": 4,
   "metadata": {},
   "outputs": [
    {
     "data": {
      "text/plain": [
       "30"
      ]
     },
     "execution_count": 4,
     "metadata": {},
     "output_type": "execute_result"
    }
   ],
   "source": [
    "len(bed_list)"
   ]
  },
  {
   "cell_type": "code",
   "execution_count": 3,
   "metadata": {},
   "outputs": [],
   "source": [
    "## extend arrounding 250bp\n",
    "os.chdir(\"/home/galaxy/project/alleleSpecific_analysis/results/ASE_analysis/readCount/Fisher_test/sig01/bed/\")\n",
    "bed_list = glob.glob(\"*.bed\")\n",
    "for bed in bed_list:\n",
    "    if os.path.getsize(bed):\n",
    "        # print(bed)\n",
    "        result = os.path.join(\"extended_500bp\", os.path.basename(bed))\n",
    "        df = pd.read_table(bed, header=None)\n",
    "        df.columns = ['a','b','c','d']\n",
    "        df['s'] = df.iloc[:,1] - 250\n",
    "        df['e'] = df.iloc[:,1] + 251\n",
    "        df['chr'] = df.iloc[:,0]\n",
    "        df = df[['chr','s','e','d']].drop_duplicates()\n",
    "        df.to_csv(result, sep=\"\\t\", header=False, index=False)"
   ]
  },
  {
   "cell_type": "code",
   "execution_count": null,
   "metadata": {},
   "outputs": [],
   "source": []
  }
 ],
 "metadata": {
  "kernelspec": {
   "display_name": "Python 3",
   "language": "python",
   "name": "python3"
  },
  "language_info": {
   "codemirror_mode": {
    "name": "ipython",
    "version": 3
   },
   "file_extension": ".py",
   "mimetype": "text/x-python",
   "name": "python",
   "nbconvert_exporter": "python",
   "pygments_lexer": "ipython3",
   "version": "3.7.2"
  }
 },
 "nbformat": 4,
 "nbformat_minor": 2
}
