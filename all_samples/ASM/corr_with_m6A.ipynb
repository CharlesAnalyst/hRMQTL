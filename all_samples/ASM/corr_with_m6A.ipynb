{
 "cells": [
  {
   "cell_type": "code",
   "execution_count": 1,
   "metadata": {},
   "outputs": [],
   "source": [
    "bed_dir = \"/home/galaxy/project/alleleSpecific_analysis/results/ASE_analysis/readCount/Fisher_test/sig/mark/\""
   ]
  },
  {
   "cell_type": "code",
   "execution_count": 2,
   "metadata": {},
   "outputs": [],
   "source": [
    "os.chdir(\"/home/galaxy/project/alleleSpecific_analysis/results/ASM/allelicEpigenome/\")\n",
    "\n",
    "m6a_list = glob.glob(\"%s/*.bed\" % bed_dir)\n",
    "asm_file = \"ASM.bed\"\n",
    "histone_file = \"Histone.bed\"\n",
    "for bed in m6a_list:\n",
    "    os.system(\"bedtools intersect -a %s -b %s -wa -wb > corr_result/ASM_%s\" % (bed, asm_file, os.path.basename(bed)))\n",
    "    os.system(\"bedtools intersect -a %s -b %s -wa -wb > corr_result/Histone_%s\" % (bed, histone_file, os.path.basename(bed)))"
   ]
  },
  {
   "cell_type": "code",
   "execution_count": 9,
   "metadata": {
    "collapsed": true
   },
   "outputs": [
    {
     "name": "stdout",
     "output_type": "stream",
     "text": [
      "ASM_CRR055529.bed\n",
      "ASM_CRR042294.bed\n",
      "ASM_CRR055531.bed\n",
      "ASM_CRR055557.bed\n",
      "ASM_CRR055543.bed\n",
      "ASM_CRR055563.bed\n",
      "ASM_lung_IP_4.bed\n",
      "ASM_CRR055537.bed\n",
      "ASM_CRR073018.bed\n",
      "ASM_CRR055545.bed\n",
      "ASM_kid_IP_4.bed\n",
      "ASM_CRR042310.bed\n",
      "ASM_CRR055549.bed\n",
      "ASM_CRR055547.bed\n",
      "ASM_sto_IP_4.bed\n",
      "ASM_heart_IP_1.bed\n",
      "ASM_pla_IP_6.bed\n",
      "ASM_pla_IP_4.bed\n",
      "ASM_kid_IP_3.bed\n",
      "ASM_CRR042312.bed\n",
      "ASM_CRR042298.bed\n",
      "ASM_CRR042282.bed\n",
      "ASM_CRR042290.bed\n",
      "ASM_CRR042278.bed\n",
      "ASM_lung_IP_5.bed\n",
      "ASM_CRR055525.bed\n",
      "ASM_pla_IP_2.bed\n",
      "ASM_CRR042318.bed\n",
      "ASM_liver_IP_2.bed\n",
      "ASM_CRR055539.bed\n",
      "ASM_CRR042284.bed\n",
      "ASM_CRR073016.bed\n",
      "ASM_liver_IP_3.bed\n",
      "ASM_heart_IP_2.bed\n",
      "ASM_CRR055551.bed\n",
      "ASM_kid_IP_2.bed\n",
      "ASM_CRR055553.bed\n",
      "ASM_CRR073020.bed\n",
      "ASM_CRR042304.bed\n",
      "ASM_heart_IP_3.bed\n",
      "ASM_mus_IP_5.bed\n",
      "ASM_CRR055541.bed\n",
      "ASM_CRR042314.bed\n",
      "ASM_CRR055536.bed\n",
      "ASM_brain_IP_2.bed\n",
      "ASM_CRR042280.bed\n",
      "ASM_CRR042306.bed\n",
      "ASM_brain_IP_1.bed\n",
      "ASM_CRR042292.bed\n",
      "ASM_liver_IP_1.bed\n",
      "ASM_CRR042288.bed\n",
      "ASM_CRR055527.bed\n",
      "ASM_CRR055555.bed\n",
      "ASM_CRR042320.bed\n",
      "ASM_CRR055533.bed\n",
      "ASM_CRR042300.bed\n",
      "ASM_CRR042316.bed\n",
      "ASM_brain_IP_3.bed\n",
      "ASM_sto_IP_5.bed\n",
      "ASM_CRR042296.bed\n",
      "ASM_mus_IP_4.bed\n",
      "ASM_CRR055559.bed\n",
      "ASM_CRR055561.bed\n",
      "ASM_CRR042308.bed\n",
      "ASM_CRR042286.bed\n",
      "ASM_CRR042302.bed\n"
     ]
    }
   ],
   "source": [
    "# summary results\n",
    "os.chdir(\"/home/galaxy/project/alleleSpecific_analysis/results/ASM/allelicEpigenome/corr_result/\")\n",
    "asm_list = glob.glob(\"ASM*.bed\")\n",
    "res = \"summary_stat.txt\"\n",
    "\n",
    "def process_file(infile):\n",
    "    if os.path.getsize(infile):\n",
    "        df = pd.read_table(infile, header=None)\n",
    "        df.columns = ['a','b','c','d','e','f','g','h']\n",
    "        df['d'],df['h'] = df['d'].str.lower(), df['h'].str.lower()\n",
    "        total_num = len(df)\n",
    "        same_num = len(df[df['d'] == df['h']])\n",
    "    else:\n",
    "        total_num, same_num = 0, 0\n",
    "    return total_num, same_num\n",
    "    \n",
    "with open(res, 'w') as fw:\n",
    "    fw.write(\"Sample\\tASM_totalNumber\\tASM_oppositeTrendNumber\\tHistone_totalNumber\\tHistone_oppositeTrendNumber\\n\")\n",
    "    for asm in asm_list:\n",
    "        print(asm)\n",
    "        total_num, same_num = process_file(asm)\n",
    "        hist = asm.replace(\"ASM\", 'Histone') \n",
    "        h_total_num, h_same_num = process_file(hist)\n",
    "        prefix = asm.split(\"ASM_\")[1].split(\".\")[0]\n",
    "        fw.write(\"%s\\t%s\\t%s\\t%s\\t%s\\n\" % (prefix, str(total_num), str(same_num), str(h_total_num), str(h_same_num)))"
   ]
  },
  {
   "cell_type": "markdown",
   "metadata": {},
   "source": [
    "####  tissue match"
   ]
  },
  {
   "cell_type": "code",
   "execution_count": 9,
   "metadata": {},
   "outputs": [],
   "source": [
    "m6a_dir=\"/home/galaxy/project/alleleSpecific_analysis/results/ASE_analysis/readCount/Fisher_test/sig01/bed/\"\n",
    "m6a_list = glob.glob(\"%s/*.bed\" % m6a_dir)\n",
    "asm_dir = \"/home/galaxy/project/alleleSpecific_analysis/results/ASM/allelicEpigenome/by_tissue/bed/\"\n",
    "asm_list = glob.glob(\"%s/*.bed\" % asm_dir)"
   ]
  },
  {
   "cell_type": "code",
   "execution_count": 6,
   "metadata": {},
   "outputs": [],
   "source": [
    "map_dict = {\n",
    "            \"Spleen.bed\": ['Spleen-1-1.bed','Spleen-2-1.bed','Spleen-3-2.bed'], \n",
    "            \"Sigmoid-Colon.bed\": ['Colon-3-2.bed'], \n",
    "            \"Lung.bed\": ['Lung-2-1.bed','Lung-2-4.bed','Lung-4-2.bed','Lung-4-4.bed','lung_IP_4.bed','lung_IP_5.bed'], \n",
    "            \"Left-Ventricle.bed\": ['Heart-1-1.bed','Heart-4-2.bed','heart_IP_1.bed','heart_IP_2.bed','heart_IP_3.bed'],\n",
    "            \"Esophagus.bed\": ['Esophagus-3-2.bed','Esophagus-4-2.bed'],\n",
    "            \"Brain-Cerebellum.bed\": ['Cerebellum-5-3.bed','Cerebellum-7-4.bed'],\n",
    "            \"Bladder.bed\": ['Urinary_bladder-2-1.bed','Urinary_bladder-5-3.bed'],\n",
    "            \"Aorta.bed\": ['Aorta-1-1.bed','Aorta-4-2.bed'],\n",
    "            \"Adult-Liver.bed\": ['Liver-4-2.bed','liver_IP_1.bed','liver_IP_2.bed','liver_IP_3.bed'],\n",
    "            \"Adrenal-Gland.bed\": ['Adrenal_gland-1-1.bed'],\n",
    "            \"Adipose-Tissue.bed\": ['Adipose-1-1.bed']\n",
    "           }"
   ]
  },
  {
   "cell_type": "code",
   "execution_count": 10,
   "metadata": {
    "collapsed": true
   },
   "outputs": [
    {
     "name": "stdout",
     "output_type": "stream",
     "text": [
      "Adipose-Tissue.bed Adipose-1-1.bed 0\n",
      "Aorta.bed Aorta-1-1.bed 0\n",
      "Aorta.bed Aorta-4-2.bed 0\n",
      "Sigmoid-Colon.bed Colon-3-2.bed 0\n",
      "Brain-Cerebellum.bed Cerebellum-5-3.bed 0\n",
      "Brain-Cerebellum.bed Cerebellum-7-4.bed 0\n",
      "Bladder.bed Urinary_bladder-2-1.bed 0\n",
      "Bladder.bed Urinary_bladder-5-3.bed 0\n",
      "Adrenal-Gland.bed Adrenal_gland-1-1.bed 0\n",
      "Left-Ventricle.bed Heart-1-1.bed 0\n",
      "Left-Ventricle.bed Heart-4-2.bed 0\n",
      "Left-Ventricle.bed heart_IP_1.bed 0\n",
      "Left-Ventricle.bed heart_IP_2.bed 0\n",
      "Left-Ventricle.bed heart_IP_3.bed 0\n",
      "Adult-Liver.bed Liver-4-2.bed 1\n",
      "Adult-Liver.bed liver_IP_1.bed 0\n",
      "Adult-Liver.bed liver_IP_2.bed 0\n",
      "Adult-Liver.bed liver_IP_3.bed 0\n",
      "Lung.bed Lung-2-1.bed 0\n",
      "Lung.bed Lung-2-4.bed 0\n",
      "Lung.bed Lung-4-2.bed 0\n",
      "Lung.bed Lung-4-4.bed 0\n",
      "Lung.bed lung_IP_4.bed 0\n",
      "Lung.bed lung_IP_5.bed 0\n",
      "Esophagus.bed Esophagus-3-2.bed 0\n",
      "Esophagus.bed Esophagus-4-2.bed 0\n",
      "Spleen.bed Spleen-1-1.bed 0\n",
      "Spleen.bed Spleen-2-1.bed 0\n",
      "Spleen.bed Spleen-3-2.bed 0\n"
     ]
    }
   ],
   "source": [
    "for asm in asm_list:\n",
    "    prefix = os.path.basename(asm)\n",
    "    if prefix in map_dict:\n",
    "        post_list = map_dict[prefix]\n",
    "        for post in post_list:\n",
    "            m6a = os.path.join(m6a_dir, post)\n",
    "            overlap = int(os.popen(\"bedtools intersect -a %s -b %s -wa | uniq | wc -l\" % (asm, m6a)).read().split()[0])\n",
    "            print(os.path.basename(asm), os.path.basename(m6a), overlap)"
   ]
  },
  {
   "cell_type": "code",
   "execution_count": null,
   "metadata": {},
   "outputs": [],
   "source": [
    "result_dir = \"/home/galaxy/project/alleleSpecific_analysis/results/ASM/corr_m6A/corr_results/within_sameGene/\"\n",
    "os.chdir(\"/home/galaxy/project/alleleSpecific_analysis/results/ASM/corr_m6A/DNA/asm_overlapping_Genes/\")\n",
    "bed_list = glob.glob(\"*.bed\")\n",
    "for asm in bed_list:\n",
    "    print(\"############### %s\" % asm)\n",
    "    asm_dict = generate_asm_dict(asm)\n",
    "    m6a_list = map_dict[os.path.basename(asm)]\n",
    "    for m6a in m6a_list:\n",
    "        result_file = os.path.join(result_dir, os.path.basename(m6a))\n",
    "        m6a_dict = generate_m6a_dict(os.path.join(m6a_dir,m6a))"
   ]
  },
  {
   "cell_type": "code",
   "execution_count": 82,
   "metadata": {},
   "outputs": [],
   "source": [
    "gene = \"/home/galaxy/project/alleleSpecific_analysis/results/ASM/corr_m6A/gencode.v19.annotation_Gene.bed\"\n",
    "#\n",
    "tmp_dir = \"%s/m6A_overlapping_Genes/\" % m6a_dir\n",
    "if not os.path.exists(tmp_dir):\n",
    "    os.mkdir(tmp_dir)\n",
    "for m6a in m6a_list:\n",
    "    tmp_file = os.path.join(tmp_dir, os.path.basename(m6a))\n",
    "    os.system(\"bedtools intersect -a %s -b %s -wa -wb | uniq > %s\" % (gene, m6a, tmp_file))\n",
    "#\n",
    "tmp_dir = \"%s/asm_overlapping_Genes/\" % asm_dir\n",
    "if not os.path.exists(tmp_dir):\n",
    "    os.mkdir(tmp_dir)\n",
    "for asm in asm_list:\n",
    "    tmp_file = os.path.join(tmp_dir, os.path.basename(asm))\n",
    "    os.system(\"bedtools intersect -a %s -b %s -wa -wb > %s\" % (gene, asm, tmp_file))"
   ]
  },
  {
   "cell_type": "code",
   "execution_count": 76,
   "metadata": {},
   "outputs": [],
   "source": [
    "def generate_m6a_dict(bed):\n",
    "    m6a_dict = {}\n",
    "    with open(bed, 'r') as f:\n",
    "        # print(bed)\n",
    "        for line in f.readlines():\n",
    "            gene, mark = line.split(\"\\t\")[3], line.strip().split(\"\\t\")[-1]\n",
    "            m6a_dict[gene] = m6a_dict.get(gene, []) + [mark]\n",
    "    # print(m)\n",
    "    # select the major type\n",
    "    for gene, values in m6a_dict.items():\n",
    "        # print(values)\n",
    "        if (len(values) <= 2) or (len(list(set(values)))==1):\n",
    "            m6a_dict[gene] = values[0]\n",
    "        else:\n",
    "            uniq_types = list(set(values))\n",
    "            # print(uniq_types)\n",
    "            assert len(uniq_types) == 2\n",
    "            one, two = [x for x in values if x == uniq_types[0]], [x for x in values if x == uniq_types[1]]\n",
    "            if len(one) > len(two):\n",
    "                m6a_dict[gene] = uniq_types[0]\n",
    "            else:\n",
    "                m6a_dict[gene] = uniq_types[1]\n",
    "    return m6a_dict\n",
    "    \n",
    "def generate_asm_dict(bed):\n",
    "    asm_dict = {}\n",
    "    with open(bed, 'r') as f:\n",
    "        for line in f.readlines():\n",
    "            gene, mark = line.split(\"\\t\")[3], line.strip().split(\"\\t\")[-1]\n",
    "            asm_dict[gene] = asm_dict.get(gene, []) + [mark]\n",
    "    return asm_dict"
   ]
  },
  {
   "cell_type": "code",
   "execution_count": 90,
   "metadata": {},
   "outputs": [
    {
     "name": "stdout",
     "output_type": "stream",
     "text": [
      "############### Cerebellum.bed\n",
      "############### Heart.bed\n",
      "############### Aorta.bed\n",
      "############### Colon.bed\n",
      "############### Bladder.bed\n",
      "############### Liver.bed\n",
      "############### Adrenal-Gland.bed\n",
      "############### Adipose.bed\n",
      "############### Lung.bed\n",
      "############### Esophagus.bed\n",
      "############### Spleen.bed\n"
     ]
    }
   ],
   "source": [
    "from collections import Counter\n",
    "m6a_dir = \"/home/galaxy/project/alleleSpecific_analysis/results/ASM/corr_m6A/m6A/sig01/m6A_overlapping_Genes/\"\n",
    "result_dir = \"/home/galaxy/project/alleleSpecific_analysis/results/ASM/corr_m6A/corr_results/within_sameGene/\"\n",
    "os.chdir(\"/home/galaxy/project/alleleSpecific_analysis/results/ASM/corr_m6A/DNA/asm_overlapping_Genes/\")\n",
    "bed_list = glob.glob(\"*.bed\")\n",
    "for asm in bed_list:\n",
    "    print(\"############### %s\" % asm)\n",
    "    asm_dict = generate_asm_dict(asm)\n",
    "    m6a_list = map_dict[os.path.basename(asm)]\n",
    "    for m6a in m6a_list:\n",
    "        result_file = os.path.join(result_dir, os.path.basename(m6a))\n",
    "        m6a_dict = generate_m6a_dict(os.path.join(m6a_dir,m6a))\n",
    "        with open(result_file, 'w') as fw:\n",
    "#         i,j=0,0\n",
    "            for gene, mark in m6a_dict.items():\n",
    "                if gene in asm_dict:\n",
    "#                     j += 1\n",
    "                    counter = Counter(asm_dict[gene])\n",
    "                    same_mark, oppo_mark = 0, 0\n",
    "                    if mark in counter:\n",
    "                        same_mark = counter[mark]\n",
    "                    oppo = [x for x in ['ref','alt'] if x != mark][0]\n",
    "                    if oppo in counter:\n",
    "                        oppo_mark = counter[oppo]\n",
    "#                     asm_mark = max(counter, key=counter.get)\n",
    "#                     if asm_mark == mark:\n",
    "#                         i+=1\n",
    "#         if j > 0:\n",
    "#             print(m6a, (i/j)*100)\n",
    "                    fw.write(\"%s\\t%s\\t%s\\t%s\\t%s\\n\" % (gene,mark,oppo_mark,same_mark,counter)) #max(counter, key=counter.get)"
   ]
  },
  {
   "cell_type": "code",
   "execution_count": 91,
   "metadata": {},
   "outputs": [
    {
     "name": "stdout",
     "output_type": "stream",
     "text": [
      "Lung-2-1.bed\n",
      "Ttest_relResult(statistic=1.9101436199010395, pvalue=0.07056073711714643)\n",
      "Lung-2-4.bed\n",
      "Ttest_relResult(statistic=0.5127945793954882, pvalue=0.6102666191176548)\n",
      "Esophagus-4-2.bed\n",
      "Ttest_relResult(statistic=0.3441573963964771, pvalue=0.7318057551945548)\n",
      "Adipose-1-1.bed\n",
      "Ttest_relResult(statistic=-0.26413527189768715, pvalue=0.7976245209721027)\n",
      "heart_IP_1.bed\n",
      "Ttest_relResult(statistic=-1.3024342895263585, pvalue=0.20918701150140612)\n",
      "heart_IP_3.bed\n",
      "Ttest_relResult(statistic=0.8215838362577492, pvalue=0.4273358616774501)\n",
      "lung_IP_5.bed\n",
      "Ttest_relResult(statistic=-0.7105927000672838, pvalue=0.4808480845626124)\n",
      "Cerebellum-7-4.bed\n",
      "Ttest_relResult(statistic=0.7905694150420947, pvalue=0.4650226382607572)\n",
      "Spleen-1-1.bed\n",
      "Ttest_relResult(statistic=1.4694996700908176, pvalue=0.1422029077444515)\n",
      "Adrenal_gland-1-1.bed\n",
      "Ttest_relResult(statistic=-0.20050987973118664, pvalue=0.8417277230544872)\n",
      "Lung-4-4.bed\n",
      "Ttest_relResult(statistic=0.9402009894445369, pvalue=0.35833234589103846)\n",
      "Colon-3-2.bed\n",
      "Ttest_relResult(statistic=-0.8353187637488687, pvalue=0.40511938577774864)\n",
      "Esophagus-3-2.bed\n",
      "Ttest_relResult(statistic=1.1817521563043483, pvalue=0.2412470694585835)\n",
      "liver_IP_2.bed\n",
      "Ttest_relResult(statistic=-0.21809006657807506, pvalue=0.8275047790376043)\n",
      "Aorta-4-2.bed\n",
      "Ttest_relResult(statistic=0.06614718083551417, pvalue=0.9473511398019145)\n",
      "Liver-4-2.bed\n",
      "Ttest_relResult(statistic=0.4242751838511144, pvalue=0.6716382775447439)\n",
      "liver_IP_1.bed\n",
      "Ttest_relResult(statistic=-2.3035133662430223, pvalue=0.021886645872327953)\n",
      "Urinary_bladder-5-3.bed\n",
      "Ttest_relResult(statistic=-inf, pvalue=0.0)\n",
      "heart_IP_2.bed\n",
      "Ttest_relResult(statistic=0.19557956467948942, pvalue=0.8468192987908582)\n",
      "bladder-5-3.bed\n",
      "Ttest_relResult(statistic=0.0, pvalue=1.0)\n",
      "liver_IP_3.bed\n",
      "Ttest_relResult(statistic=-1.3608675412631794, pvalue=0.17459427297944305)\n",
      "Cerebellum-5-3.bed\n",
      "Ttest_relResult(statistic=-0.2357022603955158, pvalue=0.8166542035684891)\n",
      "Heart-1-1.bed\n",
      "Ttest_relResult(statistic=0.19557956467948942, pvalue=0.8468192987908582)\n",
      "Spleen-2-1.bed\n",
      "Ttest_relResult(statistic=1.205804652943595, pvalue=0.228631423364204)\n",
      "Heart-4-2.bed\n",
      "Ttest_relResult(statistic=-0.2224970797449924, pvalue=0.8269281370241838)\n",
      "Aorta-1-1.bed\n",
      "Ttest_relResult(statistic=0.3294577821553521, pvalue=0.7422573663160051)\n",
      "lung_IP_4.bed\n",
      "Ttest_relResult(statistic=1.1060751336130572, pvalue=0.2717086305346145)\n",
      "Spleen-3-2.bed\n",
      "Ttest_relResult(statistic=-2.1746340635218475, pvalue=0.03136193247224203)\n",
      "Adrenal-gland-1-1.bed\n",
      "Ttest_relResult(statistic=0.9836119473502979, pvalue=0.32919169760178124)\n",
      "Lung-4-2.bed\n",
      "Ttest_relResult(statistic=-1.7117922064723672, pvalue=0.09185411678295015)\n"
     ]
    }
   ],
   "source": [
    "## paired t-test\n",
    "from scipy import stats\n",
    "data_dir = \"/home/galaxy/project/alleleSpecific_analysis/results/ASM/corr_m6A/corr_results/within_sameGene/\"\n",
    "bed_list = glob.glob(\"%s/*.bed\" % data_dir)\n",
    "for bed in bed_list:\n",
    "    if os.path.getsize(bed):\n",
    "        df = pd.read_table(bed, header=None, sep=\"\\t\")\n",
    "        print(os.path.basename(bed))\n",
    "        print(stats.ttest_rel(df.iloc[:,2], df.iloc[:,3]))"
   ]
  },
  {
   "cell_type": "code",
   "execution_count": 44,
   "metadata": {},
   "outputs": [],
   "source": [
    "#### surrounding 200bp"
   ]
  },
  {
   "cell_type": "code",
   "execution_count": 87,
   "metadata": {},
   "outputs": [],
   "source": [
    "m6a_dir = \"/home/galaxy/project/alleleSpecific_analysis/results/ASM/corr_m6A/m6A/sig01/\"\n",
    "bed_list = glob.glob(\"%s/*.bed\" % m6a_dir)\n",
    "result_dir = \"/home/galaxy/project/alleleSpecific_analysis/results/ASM/corr_m6A/m6A/sig01/surrounding_200bp/\"\n",
    "\n",
    "for x in bed_list:\n",
    "    df = pd.read_table(x, header=None)\n",
    "    df.columns = ['c', 's', 'e', 'm']\n",
    "    df['new_s'] = df['s'] - 1000\n",
    "    df['new_e'] = df['e'] + 1000\n",
    "    df_sub = df[['c','new_s','new_e','m']]\n",
    "    df_sub.to_csv(os.path.join(result_dir,os.path.basename(x)), sep=\"\\t\", header=False, index=False)"
   ]
  },
  {
   "cell_type": "code",
   "execution_count": 88,
   "metadata": {},
   "outputs": [
    {
     "name": "stdout",
     "output_type": "stream",
     "text": [
      "############### /home/galaxy/project/alleleSpecific_analysis/results/ASM/corr_m6A/DNA/Cerebellum.bed\n",
      "############### /home/galaxy/project/alleleSpecific_analysis/results/ASM/corr_m6A/DNA/Heart.bed\n",
      "############### /home/galaxy/project/alleleSpecific_analysis/results/ASM/corr_m6A/DNA/Aorta.bed\n",
      "############### /home/galaxy/project/alleleSpecific_analysis/results/ASM/corr_m6A/DNA/Colon.bed\n",
      "############### /home/galaxy/project/alleleSpecific_analysis/results/ASM/corr_m6A/DNA/Bladder.bed\n",
      "############### /home/galaxy/project/alleleSpecific_analysis/results/ASM/corr_m6A/DNA/Liver.bed\n",
      "############### /home/galaxy/project/alleleSpecific_analysis/results/ASM/corr_m6A/DNA/Adrenal-Gland.bed\n",
      "############### /home/galaxy/project/alleleSpecific_analysis/results/ASM/corr_m6A/DNA/Adipose.bed\n",
      "############### /home/galaxy/project/alleleSpecific_analysis/results/ASM/corr_m6A/DNA/Lung.bed\n",
      "############### /home/galaxy/project/alleleSpecific_analysis/results/ASM/corr_m6A/DNA/Esophagus.bed\n",
      "############### /home/galaxy/project/alleleSpecific_analysis/results/ASM/corr_m6A/DNA/Spleen.bed\n"
     ]
    }
   ],
   "source": [
    "m6a_dir = \"/home/galaxy/project/alleleSpecific_analysis/results/ASM/corr_m6A/m6A/sig01/surrounding_200bp/\"\n",
    "bed_list = glob.glob(\"%s/*.bed\" % m6a_dir)\n",
    "result_dir = \"/home/galaxy/project/alleleSpecific_analysis/results/ASM/corr_m6A/corr_results/within_200bp/\"\n",
    "asm_dir = \"/home/galaxy/project/alleleSpecific_analysis/results/ASM/corr_m6A/DNA/\"\n",
    "bed_list = glob.glob(\"%s/*.bed\" % asm_dir)\n",
    "for asm in bed_list:\n",
    "    print(\"############### %s\" % asm)\n",
    "    m6a_list = map_dict[os.path.basename(asm)]\n",
    "    m6a_list = [os.path.join(m6a_dir, x) for x in m6a_list]\n",
    "    for m6a in m6a_list:\n",
    "        result_file = os.path.join(result_dir, os.path.basename(m6a))\n",
    "        os.system(\"bedtools intersect -a %s -b %s -wa -wb > %s\" % (m6a, asm, result_file))"
   ]
  },
  {
   "cell_type": "code",
   "execution_count": 92,
   "metadata": {},
   "outputs": [],
   "source": [
    "#################################  ASM ##############################"
   ]
  },
  {
   "cell_type": "code",
   "execution_count": null,
   "metadata": {},
   "outputs": [],
   "source": []
  }
 ],
 "metadata": {
  "kernelspec": {
   "display_name": "Python 3",
   "language": "python",
   "name": "python3"
  },
  "language_info": {
   "codemirror_mode": {
    "name": "ipython",
    "version": 3
   },
   "file_extension": ".py",
   "mimetype": "text/x-python",
   "name": "python",
   "nbconvert_exporter": "python",
   "pygments_lexer": "ipython3",
   "version": "3.7.2"
  }
 },
 "nbformat": 4,
 "nbformat_minor": 2
}
