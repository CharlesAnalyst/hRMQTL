{
 "cells": [
  {
   "cell_type": "code",
   "execution_count": 3,
   "metadata": {},
   "outputs": [],
   "source": [
    "input_dir=\"/home/galaxy/project/m6AQTL/2019_10_10/transcriptome_snp/SNPiR/shell/all_samples/results/input_snp/\"\n",
    "ip_dir=\"/home/galaxy/project/m6AQTL/2019_10_10/transcriptome_snp/SNPiR/shell/all_samples/results/ip_bams/\"\n",
    "result_dir=\"/home/galaxy/project/m6AQTL/2019_10_10/transcriptome_snp/SNPiR/shell/all_samples/results/quantification/\"\n",
    "map_file = \"/home/galaxy/project/m6AQTL/2019_10_10/transcriptome_snp/SNPiR/shell/all_samples/results/ip_input.map\""
   ]
  },
  {
   "cell_type": "code",
   "execution_count": 19,
   "metadata": {},
   "outputs": [],
   "source": [
    "map_dict = {}\n",
    "with open(map_file, 'r') as f:\n",
    "    title = f.readline()\n",
    "    for line in f.readlines():\n",
    "        ip_srr, input_srr = line.split()[0].strip(), line.split()[1].strip()\n",
    "#         print(ip_srr, input_srr)\n",
    "        map_dict[ip_srr] = input_srr"
   ]
  },
  {
   "cell_type": "code",
   "execution_count": 20,
   "metadata": {},
   "outputs": [
    {
     "data": {
      "text/plain": [
       "'SRR1182589-90'"
      ]
     },
     "execution_count": 20,
     "metadata": {},
     "output_type": "execute_result"
    }
   ],
   "source": [
    "map_dict[\"SRR1182587-88\"]"
   ]
  },
  {
   "cell_type": "code",
   "execution_count": 23,
   "metadata": {},
   "outputs": [
    {
     "name": "stdout",
     "output_type": "stream",
     "text": [
      "/home/galaxy/project/m6AQTL/2019_10_10/transcriptome_snp/SNPiR/shell/all_samples/results/input_snp//SRR5080302/SRR5080302-dedupped.bam\n",
      "SRR5080308,SRR5080308,SRR5080308,m6A\n",
      "/home/galaxy/project/m6AQTL/2019_10_10/transcriptome_snp/SNPiR/shell/all_samples/results/input_snp//SRR1811016/SRR1811016-dedupped.bam\n",
      "SRR1811018,SRR1811018,SRR1811018,m6A\n",
      "/home/galaxy/project/m6AQTL/2019_10_10/transcriptome_snp/SNPiR/shell/all_samples/results/input_snp//SRR1811010/SRR1811010-dedupped.bam\n",
      "SRR1811012,SRR1811012,SRR1811012,m6A\n",
      "/home/galaxy/project/m6AQTL/2019_10_10/transcriptome_snp/SNPiR/shell/all_samples/results/input_snp//SRR1182602/SRR1182602-dedupped.bam\n",
      "SRR1182601,SRR1182601,SRR1182601,m6A\n",
      "/home/galaxy/project/m6AQTL/2019_10_10/transcriptome_snp/SNPiR/shell/all_samples/results/input_snp//SRR1182600/SRR1182600-dedupped.bam\n",
      "SRR1182599,SRR1182599,SRR1182599,m6A\n",
      "/home/galaxy/project/m6AQTL/2019_10_10/transcriptome_snp/SNPiR/shell/all_samples/results/input_snp//SRR1182598/SRR1182598-dedupped.bam\n",
      "SRR1182597,SRR1182597,SRR1182597,m6A\n",
      "/home/galaxy/project/m6AQTL/2019_10_10/transcriptome_snp/SNPiR/shell/all_samples/results/input_snp//SRR1182596/SRR1182596-dedupped.bam\n",
      "SRR1182595,SRR1182595,SRR1182595,m6A\n",
      "/home/galaxy/project/m6AQTL/2019_10_10/transcriptome_snp/SNPiR/shell/all_samples/results/input_snp//SRR1182589-90/SRR1182589-90-dedupped.bam\n",
      "SRR1182587-88,SRR1182587-88,SRR1182587-88,m6A\n",
      "/home/galaxy/project/m6AQTL/2019_10_10/transcriptome_snp/SNPiR/shell/all_samples/results/input_snp//SRR1182585-86/SRR1182585-86-dedupped.bam\n",
      "SRR1182582-84,SRR1182582-84,SRR1182582-84,m6A\n",
      "/home/galaxy/project/m6AQTL/2019_10_10/transcriptome_snp/SNPiR/shell/all_samples/results/input_snp//SRR5978890-96/SRR5978890-96-dedupped.bam\n",
      "SRR5978883-89,SRR5978883-89,SRR5978883-89,m6A\n",
      "/home/galaxy/project/m6AQTL/2019_10_10/transcriptome_snp/SNPiR/shell/all_samples/results/input_snp//SRR5978827-33/SRR5978827-33-dedupped.bam\n",
      "SRR5978834-40,SRR5978834-40,SRR5978834-40,m6A\n",
      "/home/galaxy/project/m6AQTL/2019_10_10/transcriptome_snp/SNPiR/shell/all_samples/results/input_snp//SRR4310473/SRR4310473-dedupped.bam\n",
      "SRR4310479,SRR4310479,SRR4310479,m6A\n",
      "/home/galaxy/project/m6AQTL/2019_10_10/transcriptome_snp/SNPiR/shell/all_samples/results/input_snp//SRR4042261/SRR4042261-dedupped.bam\n",
      "SRR4042267,SRR4042267,SRR4042267,m6A\n",
      "/home/galaxy/project/m6AQTL/2019_10_10/transcriptome_snp/SNPiR/shell/all_samples/results/input_snp//SRR2079369/SRR2079369-dedupped.bam\n",
      "SRR2079363-68,SRR2079363-68,SRR2079363-68,m6A\n",
      "/home/galaxy/project/m6AQTL/2019_10_10/transcriptome_snp/SNPiR/shell/all_samples/results/input_snp//SRR2079362/SRR2079362-dedupped.bam\n",
      "SRR2079356-61,SRR2079356-61,SRR2079356-61,m6A\n",
      "/home/galaxy/project/m6AQTL/2019_10_10/transcriptome_snp/SNPiR/shell/all_samples/results/input_snp//SRR2079355/SRR2079355-dedupped.bam\n",
      "SRR2079349-54,SRR2079349-54,SRR2079349-54,m6A\n",
      "/home/galaxy/project/m6AQTL/2019_10_10/transcriptome_snp/SNPiR/shell/all_samples/results/input_snp//SRR1777361/SRR1777361-dedupped.bam\n",
      "SRR1777362,SRR1777362,SRR1777362,m6A\n",
      "/home/galaxy/project/m6AQTL/2019_10_10/transcriptome_snp/SNPiR/shell/all_samples/results/input_snp//SRR1035215/SRR1035215-dedupped.bam\n",
      "SRR1035216,SRR1035216,SRR1035216,m6A\n",
      "/home/galaxy/project/m6AQTL/2019_10_10/transcriptome_snp/SNPiR/shell/all_samples/results/input_snp//SRR1035213/SRR1035213-dedupped.bam\n",
      "SRR1035214,SRR1035214,SRR1035214,m6A\n",
      "/home/galaxy/project/m6AQTL/2019_10_10/transcriptome_snp/SNPiR/shell/all_samples/results/input_snp//SRR1035219/SRR1035219-dedupped.bam\n",
      "SRR1035220,SRR1035220,SRR1035220,m6A\n",
      "/home/galaxy/project/m6AQTL/2019_10_10/transcriptome_snp/SNPiR/shell/all_samples/results/input_snp//SRR1035217/SRR1035217-dedupped.bam\n",
      "SRR1035218,SRR1035218,SRR1035218,m6A\n",
      "/home/galaxy/project/m6AQTL/2019_10_10/transcriptome_snp/SNPiR/shell/all_samples/results/input_snp//SRR494617/SRR494617-dedupped.bam\n",
      "SRR494618,SRR494618,SRR494618,m6A\n",
      "/home/galaxy/project/m6AQTL/2019_10_10/transcriptome_snp/SNPiR/shell/all_samples/results/input_snp//SRR494615/SRR494615-dedupped.bam\n",
      "SRR494616,SRR494616,SRR494616,m6A\n",
      "/home/galaxy/project/m6AQTL/2019_10_10/transcriptome_snp/SNPiR/shell/all_samples/results/input_snp//SRR494613/SRR494613-dedupped.bam\n",
      "SRR494614,SRR494614,SRR494614,m6A\n",
      "/home/galaxy/project/m6AQTL/2019_10_10/transcriptome_snp/SNPiR/shell/all_samples/results/input_snp//SRR5934172/SRR5934172-dedupped.bam\n",
      "SRR5934169,SRR5934169,SRR5934169,m6A\n",
      "/home/galaxy/project/m6AQTL/2019_10_10/transcriptome_snp/SNPiR/shell/all_samples/results/input_snp//SRR5573025/SRR5573025-dedupped.bam\n",
      "SRR5573023,SRR5573023,SRR5573023,m6A\n",
      "/home/galaxy/project/m6AQTL/2019_10_10/transcriptome_snp/SNPiR/shell/all_samples/results/input_snp//SRR456937/SRR456937-dedupped.bam\n",
      "SRR456936,SRR456936,SRR456936,m6A\n",
      "/home/galaxy/project/m6AQTL/2019_10_10/transcriptome_snp/SNPiR/shell/all_samples/results/input_snp//SRR7130875/SRR7130875-dedupped.bam\n",
      "SRR7130854,SRR7130854,SRR7130854,m6A\n",
      "/home/galaxy/project/m6AQTL/2019_10_10/transcriptome_snp/SNPiR/shell/all_samples/results/input_snp//SRR7130881/SRR7130881-dedupped.bam\n",
      "SRR7130859,SRR7130859,SRR7130859,m6A\n",
      "/home/galaxy/project/m6AQTL/2019_10_10/transcriptome_snp/SNPiR/shell/all_samples/results/input_snp//SRR7130884/SRR7130884-dedupped.bam\n",
      "SRR7130862,SRR7130862,SRR7130862,m6A\n",
      "/home/galaxy/project/m6AQTL/2019_10_10/transcriptome_snp/SNPiR/shell/all_samples/results/input_snp//SRR7130886/SRR7130886-dedupped.bam\n",
      "SRR7130864,SRR7130864,SRR7130864,m6A\n",
      "/home/galaxy/project/m6AQTL/2019_10_10/transcriptome_snp/SNPiR/shell/all_samples/results/input_snp//SRR7130889/SRR7130889-dedupped.bam\n",
      "SRR7130867,SRR7130867,SRR7130867,m6A\n",
      "/home/galaxy/project/m6AQTL/2019_10_10/transcriptome_snp/SNPiR/shell/all_samples/results/input_snp//SRR7130896/SRR7130896-dedupped.bam\n",
      "SRR7130874,SRR7130874,SRR7130874,m6A\n"
     ]
    }
   ],
   "source": [
    "def generate_designFile(ip_sample, input_sample):\n",
    "#     ip_sample = \"SRR1182587-88\"\n",
    "#     input_sample = 'SRR1182589-90'\n",
    "    ip_bam = \"{ip_dir}/{prefix}/{prefix}-dedupped.bam\".format(ip_dir=ip_dir, prefix=ip_sample)\n",
    "    input_bam = \"{input_dir}/{prefix}/{prefix}-dedupped.bam\".format(input_dir=input_dir, prefix=input_sample)\n",
    "    assert os.path.exists(ip_bam)\n",
    "    print(input_bam)\n",
    "    assert os.path.exists(input_bam)\n",
    "    sample_id, group = ip_sample, \"m6A\"\n",
    "    ip_rename = \"{sample_id}.ip_{group}.bam\".format(sample_id=sample_id, group=group)\n",
    "    input_rename = \"{sample_id}.input_{group}.bam\".format(sample_id=sample_id, group=group)\n",
    "    os.system(\"ln -s %s %s\" % (ip_bam, os.path.join(result_dir, ip_rename)))\n",
    "    os.system(\"ln -s %s %s\" % (input_bam, os.path.join(result_dir, input_rename)))\n",
    "    design_line = \"%s,%s,%s,%s\" % (sample_id, input_rename.split(\".\")[0], ip_rename.split(\".\")[0], group)\n",
    "    print(design_line)\n",
    "    return design_line\n",
    "\n",
    "os.chdir(result_dir)\n",
    "with open(\"design_allsamples.csv\", 'w') as fw:\n",
    "    fw.write(\"Sample_ID,input_FileName,ip_FileName,Group\\n\")\n",
    "    for i_key, i_value in map_dict.items():\n",
    "        ip_sample, input_sample = i_key, i_value\n",
    "        i_line = generate_designFile(ip_sample, input_sample)\n",
    "        fw.write(i_line + \"\\n\")"
   ]
  }
 ],
 "metadata": {
  "kernelspec": {
   "display_name": "Python 3",
   "language": "python",
   "name": "python3"
  },
  "language_info": {
   "codemirror_mode": {
    "name": "ipython",
    "version": 3
   },
   "file_extension": ".py",
   "mimetype": "text/x-python",
   "name": "python",
   "nbconvert_exporter": "python",
   "pygments_lexer": "ipython3",
   "version": "3.7.2"
  }
 },
 "nbformat": 4,
 "nbformat_minor": 2
}
