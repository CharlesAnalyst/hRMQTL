{
 "cells": [
  {
   "cell_type": "code",
   "execution_count": 1,
   "metadata": {},
   "outputs": [],
   "source": [
    "import os\n",
    "import glob\n",
    "import math\n",
    "import pandas as pd\n",
    "import numpy as np"
   ]
  },
  {
   "cell_type": "code",
   "execution_count": 2,
   "metadata": {},
   "outputs": [],
   "source": [
    "data_dir = \"/home/galaxy/project/m6AQTL/data/data_for_website/final_data/search_by_QTL/formatted_result\"\n",
    "file_list = glob.glob(\"%s/*QTL.txt\" % data_dir)\n",
    "result_dir = \"/home/galaxy/project/m6AQTL/data/data_for_website/final_data/search_by_QTL/ID_files\"\n",
    "id_dict = {\n",
    "    \"eQTL\": [10, 1, 2],\n",
    "    \"meQTL\": [11, 2, 4],\n",
    "    \"pQTL\": [12, 2, 3],\n",
    "    \"sQTL\": [13, 3, 5],\n",
    "    \"circQTL\": [14, 1, 3],\n",
    "    \"GWAS\": [9, 1],\n",
    "    \"clinvar\": [8, 1],\n",
    "    \"COSMIC\": [-1, 1]\n",
    "}"
   ]
  },
  {
   "cell_type": "code",
   "execution_count": 5,
   "metadata": {},
   "outputs": [],
   "source": [
    "def assign_id(qtl_name, in_list):\n",
    "    if \"QTL\" in qtl_name:\n",
    "        pos_list = id_dict[qtl_name]\n",
    "        gene_index, snp_index = pos_list[1], pos_list[2]\n",
    "        df = pd.DataFrame()\n",
    "        df[\"Term\"] = in_list\n",
    "        df[\"Position\"] = [x.split(\"|\")[0] if str(x).startswith(\"chr\") else \"NA\" for x in in_list]\n",
    "#         df[\"Gene\"] = [\"NA\" if str(x) == \"nan\" else str(x).split(\"|\")[gene_index] for x in in_list]\n",
    "#         df[\"SNP\"] = [\"NA\" if str(x) == \"nan\" else str(x).split(\"|\")[snp_index] for x in in_list]\n",
    "        df = df.sort_values([\"Position\"]).drop_duplicates()\n",
    "        del df[\"Position\"]  #\n",
    "        df[\"ID\"] = [\"%s_ID_%s\" % (qtl_name, str(num).zfill(len(str(len(df))))) for num in range(1, len(df)+1)]\n",
    "        df.to_csv(\"%s/%s_id.txt\" % (result_dir, qtl_name), sep=\"\\t\", index=False)"
   ]
  },
  {
   "cell_type": "code",
   "execution_count": 6,
   "metadata": {},
   "outputs": [
    {
     "name": "stdout",
     "output_type": "stream",
     "text": [
      "pQTL\n",
      "meQTL\n",
      "circQTL\n",
      "eQTL\n",
      "sQTL\n"
     ]
    }
   ],
   "source": [
    "for file in file_list:\n",
    "    name = os.path.basename(file).split(\".txt\")[0]\n",
    "    print(name)\n",
    "    df = pd.read_table(file, sep=\"\\t\")\n",
    "    columns = df.columns\n",
    "    qtl_col = [x for x in columns if x.split(\"_\")[0] == name][0]\n",
    "    term_list = df[qtl_col].tolist()\n",
    "    assign_id(name, term_list)"
   ]
  }
 ],
 "metadata": {
  "kernelspec": {
   "display_name": "Python 3",
   "language": "python",
   "name": "python3"
  },
  "language_info": {
   "codemirror_mode": {
    "name": "ipython",
    "version": 3
   },
   "file_extension": ".py",
   "mimetype": "text/x-python",
   "name": "python",
   "nbconvert_exporter": "python",
   "pygments_lexer": "ipython3",
   "version": "3.6.7"
  }
 },
 "nbformat": 4,
 "nbformat_minor": 2
}
