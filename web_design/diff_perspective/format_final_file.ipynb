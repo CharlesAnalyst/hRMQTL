{
 "cells": [
  {
   "cell_type": "code",
   "execution_count": 1,
   "metadata": {},
   "outputs": [],
   "source": [
    "import os\n",
    "import re\n",
    "import sys\n",
    "import glob\n",
    "import time\n",
    "import numpy as np\n",
    "import pandas as pd"
   ]
  },
  {
   "cell_type": "code",
   "execution_count": 2,
   "metadata": {},
   "outputs": [],
   "source": [
    "data_dir = \"/home/galaxy/project/m6AQTL/data/data_for_website/final_data/search_by_QTL/raw_result\"\n",
    "data_list = [x for x in glob.glob(\"%s/*.txt\" % data_dir) if \"QTL.txt\" not in x] ## modified ##\n",
    "result_dir = \"/home/galaxy/project/m6AQTL/data/data_for_website/final_data/search_by_QTL/formatted_result\""
   ]
  },
  {
   "cell_type": "code",
   "execution_count": 3,
   "metadata": {},
   "outputs": [
    {
     "name": "stdout",
     "output_type": "stream",
     "text": [
      "['/home/galaxy/project/m6AQTL/data/data_for_website/final_data/search_by_QTL/raw_result/clinvar.txt', '/home/galaxy/project/m6AQTL/data/data_for_website/final_data/search_by_QTL/raw_result/COSMIC.txt', '/home/galaxy/project/m6AQTL/data/data_for_website/final_data/search_by_QTL/raw_result/GWAS.txt']\n"
     ]
    }
   ],
   "source": [
    "print(data_list)"
   ]
  },
  {
   "cell_type": "code",
   "execution_count": 4,
   "metadata": {},
   "outputs": [],
   "source": [
    "def merge_multi_into_oneline(df):\n",
    "#     print(df.head())\n",
    "    merged_array, term_list = [], []\n",
    "    columns = df.columns\n",
    "    for i_col in columns:\n",
    "        if (\"m6A_Peak#\" in i_col) or (\"PseudoU_Peak#\" in i_col) or (\"m5C_Peak#\" in i_col):\n",
    "            term_list.append(\"?\".join(list(set(df[i_col].tolist()))))\n",
    "        else:\n",
    "            term_list.append(\"@\".join(list(set(df[i_col].tolist()))))\n",
    "    merged_array.append(term_list)\n",
    "    df_result = pd.DataFrame(merged_array, columns=columns)\n",
    "    return df_result"
   ]
  },
  {
   "cell_type": "code",
   "execution_count": 5,
   "metadata": {},
   "outputs": [],
   "source": [
    "def keep_the_col_same(df):\n",
    "    order_col = ['ID',\n",
    "     'm6A_Peak#ID#Conservation score#Spectrum width score#Gene_Name|Ensembl_Gene_ID|Gene_Type|Strand|Supported_sample(s)|PubmedID|source|Tissue',\n",
    "     'PseudoU_Peak#ID#Conservation score#Spectrum width score#Gene_Name|Ensembl_Gene_ID|Gene_Type|Strand|Supported_sample(s)|PubmedID|source|Tissue',\n",
    "     'm5C_Peak#ID#Conservation score#Spectrum width score#Gene_Name|Ensembl_Gene_ID|Gene_Type|Strand|Supported_sample(s)|PubmedID|source|Tissue',\n",
    "     'eQTL_Position|eQTL_Gene_Name|eQTL_RS_ID|eQTL_eQTL_type|eQTL_Pvalue|eQTL_Cell_or_tissue|eQTL_Condition|eQTL_PubMed_ID',\n",
    "     'meQTL_Position|meQTL_Gene_Name|meQTL_ID|meQTL_Probe_Name|meQTL_RS_ID|meQTL_meQTL_type|meQTL_Pvalue|meQTL_Cell_or_tissue|meQTL_Condition|meQTL_PubMed_ID',\n",
    "     'pQTL_Position|pQTL_Gene_Name|pQTL_Uniprot_ID|pQTL_RS_ID|pQTL_pQTL_type|pQTL_Pvalue|pQTL_Cell_or_tissue|pQTL_Condition|pQTL_PubMed_ID',\n",
    "     'sQTL_Position|sQTL_Gene_Name|sQTL_Splicing_sites_Position|sQTL_Splicing_ID|sQTL_Event_type|sQTL_RS_ID|sQTL_sQTL_type|sQTL_Pvalue|sQTL_Cell_or_tissue|sQTL_Condition|sQTL_PubMed_ID',\n",
    "     'circQTL_Position|circQTL_Gene_Name|circQTL_circRNA_ID|circQTL_RS_ID|circQTL_circQTL_type|circQTL_Pvalue|circQTL_Cell_or_tissue|circQTL_Condition|circQTL_PubMed_ID',\n",
    "     'GWAS_Position|GWAS_Rs_ID|GWAS_Pubmed_ID|GWAS_Disease/Trait|GWAS_P_value|GWAS_Database|GWAS_Type|GWAS_TagSNP',\n",
    "     'clinvar_Position|clinvar_rs_ID|clinvar_Significant|clinvar_Disease(s)|clinvar_Accession|clinvar_Study_name|clinvar_Review_status',\n",
    "     'COSMIC_Position|COSMIC_RS_ID|COSMIC_Gene_name|COSMIC_Primary_site|COSMIC_Mutation_Description|COSMIC_Mutation_zygosity|COSMIC_FATHMM_prediction|COSMIC_Pubmed_ID',\n",
    "     'RBP_Position|RBP_RBP|RBP_Species|RBP_Database|RBP_Study',\n",
    "     'splicing_sites_Gene_ID|splicing_sites_Gene_Name|splicing_sites_Gene_Type|splicing_sites_Genomic_location|splicing_sites_Splicing_Site|splicing_sites_Relative_Position',\n",
    "     'miRNA_Position|miRNA_Strand|miRNA_miRNA-RNA|miRNA_Target_RNA|miRNA_Target_RNA_Type|miRNA_Method|miRNA_Source']\n",
    "    col_list = df.columns\n",
    "#     five_qlt_cols = [x for x in col_list if \"QTL\" not in x]  #### modify #### \n",
    "#     print(len(five_qlt_cols))\n",
    "    first_col, second_col = col_list[0], col_list[1]\n",
    "    new_first_col = \"|\".join([\"_\".join(x.split(\"_\")[1:]) for x in first_col.split(\"|\")])\n",
    "    df = df.rename(index=str, columns={first_col: new_first_col})\n",
    "#     remain_cols = col_list[2:]\n",
    "#     lost_col = [x for x in five_qlt_cols if x not in remain_cols][0]\n",
    "    lost_col = col_list[0]\n",
    "    print(lost_col)\n",
    "    df[lost_col] = \"NA\"\n",
    "    df_new = pd.DataFrame()\n",
    "    for x in ([new_first_col]+order_col):\n",
    "        df_new[x] = df[x]\n",
    "    return df_new"
   ]
  },
  {
   "cell_type": "code",
   "execution_count": 6,
   "metadata": {},
   "outputs": [
    {
     "name": "stdout",
     "output_type": "stream",
     "text": [
      "/home/galaxy/project/m6AQTL/data/data_for_website/final_data/search_by_QTL/raw_result/clinvar.txt\n"
     ]
    },
    {
     "name": "stderr",
     "output_type": "stream",
     "text": [
      "/home/galaxy/anaconda3/lib/python3.6/site-packages/IPython/core/interactiveshell.py:3020: DtypeWarning: Columns (3,4,9) have mixed types. Specify dtype option on import or set low_memory=False.\n",
      "  interactivity=interactivity, compiler=compiler, result=result)\n"
     ]
    },
    {
     "name": "stdout",
     "output_type": "stream",
     "text": [
      "clinvar_Position|clinvar_rs_ID|clinvar_Significant|clinvar_Disease(s)|clinvar_Accession|clinvar_Study_name|clinvar_Review_status\n",
      "/home/galaxy/project/m6AQTL/data/data_for_website/final_data/search_by_QTL/raw_result/COSMIC.txt\n"
     ]
    },
    {
     "name": "stderr",
     "output_type": "stream",
     "text": [
      "/home/galaxy/anaconda3/lib/python3.6/site-packages/IPython/core/interactiveshell.py:3020: DtypeWarning: Columns (4) have mixed types. Specify dtype option on import or set low_memory=False.\n",
      "  interactivity=interactivity, compiler=compiler, result=result)\n"
     ]
    },
    {
     "name": "stdout",
     "output_type": "stream",
     "text": [
      "COSMIC_Position|COSMIC_RS_ID|COSMIC_Gene_name|COSMIC_Primary_site|COSMIC_Mutation_Description|COSMIC_Mutation_zygosity|COSMIC_FATHMM_prediction|COSMIC_Pubmed_ID\n",
      "/home/galaxy/project/m6AQTL/data/data_for_website/final_data/search_by_QTL/raw_result/GWAS.txt\n"
     ]
    },
    {
     "name": "stderr",
     "output_type": "stream",
     "text": [
      "/home/galaxy/anaconda3/lib/python3.6/site-packages/IPython/core/interactiveshell.py:3020: DtypeWarning: Columns (3,4,5,6,8,9,11,13,14) have mixed types. Specify dtype option on import or set low_memory=False.\n",
      "  interactivity=interactivity, compiler=compiler, result=result)\n"
     ]
    },
    {
     "name": "stdout",
     "output_type": "stream",
     "text": [
      "GWAS_Position|GWAS_Rs_ID|GWAS_Pubmed_ID|GWAS_Disease/Trait|GWAS_P_value|GWAS_Database|GWAS_Type|GWAS_TagSNP\n"
     ]
    }
   ],
   "source": [
    "for x in data_list:\n",
    "    print(x)\n",
    "    result_file = os.path.join(result_dir, os.path.basename(x))\n",
    "    df = pd.read_table(x, sep=\"\\t\")\n",
    "    df = df.fillna(\"NA\").replace(\"clinvar_\", \"ClinVar_\")\n",
    "    col_name = df.columns[0]\n",
    "    prefix = col_name.split(\"_\")[0]\n",
    "    # GWAS, ClinVar and COSMIC\n",
    "    if (\"TagSNP\" in col_name) or (\"Disease(s)\" in col_name) or (\"Primary_site\" in col_name):\n",
    "        df.insert(loc=0, column=\"Disease\", value=[x.split(\"|\")[3] for x in df[col_name]])\n",
    "        col_name = \"Disease\"\n",
    "    df_final = df.groupby([col_name]).apply(merge_multi_into_oneline)\n",
    "    if \"Disease\" in df_final.columns:\n",
    "        del df_final[\"Disease\"]\n",
    "        df_final[\"ID\"] = [\"%s_ID_%s\" % (prefix, str(num).zfill(len(str(len(df_final))))) for num in range(1, len(df_final)+1)]\n",
    "    df_final = keep_the_col_same(df_final)\n",
    "    df_final.to_csv(result_file, sep=\"\\t\", index=False)"
   ]
  }
 ],
 "metadata": {
  "kernelspec": {
   "display_name": "Python 3",
   "language": "python",
   "name": "python3"
  },
  "language_info": {
   "codemirror_mode": {
    "name": "ipython",
    "version": 3
   },
   "file_extension": ".py",
   "mimetype": "text/x-python",
   "name": "python",
   "nbconvert_exporter": "python",
   "pygments_lexer": "ipython3",
   "version": "3.6.7"
  }
 },
 "nbformat": 4,
 "nbformat_minor": 2
}
