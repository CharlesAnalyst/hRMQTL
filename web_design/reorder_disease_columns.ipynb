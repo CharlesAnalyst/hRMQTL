{
 "cells": [
  {
   "cell_type": "code",
   "execution_count": 36,
   "metadata": {},
   "outputs": [],
   "source": [
    "import os\n",
    "import re\n",
    "import sys\n",
    "import glob\n",
    "import time\n",
    "import numpy as np\n",
    "import pandas as pd"
   ]
  },
  {
   "cell_type": "code",
   "execution_count": null,
   "metadata": {},
   "outputs": [],
   "source": [
    "# Function: to keep the order of terms in detail columns same across GWAS, ClinVar and COSMIC."
   ]
  },
  {
   "cell_type": "code",
   "execution_count": 37,
   "metadata": {},
   "outputs": [
    {
     "name": "stdout",
     "output_type": "stream",
     "text": [
      "['/home/galaxy/project/m6AQTL/data/data_for_website/final_data/search_by_QTL/formatted_result/clinvar.txt', '/home/galaxy/project/m6AQTL/data/data_for_website/final_data/search_by_QTL/formatted_result/COSMIC.txt', '/home/galaxy/project/m6AQTL/data/data_for_website/final_data/search_by_QTL/formatted_result/GWAS.txt']\n"
     ]
    }
   ],
   "source": [
    "result_dir = \"/home/galaxy/project/m6AQTL/data/data_for_website/final_data/search_by_QTL/formatted_result/reorder_disease\"\n",
    "data_dir = \"/home/galaxy/project/m6AQTL/data/data_for_website/final_data/search_by_QTL/formatted_result/\"\n",
    "data_list = [x for x in glob.glob(\"%s/*.txt\" % data_dir) if \"QTL\" not in os.path.basename(x)] ## modified \n",
    "print(data_list)"
   ]
  },
  {
   "cell_type": "code",
   "execution_count": 48,
   "metadata": {},
   "outputs": [],
   "source": [
    "def get_orginal_1st(in_file, out_file):\n",
    "#     os.system(\"cut -f 1 %s > %s\" % (in_file, out_file))\n",
    "    df = pd.read_table(in_file, sep=\"\\t\")\n",
    "    orginal_col, result_list = df.iloc[:, 0].tolist(), []\n",
    "    if os.path.basename(in_file).startswith(\"GWAS\"):\n",
    "        new_col = \"Position|RS_ID|Gene_Name|Disease/Trait|Pubmed_ID|P_value|Database|Type|TagSNP\"\n",
    "        result_list.append(new_col)\n",
    "        for x in orginal_col:\n",
    "            line_list = []\n",
    "            for y in x.split(\"@\"):\n",
    "                a = y.split(\"|\")\n",
    "                line_list.append(\"|\".join([a[0], a[1], \"NA\", a[3], a[2], a[4], a[5], a[6], a[7]]))\n",
    "            line_result = \"@\".join(line_list)\n",
    "            result_list.append(line_result)\n",
    "    elif os.path.basename(in_file).startswith(\"COSMIC\"):\n",
    "        new_col = \"Position|RS_ID|Gene_Name|Disease/Trait|Mutation_Description|Mutation_zygosity|FATHMM_prediction|Pubmed_ID\"\n",
    "        result_list.append(new_col)\n",
    "        for x in orginal_col:\n",
    "            line_list = []\n",
    "            for y in x.split(\"@\"):\n",
    "                a = y.split(\"|\")\n",
    "                line_list.append(\"|\".join([a[0], a[1], a[2], a[3], a[4], a[5], a[6], a[7]]))\n",
    "            line_result = \"@\".join(line_list)\n",
    "            result_list.append(line_result)\n",
    "    else:\n",
    "        new_col = \"Position|RS_ID|Gene_Name|Disease/Trait|Significant|Accession|Study_name|Review_status\"\n",
    "        result_list.append(new_col)\n",
    "        for x in orginal_col:\n",
    "            line_list = []\n",
    "            for y in x.split(\"@\"):\n",
    "                a = y.split(\"|\")\n",
    "                line_list.append(\"|\".join([a[0], a[1], \"NA\", a[3], a[2], a[4], a[5], a[6]]))\n",
    "            line_result = \"@\".join(line_list)\n",
    "            result_list.append(line_result)\n",
    "    with open(out_file, 'w') as fw:\n",
    "        fw.writelines([\"%s\\n\" % x.strip() for x in result_list])\n",
    "#     return out_file\n",
    "        \n",
    "def replace_specific_col(file_1, file_2, out_file):\n",
    "#     file_1 = '\"%s\"' % file_1\n",
    "#     print(\"awk '{t=$0;getline<%s;$1=t}1' %s > %s\" % (file_1, file_2, out_file))\n",
    "#     os.system(\"awk '{t=$0;getline<%s;$1=t}1' %s > %s\" % (file_1, file_2, out_file)) \n",
    "    df_new = pd.read_table(file_2, sep=\"\\t\")\n",
    "    new_col, new_list = df_new.columns[0], df_new.iloc[:, 0]\n",
    "    # ####\n",
    "    df = pd.read_table(file_1, sep=\"\\t\")\n",
    "    print(len(df), len(new_list))\n",
    "    print(len(df.columns))\n",
    "    df.iloc[:, 0] = new_list\n",
    "    print(len(df.columns))\n",
    "#     print(len([new_col] + df.columns[1: ]))\n",
    "#     print(len(df.columns))\n",
    "    df.rename(columns={df.columns[0]: df_new.columns[0]}, inplace=True)\n",
    "    df.to_csv(out_file, sep=\"\\t\", index=False)"
   ]
  },
  {
   "cell_type": "code",
   "execution_count": 49,
   "metadata": {},
   "outputs": [
    {
     "name": "stdout",
     "output_type": "stream",
     "text": [
      "clinvar.txt\n",
      "2159 2159\n",
      "16\n",
      "16\n",
      "COSMIC.txt\n",
      "39 39\n",
      "16\n",
      "16\n",
      "GWAS.txt\n",
      "1237 1237\n",
      "16\n",
      "16\n"
     ]
    }
   ],
   "source": [
    "for disease in data_list:\n",
    "    basen = os.path.basename(disease)\n",
    "    print(basen)\n",
    "    tmp_file, result_file = os.path.join(result_dir, \"tmp-%s\" % basen), os.path.join(result_dir, basen)\n",
    "    get_orginal_1st(disease, tmp_file)\n",
    "    replace_specific_col(disease, tmp_file, result_file)"
   ]
  },
  {
   "cell_type": "code",
   "execution_count": 26,
   "metadata": {},
   "outputs": [
    {
     "name": "stdout",
     "output_type": "stream",
     "text": [
      "awk '{t=$0;getline<\"/home/galaxy/project/m6AQTL/data/data_for_website/final_data/search_by_QTL/formatted_result/test/test1.txt\";$1=t}1' /home/galaxy/project/m6AQTL/data/data_for_website/final_data/search_by_QTL/formatted_result/test/test2.txt > /home/galaxy/project/m6AQTL/data/data_for_website/final_data/search_by_QTL/formatted_result/test/test3.txt\n"
     ]
    }
   ],
   "source": [
    "### For test\n",
    "# test_1 = \"/home/galaxy/project/m6AQTL/data/data_for_website/final_data/search_by_QTL/formatted_result/test/test1.txt\"\n",
    "# test_2 = \"/home/galaxy/project/m6AQTL/data/data_for_website/final_data/search_by_QTL/formatted_result/test/test2.txt\"\n",
    "# test_3 = \"/home/galaxy/project/m6AQTL/data/data_for_website/final_data/search_by_QTL/formatted_result/test/test3.txt\"\n",
    "# test_1 = '\"%s\"' % test_1\n",
    "# replace_specific_col(test_1, test_2, test_3)"
   ]
  },
  {
   "cell_type": "code",
   "execution_count": null,
   "metadata": {},
   "outputs": [],
   "source": []
  }
 ],
 "metadata": {
  "kernelspec": {
   "display_name": "Python 3",
   "language": "python",
   "name": "python3"
  },
  "language_info": {
   "codemirror_mode": {
    "name": "ipython",
    "version": 3
   },
   "file_extension": ".py",
   "mimetype": "text/x-python",
   "name": "python",
   "nbconvert_exporter": "python",
   "pygments_lexer": "ipython3",
   "version": "3.6.7"
  }
 },
 "nbformat": 4,
 "nbformat_minor": 2
}
