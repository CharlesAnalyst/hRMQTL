{
 "cells": [
  {
   "cell_type": "code",
   "execution_count": 1,
   "metadata": {},
   "outputs": [],
   "source": [
    "import os\n",
    "import glob\n",
    "import pandas as pd"
   ]
  },
  {
   "cell_type": "code",
   "execution_count": 6,
   "metadata": {},
   "outputs": [],
   "source": [
    "def pick_out_specific_cols(in_list, index_list):\n",
    "    result_list = []\n",
    "    for x in in_list:\n",
    "        tmp_list = []\n",
    "        for y in x.split(\"@\"):\n",
    "            term_list = y.split(\"|\")\n",
    "            if len(term_list) < 16:\n",
    "                print(x)\n",
    "                print(y)\n",
    "                sys.exit(1)\n",
    "            tmp_list.append(\"|\".join([term_list[i] for i in index_list]))\n",
    "        new_x = \"@\".join(tmp_list)\n",
    "        result_list.append(new_x)\n",
    "    return result_list"
   ]
  },
  {
   "cell_type": "code",
   "execution_count": 9,
   "metadata": {},
   "outputs": [
    {
     "name": "stdout",
     "output_type": "stream",
     "text": [
      "/home/galaxy/project/m6AQTL/data/data_for_website/final_data/ID_index/tmp_dir/GWAS.txt\n",
      "/home/galaxy/project/m6AQTL/data/data_for_website/final_data/ID_index/tmp_dir/ClinVar.txt\n",
      "/home/galaxy/project/m6AQTL/data/data_for_website/final_data/ID_index/tmp_dir/COSMIC.txt\n"
     ]
    }
   ],
   "source": [
    "out_dir = \"/home/galaxy/project/m6AQTL/data/data_for_website/final_data/ID_index\"\n",
    "in_dir = \"/home/galaxy/project/m6AQTL/data/data_for_website/final_data/ID_index/tmp_dir\"\n",
    "file_list = [os.path.join(in_dir, \"GWAS.txt\"), os.path.join(in_dir, \"ClinVar.txt\"), os.path.join(in_dir, \"COSMIC.txt\")]\n",
    "disease_dict = {\"GWAS\": [0,1,2,3,4,5,6,7,8], \"COSMIC\": [0,1,2,3,9,10,11,12], \"ClinVar\": [0,1,2,3,13,14,15,4]}\n",
    "for x in file_list:\n",
    "    print(x)\n",
    "#     if os.path.basename(x) == \"ClinVar.txt\":\n",
    "    result_file = os.path.join(out_dir, os.path.basename(x))\n",
    "    df = pd.read_table(x, sep=\"\\t\", na_filter = False)\n",
    "    raw_values = df.iloc[:, 0].tolist()\n",
    "    i_list = disease_dict[os.path.basename(x).split(\".\")[0]]\n",
    "    new_values = pick_out_specific_cols(raw_values, i_list)\n",
    "    new_col = \"|\".join([df.columns[0].split(\"|\")[x] for x in i_list])\n",
    "    df = df.rename(columns={df.columns[0]: new_col})\n",
    "    df[new_col] = new_values\n",
    "    df.to_csv(result_file, sep=\"\\t\", index=False)"
   ]
  },
  {
   "cell_type": "code",
   "execution_count": null,
   "metadata": {},
   "outputs": [],
   "source": []
  }
 ],
 "metadata": {
  "kernelspec": {
   "display_name": "Python 3",
   "language": "python",
   "name": "python3"
  },
  "language_info": {
   "codemirror_mode": {
    "name": "ipython",
    "version": 3
   },
   "file_extension": ".py",
   "mimetype": "text/x-python",
   "name": "python",
   "nbconvert_exporter": "python",
   "pygments_lexer": "ipython3",
   "version": "3.6.7"
  }
 },
 "nbformat": 4,
 "nbformat_minor": 2
}
