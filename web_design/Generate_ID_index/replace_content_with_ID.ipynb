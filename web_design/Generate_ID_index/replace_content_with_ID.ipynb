{
 "cells": [
  {
   "cell_type": "code",
   "execution_count": 1,
   "metadata": {},
   "outputs": [],
   "source": [
    "import os\n",
    "import glob\n",
    "import pandas as pd"
   ]
  },
  {
   "cell_type": "code",
   "execution_count": 2,
   "metadata": {},
   "outputs": [
    {
     "name": "stdout",
     "output_type": "stream",
     "text": [
      "18\n",
      "['/home/galaxy/project/m6AQTL/data/data_for_website/final_data/ID_index/bigtable/m5C.txt', '/home/galaxy/project/m6AQTL/data/data_for_website/final_data/ID_index/bigtable/m7G.txt', '/home/galaxy/project/m6AQTL/data/data_for_website/final_data/ID_index/bigtable/Nm.txt', '/home/galaxy/project/m6AQTL/data/data_for_website/final_data/ID_index/bigtable/m6A.txt', '/home/galaxy/project/m6AQTL/data/data_for_website/final_data/ID_index/bigtable/m6Am.txt', '/home/galaxy/project/m6AQTL/data/data_for_website/final_data/ID_index/bigtable/ClinVar.txt', '/home/galaxy/project/m6AQTL/data/data_for_website/final_data/ID_index/bigtable/RNA_Editing.txt', '/home/galaxy/project/m6AQTL/data/data_for_website/final_data/ID_index/bigtable/m1A.txt', '/home/galaxy/project/m6AQTL/data/data_for_website/final_data/ID_index/bigtable/pQTL.txt', '/home/galaxy/project/m6AQTL/data/data_for_website/final_data/ID_index/bigtable/meQTL.txt', '/home/galaxy/project/m6AQTL/data/data_for_website/final_data/ID_index/bigtable/COSMIC.txt', '/home/galaxy/project/m6AQTL/data/data_for_website/final_data/ID_index/bigtable/pseudoU.txt', '/home/galaxy/project/m6AQTL/data/data_for_website/final_data/ID_index/bigtable/GWAS.txt', '/home/galaxy/project/m6AQTL/data/data_for_website/final_data/ID_index/bigtable/circQTL.txt', '/home/galaxy/project/m6AQTL/data/data_for_website/final_data/ID_index/bigtable/eQTL.txt', '/home/galaxy/project/m6AQTL/data/data_for_website/final_data/ID_index/bigtable/sQTL.txt']\n"
     ]
    }
   ],
   "source": [
    "id_dir = \"/home/galaxy/project/m6AQTL/data/data_for_website/final_data/ID_index/ID_table\"\n",
    "map_dir = \"/home/galaxy/project/m6AQTL/data/data_for_website/final_data/ID_index/bigtable\"\n",
    "result_dir = \"/home/galaxy/project/m6AQTL/data/data_for_website/final_data/ID_index/Mapping_table/RNA_modification\"\n",
    "id_list = glob.glob(\"%s/*\" % id_dir)\n",
    "map_list = glob.glob(\"%s/*.txt\" % map_dir)\n",
    "print(len(id_list))\n",
    "print(map_list)"
   ]
  },
  {
   "cell_type": "code",
   "execution_count": 3,
   "metadata": {},
   "outputs": [],
   "source": [
    "id_dict = {}\n",
    "for id_file in id_list:\n",
    "    df = pd.read_table(id_file, sep=\"\\t\", na_filter = False)\n",
    "    id_dict[os.path.basename(id_file).split(\".\")[0]] = dict(zip(df.iloc[:, 0], df.iloc[:, 1]))"
   ]
  },
  {
   "cell_type": "code",
   "execution_count": 4,
   "metadata": {},
   "outputs": [],
   "source": [
    "def replace_content(in_list, map_dict):\n",
    "    reversed_map = {v: k for k, v in map_dict.items()}\n",
    "    result_list = []\n",
    "    for line in in_list:\n",
    "        new_line = \"!!!!!!!!!!!!!!!!!!!!!!!\"\n",
    "        if line == \"NA\":\n",
    "            new_line = \"NA\"\n",
    "        else:\n",
    "            term_list, new_list = line.split(\"@\"), []\n",
    "            for term in term_list:\n",
    "                if term == \"NA\":\n",
    "                    new_list.append(\"NA\")\n",
    "                elif term in reversed_map:\n",
    "                    new_list.append(reversed_map[term])\n",
    "                else:\n",
    "                    print(term)\n",
    "            new_line = \"@\".join(new_list)\n",
    "        result_list.append(new_line)\n",
    "    return result_list"
   ]
  },
  {
   "cell_type": "code",
   "execution_count": 5,
   "metadata": {},
   "outputs": [],
   "source": [
    "def replace_content_withoutsplit(in_list, map_dict):\n",
    "    reversed_map = {v: k for k, v in map_dict.items()}\n",
    "    result_list = []\n",
    "    for line in in_list:\n",
    "        new_line = \"!!!!!!!!!!!!!!!!!!!!!!!\"\n",
    "        if line == \"NA\":\n",
    "            new_line = \"NA\"\n",
    "        elif line in reversed_map:\n",
    "            new_line = reversed_map[line]\n",
    "        else:\n",
    "            print(line)\n",
    "        result_list.append(new_line)\n",
    "    return result_list"
   ]
  },
  {
   "cell_type": "code",
   "execution_count": 6,
   "metadata": {},
   "outputs": [],
   "source": [
    "def split_first_column(df):\n",
    "    # split @joint ID to single ID\n",
    "    final_columns, final_array = df.columns, []\n",
    "    for i_index, values in df.iterrows():\n",
    "        term_id, others = values[0], values[1:].tolist()\n",
    "        for x in term_id.split(\"@\"):\n",
    "            new_list = [x] + others\n",
    "            final_array.append(new_list)\n",
    "    df_result = pd.DataFrame(final_array, columns=final_columns)\n",
    "    return df_result"
   ]
  },
  {
   "cell_type": "code",
   "execution_count": 7,
   "metadata": {},
   "outputs": [
    {
     "name": "stdout",
     "output_type": "stream",
     "text": [
      "m5C\n",
      "m7G\n",
      "Nm\n",
      "m6A\n",
      "m6Am\n",
      "ClinVar\n",
      "RNA Editing\n",
      "m1A\n",
      "pQTL\n",
      "meQTL\n",
      "COSMIC\n",
      "pseudoU\n",
      "GWAS\n",
      "circQTL\n",
      "eQTL\n",
      "sQTL\n"
     ]
    }
   ],
   "source": [
    "modification_list = [\"m1A\", \"m5C\", \"m6A\", \"m7G\", \"m6Am\", \"RNA Editing\", \"pseudoU\", \"Nm\"]\n",
    "disease_list = [\"GWAS\", \"COSMIC\", \"ClinVar\"]\n",
    "columns = pd.read_table(os.path.join(map_dir, \"eQTL.txt\"), sep=\"\\t\", na_filter=False).columns\n",
    "for map_file in map_list:\n",
    "    prefix = os.path.basename(map_file).split(\".\")[0].replace(\"_\", \" \")\n",
    "#     if prefix not in disease_list:\n",
    "    print(prefix)\n",
    "    df_map = pd.read_table(map_file, sep=\"\\t\", na_filter=False)\n",
    "    first_col, remaining_cols, first_values = df_map.columns[0], list(df_map.columns[1:]), df_map.iloc[:, 0]\n",
    "    new_contents = []\n",
    "    if prefix in modification_list:\n",
    "        new_contents = replace_content_withoutsplit(first_values, id_dict[prefix])\n",
    "    else:\n",
    "        new_contents = replace_content(first_values, id_dict[prefix])\n",
    "    df_map[first_col] = new_contents\n",
    "    for col in remaining_cols:\n",
    "        new_contents, feature = [], col.split(\"_\")[0]\n",
    "        if feature == prefix:\n",
    "            new_contents = [\"NA\" for i in range(len(df_map))]\n",
    "        elif feature in modification_list:\n",
    "            new_contents = replace_content_withoutsplit(df_map[col], id_dict[feature])\n",
    "        else:\n",
    "            new_contents = replace_content(df_map[col], id_dict[feature])\n",
    "        df_map[col] = new_contents\n",
    "    result_file = os.path.join(result_dir, os.path.basename(map_file))\n",
    "    if prefix not in modification_list:\n",
    "        df_map = split_first_column(df_map)\n",
    "    df_map.to_csv(result_file, sep=\"\\t\", index=False)"
   ]
  },
  {
   "cell_type": "code",
   "execution_count": null,
   "metadata": {},
   "outputs": [],
   "source": []
  }
 ],
 "metadata": {
  "kernelspec": {
   "display_name": "Python 3",
   "language": "python",
   "name": "python3"
  },
  "language_info": {
   "codemirror_mode": {
    "name": "ipython",
    "version": 3
   },
   "file_extension": ".py",
   "mimetype": "text/x-python",
   "name": "python",
   "nbconvert_exporter": "python",
   "pygments_lexer": "ipython3",
   "version": "3.6.7"
  }
 },
 "nbformat": 4,
 "nbformat_minor": 2
}
