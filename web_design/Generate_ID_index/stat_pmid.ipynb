{
 "cells": [
  {
   "cell_type": "code",
   "execution_count": 1,
   "metadata": {},
   "outputs": [],
   "source": [
    "import os\n",
    "import glob\n",
    "import pandas as pd"
   ]
  },
  {
   "cell_type": "code",
   "execution_count": 2,
   "metadata": {},
   "outputs": [
    {
     "name": "stdout",
     "output_type": "stream",
     "text": [
      "['/home/galaxy/project/m6AQTL/data/RNA_modifications/m5C.txt', '/home/galaxy/project/m6AQTL/data/RNA_modifications/m7G.txt', '/home/galaxy/project/m6AQTL/data/RNA_modifications/Nm.txt', '/home/galaxy/project/m6AQTL/data/RNA_modifications/m6A.txt', '/home/galaxy/project/m6AQTL/data/RNA_modifications/m6Am.txt', '/home/galaxy/project/m6AQTL/data/RNA_modifications/RNA_Editing.txt', '/home/galaxy/project/m6AQTL/data/RNA_modifications/m1A.txt', '/home/galaxy/project/m6AQTL/data/RNA_modifications/pseudoU.txt']\n"
     ]
    }
   ],
   "source": [
    "modification_dir = \"/home/galaxy/project/m6AQTL/data/RNA_modifications\"\n",
    "file_list = glob.glob(\"%s/*.txt\" % modification_dir)\n",
    "print(file_list)"
   ]
  },
  {
   "cell_type": "code",
   "execution_count": 3,
   "metadata": {},
   "outputs": [
    {
     "name": "stdout",
     "output_type": "stream",
     "text": [
      "m5C.txt\n",
      "['23604283', '23118480', '31358969', '31061524', '23118484']\n",
      "m7G.txt\n",
      "['31031084']\n",
      "Nm.txt\n",
      "['28504680']\n",
      "m6A.txt\n",
      "['28637692', '29902206', '28965759', '26404942', '30232453', '30154548', '28344040', '29249359', '27572442', '24209618', '25611135', '31036937', '28920958', '26121403', '29109479', '27117702', '26458103', '29476152', '29186125', '28297667', '28017614', '30048615', '29290617']\n",
      "m6Am.txt\n",
      "['28002401', '31279658']\n",
      "RNA_Editing.txt\n",
      "['30587120', '27587585', '28258159', '29527417', '30290838', '30104667']\n",
      "m1A.txt\n",
      "['26863196', '29072297', '26863410']\n",
      "pseudoU.txt\n",
      "['16381836', '25192136', '26075521', '23118484', '25219674']\n"
     ]
    }
   ],
   "source": [
    "for x in file_list:\n",
    "    print(os.path.basename(x))\n",
    "    id_list = []\n",
    "    term_list = list(set(pd.read_table(x, sep=\"\\t\").iloc[:, 3].tolist()))\n",
    "    for x in term_list:\n",
    "        for y in x.split(\"@\"):\n",
    "            id_list.append(y.split(\"|\")[-4])\n",
    "    final_list = []\n",
    "    for x in id_list:\n",
    "        final_list += str(x).split(\",\")\n",
    "    print(list(set(final_list)))"
   ]
  }
 ],
 "metadata": {
  "kernelspec": {
   "display_name": "Python 3",
   "language": "python",
   "name": "python3"
  },
  "language_info": {
   "codemirror_mode": {
    "name": "ipython",
    "version": 3
   },
   "file_extension": ".py",
   "mimetype": "text/x-python",
   "name": "python",
   "nbconvert_exporter": "python",
   "pygments_lexer": "ipython3",
   "version": "3.6.7"
  }
 },
 "nbformat": 4,
 "nbformat_minor": 2
}
