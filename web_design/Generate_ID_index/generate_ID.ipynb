{
 "cells": [
  {
   "cell_type": "code",
   "execution_count": 1,
   "metadata": {},
   "outputs": [],
   "source": [
    "import os\n",
    "import sys\n",
    "import glob\n",
    "import pandas as pd"
   ]
  },
  {
   "cell_type": "code",
   "execution_count": 2,
   "metadata": {},
   "outputs": [
    {
     "name": "stdout",
     "output_type": "stream",
     "text": [
      "['/home/galaxy/project/m6AQTL/data/data_for_website/final_data/ID_index/bigtable/m5C.txt', '/home/galaxy/project/m6AQTL/data/data_for_website/final_data/ID_index/bigtable/m7G.txt', '/home/galaxy/project/m6AQTL/data/data_for_website/final_data/ID_index/bigtable/Nm.txt', '/home/galaxy/project/m6AQTL/data/data_for_website/final_data/ID_index/bigtable/m6A.txt', '/home/galaxy/project/m6AQTL/data/data_for_website/final_data/ID_index/bigtable/m6Am.txt', '/home/galaxy/project/m6AQTL/data/data_for_website/final_data/ID_index/bigtable/ClinVar.txt', '/home/galaxy/project/m6AQTL/data/data_for_website/final_data/ID_index/bigtable/RNA_Editing.txt', '/home/galaxy/project/m6AQTL/data/data_for_website/final_data/ID_index/bigtable/m1A.txt', '/home/galaxy/project/m6AQTL/data/data_for_website/final_data/ID_index/bigtable/pQTL.txt', '/home/galaxy/project/m6AQTL/data/data_for_website/final_data/ID_index/bigtable/meQTL.txt', '/home/galaxy/project/m6AQTL/data/data_for_website/final_data/ID_index/bigtable/COSMIC.txt', '/home/galaxy/project/m6AQTL/data/data_for_website/final_data/ID_index/bigtable/pseudoU.txt', '/home/galaxy/project/m6AQTL/data/data_for_website/final_data/ID_index/bigtable/GWAS.txt', '/home/galaxy/project/m6AQTL/data/data_for_website/final_data/ID_index/bigtable/circQTL.txt', '/home/galaxy/project/m6AQTL/data/data_for_website/final_data/ID_index/bigtable/eQTL.txt', '/home/galaxy/project/m6AQTL/data/data_for_website/final_data/ID_index/bigtable/sQTL.txt']\n",
      "16\n"
     ]
    }
   ],
   "source": [
    "result_dir = \"/home/galaxy/project/m6AQTL/data/data_for_website/final_data/ID_index/ID_table\"\n",
    "map_dir = \"/home/galaxy/project/m6AQTL/data/data_for_website/final_data/ID_index/bigtable\"\n",
    "map_list = glob.glob(\"%s/*.txt\" % map_dir)\n",
    "print(map_list)\n",
    "print(len(map_list))"
   ]
  },
  {
   "cell_type": "code",
   "execution_count": 6,
   "metadata": {},
   "outputs": [
    {
     "name": "stdout",
     "output_type": "stream",
     "text": [
      "m1A\n",
      "m5C\n",
      "m6A\n",
      "m6Am\n",
      "m7G\n",
      "Nm\n",
      "pseudoU\n",
      "RNA Editing\n",
      "eQTL\n",
      "meQTL\n",
      "pQTL\n",
      "sQTL\n",
      "circQTL\n",
      "ClinVar\n",
      "GWAS\n",
      "COSMIC\n",
      "RBP\n",
      "miRNA\n"
     ]
    }
   ],
   "source": [
    "content_dict = {}\n",
    "columns = pd.read_table([x for x in map_list if os.path.basename(x).startswith(\"eQTL\")][0], sep=\"\\t\", na_filter = False).columns\n",
    "prefix_list = [x.split(\"_\")[0] for x in columns[1:]]\n",
    "for prefix in prefix_list:\n",
    "    prefix = \" \".join(prefix.split(\"_\"))\n",
    "    print(prefix)\n",
    "    get_all_records(prefix, map_list)"
   ]
  },
  {
   "cell_type": "code",
   "execution_count": 4,
   "metadata": {},
   "outputs": [],
   "source": [
    "def generate_id_index(col_name, in_list):\n",
    "    prefix = col_name.split(\"_\")[0]\n",
    "    in_list = sorted(list(set(in_list)))\n",
    "    if \"NA\" in in_list:\n",
    "        in_list.remove(\"NA\")\n",
    "    result_file = os.path.join(result_dir, \"%s.txt\" % prefix)\n",
    "    id_list = [\"%s_ID_%s\" % (prefix, str(num).zfill(len(str(len(in_list))))) for num in range(1, len(in_list)+1)]\n",
    "    assert len(in_list) == len(id_list)\n",
    "    new_list = [\"%s\\t%s\\n\" % (id_list[i], in_list[i]) for i in range(len(in_list))]\n",
    "    with open(result_file, 'w') as fw:\n",
    "        fw.write(\"ID\\t%s\\n\" % col_name)\n",
    "        fw.writelines(new_list)"
   ]
  },
  {
   "cell_type": "code",
   "execution_count": 16,
   "metadata": {},
   "outputs": [],
   "source": [
    "# def pick_out_specific_cols(in_list, index_list):\n",
    "#     result_list = []\n",
    "#     for x in in_list:\n",
    "#         tmp_list = []\n",
    "#         for y in x.split(\"@\"):\n",
    "#             term_list = y.split(\"|\")\n",
    "#             tmp_list.append(\"|\".join([term_list[i] for i in index_list]))\n",
    "#         new_x = \"@\".join(tmp_list)\n",
    "#         result_list.append(new_x)\n",
    "#     return result_list"
   ]
  },
  {
   "cell_type": "code",
   "execution_count": 5,
   "metadata": {},
   "outputs": [],
   "source": [
    "def get_all_records(prefix, map_list):\n",
    "    columns = pd.read_table([x for x in map_list if \"eQTL\" in os.path.basename(x)][0], sep=\"\\t\").columns\n",
    "    disease_dict = {\"GWAS\": [0,1,2,3,4,5,6,7,8], \"COSMIC\": [0,1,2,3,9,10,11,12], \"ClinVar\": [0,1,2,3,13,14,15,4]}\n",
    "    col = [x for x in columns if x.startswith(prefix)][0]\n",
    "    result_list, content_list = [], []\n",
    "    for map_file in map_list:\n",
    "        i_prefix = os.path.basename(map_file).split(\".txt\")[0]\n",
    "        if i_prefix == prefix:\n",
    "            df = pd.read_table(map_file, sep=\"\\t\", na_filter = False)\n",
    "            content_list = list(set(df.iloc[:, 0].tolist()))\n",
    "#             if prefix in disease_dict:\n",
    "#                 content_list = pick_out_specific_cols(content_list, disease_dict[prefix])\n",
    "        else:\n",
    "            df = pd.read_table(map_file, sep=\"\\t\", na_filter = False)\n",
    "            if col in df.columns:\n",
    "                content_list = list(set(df[col].tolist()))\n",
    "        result_list += content_list\n",
    "    #\n",
    "    modification_list = [\"m1A\",\"m5C\",\"m6A\",\"m7G\",\"m6Am\",\"RNA Editing\",\"pseudoU\",\"Nm\"]\n",
    "    if prefix in modification_list:\n",
    "        generate_id_index(col, sorted(list(set(result_list))))\n",
    "    else:\n",
    "        tmp = sorted(list(set(result_list)))\n",
    "        final_list = []\n",
    "        for x in tmp:\n",
    "            final_list += x.split(\"@\")\n",
    "        generate_id_index(col, sorted(list(set(final_list))))"
   ]
  },
  {
   "cell_type": "code",
   "execution_count": null,
   "metadata": {},
   "outputs": [],
   "source": []
  }
 ],
 "metadata": {
  "kernelspec": {
   "display_name": "Python 3",
   "language": "python",
   "name": "python3"
  },
  "language_info": {
   "codemirror_mode": {
    "name": "ipython",
    "version": 3
   },
   "file_extension": ".py",
   "mimetype": "text/x-python",
   "name": "python",
   "nbconvert_exporter": "python",
   "pygments_lexer": "ipython3",
   "version": "3.6.7"
  }
 },
 "nbformat": 4,
 "nbformat_minor": 2
}
