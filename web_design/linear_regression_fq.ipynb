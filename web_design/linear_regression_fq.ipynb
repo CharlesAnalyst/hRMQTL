{
 "cells": [
  {
   "cell_type": "code",
   "execution_count": 21,
   "metadata": {},
   "outputs": [],
   "source": [
    "import os\n",
    "import math\n",
    "import numpy as np\n",
    "import pandas as pd\n",
    "import matplotlib.pyplot as plt"
   ]
  },
  {
   "cell_type": "code",
   "execution_count": 15,
   "metadata": {},
   "outputs": [
    {
     "name": "stdout",
     "output_type": "stream",
     "text": [
      "[22.3, 18.7, 24.1, 15.5, 25.8, 26.6, 29.0, 26.9, 26.1, 25.0, 28.1, 28.5, 26.5, 22.9, 27.5, 30.6, 30.8, 35.2, 34.2, 27.6, 28.3, 34.4, 34.9, 29.7, 29.8, 30.9, 22.7, 23.1, 23.9, 25.1, 25.8, 23.6, 30.3, 25.1, 24.3, 23.8, 30.0, 30.6, 31.4, 39.1, 37.0, 43.7, 40.1, 38.8, 34.4, 34.9, 33.2]\n",
      "[64.0, 64.0, 62.2, 68.2, 65.2, 66.6, 70.0, 73.2, 69.0, 71.6, 70.4, 67.4, 65.6, 70.0, 66.4, 65.2, 65.0, 68.0, 66.0, 64.0, 63.6, 63.6, 63.6, 64.0, 63.0, 61.6, 66.0, 66.2, 68.4, 65.6, 66.4, 64.0, 68.0, 68.0, 68.0, 67.2, 67.2, 67.4, 64.8, 62.0, 61.2, 60.4, 60.0, 63.2, 62.0, 62.0, 65.2]\n",
      "[15.5, 18.7, 22.3, 22.7, 22.9, 23.1, 23.6, 23.8, 23.9, 24.1, 24.3, 25.0, 25.1, 25.1, 25.8, 25.8, 26.1, 26.5, 26.6, 26.9, 27.5, 27.6, 28.1, 28.3, 28.5, 29.0, 29.7, 29.8, 30.0, 30.3, 30.6, 30.6, 30.8, 30.9, 31.4, 33.2, 34.2, 34.4, 34.4, 34.9, 34.9, 35.2, 37.0, 38.8, 39.1, 40.1, 43.7]\n",
      "[68.2, 64.0, 64.0, 66.0, 70.0, 66.2, 64.0, 67.2, 68.4, 62.2, 68.0, 71.6, 65.6, 68.0, 65.2, 66.4, 69.0, 65.6, 66.6, 73.2, 66.4, 64.0, 70.4, 63.6, 67.4, 70.0, 64.0, 63.0, 67.2, 68.0, 65.2, 67.4, 65.0, 61.6, 64.8, 65.2, 66.0, 62.0, 63.6, 62.0, 63.6, 68.0, 61.2, 63.2, 62.0, 60.0, 60.4]\n"
     ]
    }
   ],
   "source": [
    "in_file = \"/home/galaxy/fq_file1.txt\"\n",
    "first_list, last_list = [], []\n",
    "with open(in_file, \"r\") as f:\n",
    "    for x in f.readlines():\n",
    "        first_list.append(float(x.split()[0]))\n",
    "        last_list.append(float(x.split()[-1]))\n",
    "print(first_list)\n",
    "print(last_list)\n",
    "# first_list = [x for x,y in sorted(zip(first_list, last_list))]\n",
    "last_list = [y for x,y in sorted(zip(first_list, last_list))]\n",
    "first_list = sorted(first_list)\n",
    "print(first_list)\n",
    "print(last_list)"
   ]
  },
  {
   "cell_type": "code",
   "execution_count": 29,
   "metadata": {},
   "outputs": [
    {
     "name": "stdout",
     "output_type": "stream",
     "text": [
      "15 16\n",
      "15.5 68.2\n",
      "17 18\n",
      "19 20\n",
      "21 22\n",
      "23 24\n",
      "23.6 66.44999999999999\n",
      "25 26\n",
      "25.45 66.30000000000001\n",
      "27 28\n",
      "27.55 65.2\n",
      "29 30\n",
      "29.75 63.5\n",
      "31 32\n",
      "31.4 64.8\n",
      "33 34\n",
      "33.2 65.2\n",
      "35 36\n",
      "35.2 68.0\n",
      "37 38\n",
      "39 40\n",
      "39.1 62.0\n",
      "41 42\n",
      "43 44\n",
      "43.7 60.4\n"
     ]
    }
   ],
   "source": [
    "a_list, b_list = [], []\n",
    "for i in range(15, 45, 2):\n",
    "    print(i, i+1)\n",
    "    index_list = [x for x in range(len(first_list)) if (i < first_list[x] < i+1)]\n",
    "    x_list, y_list = [first_list[x] for x in index_list], [last_list[x] for x in index_list]\n",
    "    if len(x_list) != 0:\n",
    "        x_mean = sum(x_list) / len(x_list)\n",
    "        y_mean = sum(y_list) / len(y_list)\n",
    "        a_list.append(x_mean)\n",
    "        b_list.append(y_mean)\n",
    "        print(x_mean, y_mean)\n",
    "#     else:\n",
    "#         print(\"No number in the bin!\")"
   ]
  },
  {
   "cell_type": "code",
   "execution_count": 30,
   "metadata": {},
   "outputs": [
    {
     "name": "stdout",
     "output_type": "stream",
     "text": [
      "[15.5, 23.6, 25.45, 27.55, 29.75, 31.4, 33.2, 35.2, 39.1, 43.7]\n",
      "[68.2, 66.44999999999999, 66.30000000000001, 65.2, 63.5, 64.8, 65.2, 68.0, 62.0, 60.4]\n"
     ]
    },
    {
     "data": {
      "text/html": [
       "<div>\n",
       "<style scoped>\n",
       "    .dataframe tbody tr th:only-of-type {\n",
       "        vertical-align: middle;\n",
       "    }\n",
       "\n",
       "    .dataframe tbody tr th {\n",
       "        vertical-align: top;\n",
       "    }\n",
       "\n",
       "    .dataframe thead th {\n",
       "        text-align: right;\n",
       "    }\n",
       "</style>\n",
       "<table border=\"1\" class=\"dataframe\">\n",
       "  <thead>\n",
       "    <tr style=\"text-align: right;\">\n",
       "      <th></th>\n",
       "      <th>X</th>\n",
       "      <th>Y</th>\n",
       "    </tr>\n",
       "  </thead>\n",
       "  <tbody>\n",
       "    <tr>\n",
       "      <th>X</th>\n",
       "      <td>1.000000</td>\n",
       "      <td>-0.754383</td>\n",
       "    </tr>\n",
       "    <tr>\n",
       "      <th>Y</th>\n",
       "      <td>-0.754383</td>\n",
       "      <td>1.000000</td>\n",
       "    </tr>\n",
       "  </tbody>\n",
       "</table>\n",
       "</div>"
      ],
      "text/plain": [
       "          X         Y\n",
       "X  1.000000 -0.754383\n",
       "Y -0.754383  1.000000"
      ]
     },
     "execution_count": 30,
     "metadata": {},
     "output_type": "execute_result"
    }
   ],
   "source": [
    "print(a_list)\n",
    "print(b_list)\n",
    "df = pd.DataFrame({\"X\": a_list, \"Y\": b_list})\n",
    "df.corr()"
   ]
  },
  {
   "cell_type": "code",
   "execution_count": 31,
   "metadata": {},
   "outputs": [
    {
     "data": {
      "image/png": "[encoded data removed]",
      "text/plain": [
       "<Figure size 432x288 with 1 Axes>"
      ]
     },
     "metadata": {
      "needs_background": "light"
     },
     "output_type": "display_data"
    }
   ],
   "source": [
    "plt.scatter(a_list,b_list)\n",
    "plt.xlabel('x')\n",
    "plt.ylabel('y')\n",
    "plt.show()"
   ]
  },
  {
   "cell_type": "code",
   "execution_count": null,
   "metadata": {},
   "outputs": [],
   "source": []
  }
 ],
 "metadata": {
  "kernelspec": {
   "display_name": "Python 3",
   "language": "python",
   "name": "python3"
  },
  "language_info": {
   "codemirror_mode": {
    "name": "ipython",
    "version": 3
   },
   "file_extension": ".py",
   "mimetype": "text/x-python",
   "name": "python",
   "nbconvert_exporter": "python",
   "pygments_lexer": "ipython3",
   "version": "3.6.7"
  }
 },
 "nbformat": 4,
 "nbformat_minor": 2
}
