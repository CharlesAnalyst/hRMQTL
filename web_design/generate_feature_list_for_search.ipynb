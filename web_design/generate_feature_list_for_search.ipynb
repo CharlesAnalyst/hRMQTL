{
 "cells": [
  {
   "cell_type": "code",
   "execution_count": 1,
   "metadata": {},
   "outputs": [],
   "source": [
    "import os\n",
    "import re\n",
    "import sys\n",
    "import glob\n",
    "import time\n",
    "import numpy as np\n",
    "import pandas as pd"
   ]
  },
  {
   "cell_type": "code",
   "execution_count": 3,
   "metadata": {},
   "outputs": [
    {
     "name": "stdout",
     "output_type": "stream",
     "text": [
      "['/home/galaxy/project/m6AQTL/data/data_for_website/final_data/utf8_data/final_data/m6A_final.txt', '/home/galaxy/project/m6AQTL/data/data_for_website/final_data/utf8_data/final_data/PseudoU_final.txt', '/home/galaxy/project/m6AQTL/data/data_for_website/final_data/utf8_data/final_data/m5C_final.txt']\n"
     ]
    }
   ],
   "source": [
    "data_dir = \"/home/galaxy/project/m6AQTL/data/data_for_website/final_data/utf8_data/final_data\"\n",
    "data_list = glob.glob(\"%s/*.txt\" % data_dir) ## modified \n",
    "print(data_list)"
   ]
  },
  {
   "cell_type": "code",
   "execution_count": 31,
   "metadata": {},
   "outputs": [],
   "source": [
    "def get_list(in_dict, df_x):\n",
    "    result_list = []\n",
    "    for a,b in in_dict.items():\n",
    "        total_list = []\n",
    "        tmp_list = df_x.iloc[:, a].tolist()\n",
    "        for c in tmp_list:\n",
    "            if c != \"NA\" and c != np.nan:\n",
    "                total_list += str(c).split(\"@\")\n",
    "        for d in total_list:\n",
    "            if d != \"NA\" and d != \"nan\":\n",
    "#                 print(d)\n",
    "#                 if \"ENSG\" in d:\n",
    "#                     print(d)\n",
    "#                     sys.exit(1)\n",
    "                result_list.append(d.split(\"|\")[b])\n",
    "    return list(set(result_list))"
   ]
  },
  {
   "cell_type": "code",
   "execution_count": 35,
   "metadata": {},
   "outputs": [
    {
     "name": "stdout",
     "output_type": "stream",
     "text": [
      "VPS53\n",
      "rs2305274\n",
      "Cord blood\n",
      "VPS53\n",
      "rs2305274\n",
      "Cord blood\n",
      "VPS53\n",
      "rs2305274\n",
      "Cord blood\n"
     ]
    }
   ],
   "source": [
    "gene_dict = {4:0, 5:1, 6:1, 7:3, 10:1, 11:1, 12:1, 13:1, 14:1, 15:2}\n",
    "snp_dict = {8:1, 9:1, 10:2, 11:4, 12:3, 13:5, 14:3, 15:1}\n",
    "tissue_dict = {4:-1, 10:-3, 11:-3, 12:-3, 13:-3, 14:-3}\n",
    "gene_list, snp_list, tissue_list = [], [], []\n",
    "for x in data_list:\n",
    "#     m5c = \"/home/galaxy/project/m6AQTL/data/data_for_website/final_data/utf8_data/final_data/m5C_final.txt\"\n",
    "    df = pd.read_table(x, sep=\"\\t\")\n",
    "    gene_list += get_list(gene_dict, df)\n",
    "    snp_list += get_list(snp_dict, df)\n",
    "    tissue_list += get_list(tissue_dict, df)\n",
    "    print(gene_list[0])\n",
    "    print(snp_list[0])\n",
    "    print(tissue_list[0])"
   ]
  },
  {
   "cell_type": "code",
   "execution_count": 38,
   "metadata": {},
   "outputs": [],
   "source": [
    "result_dir = \"/home/galaxy/project/m6AQTL/data/data_for_website/final_data/utf8_data/final_data/features_list\"\n",
    "gene_file = os.path.join(result_dir, \"gene_list.txt\")\n",
    "snp_file = os.path.join(result_dir, \"snp_list.txt\")\n",
    "tissue_file = os.path.join(result_dir, \"tissue_list.txt\")\n",
    "def write2file(in_list, result_file):\n",
    "    with open(result_file, 'w') as fw:\n",
    "        fw.writelines([\"%s\\n\" % x.strip() for x in in_list])\n",
    "gene_list = [x.split(\"_\")[0] for x in gene_list]\n",
    "#\n",
    "new_gene_list = []\n",
    "for x in gene_list:\n",
    "    new_gene_list += x.replace(\";\", \",\").split(\",\")\n",
    "new_tissue_list = []\n",
    "for x in tissue_list:\n",
    "    new_tissue_list += x.replace(\";\", \",\").split(\",\")\n",
    "#\n",
    "write2file(list(set(new_gene_list)), gene_file)\n",
    "write2file(list(set(snp_list)), snp_file)\n",
    "write2file(list(set(new_tissue_list)), tissue_file)"
   ]
  },
  {
   "cell_type": "code",
   "execution_count": null,
   "metadata": {},
   "outputs": [],
   "source": []
  }
 ],
 "metadata": {
  "kernelspec": {
   "display_name": "Python 3",
   "language": "python",
   "name": "python3"
  },
  "language_info": {
   "codemirror_mode": {
    "name": "ipython",
    "version": 3
   },
   "file_extension": ".py",
   "mimetype": "text/x-python",
   "name": "python",
   "nbconvert_exporter": "python",
   "pygments_lexer": "ipython3",
   "version": "3.6.7"
  }
 },
 "nbformat": 4,
 "nbformat_minor": 2
}
