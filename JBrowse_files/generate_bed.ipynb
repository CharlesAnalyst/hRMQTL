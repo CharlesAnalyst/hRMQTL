{
 "cells": [
  {
   "cell_type": "code",
   "execution_count": 9,
   "metadata": {},
   "outputs": [],
   "source": [
    "import os\n",
    "import sys\n",
    "import glob\n",
    "import pandas as pd"
   ]
  },
  {
   "cell_type": "code",
   "execution_count": 10,
   "metadata": {},
   "outputs": [],
   "source": [
    "id_dir = \"/home/galaxy/project/m6AQTL/data/data_for_website/final_data/ID_index/ID_table\"\n",
    "id_list = glob.glob(\"%s/*\" % id_dir)\n",
    "id_dict = {}\n",
    "for id_file in id_list:\n",
    "    df = pd.read_table(id_file, sep=\"\\t\", na_filter = False)\n",
    "    pos_list = [x.split(\"#\")[0].split(\"|\")[0] for x in df.iloc[:, 1]]\n",
    "    id_dict[os.path.basename(id_file).split(\".\")[0].replace(\" \", \"_\")] = dict(zip(df.iloc[:, 0], pos_list))"
   ]
  },
  {
   "cell_type": "code",
   "execution_count": 11,
   "metadata": {},
   "outputs": [
    {
     "name": "stdout",
     "output_type": "stream",
     "text": [
      "/home/galaxy/project/m6AQTL/data/data_for_website/final_data/ID_index/Mapping_table/RNA_modification/m5C.txt\n",
      "/home/galaxy/project/m6AQTL/data/data_for_website/final_data/ID_index/Mapping_table/RNA_modification/m7G.txt\n",
      "/home/galaxy/project/m6AQTL/data/data_for_website/final_data/ID_index/Mapping_table/RNA_modification/Nm.txt\n",
      "/home/galaxy/project/m6AQTL/data/data_for_website/final_data/ID_index/Mapping_table/RNA_modification/m6A.txt\n",
      "/home/galaxy/project/m6AQTL/data/data_for_website/final_data/ID_index/Mapping_table/RNA_modification/m6Am.txt\n",
      "/home/galaxy/project/m6AQTL/data/data_for_website/final_data/ID_index/Mapping_table/RNA_modification/ClinVar.txt\n",
      "/home/galaxy/project/m6AQTL/data/data_for_website/final_data/ID_index/Mapping_table/RNA_modification/RNA_Editing.txt\n",
      "/home/galaxy/project/m6AQTL/data/data_for_website/final_data/ID_index/Mapping_table/RNA_modification/m1A.txt\n",
      "/home/galaxy/project/m6AQTL/data/data_for_website/final_data/ID_index/Mapping_table/RNA_modification/pQTL.txt\n",
      "/home/galaxy/project/m6AQTL/data/data_for_website/final_data/ID_index/Mapping_table/RNA_modification/meQTL.txt\n",
      "/home/galaxy/project/m6AQTL/data/data_for_website/final_data/ID_index/Mapping_table/RNA_modification/COSMIC.txt\n",
      "/home/galaxy/project/m6AQTL/data/data_for_website/final_data/ID_index/Mapping_table/RNA_modification/pseudoU.txt\n",
      "/home/galaxy/project/m6AQTL/data/data_for_website/final_data/ID_index/Mapping_table/RNA_modification/GWAS.txt\n",
      "/home/galaxy/project/m6AQTL/data/data_for_website/final_data/ID_index/Mapping_table/RNA_modification/circQTL.txt\n",
      "/home/galaxy/project/m6AQTL/data/data_for_website/final_data/ID_index/Mapping_table/RNA_modification/eQTL.txt\n",
      "/home/galaxy/project/m6AQTL/data/data_for_website/final_data/ID_index/Mapping_table/RNA_modification/sQTL.txt\n"
     ]
    }
   ],
   "source": [
    "result_dir = \"/home/galaxy/project/m6AQTL/data/data_for_website/JBrowse_data\"\n",
    "in_dir = \"/home/galaxy/project/m6AQTL/data/data_for_website/final_data/ID_index/Mapping_table/RNA_modification\"\n",
    "data_list = glob.glob(\"%s/*.txt\" % in_dir)\n",
    "for i_file in data_list:\n",
    "    print(i_file)\n",
    "#     if os.path.basename(i_file) == \"RNA_Editing.txt\":\n",
    "    prefix = os.path.basename(i_file).split(\".\")[0].replace(\" \", \"_\")\n",
    "    db_dict = id_dict[prefix]\n",
    "    sub_dir = os.path.join(result_dir, prefix)\n",
    "    if not os.path.exists(sub_dir):\n",
    "        os.makedirs(sub_dir)\n",
    "    df = pd.read_table(i_file, sep=\"\\t\", na_filter = False)\n",
    "    for i_index, values in df.iterrows():\n",
    "        new_list = []\n",
    "        for x in values:\n",
    "            new_list += x.split(\"@\")\n",
    "        new_list = [x for x in new_list if x != \"NA\"]\n",
    "        info_list = [\"%s\\t%s\" % (id_dict[x.split(\"_\")[0].replace(\" \", \"_\")][x], x) for x in new_list]\n",
    "        bed_list = [\"%s\\t%s\\t%s\\t%s\\n\" % (x.split(\":\")[0], x.split(\":\")[1].split(\"-\")[0], x.split(\"\\t\")[0].split(\"-\")[1], x.split(\"\\t\")[1].strip().replace(\" \", \"_\")) for x in info_list]\n",
    "        result_file = os.path.join(sub_dir, \"%s.bed\" % values[0].replace(\" \", \"_\"))\n",
    "        with open(result_file, 'w') as fw:\n",
    "            fw.writelines(bed_list)"
   ]
  },
  {
   "cell_type": "code",
   "execution_count": null,
   "metadata": {},
   "outputs": [],
   "source": []
  }
 ],
 "metadata": {
  "kernelspec": {
   "display_name": "Python 3",
   "language": "python",
   "name": "python3"
  },
  "language_info": {
   "codemirror_mode": {
    "name": "ipython",
    "version": 3
   },
   "file_extension": ".py",
   "mimetype": "text/x-python",
   "name": "python",
   "nbconvert_exporter": "python",
   "pygments_lexer": "ipython3",
   "version": "3.6.7"
  }
 },
 "nbformat": 4,
 "nbformat_minor": 2
}
