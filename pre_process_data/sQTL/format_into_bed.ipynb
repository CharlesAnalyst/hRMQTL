{
 "cells": [
  {
   "cell_type": "code",
   "execution_count": 1,
   "metadata": {},
   "outputs": [],
   "source": [
    "import os\n",
    "import glob\n",
    "import pandas as pd\n",
    "import numpy as np\n",
    "from multiprocessing import Pool"
   ]
  },
  {
   "cell_type": "markdown",
   "metadata": {},
   "source": [
    "### sQTLSeekeR"
   ]
  },
  {
   "cell_type": "code",
   "execution_count": 8,
   "metadata": {},
   "outputs": [],
   "source": [
    "file = \"/home/galaxy/data/QTL/sQTL/sQTLSeekeR_Transcript-Ratio/sQTLSeekeR_Transcript-Ratio.csv\"\n",
    "common_vcf = \"/home/galaxy/data/QTL/eQTL/sigle_tissue/GRCh38_common_all_20180418.vcf\"\n",
    "result_dir = \"/home/galaxy/data/QTL/sQTL/sQTLSeekeR_Transcript-Ratio/info_dir\""
   ]
  },
  {
   "cell_type": "code",
   "execution_count": 6,
   "metadata": {},
   "outputs": [
    {
     "name": "stderr",
     "output_type": "stream",
     "text": [
      "/home/galaxy/anaconda3/lib/python3.6/site-packages/IPython/core/interactiveshell.py:3020: DtypeWarning: Columns (0) have mixed types. Specify dtype option on import or set low_memory=False.\n",
      "  interactivity=interactivity, compiler=compiler, result=result)\n"
     ]
    }
   ],
   "source": [
    "df_vcf = pd.read_table(common_vcf, sep=\"\\t\", header=None, comment=\"#\")\n",
    "df_vcf.columns = [\"CHROM\", \"POS\", \"ID\", \"REF\", \"ALT\", \"QUAL\", \"FILTER\", \"INFO\"]\n",
    "df_vcf_sub = df_vcf[[\"CHROM\", \"POS\", \"ID\"]]"
   ]
  },
  {
   "cell_type": "code",
   "execution_count": 14,
   "metadata": {},
   "outputs": [
    {
     "name": "stderr",
     "output_type": "stream",
     "text": [
      "/home/galaxy/anaconda3/lib/python3.6/site-packages/ipykernel_launcher.py:4: SettingWithCopyWarning: \n",
      "A value is trying to be set on a copy of a slice from a DataFrame.\n",
      "Try using .loc[row_indexer,col_indexer] = value instead\n",
      "\n",
      "See the caveats in the documentation: http://pandas.pydata.org/pandas-docs/stable/indexing.html#indexing-view-versus-copy\n",
      "  after removing the cwd from sys.path.\n"
     ]
    },
    {
     "data": {
      "text/html": [
       "<div>\n",
       "<style scoped>\n",
       "    .dataframe tbody tr th:only-of-type {\n",
       "        vertical-align: middle;\n",
       "    }\n",
       "\n",
       "    .dataframe tbody tr th {\n",
       "        vertical-align: top;\n",
       "    }\n",
       "\n",
       "    .dataframe thead th {\n",
       "        text-align: right;\n",
       "    }\n",
       "</style>\n",
       "<table border=\"1\" class=\"dataframe\">\n",
       "  <thead>\n",
       "    <tr style=\"text-align: right;\">\n",
       "      <th></th>\n",
       "      <th>Gencode Id</th>\n",
       "      <th>Gene Symbol</th>\n",
       "      <th>Tissue</th>\n",
       "      <th>SNP</th>\n",
       "      <th>Event</th>\n",
       "      <th>Transcript 1</th>\n",
       "      <th>Transcript 2</th>\n",
       "      <th>ID</th>\n",
       "    </tr>\n",
       "  </thead>\n",
       "  <tbody>\n",
       "    <tr>\n",
       "      <th>0</th>\n",
       "      <td>ENSG00000001460.12</td>\n",
       "      <td>C1orf201</td>\n",
       "      <td>Adipose_Subcutaneous</td>\n",
       "      <td>rs1016209</td>\n",
       "      <td>exon skipping</td>\n",
       "      <td>ENST00000337248.4</td>\n",
       "      <td>ENST00000003583.8</td>\n",
       "      <td>rs1016209</td>\n",
       "    </tr>\n",
       "    <tr>\n",
       "      <th>1</th>\n",
       "      <td>ENSG00000001460.12</td>\n",
       "      <td>C1orf201</td>\n",
       "      <td>Adipose_Subcutaneous</td>\n",
       "      <td>rs11589294</td>\n",
       "      <td>exon skipping</td>\n",
       "      <td>ENST00000337248.4</td>\n",
       "      <td>ENST00000003583.8</td>\n",
       "      <td>rs11589294</td>\n",
       "    </tr>\n",
       "    <tr>\n",
       "      <th>2</th>\n",
       "      <td>ENSG00000001460.12</td>\n",
       "      <td>C1orf201</td>\n",
       "      <td>Adipose_Subcutaneous</td>\n",
       "      <td>rs11587667</td>\n",
       "      <td>exon skipping</td>\n",
       "      <td>ENST00000337248.4</td>\n",
       "      <td>ENST00000003583.8</td>\n",
       "      <td>rs11587667</td>\n",
       "    </tr>\n",
       "    <tr>\n",
       "      <th>3</th>\n",
       "      <td>ENSG00000001460.12</td>\n",
       "      <td>C1orf201</td>\n",
       "      <td>Adipose_Subcutaneous</td>\n",
       "      <td>rs7529526</td>\n",
       "      <td>exon skipping</td>\n",
       "      <td>ENST00000337248.4</td>\n",
       "      <td>ENST00000003583.8</td>\n",
       "      <td>rs7529526</td>\n",
       "    </tr>\n",
       "    <tr>\n",
       "      <th>4</th>\n",
       "      <td>ENSG00000001460.12</td>\n",
       "      <td>C1orf201</td>\n",
       "      <td>Adipose_Subcutaneous</td>\n",
       "      <td>rs12140084</td>\n",
       "      <td>complex event 5';complex event;complex event 3'</td>\n",
       "      <td>ENST00000374404.2</td>\n",
       "      <td>ENST00000440416.1</td>\n",
       "      <td>rs12140084</td>\n",
       "    </tr>\n",
       "  </tbody>\n",
       "</table>\n",
       "</div>"
      ],
      "text/plain": [
       "           Gencode Id Gene Symbol                Tissue          SNP  \\\n",
       "0  ENSG00000001460.12    C1orf201  Adipose_Subcutaneous   rs1016209    \n",
       "1  ENSG00000001460.12    C1orf201  Adipose_Subcutaneous  rs11589294    \n",
       "2  ENSG00000001460.12    C1orf201  Adipose_Subcutaneous  rs11587667    \n",
       "3  ENSG00000001460.12    C1orf201  Adipose_Subcutaneous   rs7529526    \n",
       "4  ENSG00000001460.12    C1orf201  Adipose_Subcutaneous  rs12140084    \n",
       "\n",
       "                                             Event       Transcript 1  \\\n",
       "0                                    exon skipping  ENST00000337248.4   \n",
       "1                                    exon skipping  ENST00000337248.4   \n",
       "2                                    exon skipping  ENST00000337248.4   \n",
       "3                                    exon skipping  ENST00000337248.4   \n",
       "4  complex event 5';complex event;complex event 3'  ENST00000374404.2   \n",
       "\n",
       "        Transcript 2          ID  \n",
       "0  ENST00000003583.8   rs1016209  \n",
       "1  ENST00000003583.8  rs11589294  \n",
       "2  ENST00000003583.8  rs11587667  \n",
       "3  ENST00000003583.8   rs7529526  \n",
       "4  ENST00000440416.1  rs12140084  "
      ]
     },
     "execution_count": 14,
     "metadata": {},
     "output_type": "execute_result"
    }
   ],
   "source": [
    "df = pd.read_csv(file)\n",
    "df_sub = df[[\"Gencode Id\", \"Gene Symbol\", \"Tissue\", \"SNP\", \"Event\", \"Transcript 1\", \"Transcript 2\"]]\n",
    "# column \"SNP\" contains blank space at the end.\n",
    "df_sub[\"ID\"] = [x.strip() for x in df[\"SNP\"]]\n",
    "df_sub.head()"
   ]
  },
  {
   "cell_type": "code",
   "execution_count": 16,
   "metadata": {},
   "outputs": [
    {
     "name": "stdout",
     "output_type": "stream",
     "text": [
      "Nerve_Tibial\n",
      "Skin_Sun_Exposed_Lower_leg\n",
      "Thyroid\n",
      "Lung\n",
      "Heart_Left_Ventricle\n",
      "Whole_Blood\n",
      "Adipose_Subcutaneous\n",
      "Artery_Aorta\n",
      "Muscle_Skeletal\n"
     ]
    }
   ],
   "source": [
    "tissue_list = list(set(df_sub.Tissue.tolist()))\n",
    "for tissue in tissue_list:\n",
    "    print(tissue)\n",
    "    df_i = df_sub[df_sub.Tissue == tissue]\n",
    "    df_merge = df_i.merge(df_vcf_sub, how=\"left\", on=\"ID\").dropna().drop_duplicates()\n",
    "    result_file = os.path.join(result_dir, \"%s.txt\" % tissue)\n",
    "    df_merge.to_csv(result_file, sep=\"\\t\", index=False)"
   ]
  },
  {
   "cell_type": "markdown",
   "metadata": {},
   "source": [
    "#### GENERATE BED FILES"
   ]
  },
  {
   "cell_type": "code",
   "execution_count": 21,
   "metadata": {},
   "outputs": [],
   "source": [
    "data_dir = \"/home/galaxy/data/QTL/sQTL/sQTLSeekeR_Transcript-Ratio/info_dir\"\n",
    "result_dir = \"/home/galaxy/data/QTL/sQTL/sQTLSeekeR_Transcript-Ratio/GRCh38_bed\"\n",
    "file_list = glob.glob(\"%s/*.txt\" % data_dir)\n",
    "for x in file_list:\n",
    "    df = pd.read_table(x, sep=\"\\t\")\n",
    "    result_file = os.path.join(result_dir, os.path.basename(x).replace(\".txt\", \".bed\"))\n",
    "    df[\"info\"] = df[\"Gencode Id\"] + \";\" + df[\"Gene Symbol\"] + \";\" + df[\"Tissue\"] + \";\" + df[\"Event\"] + \";\" + df[\"Transcript 1\"] + \";\" + df[\"Transcript 2\"] + \";\" + df[\"ID\"] \n",
    "    df[\"chr_name\"] = \"chr\" + df[\"CHROM\"].astype(str)\n",
    "    df[\"start\"] = df[\"POS\"].astype(int) - 1\n",
    "    df[\"end\"] = df[\"POS\"].astype(int)\n",
    "    df_final = df[[\"chr_name\", \"start\", \"end\", \"info\"]]\n",
    "    df_final.to_csv(result_file, sep=\"\\t\", header=False, index=False)"
   ]
  },
  {
   "cell_type": "markdown",
   "metadata": {},
   "source": [
    "### Altrans"
   ]
  },
  {
   "cell_type": "code",
   "execution_count": 23,
   "metadata": {},
   "outputs": [],
   "source": [
    "data_dir = \"/home/galaxy/data/QTL/sQTL/Altrans_Exon-Junction\"\n",
    "result_dir = \"/home/galaxy/data/QTL/sQTL/Altrans_Exon-Junction/info_dir\""
   ]
  },
  {
   "cell_type": "code",
   "execution_count": null,
   "metadata": {},
   "outputs": [],
   "source": [
    "df_vcf = pd.read_table(common_vcf, sep=\"\\t\", header=None, comment=\"#\")\n",
    "df_vcf.columns = [\"CHROM\", \"POS\", \"ID\", \"REF\", \"ALT\", \"QUAL\", \"FILTER\", \"INFO\"]\n",
    "df_vcf_sub = df_vcf[[\"CHROM\", \"POS\", \"ID\"]]"
   ]
  },
  {
   "cell_type": "code",
   "execution_count": 26,
   "metadata": {},
   "outputs": [],
   "source": [
    "#########\n",
    "file_list = glob.glob(\"%s/*.csv\" % data_dir)\n",
    "for x in file_list:\n",
    "    print(x)\n",
    "    df = pd.read_csv(x)\n",
    "    result_file = os.path.join(result_dir, os.path.basename(x))\n",
    "    df = df[df[\"SNP ID\"].str.startswith(\"rs\")]\n",
    "    df_sub = df[[\"SNP ID\", \"Tissue\", \"Exon 1 Gencode Id\", \"Exon 2 Gencode Id\"]]\n",
    "    df_merge = df_sub.merge(df_vcf_sub, how=\"left\", left_on=\"SNP ID\", right_on=\"ID\").dropna().drop_duplicates()\n",
    "    result_file = os.path.join(result_dir, os.path.basename(x))\n",
    "    df_merge.to_csv(result_file, sep=\"\\t\", index=False)"
   ]
  },
  {
   "cell_type": "code",
   "execution_count": 28,
   "metadata": {},
   "outputs": [],
   "source": [
    "data_dir = \"/home/galaxy/data/QTL/sQTL/Altrans_Exon-Junction/info_dir\"\n",
    "result_dir = \"/home/galaxy/data/QTL/sQTL/Altrans_Exon-Junction/GRCh38_bed\"\n",
    "file_list = glob.glob(\"%s/*.csv\" % data_dir)\n",
    "for x in file_list:\n",
    "    df = pd.read_table(x, sep=\"\\t\")\n",
    "    result_file = os.path.join(result_dir, os.path.basename(x).replace(\".csv\", \".bed\"))\n",
    "    df[\"info\"] = df[\"Tissue\"] + \";\" + df[\"Exon 1 Gencode Id\"] + \";\" + df[\"Exon 2 Gencode Id\"] + \";\" + df[\"SNP ID\"]\n",
    "    df[\"chr_name\"] = \"chr\" + df[\"CHROM\"].astype(str)\n",
    "    df[\"start\"] = df[\"POS\"].astype(int) - 1\n",
    "    df[\"end\"] = df[\"POS\"].astype(int)\n",
    "    df_final = df[[\"chr_name\", \"start\", \"end\", \"info\"]]\n",
    "    df_final.to_csv(result_file, sep=\"\\t\", header=False, index=False)"
   ]
  },
  {
   "cell_type": "markdown",
   "metadata": {},
   "source": [
    "#### nature communications 2016"
   ]
  },
  {
   "cell_type": "code",
   "execution_count": 12,
   "metadata": {},
   "outputs": [],
   "source": [
    "############################################################################\n",
    "raw_file = \"/home/galaxy/data/QTL/sQTL/nc_2016_Brain/ncomms14519-s2.txt\"\n",
    "result_file = \"/home/galaxy/data/QTL/sQTL/nc_2016_Brain/hg19_ncomms14519-s2.bed\"\n",
    "############################################################################\n",
    "df = pd.read_table(raw_file, sep=\"\\t\")\n",
    "df[\"chr_name\"] = df[\"SNP_position(hg19)\"].str.split(\":\").str[0]\n",
    "df[\"start\"] = df[\"SNP_position(hg19)\"].str.split(\":\").str[1].astype(int) - 1\n",
    "df[\"end\"] = df[\"SNP_position(hg19)\"].str.split(\":\").str[1].astype(int)\n",
    "df[\"name\"]=df[\"sQTL SNP_ID\"]+\";\"+df[\"Ref\"]+\";\"+df[\"Alt(all_observed_alleles)\"]+\";\"+df[\"Function\"]+\";\"+df[\"AS_position(hg19)c\"]+\";\"+df[\"Gene\"]\n",
    "df_final = df[[\"chr_name\", \"start\", \"end\", \"name\"]]\n",
    "df_final.to_csv(result_file, sep=\"\\t\", header=False, index=False)\n",
    "# df.head()"
   ]
  },
  {
   "cell_type": "markdown",
   "metadata": {},
   "source": [
    "#### nature genetics 2015"
   ]
  },
  {
   "cell_type": "code",
   "execution_count": 13,
   "metadata": {},
   "outputs": [],
   "source": [
    "#######################################################################\n",
    "raw_file = \"/home/galaxy/data/QTL/sQTL/ng_2015_blood/ng.3220-S2.csv\"\n",
    "result_file = \"/home/galaxy/data/QTL/sQTL/ng_2015_blood/hg19_ng.3220-S2.bed\"\n",
    "#######################################################################\n",
    "df = pd.read_csv(raw_file)\n",
    "# df.head()\n",
    "df[\"chr_name\"] = \"chr\" + df[\"chromosome\"]\n",
    "df[\"start\"] = df[\"position\"].astype(int) - 1\n",
    "df[\"end\"] = df[\"position\"].astype(int)\n",
    "df[\"name\"] = df[\"rs\"]+\";\"+df[\"GeneSymbol\"]+\";\"+df[\"effect\"]+\";\"+df[\"noneffect\"]+\";\"+df[\"distance\"].astype(str)\n",
    "df_final = df[[\"chr_name\", \"start\", \"end\", \"name\"]]\n",
    "df_final.to_csv(result_file, sep=\"\\t\", header=False, index=False)"
   ]
  },
  {
   "cell_type": "markdown",
   "metadata": {},
   "source": [
    "#### hg19 to hg38"
   ]
  },
  {
   "cell_type": "code",
   "execution_count": 15,
   "metadata": {},
   "outputs": [
    {
     "name": "stderr",
     "output_type": "stream",
     "text": [
      "/home/galaxy/anaconda3/lib/python3.6/site-packages/IPython/core/interactiveshell.py:3020: DtypeWarning: Columns (0) have mixed types. Specify dtype option on import or set low_memory=False.\n",
      "  interactivity=interactivity, compiler=compiler, result=result)\n"
     ]
    }
   ],
   "source": [
    "common_vcf = \"/home/galaxy/data/QTL/eQTL/sigle_tissue/GRCh38_common_all_20180418.vcf\"\n",
    "df_vcf = pd.read_table(common_vcf, sep=\"\\t\", header=None, comment=\"#\")\n",
    "df_vcf.columns = [\"CHROM\", \"POS\", \"ID\", \"REF\", \"ALT\", \"QUAL\", \"FILTER\", \"INFO\"]\n",
    "df_vcf_sub = df_vcf[[\"CHROM\", \"POS\", \"ID\"]]"
   ]
  },
  {
   "cell_type": "code",
   "execution_count": 17,
   "metadata": {},
   "outputs": [],
   "source": [
    "#####################################################################################\n",
    "common_vcf = \"/home/galaxy/data/QTL/eQTL/sigle_tissue/GRCh38_common_all_20180418.vcf\"\n",
    "file_1 = \"/home/galaxy/data/QTL/sQTL/nc_2016_Brain/hg19_ncomms14519-s2.bed\"\n",
    "file_2 = \"/home/galaxy/data/QTL/sQTL/ng_2015_blood/hg19_ng.3220-S2.bed\"\n",
    "res_1, res_2 = file_1.replace(\"hg19\", \"GRCh38\"), file_2.replace(\"hg19\", \"GRCh38\")\n",
    "######################################################################################\n",
    "    \n",
    "def hg19_to_hg38(in_file, out_file):\n",
    "    df = pd.read_table(in_file, sep=\"\\t\", header=None, names=[\"chr\", \"s\", \"e\", \"name\"]).dropna()\n",
    "    df[\"ID\"] = df.iloc[:, -1].str.split(\";\").str[0]\n",
    "    df = df.merge(df_vcf_sub, how=\"left\", on=\"ID\").dropna()\n",
    "    #\n",
    "    df[\"start\"] = df[\"POS\"].astype(int) - 1\n",
    "    df[\"end\"] = df[\"POS\"].astype(int)\n",
    "    df_final = df[[\"chr\", \"start\", \"end\", \"name\"]]\n",
    "    df_final.to_csv(out_file, sep=\"\\t\", header=False, index=False)\n",
    "#   \n",
    "hg19_to_hg38(file_1, res_1)\n",
    "hg19_to_hg38(file_2, res_2)"
   ]
  }
 ],
 "metadata": {
  "kernelspec": {
   "display_name": "Python 3",
   "language": "python",
   "name": "python3"
  },
  "language_info": {
   "codemirror_mode": {
    "name": "ipython",
    "version": 3
   },
   "file_extension": ".py",
   "mimetype": "text/x-python",
   "name": "python",
   "nbconvert_exporter": "python",
   "pygments_lexer": "ipython3",
   "version": "3.6.6"
  }
 },
 "nbformat": 4,
 "nbformat_minor": 2
}
