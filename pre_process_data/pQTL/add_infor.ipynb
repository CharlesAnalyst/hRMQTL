{
 "cells": [
  {
   "cell_type": "code",
   "execution_count": 1,
   "metadata": {},
   "outputs": [],
   "source": [
    "import os\n",
    "import sys\n",
    "import csv\n",
    "import datetime\n",
    "import shutil\n",
    "import random\n",
    "import glob\n",
    "import pandas as pd\n",
    "import numpy as np"
   ]
  },
  {
   "cell_type": "markdown",
   "metadata": {},
   "source": [
    "#### add uniprot ID and gene symbol based on Ensembl ID."
   ]
  },
  {
   "cell_type": "code",
   "execution_count": 2,
   "metadata": {},
   "outputs": [],
   "source": [
    "uniprot_file = \"/data/database/UniProt/idmapping/HUMAN_9606_idmapping_selected.tab\"\n",
    "ncbi_file = \"/data/database/UniProt/idmapping/Homo_sapiens.gene_info\"\n",
    "gff = \"/data/database/GRCh38/GENCODE/gencode.v27.annotation.gff3\"\n",
    "# pqtl = \"/home/galaxy/project/m6AQTL/data/pqtl/total_data/Final_snp_from_paper.txt\"\n",
    "pqtl_file = \"/home/lzg/1906/QTL_data/unfiltered/pQTL_paper.txt\"\n",
    "result_file = \"/home/galaxy/project/m6AQTL/data/pqtl/total_data/pQTL.txt\""
   ]
  },
  {
   "cell_type": "code",
   "execution_count": 3,
   "metadata": {},
   "outputs": [
    {
     "name": "stdout",
     "output_type": "stream",
     "text": [
      "\tK7EM20\n"
     ]
    },
    {
     "name": "stderr",
     "output_type": "stream",
     "text": [
      "/home/galaxy/anaconda3/lib/python3.6/site-packages/IPython/core/interactiveshell.py:3020: DtypeWarning: Columns (13) have mixed types. Specify dtype option on import or set low_memory=False.\n",
      "  interactivity=interactivity, compiler=compiler, result=result)\n"
     ]
    }
   ],
   "source": [
    "df_u = pd.read_table(uniprot_file, sep=\"\\t\")\n",
    "ensembl_uniprot_dict = dict(zip(df_u.iloc[:, -4], df_u.iloc[:, 0]))\n",
    "ens_uni_dict = {}\n",
    "for ensembl, uniprot in ensembl_uniprot_dict.items():\n",
    "    if str(ensembl).startswith(\"ENSG\"):\n",
    "        ensembl_list = ensembl.split(\"; \")\n",
    "        for x in ensembl_list:\n",
    "            ens_uni_dict[x] = uniprot\n",
    "print(\"\\t\" + ens_uni_dict[\"ENSG00000108953\"])  # test"
   ]
  },
  {
   "cell_type": "code",
   "execution_count": 13,
   "metadata": {},
   "outputs": [
    {
     "name": "stdout",
     "output_type": "stream",
     "text": [
      "\tYWHAE\n"
     ]
    }
   ],
   "source": [
    "# df_n = pd.read_table(ncbi_file, sep=\"\\t\")\n",
    "# ensembl_symbol_dict = dict(zip(df_n[\"dbXrefs\"], df_n[\"Symbol\"]))\n",
    "# ens_sym_dict = {}\n",
    "# for ensembl, symbol in ensembl_symbol_dict.items():\n",
    "#     if \"Ensembl\" in ensembl:\n",
    "#         ensembl = ensembl.split(\"Ensembl:\")[1].strip()\n",
    "#         ens_sym_dict[ensembl] = symbol\n",
    "# print(\"\\t\" + ens_sym_dict[\"ENSG00000108953\"])"
   ]
  },
  {
   "cell_type": "code",
   "execution_count": 4,
   "metadata": {},
   "outputs": [
    {
     "data": {
      "text/html": [
       "<div>\n",
       "<style scoped>\n",
       "    .dataframe tbody tr th:only-of-type {\n",
       "        vertical-align: middle;\n",
       "    }\n",
       "\n",
       "    .dataframe tbody tr th {\n",
       "        vertical-align: top;\n",
       "    }\n",
       "\n",
       "    .dataframe thead th {\n",
       "        text-align: right;\n",
       "    }\n",
       "</style>\n",
       "<table border=\"1\" class=\"dataframe\">\n",
       "  <thead>\n",
       "    <tr style=\"text-align: right;\">\n",
       "      <th></th>\n",
       "      <th>0</th>\n",
       "      <th>1</th>\n",
       "      <th>2</th>\n",
       "      <th>3</th>\n",
       "      <th>4</th>\n",
       "      <th>5</th>\n",
       "      <th>6</th>\n",
       "      <th>7</th>\n",
       "      <th>8</th>\n",
       "    </tr>\n",
       "  </thead>\n",
       "  <tbody>\n",
       "    <tr>\n",
       "      <th>0</th>\n",
       "      <td>chr1</td>\n",
       "      <td>HAVANA</td>\n",
       "      <td>gene</td>\n",
       "      <td>11869</td>\n",
       "      <td>14409</td>\n",
       "      <td>.</td>\n",
       "      <td>+</td>\n",
       "      <td>.</td>\n",
       "      <td>ID=ENSG00000223972.5;gene_id=ENSG00000223972.5...</td>\n",
       "    </tr>\n",
       "    <tr>\n",
       "      <th>1</th>\n",
       "      <td>chr1</td>\n",
       "      <td>HAVANA</td>\n",
       "      <td>transcript</td>\n",
       "      <td>11869</td>\n",
       "      <td>14409</td>\n",
       "      <td>.</td>\n",
       "      <td>+</td>\n",
       "      <td>.</td>\n",
       "      <td>ID=ENST00000456328.2;Parent=ENSG00000223972.5;...</td>\n",
       "    </tr>\n",
       "    <tr>\n",
       "      <th>2</th>\n",
       "      <td>chr1</td>\n",
       "      <td>HAVANA</td>\n",
       "      <td>exon</td>\n",
       "      <td>11869</td>\n",
       "      <td>12227</td>\n",
       "      <td>.</td>\n",
       "      <td>+</td>\n",
       "      <td>.</td>\n",
       "      <td>ID=exon:ENST00000456328.2:1;Parent=ENST0000045...</td>\n",
       "    </tr>\n",
       "    <tr>\n",
       "      <th>3</th>\n",
       "      <td>chr1</td>\n",
       "      <td>HAVANA</td>\n",
       "      <td>exon</td>\n",
       "      <td>12613</td>\n",
       "      <td>12721</td>\n",
       "      <td>.</td>\n",
       "      <td>+</td>\n",
       "      <td>.</td>\n",
       "      <td>ID=exon:ENST00000456328.2:2;Parent=ENST0000045...</td>\n",
       "    </tr>\n",
       "    <tr>\n",
       "      <th>4</th>\n",
       "      <td>chr1</td>\n",
       "      <td>HAVANA</td>\n",
       "      <td>exon</td>\n",
       "      <td>13221</td>\n",
       "      <td>14409</td>\n",
       "      <td>.</td>\n",
       "      <td>+</td>\n",
       "      <td>.</td>\n",
       "      <td>ID=exon:ENST00000456328.2:3;Parent=ENST0000045...</td>\n",
       "    </tr>\n",
       "  </tbody>\n",
       "</table>\n",
       "</div>"
      ],
      "text/plain": [
       "      0       1           2      3      4  5  6  7  \\\n",
       "0  chr1  HAVANA        gene  11869  14409  .  +  .   \n",
       "1  chr1  HAVANA  transcript  11869  14409  .  +  .   \n",
       "2  chr1  HAVANA        exon  11869  12227  .  +  .   \n",
       "3  chr1  HAVANA        exon  12613  12721  .  +  .   \n",
       "4  chr1  HAVANA        exon  13221  14409  .  +  .   \n",
       "\n",
       "                                                   8  \n",
       "0  ID=ENSG00000223972.5;gene_id=ENSG00000223972.5...  \n",
       "1  ID=ENST00000456328.2;Parent=ENSG00000223972.5;...  \n",
       "2  ID=exon:ENST00000456328.2:1;Parent=ENST0000045...  \n",
       "3  ID=exon:ENST00000456328.2:2;Parent=ENST0000045...  \n",
       "4  ID=exon:ENST00000456328.2:3;Parent=ENST0000045...  "
      ]
     },
     "execution_count": 4,
     "metadata": {},
     "output_type": "execute_result"
    }
   ],
   "source": [
    "# To replace ncbi_file by using gff\n",
    "df_g = pd.read_table(gff, sep=\"\\t\", comment=\"#\", header=None)\n",
    "df_g.head()"
   ]
  },
  {
   "cell_type": "code",
   "execution_count": 5,
   "metadata": {},
   "outputs": [
    {
     "name": "stderr",
     "output_type": "stream",
     "text": [
      "/home/galaxy/anaconda3/lib/python3.6/site-packages/ipykernel_launcher.py:3: SettingWithCopyWarning: \n",
      "A value is trying to be set on a copy of a slice from a DataFrame.\n",
      "Try using .loc[row_indexer,col_indexer] = value instead\n",
      "\n",
      "See the caveats in the documentation: http://pandas.pydata.org/pandas-docs/stable/indexing.html#indexing-view-versus-copy\n",
      "  This is separate from the ipykernel package so we can avoid doing imports until\n"
     ]
    },
    {
     "name": "stdout",
     "output_type": "stream",
     "text": [
      "\tYWHAE\n"
     ]
    },
    {
     "name": "stderr",
     "output_type": "stream",
     "text": [
      "/home/galaxy/anaconda3/lib/python3.6/site-packages/ipykernel_launcher.py:4: SettingWithCopyWarning: \n",
      "A value is trying to be set on a copy of a slice from a DataFrame.\n",
      "Try using .loc[row_indexer,col_indexer] = value instead\n",
      "\n",
      "See the caveats in the documentation: http://pandas.pydata.org/pandas-docs/stable/indexing.html#indexing-view-versus-copy\n",
      "  after removing the cwd from sys.path.\n"
     ]
    }
   ],
   "source": [
    "df_gene = df_g[df_g.iloc[:, 2] == \"gene\"]\n",
    "# print(df_gene.head())\n",
    "df_gene[\"Ensembl_ID\"] = df_gene.iloc[:, 8].str.split(\"ID=\").str[1].str.split(\".\").str[0]\n",
    "df_gene[\"Symbol\"] = df_gene.iloc[:, 8].str.split(\"gene_name=\").str[1].str.split(\";\").str[0]\n",
    "ens_sym_dict = dict(zip(df_gene[\"Ensembl_ID\"], df_gene[\"Symbol\"]))\n",
    "print(\"\\t\" + ens_sym_dict[\"ENSG00000108953\"]) # test"
   ]
  },
  {
   "cell_type": "code",
   "execution_count": 6,
   "metadata": {
    "scrolled": true
   },
   "outputs": [
    {
     "name": "stdout",
     "output_type": "stream",
     "text": [
      "        Ensembl_ID Gene_Name Uniprot_ID Protein_Name         RS_ID  REF  ALT  \\\n",
      "0  ENSG00000120948    TARDBP        NaN       TARDBP  rs1471344782  NaN  NaN   \n",
      "1  ENSG00000168610     STAT3        NaN       STAT3A   rs993990873  NaN  NaN   \n",
      "2  ENSG00000100906    NFKBIA        NaN     IkBalpha  rs1477467102  NaN  NaN   \n",
      "3  ENSG00000188342    GTF2F2        NaN       GTF2F2  rs1051246129  NaN  NaN   \n",
      "4  ENSG00000270647     TAF15        NaN        TAF15  rs1452672552  NaN  NaN   \n",
      "\n",
      "  pQTL_type Cutoff        Pvalue Corrected_pvalue Measure     Value  \\\n",
      "0     trans   1 Mb  3.156591e-08            < 0.2      R2  0.224095   \n",
      "1       NaN    NaN  4.552463e-05              NaN       R  0.333490   \n",
      "2       NaN    NaN  1.834424e-04              NaN       R -0.419501   \n",
      "3       NaN    NaN  5.439675e-05              NaN       R  0.360772   \n",
      "4       NaN    NaN  2.251364e-05              NaN       R -0.473694   \n",
      "\n",
      "                     Cell_or_tissue     Condition  Experimental_tag PubMed_ID  \n",
      "0  lymphoblastoid cell lines (LCLs)           NaN                 1  25087611  \n",
      "1   ymphoblastoid cell lines (LCLs)       CisApop                 2  24699359  \n",
      "2   ymphoblastoid cell lines (LCLs)       CisApop                 2  24699359  \n",
      "3   ymphoblastoid cell lines (LCLs)    Pacli.Apop                 3  24699359  \n",
      "4   ymphoblastoid cell lines (LCLs)  PacLog2_12.5                 4  24699359  \n",
      "        Ensembl_ID Gene_Name  Uniprot_ID Protein_Name         RS_ID  REF  ALT  \\\n",
      "0  ENSG00000120948    TARDBP      K7ENM9       TARDBP  rs1471344782  NaN  NaN   \n",
      "1  ENSG00000168610     STAT3      G8JLH9        STAT3   rs993990873  NaN  NaN   \n",
      "2  ENSG00000100906    NFKBIA      G3V286       NFKBIA  rs1477467102  NaN  NaN   \n",
      "3  ENSG00000188342    GTF2F2      P13984       GTF2F2  rs1051246129  NaN  NaN   \n",
      "4  ENSG00000270647     TAF15  A0A075B7D9        TAF15  rs1452672552  NaN  NaN   \n",
      "\n",
      "  pQTL_type Cutoff        Pvalue Corrected_pvalue Measure     Value  \\\n",
      "0     trans   1 Mb  3.156591e-08            < 0.2      R2  0.224095   \n",
      "1       NaN    NaN  4.552463e-05              NaN       R  0.333490   \n",
      "2       NaN    NaN  1.834424e-04              NaN       R -0.419501   \n",
      "3       NaN    NaN  5.439675e-05              NaN       R  0.360772   \n",
      "4       NaN    NaN  2.251364e-05              NaN       R -0.473694   \n",
      "\n",
      "                     Cell_or_tissue     Condition  Experimental_tag PubMed_ID  \n",
      "0  lymphoblastoid cell lines (LCLs)           NaN                 1  25087611  \n",
      "1   ymphoblastoid cell lines (LCLs)       CisApop                 2  24699359  \n",
      "2   ymphoblastoid cell lines (LCLs)       CisApop                 2  24699359  \n",
      "3   ymphoblastoid cell lines (LCLs)    Pacli.Apop                 3  24699359  \n",
      "4   ymphoblastoid cell lines (LCLs)  PacLog2_12.5                 4  24699359  \n"
     ]
    }
   ],
   "source": [
    "df_p = pd.read_table(pqtl_file, sep=\"\\t\", skiprows=1)\n",
    "print(df_p.head())\n",
    "ensembl_list = df_p[\"Ensembl_ID\"].tolist()\n",
    "old_uniprot_list, old_symbol_list = df_p[\"Uniprot_ID\"].tolist(), df_p[\"Gene_Name\"].tolist()\n",
    "uniprot_list, symbol_list = [], []\n",
    "for i in range(len(ensembl_list)):\n",
    "    ensembl = ensembl_list[i]\n",
    "    if ensembl in ens_uni_dict:\n",
    "        uniprot_list.append(ens_uni_dict[ensembl])\n",
    "    elif old_uniprot_list[i] != \"\":\n",
    "        uniprot_list.append(old_uniprot_list[i])\n",
    "    else:\n",
    "        uniprot_list.append(np.nan)\n",
    "    if ensembl in ens_sym_dict:\n",
    "        symbol_list.append(ens_sym_dict[ensembl])\n",
    "    elif old_symbol_list[i] != \"\":\n",
    "        symbol_list.append(old_symbol_list[i])\n",
    "    else:\n",
    "        symbol_list.append(np.nan)\n",
    "# print(len(ensembl_list), len(symbol_list), len(uniprot_list))\n",
    "df_p[\"Gene_Name\"] = symbol_list\n",
    "df_p[\"Protein_Name\"] = symbol_list\n",
    "df_p[\"Uniprot_ID\"] = uniprot_list\n",
    "print(df_p.head())\n",
    "df_p.to_csv(result_file, sep=\"\\t\", index=False)"
   ]
  }
 ],
 "metadata": {
  "kernelspec": {
   "display_name": "Python 3",
   "language": "python",
   "name": "python3"
  },
  "language_info": {
   "codemirror_mode": {
    "name": "ipython",
    "version": 3
   },
   "file_extension": ".py",
   "mimetype": "text/x-python",
   "name": "python",
   "nbconvert_exporter": "python",
   "pygments_lexer": "ipython3",
   "version": "3.6.7"
  }
 },
 "nbformat": 4,
 "nbformat_minor": 2
}
