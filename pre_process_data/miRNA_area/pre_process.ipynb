{
 "cells": [
  {
   "cell_type": "code",
   "execution_count": 1,
   "metadata": {},
   "outputs": [],
   "source": [
    "import os\n",
    "import sys\n",
    "import csv\n",
    "import glob\n",
    "import pandas as pd\n",
    "import numpy as np\n",
    "import subprocess\n",
    "from multiprocessing import Pool\n",
    "from sklearn.utils import shuffle"
   ]
  },
  {
   "cell_type": "code",
   "execution_count": 17,
   "metadata": {},
   "outputs": [],
   "source": [
    "#### TarBase_v8 Database\n",
    "#### This is not be used now! "
   ]
  },
  {
   "cell_type": "code",
   "execution_count": null,
   "metadata": {},
   "outputs": [],
   "source": [
    "# def process_TarBase():\n",
    "################################################################################\n",
    "gff = \"/home/galaxy/data/miRNA_area/hsa.gff3\"\n",
    "# a decade-long collection of experimentally supported miRNA–gene interactions\n",
    "db_file = \"/home/galaxy/data/miRNA_area/TarBase_v8/TarBase_v8_download.txt\"\n",
    "result_dir = \"/home/galaxy/project/QTL_analysis/related_with_miRNA/eQTL\"\n",
    "################################################################################\n",
    "df = pd.read_table(db_file, sep=\"\\t\")\n",
    "print(set(df.category.tolist()))\n",
    "included_list = [\n",
    "    \"Normal/Primary\", \"Embryonic/Fetal,Stem/Progenitor\", \"Embryonic/Fetal\",\n",
    "    \"Pulmonary Artery\", \"Stem/Progenitor\"\n",
    "]\n",
    "df_hs = df[(df.species == \"Homo sapiens\") & (~df.tissue.isnull()) &\n",
    "           (df.category.isin(included_list))]\n",
    "df_hs[\"name\"] = df_hs[\"mirna\"] + \":\" + df_hs[\"geneId\"]\n",
    "df_hs[\"info\"] = df_hs.iloc[:, 3:].apply(\n",
    "    lambda x: \":\".join(x.astype(str)), axis=1)\n",
    "print(df_hs.head())\n",
    "########\n",
    "# process_TarBase()\n",
    "\n",
    "df_gff = pd.read_table(gff, sep=\"\\t\", comment=\"#\", header=None)\n",
    "df_gff[\"mirna\"] = df_gff.iloc[:, -1].str.split(\"Name=\").str[1].str.split(\n",
    "    \";\").str[0]\n",
    "df_gff_bed = df_gff.iloc[:, [0, 3, 4, -1, 5, 6]]\n",
    "df_gff_bed.columns = [\"chr\", \"start\", \"end\", \"mirna\", \"dot\", \"strand\"]\n",
    "print(df_gff_bed.head())\n",
    "\n",
    "#####\n",
    "df_raw = df_hs.merge(df_gff_bed, on=\"mirna\", how=\"left\").dropna()\n",
    "df_region = df_raw[[\n",
    "    \"chr\", \"start\", \"end\", \"name\", \"dot\", \"strand\", \"info\", \"tissue\"\n",
    "]]\n",
    "df_region[\"start\"] = df_region[\"start\"].astype(\"int\")\n",
    "df_region[\"end\"] = df_region[\"end\"].astype(\"int\")\n",
    "df_region = df_region.sort_values([\"chr\", \"start\",\n",
    "                                   \"end\"]).reset_index(drop=True)\n",
    "print(df_region.head())\n",
    "\n",
    "#####\n",
    "# df_region.to_csv(os.path.join(result_dir, \"TarBase_GRCh38.bed\"), sep=\"\\t\", header=False, index=False)\n",
    "df_region = df_region[[\"chr\", \"start\", \"end\"]].drop_duplicates()\n",
    "tissue_list = list(set(df_region.tissue.tolist()))\n",
    "for tissue in tissue_list:\n",
    "    df_t = df_region[df_region.tissue == tissue]\n",
    "    result_file = os.path.join(\"/home/galaxy/data/miRNA_area/TarBase_v8/\",\n",
    "                               \"%s.bed\" % tissue.strip())\n",
    "    df_t.iloc[:, :6].to_csv(\n",
    "        result_file,\n",
    "        sep=\"\\t\",\n",
    "        header=False,\n",
    "        index=False,\n",
    "        quoting=csv.QUOTE_NONE)"
   ]
  },
  {
   "cell_type": "markdown",
   "metadata": {},
   "source": [
    "#### Split TarBase_GRCh38.bed by each miRNA"
   ]
  },
  {
   "cell_type": "code",
   "execution_count": 6,
   "metadata": {},
   "outputs": [
    {
     "data": {
      "text/html": [
       "<div>\n",
       "<style scoped>\n",
       "    .dataframe tbody tr th:only-of-type {\n",
       "        vertical-align: middle;\n",
       "    }\n",
       "\n",
       "    .dataframe tbody tr th {\n",
       "        vertical-align: top;\n",
       "    }\n",
       "\n",
       "    .dataframe thead th {\n",
       "        text-align: right;\n",
       "    }\n",
       "</style>\n",
       "<table border=\"1\" class=\"dataframe\">\n",
       "  <thead>\n",
       "    <tr style=\"text-align: right;\">\n",
       "      <th></th>\n",
       "      <th>chr</th>\n",
       "      <th>start</th>\n",
       "      <th>end</th>\n",
       "      <th>name</th>\n",
       "      <th>dot</th>\n",
       "      <th>strand</th>\n",
       "      <th>info</th>\n",
       "      <th>tissue</th>\n",
       "    </tr>\n",
       "  </thead>\n",
       "  <tbody>\n",
       "    <tr>\n",
       "      <th>0</th>\n",
       "      <td>chr1</td>\n",
       "      <td>1167160</td>\n",
       "      <td>1167181</td>\n",
       "      <td>hsa-miR-200b-3p:ENSG00000001461</td>\n",
       "      <td>.</td>\n",
       "      <td>+</td>\n",
       "      <td>Homo sapiens:HT29:Intestine:Cancer/Malignant:M...</td>\n",
       "      <td>Intestine</td>\n",
       "    </tr>\n",
       "    <tr>\n",
       "      <th>1</th>\n",
       "      <td>chr1</td>\n",
       "      <td>1167160</td>\n",
       "      <td>1167181</td>\n",
       "      <td>hsa-miR-200b-3p:ENSG00000003096</td>\n",
       "      <td>.</td>\n",
       "      <td>+</td>\n",
       "      <td>Homo sapiens:HT29:Intestine:Cancer/Malignant:M...</td>\n",
       "      <td>Intestine</td>\n",
       "    </tr>\n",
       "    <tr>\n",
       "      <th>2</th>\n",
       "      <td>chr1</td>\n",
       "      <td>1167160</td>\n",
       "      <td>1167181</td>\n",
       "      <td>hsa-miR-200b-3p:ENSG00000003436</td>\n",
       "      <td>.</td>\n",
       "      <td>+</td>\n",
       "      <td>Homo sapiens:NCIH508:Intestine:Cancer/Malignan...</td>\n",
       "      <td>Intestine</td>\n",
       "    </tr>\n",
       "    <tr>\n",
       "      <th>3</th>\n",
       "      <td>chr1</td>\n",
       "      <td>1167160</td>\n",
       "      <td>1167181</td>\n",
       "      <td>hsa-miR-200b-3p:ENSG00000005189</td>\n",
       "      <td>.</td>\n",
       "      <td>+</td>\n",
       "      <td>Homo sapiens:HT29:Intestine:Cancer/Malignant:M...</td>\n",
       "      <td>Intestine</td>\n",
       "    </tr>\n",
       "    <tr>\n",
       "      <th>4</th>\n",
       "      <td>chr1</td>\n",
       "      <td>1167160</td>\n",
       "      <td>1167181</td>\n",
       "      <td>hsa-miR-200b-3p:ENSG00000005206</td>\n",
       "      <td>.</td>\n",
       "      <td>+</td>\n",
       "      <td>Homo sapiens:HT29:Intestine:Cancer/Malignant:M...</td>\n",
       "      <td>Intestine</td>\n",
       "    </tr>\n",
       "  </tbody>\n",
       "</table>\n",
       "</div>"
      ],
      "text/plain": [
       "    chr    start      end                             name dot strand  \\\n",
       "0  chr1  1167160  1167181  hsa-miR-200b-3p:ENSG00000001461   .      +   \n",
       "1  chr1  1167160  1167181  hsa-miR-200b-3p:ENSG00000003096   .      +   \n",
       "2  chr1  1167160  1167181  hsa-miR-200b-3p:ENSG00000003436   .      +   \n",
       "3  chr1  1167160  1167181  hsa-miR-200b-3p:ENSG00000005189   .      +   \n",
       "4  chr1  1167160  1167181  hsa-miR-200b-3p:ENSG00000005206   .      +   \n",
       "\n",
       "                                                info     tissue  \n",
       "0  Homo sapiens:HT29:Intestine:Cancer/Malignant:M...  Intestine  \n",
       "1  Homo sapiens:HT29:Intestine:Cancer/Malignant:M...  Intestine  \n",
       "2  Homo sapiens:NCIH508:Intestine:Cancer/Malignan...  Intestine  \n",
       "3  Homo sapiens:HT29:Intestine:Cancer/Malignant:M...  Intestine  \n",
       "4  Homo sapiens:HT29:Intestine:Cancer/Malignant:M...  Intestine  "
      ]
     },
     "execution_count": 6,
     "metadata": {},
     "output_type": "execute_result"
    }
   ],
   "source": [
    "result_dir = \"/home/galaxy/data/miRNA_area/TarBase_v8/split_by_mirna/info_dir\"\n",
    "source_file = \"/home/galaxy/data/miRNA_area/TarBase_v8/TarBase_GRCh38.bed\"\n",
    "df = pd.read_table(source_file, sep=\"\\t\", header=None)\n",
    "df.columns = [\"chr\", \"start\", \"end\", \"name\", \"dot\", \"strand\", \"info\", \"tissue\"]\n",
    "df.head()"
   ]
  },
  {
   "cell_type": "code",
   "execution_count": 8,
   "metadata": {},
   "outputs": [
    {
     "data": {
      "text/html": [
       "<div>\n",
       "<style scoped>\n",
       "    .dataframe tbody tr th:only-of-type {\n",
       "        vertical-align: middle;\n",
       "    }\n",
       "\n",
       "    .dataframe tbody tr th {\n",
       "        vertical-align: top;\n",
       "    }\n",
       "\n",
       "    .dataframe thead th {\n",
       "        text-align: right;\n",
       "    }\n",
       "</style>\n",
       "<table border=\"1\" class=\"dataframe\">\n",
       "  <thead>\n",
       "    <tr style=\"text-align: right;\">\n",
       "      <th></th>\n",
       "    </tr>\n",
       "  </thead>\n",
       "  <tbody>\n",
       "  </tbody>\n",
       "</table>\n",
       "</div>"
      ],
      "text/plain": [
       "Empty DataFrame\n",
       "Columns: []\n",
       "Index: []"
      ]
     },
     "execution_count": 8,
     "metadata": {},
     "output_type": "execute_result"
    }
   ],
   "source": [
    "df[\"miRNA\"] = df[\"name\"].str.split(\":\").str[0]\n",
    "df[\"Gene\"] = df[\"name\"].str.split(\":\").str[1]"
   ]
  },
  {
   "cell_type": "code",
   "execution_count": 16,
   "metadata": {},
   "outputs": [
    {
     "data": {
      "text/html": [
       "<div>\n",
       "<style scoped>\n",
       "    .dataframe tbody tr th:only-of-type {\n",
       "        vertical-align: middle;\n",
       "    }\n",
       "\n",
       "    .dataframe tbody tr th {\n",
       "        vertical-align: top;\n",
       "    }\n",
       "\n",
       "    .dataframe thead th {\n",
       "        text-align: right;\n",
       "    }\n",
       "</style>\n",
       "<table border=\"1\" class=\"dataframe\">\n",
       "  <thead>\n",
       "    <tr style=\"text-align: right;\">\n",
       "      <th></th>\n",
       "    </tr>\n",
       "  </thead>\n",
       "  <tbody>\n",
       "  </tbody>\n",
       "</table>\n",
       "</div>"
      ],
      "text/plain": [
       "Empty DataFrame\n",
       "Columns: []\n",
       "Index: []"
      ]
     },
     "execution_count": 16,
     "metadata": {},
     "output_type": "execute_result"
    }
   ],
   "source": [
    "# df.groupby([\"miRNA\"]).apply(generate_info_file)\n",
    "df.groupby([\"miRNA\"]).apply(generate_bed_file)"
   ]
  },
  {
   "cell_type": "code",
   "execution_count": 7,
   "metadata": {},
   "outputs": [],
   "source": [
    "def generate_info_file(df_i):\n",
    "    result_dir = \"/home/galaxy/data/miRNA_area/TarBase_v8/split_by_mirna/info_dir\"\n",
    "    mirna_name = df_i[\"miRNA\"].tolist()[0]\n",
    "    result_file = os.path.join(result_dir, \"%s.bed\" % mirna_name)\n",
    "    df_i.to_csv(result_file, sep=\"\\t\", index=False)"
   ]
  },
  {
   "cell_type": "code",
   "execution_count": 15,
   "metadata": {},
   "outputs": [],
   "source": [
    "def generate_bed_file(df_i):\n",
    "    result_dir = \"/home/galaxy/data/miRNA_area/TarBase_v8/split_by_mirna/GRCh38_bed_dir\"\n",
    "    mirna_name = df_i[\"miRNA\"].tolist()[0]\n",
    "    result_file = os.path.join(result_dir, \"%s.bed\" % mirna_name)\n",
    "    df_bed = df_i[[\"chr\", \"start\", \"end\"]].sort_values(by=[\"chr\", \"start\"]).drop_duplicates()\n",
    "    df_bed.to_csv(result_file, sep=\"\\t\", header=False, index=False)"
   ]
  }
 ],
 "metadata": {
  "kernelspec": {
   "display_name": "Python 3",
   "language": "python",
   "name": "python3"
  },
  "language_info": {
   "codemirror_mode": {
    "name": "ipython",
    "version": 3
   },
   "file_extension": ".py",
   "mimetype": "text/x-python",
   "name": "python",
   "nbconvert_exporter": "python",
   "pygments_lexer": "ipython3",
   "version": "3.6.6"
  }
 },
 "nbformat": 4,
 "nbformat_minor": 2
}
