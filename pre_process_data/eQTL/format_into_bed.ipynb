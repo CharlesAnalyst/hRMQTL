{
 "cells": [
  {
   "cell_type": "code",
   "execution_count": 29,
   "metadata": {},
   "outputs": [],
   "source": [
    "import os\n",
    "import glob\n",
    "import pandas as pd\n",
    "import numpy as np\n",
    "from multiprocessing import Pool"
   ]
  },
  {
   "cell_type": "code",
   "execution_count": 18,
   "metadata": {},
   "outputs": [],
   "source": [
    "###########################################################################################\n",
    "data_dir = \"/home/galaxy/data/QTL/eQTL/sigle_tissue/GTEx_Analysis_v7_eQTL\"\n",
    "result_dir = \"/home/galaxy/data/QTL/eQTL/sigle_tissue/GTEx_Analysis_v7_eQTL/query_format\"\n",
    "###########################################################################################\n",
    "file_list = glob.glob(\"%s/*signif_variant_gene_pairs.txt\" % data_dir)\n",
    "for in_file in file_list:\n",
    "    result_file = \"%s/%s\" % (result_dir, os.path.basename(in_file))\n",
    "    df = pd.read_table(in_file, sep=\"\\t\")\n",
    "#     df[\"chr\"] = df[\"variant_id\"].str.split(\"_\").str[0]\n",
    "#     df[\"start\"] = df[\"variant_id\"].str.split(\"_\").str[1]\n",
    "#     df[\"end\"] = [int(x)+1 for x in df[\"start\"]]\n",
    "    df[\"search_id\"] = df[\"variant_id\"].str.split(\"_\").str[0] + \"_\" + df[\"variant_id\"].str.split(\"_\").str[1]\n",
    "#     df[[\"chr\", \"start\", \"end\", \"variant_id\"]].to_csv(result_file, sep=\"\\t\", index=False)\n",
    "    df[[\"search_id\", \"variant_id\"]].to_csv(result_file, sep=\"\\t\", index=False)"
   ]
  },
  {
   "cell_type": "markdown",
   "metadata": {},
   "source": [
    "#### To get rs id from vcf based on \"search id\""
   ]
  },
  {
   "cell_type": "code",
   "execution_count": 35,
   "metadata": {},
   "outputs": [
    {
     "name": "stderr",
     "output_type": "stream",
     "text": [
      "/home/galaxy/anaconda3/lib/python3.6/site-packages/IPython/core/interactiveshell.py:3020: DtypeWarning: Columns (0) have mixed types. Specify dtype option on import or set low_memory=False.\n",
      "  interactivity=interactivity, compiler=compiler, result=result)\n"
     ]
    },
    {
     "data": {
      "text/html": [
       "<div>\n",
       "<style scoped>\n",
       "    .dataframe tbody tr th:only-of-type {\n",
       "        vertical-align: middle;\n",
       "    }\n",
       "\n",
       "    .dataframe tbody tr th {\n",
       "        vertical-align: top;\n",
       "    }\n",
       "\n",
       "    .dataframe thead th {\n",
       "        text-align: right;\n",
       "    }\n",
       "</style>\n",
       "<table border=\"1\" class=\"dataframe\">\n",
       "  <thead>\n",
       "    <tr style=\"text-align: right;\">\n",
       "      <th></th>\n",
       "      <th>CHROM</th>\n",
       "      <th>POS</th>\n",
       "      <th>ID</th>\n",
       "      <th>REF</th>\n",
       "      <th>ALT</th>\n",
       "      <th>QUAL</th>\n",
       "      <th>FILTER</th>\n",
       "      <th>INFO</th>\n",
       "    </tr>\n",
       "  </thead>\n",
       "  <tbody>\n",
       "    <tr>\n",
       "      <th>0</th>\n",
       "      <td>1</td>\n",
       "      <td>10177</td>\n",
       "      <td>rs367896724</td>\n",
       "      <td>A</td>\n",
       "      <td>AC</td>\n",
       "      <td>.</td>\n",
       "      <td>.</td>\n",
       "      <td>RS=367896724;RSPOS=10177;dbSNPBuildID=138;SSR=...</td>\n",
       "    </tr>\n",
       "    <tr>\n",
       "      <th>1</th>\n",
       "      <td>1</td>\n",
       "      <td>10352</td>\n",
       "      <td>rs555500075</td>\n",
       "      <td>T</td>\n",
       "      <td>TA</td>\n",
       "      <td>.</td>\n",
       "      <td>.</td>\n",
       "      <td>RS=555500075;RSPOS=10352;dbSNPBuildID=142;SSR=...</td>\n",
       "    </tr>\n",
       "    <tr>\n",
       "      <th>2</th>\n",
       "      <td>1</td>\n",
       "      <td>10616</td>\n",
       "      <td>rs376342519</td>\n",
       "      <td>CCGCCGTTGCAAAGGCGCGCCG</td>\n",
       "      <td>C</td>\n",
       "      <td>.</td>\n",
       "      <td>.</td>\n",
       "      <td>RS=376342519;RSPOS=10617;dbSNPBuildID=142;SSR=...</td>\n",
       "    </tr>\n",
       "    <tr>\n",
       "      <th>3</th>\n",
       "      <td>1</td>\n",
       "      <td>11012</td>\n",
       "      <td>rs544419019</td>\n",
       "      <td>C</td>\n",
       "      <td>G</td>\n",
       "      <td>.</td>\n",
       "      <td>.</td>\n",
       "      <td>RS=544419019;RSPOS=11012;dbSNPBuildID=142;SSR=...</td>\n",
       "    </tr>\n",
       "    <tr>\n",
       "      <th>4</th>\n",
       "      <td>1</td>\n",
       "      <td>11063</td>\n",
       "      <td>rs561109771</td>\n",
       "      <td>T</td>\n",
       "      <td>G</td>\n",
       "      <td>.</td>\n",
       "      <td>.</td>\n",
       "      <td>RS=561109771;RSPOS=11063;dbSNPBuildID=142;SSR=...</td>\n",
       "    </tr>\n",
       "  </tbody>\n",
       "</table>\n",
       "</div>"
      ],
      "text/plain": [
       "  CHROM    POS           ID                     REF ALT QUAL FILTER  \\\n",
       "0     1  10177  rs367896724                       A  AC    .      .   \n",
       "1     1  10352  rs555500075                       T  TA    .      .   \n",
       "2     1  10616  rs376342519  CCGCCGTTGCAAAGGCGCGCCG   C    .      .   \n",
       "3     1  11012  rs544419019                       C   G    .      .   \n",
       "4     1  11063  rs561109771                       T   G    .      .   \n",
       "\n",
       "                                                INFO  \n",
       "0  RS=367896724;RSPOS=10177;dbSNPBuildID=138;SSR=...  \n",
       "1  RS=555500075;RSPOS=10352;dbSNPBuildID=142;SSR=...  \n",
       "2  RS=376342519;RSPOS=10617;dbSNPBuildID=142;SSR=...  \n",
       "3  RS=544419019;RSPOS=11012;dbSNPBuildID=142;SSR=...  \n",
       "4  RS=561109771;RSPOS=11063;dbSNPBuildID=142;SSR=...  "
      ]
     },
     "execution_count": 35,
     "metadata": {},
     "output_type": "execute_result"
    }
   ],
   "source": [
    "#########################################################################################\n",
    "common_vcf = \"/home/galaxy/data/QTL/eQTL/sigle_tissue/GRCh37_common_all_20180423.vcf\"\n",
    "data_dir = \"/home/galaxy/data/QTL/eQTL/sigle_tissue/GTEx_Analysis_v7_eQTL/query_format\"\n",
    "result_dir = \"/home/galaxy/data/QTL/eQTL/sigle_tissue/GTEx_Analysis_v7_eQTL/rs_id/\"\n",
    "########################################################################################\n",
    "df = pd.read_table(common_vcf, sep=\"\\t\", header=None, comment=\"#\")\n",
    "df.columns = [\"CHROM\", \"POS\", \"ID\", \"REF\", \"ALT\", \"QUAL\", \"FILTER\", \"INFO\"]\n",
    "df[\"search_id\"] = df[\"CHROM\"].astype(str) + \"_\" + df[\"POS\"].astype(str)\n",
    "df_sub = df[[\"search_id\", \"ID\", \"REF\", \"ALT\"]]\n",
    "df_sub.head()"
   ]
  },
  {
   "cell_type": "code",
   "execution_count": 37,
   "metadata": {},
   "outputs": [],
   "source": [
    "query_list = glob.glob(\"%s/*.txt\" % data_dir)\n",
    "def get_rs_id(query):\n",
    "    result_file = os.path.join(result_dir, os.path.basename(query))\n",
    "    df_query = pd.read_table(query, sep=\"\\t\")\n",
    "    df_result = df_query.merge(df_sub, how=\"left\", on=\"search_id\").dropna()\n",
    "    df_result.to_csv(result_file, sep=\"\\t\", index=False)\n",
    "    \n",
    "pool = Pool(processes=4)\n",
    "for query in query_list:\n",
    "    pool.apply_async(get_rs_id, (query, ))\n",
    "pool.close()\n",
    "pool.join()"
   ]
  },
  {
   "cell_type": "markdown",
   "metadata": {},
   "source": [
    "#### To get related gene and maf from raw file based on \"variant id\"\n",
    "#### To get snp position from GRCh38 vcf based on \"ID\""
   ]
  },
  {
   "cell_type": "code",
   "execution_count": 42,
   "metadata": {},
   "outputs": [
    {
     "name": "stderr",
     "output_type": "stream",
     "text": [
      "/home/galaxy/anaconda3/lib/python3.6/site-packages/IPython/core/interactiveshell.py:3020: DtypeWarning: Columns (0) have mixed types. Specify dtype option on import or set low_memory=False.\n",
      "  interactivity=interactivity, compiler=compiler, result=result)\n"
     ]
    }
   ],
   "source": [
    "#####################################################################################\n",
    "raw_dir = \"/home/galaxy/data/QTL/eQTL/sigle_tissue/GTEx_Analysis_v7_eQTL/\"\n",
    "rs_dir = \"/home/galaxy/data/QTL/eQTL/sigle_tissue/GTEx_Analysis_v7_eQTL/rs_id/\"\n",
    "common_vcf = \"/home/galaxy/data/QTL/eQTL/sigle_tissue/GRCh38_common_all_20180418.vcf\"\n",
    "result_dir = \"/home/galaxy/data/QTL/eQTL/sigle_tissue/GTEx_Analysis_v7_eQTL/GRCh38_info_dir\"\n",
    "#######################################################################################\n",
    "df_vcf = pd.read_table(common_vcf, sep=\"\\t\", header=None, comment=\"#\")\n",
    "df_vcf.columns = [\"CHROM\", \"POS\", \"ID\", \"REF\", \"ALT\", \"QUAL\", \"FILTER\", \"INFO\"]\n",
    "df_vcf_sub = df_vcf[[\"CHROM\", \"POS\", \"ID\"]]\n",
    "# df.head()\n",
    "file_list = glob.glob(\"%s/*.txt\" % rs_dir)\n",
    "for x in file_list:\n",
    "    y = os.path.join(raw_dir, os.path.basename(x))\n",
    "    df_rs = pd.read_table(x, sep=\"\\t\")\n",
    "    df_raw = pd.read_table(y, sep=\"\\t\")\n",
    "    df_merge = df_raw.merge(df_rs, how=\"left\", on=\"variant_id\").dropna()\n",
    "    df_info = df_merge[[\"variant_id\", \"gene_id\", \"maf\", \"ID\", \"REF\", \"ALT\"]].drop_duplicates()\n",
    "    df_final = df_info.merge(df_vcf_sub, how=\"left\", on=\"ID\").dropna()\n",
    "    result_file = os.path.join(result_dir, os.path.basename(x))\n",
    "    df_final.to_csv(result_file, sep=\"\\t\", index=False)"
   ]
  },
  {
   "cell_type": "code",
   "execution_count": 47,
   "metadata": {},
   "outputs": [],
   "source": [
    "# Transform txt into bed format\n",
    "##########################\n",
    "data_dir = \"/home/galaxy/data/QTL/eQTL/sigle_tissue/GTEx_Analysis_v7_eQTL/GRCh38_info_dir\"\n",
    "result_dir = \"/home/galaxy/data/QTL/eQTL/sigle_tissue/GTEx_Analysis_v7_eQTL/GRCh38_bed\"\n",
    "###############################\n",
    "file_list = glob.glob(\"%s/*.txt\" % data_dir)\n",
    "for x in file_list:\n",
    "    df = pd.read_table(x, sep=\"\\t\")\n",
    "    result_file = os.path.join(result_dir, os.path.basename(x).replace(\".txt\", \".bed\"))\n",
    "    df[\"info\"] = df[\"gene_id\"] + \";\" + df[\"maf\"].astype(str) + \";\" + df[\"ID\"] + \";\" + df[\"REF\"] + \";\" + df[\"ALT\"]\n",
    "    df[\"chr_name\"] = \"chr\" + df[\"CHROM\"].astype(str)\n",
    "    df[\"start\"] = df[\"POS\"].astype(int) - 1\n",
    "    df[\"end\"] = df[\"POS\"].astype(int)\n",
    "    df_final = df[[\"chr_name\", \"start\", \"end\", \"info\"]]\n",
    "#     print(df_final.head())\n",
    "    df_final.to_csv(result_file, sep=\"\\t\", header=False, index=False)"
   ]
  }
 ],
 "metadata": {
  "kernelspec": {
   "display_name": "Python 3",
   "language": "python",
   "name": "python3"
  },
  "language_info": {
   "codemirror_mode": {
    "name": "ipython",
    "version": 3
   },
   "file_extension": ".py",
   "mimetype": "text/x-python",
   "name": "python",
   "nbconvert_exporter": "python",
   "pygments_lexer": "ipython3",
   "version": "3.6.6"
  }
 },
 "nbformat": 4,
 "nbformat_minor": 2
}
