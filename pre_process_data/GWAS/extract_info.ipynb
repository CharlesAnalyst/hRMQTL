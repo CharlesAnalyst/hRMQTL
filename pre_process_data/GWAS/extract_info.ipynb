{
 "cells": [
  {
   "cell_type": "code",
   "execution_count": 1,
   "metadata": {},
   "outputs": [],
   "source": [
    "import os\n",
    "import pandas as pd"
   ]
  },
  {
   "cell_type": "code",
   "execution_count": 2,
   "metadata": {},
   "outputs": [
    {
     "name": "stderr",
     "output_type": "stream",
     "text": [
      "/home/galaxy/anaconda3/lib/python3.6/site-packages/IPython/core/interactiveshell.py:3020: DtypeWarning: Columns (23,27) have mixed types. Specify dtype option on import or set low_memory=False.\n",
      "  interactivity=interactivity, compiler=compiler, result=result)\n"
     ]
    }
   ],
   "source": [
    "infile = \"/home/galaxy/data/disease/gwas_catalog_v1.0.2-associations_e92_r2018-05-03.tsv\"\n",
    "df = pd.read_table(infile, sep=\"\\t\")"
   ]
  },
  {
   "cell_type": "code",
   "execution_count": 7,
   "metadata": {},
   "outputs": [
    {
     "name": "stdout",
     "output_type": "stream",
     "text": [
      "Index(['DATE ADDED TO CATALOG', 'PUBMEDID', 'FIRST AUTHOR', 'DATE', 'JOURNAL',\n",
      "       'LINK', 'STUDY', 'DISEASE/TRAIT', 'INITIAL SAMPLE SIZE',\n",
      "       'REPLICATION SAMPLE SIZE', 'REGION', 'CHR_ID', 'CHR_POS',\n",
      "       'REPORTED GENE(S)', 'MAPPED_GENE', 'UPSTREAM_GENE_ID',\n",
      "       'DOWNSTREAM_GENE_ID', 'SNP_GENE_IDS', 'UPSTREAM_GENE_DISTANCE',\n",
      "       'DOWNSTREAM_GENE_DISTANCE', 'STRONGEST SNP-RISK ALLELE', 'SNPS',\n",
      "       'MERGED', 'SNP_ID_CURRENT', 'CONTEXT', 'INTERGENIC',\n",
      "       'RISK ALLELE FREQUENCY', 'P-VALUE', 'PVALUE_MLOG', 'P-VALUE (TEXT)',\n",
      "       'OR or BETA', '95% CI (TEXT)', 'PLATFORM [SNPS PASSING QC]', 'CNV',\n",
      "       'MAPPED_TRAIT', 'MAPPED_TRAIT_URI', 'STUDY ACCESSION',\n",
      "       'GENOTYPING TECHNOLOGY'],\n",
      "      dtype='object')\n",
      "   PUBMEDID              DISEASE/TRAIT REPORTED GENE(S)  \\\n",
      "0  25574825  Inflammatory skin disease    RP11-219G17.4   \n",
      "1  25574825  Inflammatory skin disease             MGMT   \n",
      "2  25574825  Inflammatory skin disease            OR2W5   \n",
      "3  25574825  Inflammatory skin disease       AC010733.4   \n",
      "4  25574825  Inflammatory skin disease            LCE3A   \n",
      "\n",
      "                   MAPPED_GENE        SNPS P-VALUE  \\\n",
      "0  LOC100996291 - LOC105371912   rs9302874   2e-07   \n",
      "1                         MGMT  rs80312298   6e-07   \n",
      "2               OR2B11 - OR2W5  rs10802516   6e-06   \n",
      "3        RN7SL632P - LINC01185  rs35741374   4e-12   \n",
      "4                LCE3B - LCE3A   rs1581803   2e-12   \n",
      "\n",
      "          GENOTYPING TECHNOLOGY  \n",
      "0  Genome-wide genotyping array  \n",
      "1  Genome-wide genotyping array  \n",
      "2  Genome-wide genotyping array  \n",
      "3  Genome-wide genotyping array  \n",
      "4  Genome-wide genotyping array  \n"
     ]
    }
   ],
   "source": [
    "included_list = [\"PUBMEDID\", \"DISEASE/TRAIT\", \"REPORTED GENE(S)\", \"MAPPED_GENE\", \"SNPS\", \"P-VALUE\", \"GENOTYPING TECHNOLOGY\"]\n",
    "print(df.columns)\n",
    "df_sub = df[included_list]\n",
    "print(df_sub.head())\n",
    "df_sub.to_csv(\"/home/galaxy/data/disease/GWAS/info.txt\", sep=\"\\t\", index=False)"
   ]
  }
 ],
 "metadata": {
  "kernelspec": {
   "display_name": "Python 3",
   "language": "python",
   "name": "python3"
  },
  "language_info": {
   "codemirror_mode": {
    "name": "ipython",
    "version": 3
   },
   "file_extension": ".py",
   "mimetype": "text/x-python",
   "name": "python",
   "nbconvert_exporter": "python",
   "pygments_lexer": "ipython3",
   "version": "3.6.7"
  }
 },
 "nbformat": 4,
 "nbformat_minor": 2
}
