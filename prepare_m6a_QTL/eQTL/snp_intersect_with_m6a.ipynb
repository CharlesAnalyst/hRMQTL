{
 "cells": [
  {
   "cell_type": "code",
   "execution_count": 1,
   "metadata": {},
   "outputs": [],
   "source": [
    "import os\n",
    "import sys\n",
    "import csv\n",
    "import shutil\n",
    "import random\n",
    "import glob\n",
    "import pandas as pd\n",
    "import numpy as np\n",
    "from scipy import stats\n",
    "import subprocess\n",
    "from multiprocessing import Pool"
   ]
  },
  {
   "cell_type": "code",
   "execution_count": 8,
   "metadata": {},
   "outputs": [],
   "source": [
    "result_dir = \"/home/galaxy/data/QTL/m6a_related_SNPs/eQTL/m6a_qtl_txt\"\n",
    "m6a_dir = \"/home/galaxy/project/QTL_analysis/data/m6a_peak\"\n",
    "# m6a_list = glob.glob(\"%s/*.bed\" % m6a_dir)\n",
    "qtl_dir = \"/home/galaxy/data/QTL/eQTL/sigle_tissue/GTEx_Analysis_v7_eQTL/GRCh38_bed\"\n",
    "qtl_list = glob.glob(\"%s/*.bed\" % qtl_dir)\n",
    "postfix = \".v7.egenes_position.bed\""
   ]
  },
  {
   "cell_type": "code",
   "execution_count": 9,
   "metadata": {},
   "outputs": [],
   "source": [
    "def generate_map_dict():\n",
    "    map_dict = {\"Adrenal\": \"Kidney\", \"Brain\": \"Brain\", \"Heart\": \"Heart\", \"Liver\": \"Liver\", \"Lung\": \"Lung\", \n",
    "                \"Muscle\": \"Muscle\", \"Pituitary\": \"Brain\", \"Stomach\": \"Stomach\"}\n",
    "    return map_dict\n",
    "\n",
    "def perform_intersection(eQTL, m6a):\n",
    "    pre_eQTL, pre_m6a = os.path.basename(eQTL).split(postfix)[0], os.path.basename(m6a).split(\".bed\")[0]\n",
    "    result_txt = os.path.join(result_dir, \"%s-%s\" % (pre_eQTL, os.path.basename(m6a).replace(\".bed\", \".txt\")))\n",
    "    os.system(\"bedtools intersect -a %s -b %s -wa -wb > %s\" % (eQTL, m6a, result_txt))"
   ]
  },
  {
   "cell_type": "markdown",
   "metadata": {},
   "source": [
    "### Perform intersection"
   ]
  },
  {
   "cell_type": "code",
   "execution_count": 10,
   "metadata": {},
   "outputs": [
    {
     "name": "stdout",
     "output_type": "stream",
     "text": [
      "Brain_Nucleus_accumbens_basal_ganglia.v7.signif_variant_gene_pairs.bed \t Brain.bed\n",
      "Brain_Hypothalamus.v7.signif_variant_gene_pairs.bed \t Brain.bed\n",
      "Pituitary.v7.signif_variant_gene_pairs.bed \t Brain.bed\n",
      "Brain_Hippocampus.v7.signif_variant_gene_pairs.bed \t Brain.bed\n",
      "Adrenal_Gland.v7.signif_variant_gene_pairs.bed \t Kidney.bed\n",
      "Brain_Caudate_basal_ganglia.v7.signif_variant_gene_pairs.bed \t Brain.bed\n",
      "Brain_Anterior_cingulate_cortex_BA24.v7.signif_variant_gene_pairs.bed \t Brain.bed\n",
      "Brain_Substantia_nigra.v7.signif_variant_gene_pairs.bed \t Brain.bed\n",
      "Muscle_Skeletal.v7.signif_variant_gene_pairs.bed \t Muscle.bed\n",
      "Brain_Putamen_basal_ganglia.v7.signif_variant_gene_pairs.bed \t Brain.bed\n",
      "Brain_Frontal_Cortex_BA9.v7.signif_variant_gene_pairs.bed \t Brain.bed\n",
      "Brain_Spinal_cord_cervical_c-1.v7.signif_variant_gene_pairs.bed \t Brain.bed\n",
      "Heart_Left_Ventricle.v7.signif_variant_gene_pairs.bed \t Heart.bed\n",
      "Heart_Atrial_Appendage.v7.signif_variant_gene_pairs.bed \t Heart.bed\n",
      "Lung.v7.signif_variant_gene_pairs.bed \t Lung.bed\n",
      "Brain_Cerebellum.v7.signif_variant_gene_pairs.bed \t Brain.bed\n",
      "Brain_Cerebellar_Hemisphere.v7.signif_variant_gene_pairs.bed \t Brain.bed\n",
      "Brain_Cortex.v7.signif_variant_gene_pairs.bed \t Brain.bed\n",
      "Brain_Amygdala.v7.signif_variant_gene_pairs.bed \t Brain.bed\n",
      "Stomach.v7.signif_variant_gene_pairs.bed \t Stomach.bed\n",
      "Liver.v7.signif_variant_gene_pairs.bed \t Liver.bed\n"
     ]
    }
   ],
   "source": [
    "map_dict = generate_map_dict()\n",
    "for qtl in qtl_list:\n",
    "    prefix = os.path.basename(qtl).split(\".\")[0].split(\"_\")[0]\n",
    "    if prefix in map_dict:\n",
    "        m6a = \"%s/%s.bed\" % (m6a_dir, map_dict[prefix])\n",
    "        print(os.path.basename(qtl), \"\\t\", os.path.basename(m6a))\n",
    "        perform_intersection(qtl, m6a)"
   ]
  },
  {
   "cell_type": "markdown",
   "metadata": {},
   "source": [
    "#### Format into bed"
   ]
  },
  {
   "cell_type": "code",
   "execution_count": 13,
   "metadata": {},
   "outputs": [],
   "source": [
    "#########################################################################\n",
    "data_dir = \"/home/galaxy/data/QTL/m6a_related_SNPs/eQTL/m6a_qtl_txt\"\n",
    "result_dir = \"/home/galaxy/data/QTL/m6a_related_SNPs/eQTL/m6a_qtl_bed\"\n",
    "qtl_list = glob.glob(\"%s/*.txt\" % data_dir)\n",
    "for qtl in qtl_list:\n",
    "    tissue = os.path.basename(qtl).split(\"-\")[-1].split(\".\")[0]\n",
    "    df = pd.read_table(qtl, sep=\"\\t\", header=None)\n",
    "    df[\"tissue\"] = tissue\n",
    "    df[\"info\"]=df.iloc[:, 3]+\";\"+df.iloc[:, 4]+\":\"+df.iloc[:, 5].astype(str)+\"-\"+df.iloc[:, 6].astype(str)+\";\"+df.iloc[:, 7]\n",
    "    result_bed = os.path.join(result_dir, os.path.basename(qtl).replace(\".txt\", \".bed\"))\n",
    "    df_bed = df.iloc[:, [0,1,2,-1]]\n",
    "    df_bed.to_csv(result_bed, sep=\"\\t\", header=False, index=False)"
   ]
  },
  {
   "cell_type": "markdown",
   "metadata": {},
   "source": [
    "###  Parse result\n",
    "#### m6a-related eQTL"
   ]
  },
  {
   "cell_type": "code",
   "execution_count": 6,
   "metadata": {},
   "outputs": [],
   "source": [
    "# # Format result\n",
    "# data_dir = \"/home/galaxy/project/QTL_analysis/intersected_with_m6a/eQTL\"\n",
    "# def construct_directory():\n",
    "#     eQTL_result_dir = os.path.join(data_dir, \"intersected_eQTL_bed\")\n",
    "#     m6a_result_dir = os.path.join(data_dir, \"intersected_m6a_bed\")\n",
    "#     for result_dir in [eQTL_result_dir, m6a_result_dir]:\n",
    "#         if not os.path.exists(result_dir):\n",
    "#             os.makedirs(result_dir)\n",
    "#     return eQTL_result_dir, m6a_result_dir\n",
    "                \n",
    "# def split_m6aQTL():\n",
    "#     eQTL_result_dir, m6a_result_dir = construct_directory()\n",
    "#     in_list = glob.glob(\"%s/*.bed\" % data_dir)\n",
    "#     for raw_file in in_list:\n",
    "#         eQTL = \"%s.bed\" % os.path.basename(raw_file).split(\"-\")[0]\n",
    "#         os.system(\"cut -f 1-4 %s | sort -k1,1 -k2,2n | uniq> %s\" % (raw_file, os.path.join(eQTL_result_dir, eQTL)))\n",
    "#         m6a = os.path.basename(raw_file)\n",
    "#         os.system(\"cut -f 5-7 %s | sort -k1,1 -k2,2n | uniq > %s\" % (raw_file, os.path.join(m6a_result_dir, m6a)))\n",
    "\n",
    "# # Perform\n",
    "# split_m6aQTL()"
   ]
  }
 ],
 "metadata": {
  "kernelspec": {
   "display_name": "Python 3",
   "language": "python",
   "name": "python3"
  },
  "language_info": {
   "codemirror_mode": {
    "name": "ipython",
    "version": 3
   },
   "file_extension": ".py",
   "mimetype": "text/x-python",
   "name": "python",
   "nbconvert_exporter": "python",
   "pygments_lexer": "ipython3",
   "version": "3.6.6"
  }
 },
 "nbformat": 4,
 "nbformat_minor": 2
}
