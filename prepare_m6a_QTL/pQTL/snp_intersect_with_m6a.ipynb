{
 "cells": [
  {
   "cell_type": "code",
   "execution_count": 1,
   "metadata": {},
   "outputs": [],
   "source": [
    "import os\n",
    "import glob\n",
    "import pandas as pd\n",
    "import numpy as np\n",
    "from multiprocessing import Pool"
   ]
  },
  {
   "cell_type": "code",
   "execution_count": 8,
   "metadata": {},
   "outputs": [],
   "source": [
    "##########\n",
    "# Remove header before run\n",
    "qtl = \"/home/galaxy/data/QTL/pQTL/GRCh38_pQTL.bed\"\n",
    "m6a_dir = \"/home/galaxy/project/QTL_analysis/data/m6a_peak\"\n",
    "result_dir = \"/home/galaxy/data/QTL/m6a_related_SNPs/pQTL/m6a_qtl_txt\"\n",
    "########\n",
    "m6a_list = glob.glob(\"%s/*.bed\" % m6a_dir)\n",
    "for m6a in m6a_list:\n",
    "    result_txt = os.path.join(result_dir, os.path.basename(m6a).replace(\".bed\", \".txt\"))\n",
    "    os.system(\"bedtools intersect -a %s -b %s -wa -wb > %s\" % (qtl, m6a, result_txt))"
   ]
  },
  {
   "cell_type": "code",
   "execution_count": 9,
   "metadata": {},
   "outputs": [
    {
     "name": "stdout",
     "output_type": "stream",
     "text": [
      "/home/galaxy/data/QTL/m6a_related_SNPs/pQTL/m6a_qtl_txt/Heart.txt\n",
      "/home/galaxy/data/QTL/m6a_related_SNPs/pQTL/m6a_qtl_txt/Lung.txt\n",
      "/home/galaxy/data/QTL/m6a_related_SNPs/pQTL/m6a_qtl_txt/Brain.txt\n",
      "/home/galaxy/data/QTL/m6a_related_SNPs/pQTL/m6a_qtl_txt/Placenta.txt\n",
      "/home/galaxy/data/QTL/m6a_related_SNPs/pQTL/m6a_qtl_txt/Kidney.txt\n",
      "/home/galaxy/data/QTL/m6a_related_SNPs/pQTL/m6a_qtl_txt/Liver.txt\n",
      "/home/galaxy/data/QTL/m6a_related_SNPs/pQTL/m6a_qtl_txt/Stomach.txt\n",
      "/home/galaxy/data/QTL/m6a_related_SNPs/pQTL/m6a_qtl_txt/Muscle.txt\n"
     ]
    }
   ],
   "source": [
    "#########################################################################\n",
    "data_dir = \"/home/galaxy/data/QTL/m6a_related_SNPs/pQTL/m6a_qtl_txt\"\n",
    "result_dir = \"/home/galaxy/data/QTL/m6a_related_SNPs/pQTL/m6a_qtl_bed\"\n",
    "qtl_list = glob.glob(\"%s/*.txt\" % data_dir)\n",
    "for qtl in qtl_list:\n",
    "    print(qtl)\n",
    "    tissue = os.path.basename(qtl).split(\"-\")[-1].split(\".\")[0]\n",
    "    df = pd.read_table(qtl, sep=\"\\t\", header=None)\n",
    "    df[\"tissue\"] = tissue\n",
    "    df[\"info\"]=df.iloc[:, 3]+\";\"+df.iloc[:, 4]+\":\"+df.iloc[:, 5].astype(str)+\"-\"+df.iloc[:, 6].astype(str)+\";\"+df.iloc[:, 7]\n",
    "    result_bed = os.path.join(result_dir, os.path.basename(qtl).replace(\".txt\", \".bed\"))\n",
    "    df_bed = df.iloc[:, [0,1,2,-1]]\n",
    "    df_bed.to_csv(result_bed, sep=\"\\t\", header=False, index=False)"
   ]
  }
 ],
 "metadata": {
  "kernelspec": {
   "display_name": "Python 3",
   "language": "python",
   "name": "python3"
  },
  "language_info": {
   "codemirror_mode": {
    "name": "ipython",
    "version": 3
   },
   "file_extension": ".py",
   "mimetype": "text/x-python",
   "name": "python",
   "nbconvert_exporter": "python",
   "pygments_lexer": "ipython3",
   "version": "3.6.6"
  }
 },
 "nbformat": 4,
 "nbformat_minor": 2
}
