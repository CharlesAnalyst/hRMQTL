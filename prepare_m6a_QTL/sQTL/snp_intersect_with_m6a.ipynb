{
 "cells": [
  {
   "cell_type": "code",
   "execution_count": 1,
   "metadata": {},
   "outputs": [],
   "source": [
    "import os\n",
    "import glob\n",
    "import pandas as pd\n",
    "import numpy as np\n",
    "from multiprocessing import Pool"
   ]
  },
  {
   "cell_type": "code",
   "execution_count": 6,
   "metadata": {},
   "outputs": [],
   "source": [
    "m6a_dir = \"/home/galaxy/project/QTL_analysis/data/m6a_peak\"\n",
    "#\n",
    "result_dir = \"/home/galaxy/data/QTL/m6a_related_SNPs/sQTL/sQTLSeekeR_Transcript-Ratio/m6a_qtl_txt\"\n",
    "qtl_dir = \"/home/galaxy/data/QTL/sQTL/sQTLSeekeR_Transcript-Ratio/GRCh38_bed\"\n",
    "qtl_list = glob.glob(\"%s/*.bed\" % qtl_dir)\n",
    "postfix = \".bed\""
   ]
  },
  {
   "cell_type": "code",
   "execution_count": 3,
   "metadata": {},
   "outputs": [],
   "source": [
    "def generate_map_dict():\n",
    "    map_dict = {\"Heart\": \"Heart\", \"Lung\": \"Lung\", \"Muscle\": \"Muscle\"}\n",
    "    return map_dict\n",
    "\n",
    "def perform_intersection(eQTL, m6a):\n",
    "    pre_eQTL, pre_m6a = os.path.basename(eQTL).split(postfix)[0], os.path.basename(m6a).split(\".bed\")[0]\n",
    "    result_txt = os.path.join(result_dir, \"%s-%s\" % (pre_eQTL, os.path.basename(m6a).replace(\".bed\", \".txt\")))\n",
    "    os.system(\"bedtools intersect -a %s -b %s -wa -wb > %s\" % (eQTL, m6a, result_txt))"
   ]
  },
  {
   "cell_type": "code",
   "execution_count": 7,
   "metadata": {},
   "outputs": [
    {
     "name": "stdout",
     "output_type": "stream",
     "text": [
      "Heart_Left_Ventricle.bed \t Heart.bed\n",
      "Muscle_Skeletal.bed \t Muscle.bed\n",
      "Lung.bed \t Lung.bed\n"
     ]
    }
   ],
   "source": [
    "map_dict = generate_map_dict()\n",
    "for qtl in qtl_list:\n",
    "    prefix = os.path.basename(qtl).split(\".\")[0].split(\"_\")[0]\n",
    "    if prefix in map_dict:\n",
    "        m6a = \"%s/%s.bed\" % (m6a_dir, map_dict[prefix])\n",
    "        print(os.path.basename(qtl), \"\\t\", os.path.basename(m6a))\n",
    "        perform_intersection(qtl, m6a)"
   ]
  },
  {
   "cell_type": "code",
   "execution_count": 2,
   "metadata": {},
   "outputs": [],
   "source": [
    "#########################################################################\n",
    "data_dir = \"/home/galaxy/data/QTL/m6a_related_SNPs/sQTL/sQTLSeekeR_Transcript-Ratio/m6a_qtl_txt\"\n",
    "result_dir = \"/home/galaxy/data/QTL/m6a_related_SNPs/sQTL/sQTLSeekeR_Transcript-Ratio/m6a_qtl_bed\"\n",
    "qtl_list = glob.glob(\"%s/*.txt\" % data_dir)\n",
    "for qtl in qtl_list:\n",
    "    tissue = os.path.basename(qtl).split(\"-\")[-1].split(\".\")[0]\n",
    "    df = pd.read_table(qtl, sep=\"\\t\", header=None)\n",
    "    df[\"tissue\"] = tissue\n",
    "    df[\"info\"]=df.iloc[:, 3]+\";\"+df.iloc[:, 4]+\":\"+df.iloc[:, 5].astype(str)+\"-\"+df.iloc[:, 6].astype(str)+\";\"+df.iloc[:, 7]\n",
    "    result_bed = os.path.join(result_dir, os.path.basename(qtl).replace(\".txt\", \".bed\"))\n",
    "    df_bed = df.iloc[:, [0,1,2,-1]]\n",
    "    df_bed.to_csv(result_bed, sep=\"\\t\", header=False, index=False)"
   ]
  }
 ],
 "metadata": {
  "kernelspec": {
   "display_name": "Python 3",
   "language": "python",
   "name": "python3"
  },
  "language_info": {
   "codemirror_mode": {
    "name": "ipython",
    "version": 3
   },
   "file_extension": ".py",
   "mimetype": "text/x-python",
   "name": "python",
   "nbconvert_exporter": "python",
   "pygments_lexer": "ipython3",
   "version": "3.6.6"
  }
 },
 "nbformat": 4,
 "nbformat_minor": 2
}
