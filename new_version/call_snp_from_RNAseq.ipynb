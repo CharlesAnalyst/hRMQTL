{
 "cells": [
  {
   "cell_type": "code",
   "execution_count": 1,
   "metadata": {},
   "outputs": [],
   "source": [
    "import os\n",
    "import glob\n",
    "import pandas as pd"
   ]
  },
  {
   "cell_type": "markdown",
   "metadata": {},
   "source": [
    "### SNPiR: Reliable Identification of Genomic Variants Using RNA-seq Data"
   ]
  },
  {
   "cell_type": "code",
   "execution_count": 3,
   "metadata": {},
   "outputs": [],
   "source": [
    "base_dir = \"/home/galaxy/project/m6AQTL/2019_10_10/transcriptome_snp/SNPiR/shell/SNPiR-master/data\"\n",
    "hg38_reference = \"%s/hg38_ucsc.fa\" % base_dir\n",
    "RepeatMasker = \"%s/Repeats_ucsc_hg38.bed\" % base_dir\n",
    "# Download from UCSC table; add the first col through awk '{OFS=\"\\t\";print \"1\",$0}'; sort rows through sort -k3,3 -k5,5n;\n",
    "gene_annotation = \"%s/GENCODE_v32_modified_sorted.txt\" % base_dir\n",
    "rnaedit = \"/home/database/RNA_editing/REDIportal/table1_full.txt\"\n",
    "dbsnp = \"\"\n",
    "mills = \"\"\n",
    "g1000 = \"\"\n",
    "# concatenate splice junction seq(fa) with hg38 refer genome(fa);  bwa index refer_junction.fa\n",
    "bwa_index = \"%s/refer_junction.fa\" % base_dir\n",
    "picard = \"java -jar /usr/share/java/picard.jar\"\n",
    "fq_dir = \"/data4/xs/original_data/d0905-P101SC17080761-01-B1-RRL-N17/input_seq_raw_data\""
   ]
  },
  {
   "cell_type": "markdown",
   "metadata": {},
   "source": [
    "#### Mapping ####"
   ]
  },
  {
   "cell_type": "code",
   "execution_count": 4,
   "metadata": {},
   "outputs": [],
   "source": [
    "# align with bwa as single reads\n",
    "def bwa_alignment(fq, thread_n):\n",
    "    result_dir = \"/home/galaxy/project/m6AQTL/2019_10_10/transcriptome_snp/SNPiR/shell/bwa_result\"\n",
    "    result_file = os.path.join(result_dir, os.path.basename(fq).replace(\".fq.gz\", \".sai\"))\n",
    "    os.system(\"nohup bwa aln -t %d %s %s > %s &\" % (thread_n, bwa_index, fq, result_file))"
   ]
  },
  {
   "cell_type": "code",
   "execution_count": 5,
   "metadata": {},
   "outputs": [],
   "source": [
    "def generate_alignment(sai_file, sam):\n",
    "    # read group information for read1 & read2, is required for GATK\n",
    "    lane = os.path.basename(sai_file).split(\"_\")[2].strip(\"L\")\n",
    "    sample_name = os.path.basename(sai_file).split(\".\")[0]\n",
    "    RGR = \"@RG\\tID:%s\\tLB:TrueSeq\\tPL:ILLUMINA\\tSM:%s\" % (lane, sample_name)\n",
    "    result_dir = \"/home/galaxy/project/m6AQTL/2019_10_10/transcriptome_snp/SNPiR/shell/bwa_result\"\n",
    "    sam = os.path.join(result_dir, os.path.basename(fq).replace(\".sai\", \".sam\"))\n",
    "    os.system(\"nohup bwa samse -n4 -r %s %s %s > %s &\" % (RGR, bwa_index, sai_file, sam))"
   ]
  },
  {
   "cell_type": "code",
   "execution_count": 6,
   "metadata": {},
   "outputs": [],
   "source": [
    "# merge alignment\n",
    "def merge_alignment(sam1, sam2):\n",
    "    result_sam = os.path.join(result_dir, os.path.basename(fq).split(\".\")[0] + \".sam\")\n",
    "    os.system(\"cat %s <(grep -v '^@' %s) > %s\" % (sam1, sam2, result_sam))"
   ]
  },
  {
   "cell_type": "code",
   "execution_count": 7,
   "metadata": {},
   "outputs": [],
   "source": [
    "# convert the position of reads that map across splicing junctions onto the genome\n",
    "def convert_coordinates(merged_sam, conv_sam):\n",
    "    os.system(\"java -Xmx4g -cp convertCoordinates < %s > %s\" % (merged_sam, conv_sam))"
   ]
  },
  {
   "cell_type": "code",
   "execution_count": null,
   "metadata": {},
   "outputs": [],
   "source": [
    "def remove_duplicates(i_sam):\n",
    "    prefix = os.path.basename(i_sam).split(\".\")[0]\n",
    "    rmdup_sam = os.path.join(result_dir, \"%s_rmdup.sam\" % prefix)\n",
    "    metric_file = os.path.join(result_dir, \"%s_out.metrics\" % prefix)\n",
    "    os.system(\"%s MarkDuplicates I=%s O=%s REMOVE_DUPLICATES=true CREATE_INDEX=true TMP_DIR=%s VALIDATION_STRINGENCY=SILENT M=%s\" % (picard, i_sam, rmdup_sam, tmp_dir, metric_file))"
   ]
  },
  {
   "cell_type": "code",
   "execution_count": 21,
   "metadata": {},
   "outputs": [],
   "source": [
    "def filter_unmapped_reads(i_sam):\n",
    "    out_bam = os.path.join(result_dir, os.path.basename(i_sam).replace(\".sam\", \"_mapped.bam\"))\n",
    "    command = \"samtools view -@ 10 -bS -q 10 -F 4 %s -o %s\" % (i_sam, out_bam)\n",
    "    index_com = \"samtools index %s\" % out_bam\n",
    "    os.system(command)\n",
    "    os.system(index_com)"
   ]
  },
  {
   "cell_type": "code",
   "execution_count": null,
   "metadata": {},
   "outputs": [],
   "source": [
    "def realignment():\n",
    "    command = \"java -Xmx16g -jar %s \\\n",
    "                -T RealignerTargetCreator \\\n",
    "                -R %s \\\n",
    "                -I %s \\\n",
    "                -o %s \\\n",
    "                -known %s \\\n",
    "                -known %s \\\n",
    "                -nt 8 \\\n",
    "                --fix_misencoded_quality_scores\\\n",
    "                --filter_reads_with_N_cigar\"\n",
    "    command_2 = \"java -Xmx16g -Djava.io.tmpdir=$TMPDIR -jar `which GenomeAnalysisTK.jar` \\\n",
    "                -I $out_dir/merged.conv.nh.sort.rd.bam \\\n",
    "                -R $hg19_reference \\\n",
    "                -T IndelRealigner \\\n",
    "                -targetIntervals $out_dir/output.intervals \\\n",
    "                -o $out_dir/merged.conv.sort.rd.realigned.bam \\\n",
    "                -known $mills \\\n",
    "                -known $g1000 \\\n",
    "                --consensusDeterminationModel KNOWNS_ONLY \\\n",
    "                -LOD 0.4 \\\n",
    "                --fix_misencoded_quality_scores \\\n",
    "                --filter_reads_with_N_cigar\""
   ]
  },
  {
   "cell_type": "markdown",
   "metadata": {},
   "source": [
    "#### Pipeline ###################"
   ]
  },
  {
   "cell_type": "code",
   "execution_count": 20,
   "metadata": {},
   "outputs": [
    {
     "name": "stdout",
     "output_type": "stream",
     "text": [
      "[]\n"
     ]
    }
   ],
   "source": [
    "# def match_files():\n",
    "file_dict = {}\n",
    "query_word = \"_1.fq.gz\"\n",
    "replace_word = query_word.replace(\"_1.\", \"_2.\")\n",
    "fq1_list = glob.glob(\"%s/*%s\" % (fq_dir, query_word))\n",
    "for fq1 in fq1_list:\n",
    "    fq2 = fq1.replace(query_word, replace_word)\n",
    "    prefix = os.path.basename(fq1).split(\"_\")[0]\n",
    "    file_dict[prefix] = file_dict.get(prefix, []) + [[fq1, fq2]]\n",
    "# check the existence\n",
    "out_files = [x for x, values in file_dict.items() for tmp_list in values for x in tmp_list if not os.path.exists(x)]\n",
    "print(out_files)"
   ]
  },
  {
   "cell_type": "code",
   "execution_count": null,
   "metadata": {},
   "outputs": [],
   "source": []
  }
 ],
 "metadata": {
  "kernelspec": {
   "display_name": "Python 3",
   "language": "python",
   "name": "python3"
  },
  "language_info": {
   "codemirror_mode": {
    "name": "ipython",
    "version": 3
   },
   "file_extension": ".py",
   "mimetype": "text/x-python",
   "name": "python",
   "nbconvert_exporter": "python",
   "pygments_lexer": "ipython3",
   "version": "3.7.0"
  }
 },
 "nbformat": 4,
 "nbformat_minor": 2
}
