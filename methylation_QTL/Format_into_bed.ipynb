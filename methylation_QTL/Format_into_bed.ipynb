{
 "cells": [
  {
   "cell_type": "code",
   "execution_count": 1,
   "metadata": {},
   "outputs": [],
   "source": [
    "import os\n",
    "import sys\n",
    "import csv\n",
    "# sys.setdefaultencoding(\"utf-8\")\n",
    "import datetime\n",
    "import shutil\n",
    "import random\n",
    "import glob\n",
    "import pandas as pd\n",
    "import numpy as np\n",
    "from scipy import stats\n",
    "import subprocess\n",
    "import matplotlib.mlab as mlab\n",
    "import matplotlib.pyplot as plt\n",
    "import seaborn as sns\n",
    "%matplotlib inline\n",
    "%config InlineBackend.figure_format = 'svg'\n",
    "from multiprocessing import Pool\n",
    "from sklearn.utils import shuffle"
   ]
  },
  {
   "cell_type": "code",
   "execution_count": 7,
   "metadata": {},
   "outputs": [],
   "source": [
    "def format_brain_data():\n",
    "    result_dir = \"/home/galaxy/data/QTL/meQTL/brain\"\n",
    "    result_bed = os.path.join(result_dir, \"GRCh37_fetalBrain.bed\")\n",
    "    data = \"/home/galaxy/data/QTL/meQTL/brain/All_Imputed_BonfSignificant_mQTLs-fetalBrain.txt\"\n",
    "    df = pd.read_table(data, sep=\"\\t\")\n",
    "    # df.head()\n",
    "    df[\"chr\"], df[\"start\"], df[\"end\"] = \"chr\" + df[\"SNP_Chr\"].astype(str), df[\"SNP_BP\"] -1, df[\"SNP_BP\"]\n",
    "    df_bed = df[['chr', 'start', 'end']].sort_values(['chr', 'start']).drop_duplicates()\n",
    "    df_bed.to_csv(result_bed, sep=\"\\t\", header=False, index=False)"
   ]
  },
  {
   "cell_type": "code",
   "execution_count": 10,
   "metadata": {},
   "outputs": [],
   "source": [
    "# def format_lung_data():\n",
    "result_dir = \"/home/galaxy/data/QTL/meQTL/lung\"\n",
    "result_bed = os.path.join(result_dir, \"GRCh37_Trans_lung.bed\")\n",
    "data = \"/home/galaxy/data/QTL/meQTL/lung/Trans_methylation_QTLs.txt\"\n",
    "df = pd.read_table(data, sep=\"\\t\")\n",
    "df.head()\n",
    "df[\"chr\"], df[\"start\"], df[\"end\"] = \"chr\" + df[\"chr_SNP\"].astype(str), df[\"bp_SNP\"] -1, df[\"bp_SNP\"]\n",
    "df_bed = df[['chr', 'start', 'end', 'SNP']].sort_values(['chr', 'start']).drop_duplicates()\n",
    "df_bed.to_csv(result_bed, sep=\"\\t\", header=False, index=False)"
   ]
  }
 ],
 "metadata": {
  "kernelspec": {
   "display_name": "Python 3",
   "language": "python",
   "name": "python3"
  },
  "language_info": {
   "codemirror_mode": {
    "name": "ipython",
    "version": 3
   },
   "file_extension": ".py",
   "mimetype": "text/x-python",
   "name": "python",
   "nbconvert_exporter": "python",
   "pygments_lexer": "ipython3",
   "version": "3.7.0"
  }
 },
 "nbformat": 4,
 "nbformat_minor": 2
}
