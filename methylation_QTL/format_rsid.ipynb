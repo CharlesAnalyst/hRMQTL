{
 "cells": [
  {
   "cell_type": "code",
   "execution_count": 7,
   "metadata": {},
   "outputs": [],
   "source": [
    "import os\n",
    "import pickle\n",
    "import pandas as pd\n",
    "import numpy as np"
   ]
  },
  {
   "cell_type": "code",
   "execution_count": 2,
   "metadata": {},
   "outputs": [],
   "source": [
    "data = \"/home/galaxy/project/m6AQTL/data/meqtl/total_data/meQTL_paper_with_Ensembl.txt\""
   ]
  },
  {
   "cell_type": "code",
   "execution_count": 3,
   "metadata": {},
   "outputs": [
    {
     "name": "stderr",
     "output_type": "stream",
     "text": [
      "/home/galaxy/anaconda3/lib/python3.6/site-packages/IPython/core/interactiveshell.py:3020: DtypeWarning: Columns (3,5,6,8,10,11,14) have mixed types. Specify dtype option on import or set low_memory=False.\n",
      "  interactivity=interactivity, compiler=compiler, result=result)\n"
     ]
    },
    {
     "data": {
      "text/html": [
       "<div>\n",
       "<style scoped>\n",
       "    .dataframe tbody tr th:only-of-type {\n",
       "        vertical-align: middle;\n",
       "    }\n",
       "\n",
       "    .dataframe tbody tr th {\n",
       "        vertical-align: top;\n",
       "    }\n",
       "\n",
       "    .dataframe thead th {\n",
       "        text-align: right;\n",
       "    }\n",
       "</style>\n",
       "<table border=\"1\" class=\"dataframe\">\n",
       "  <thead>\n",
       "    <tr style=\"text-align: right;\">\n",
       "      <th></th>\n",
       "      <th>Ensembl_ID</th>\n",
       "      <th>Gene_Name</th>\n",
       "      <th>ID</th>\n",
       "      <th>Probe_Name</th>\n",
       "      <th>RS_ID</th>\n",
       "      <th>REF</th>\n",
       "      <th>ALT</th>\n",
       "      <th>meQTL_type</th>\n",
       "      <th>Cutoff</th>\n",
       "      <th>Pvalue</th>\n",
       "      <th>Corrected_pvalue</th>\n",
       "      <th>Measure</th>\n",
       "      <th>Value</th>\n",
       "      <th>Cell_or_tissue</th>\n",
       "      <th>Condition</th>\n",
       "      <th>Experimental_tag</th>\n",
       "      <th>PubMed_ID</th>\n",
       "    </tr>\n",
       "  </thead>\n",
       "  <tbody>\n",
       "    <tr>\n",
       "      <th>0</th>\n",
       "      <td>ENSG00000005102</td>\n",
       "      <td>MEOX1</td>\n",
       "      <td>chr17:43661526-43661575</td>\n",
       "      <td>cg08471713</td>\n",
       "      <td>rs9889606</td>\n",
       "      <td>NaN</td>\n",
       "      <td>NaN</td>\n",
       "      <td>cis</td>\n",
       "      <td>100 Kb</td>\n",
       "      <td>1.954227e-20</td>\n",
       "      <td>NaN</td>\n",
       "      <td>NaN</td>\n",
       "      <td>NaN</td>\n",
       "      <td>whole blood</td>\n",
       "      <td>NaN</td>\n",
       "      <td>1</td>\n",
       "      <td>22532803</td>\n",
       "    </tr>\n",
       "    <tr>\n",
       "      <th>1</th>\n",
       "      <td>ENSG00000144115</td>\n",
       "      <td>THNSL2</td>\n",
       "      <td>chr2:88170654-88170703</td>\n",
       "      <td>cg07952391</td>\n",
       "      <td>rs6727043</td>\n",
       "      <td>NaN</td>\n",
       "      <td>NaN</td>\n",
       "      <td>cis</td>\n",
       "      <td>100 Kb</td>\n",
       "      <td>2.056882e-17</td>\n",
       "      <td>NaN</td>\n",
       "      <td>NaN</td>\n",
       "      <td>NaN</td>\n",
       "      <td>whole blood</td>\n",
       "      <td>NaN</td>\n",
       "      <td>1</td>\n",
       "      <td>22532803</td>\n",
       "    </tr>\n",
       "    <tr>\n",
       "      <th>2</th>\n",
       "      <td>ENSG00000144115</td>\n",
       "      <td>THNSL2</td>\n",
       "      <td>chr2:88170654-88170703</td>\n",
       "      <td>cg07952391</td>\n",
       "      <td>rs7582011</td>\n",
       "      <td>NaN</td>\n",
       "      <td>NaN</td>\n",
       "      <td>cis</td>\n",
       "      <td>100 Kb</td>\n",
       "      <td>2.059978e-17</td>\n",
       "      <td>NaN</td>\n",
       "      <td>NaN</td>\n",
       "      <td>NaN</td>\n",
       "      <td>whole blood</td>\n",
       "      <td>NaN</td>\n",
       "      <td>1</td>\n",
       "      <td>22532803</td>\n",
       "    </tr>\n",
       "    <tr>\n",
       "      <th>3</th>\n",
       "      <td>ENSG00000144115</td>\n",
       "      <td>THNSL2</td>\n",
       "      <td>chr2:88170654-88170703</td>\n",
       "      <td>cg07952391</td>\n",
       "      <td>rs6547752</td>\n",
       "      <td>NaN</td>\n",
       "      <td>NaN</td>\n",
       "      <td>cis</td>\n",
       "      <td>100 Kb</td>\n",
       "      <td>2.128008e-17</td>\n",
       "      <td>NaN</td>\n",
       "      <td>NaN</td>\n",
       "      <td>NaN</td>\n",
       "      <td>whole blood</td>\n",
       "      <td>NaN</td>\n",
       "      <td>1</td>\n",
       "      <td>22532803</td>\n",
       "    </tr>\n",
       "    <tr>\n",
       "      <th>4</th>\n",
       "      <td>NaN</td>\n",
       "      <td>U47924.6</td>\n",
       "      <td>chr12:6873156-6873205</td>\n",
       "      <td>cg01097940</td>\n",
       "      <td>rs2238114</td>\n",
       "      <td>NaN</td>\n",
       "      <td>NaN</td>\n",
       "      <td>cis</td>\n",
       "      <td>100 Kb</td>\n",
       "      <td>1.817601e-09</td>\n",
       "      <td>NaN</td>\n",
       "      <td>NaN</td>\n",
       "      <td>NaN</td>\n",
       "      <td>whole blood</td>\n",
       "      <td>NaN</td>\n",
       "      <td>1</td>\n",
       "      <td>22532803</td>\n",
       "    </tr>\n",
       "  </tbody>\n",
       "</table>\n",
       "</div>"
      ],
      "text/plain": [
       "        Ensembl_ID Gene_Name                       ID  Probe_Name      RS_ID  \\\n",
       "0  ENSG00000005102     MEOX1  chr17:43661526-43661575  cg08471713  rs9889606   \n",
       "1  ENSG00000144115    THNSL2   chr2:88170654-88170703  cg07952391  rs6727043   \n",
       "2  ENSG00000144115    THNSL2   chr2:88170654-88170703  cg07952391  rs7582011   \n",
       "3  ENSG00000144115    THNSL2   chr2:88170654-88170703  cg07952391  rs6547752   \n",
       "4              NaN  U47924.6    chr12:6873156-6873205  cg01097940  rs2238114   \n",
       "\n",
       "   REF  ALT meQTL_type  Cutoff        Pvalue Corrected_pvalue Measure  Value  \\\n",
       "0  NaN  NaN        cis  100 Kb  1.954227e-20              NaN     NaN    NaN   \n",
       "1  NaN  NaN        cis  100 Kb  2.056882e-17              NaN     NaN    NaN   \n",
       "2  NaN  NaN        cis  100 Kb  2.059978e-17              NaN     NaN    NaN   \n",
       "3  NaN  NaN        cis  100 Kb  2.128008e-17              NaN     NaN    NaN   \n",
       "4  NaN  NaN        cis  100 Kb  1.817601e-09              NaN     NaN    NaN   \n",
       "\n",
       "  Cell_or_tissue Condition  Experimental_tag  PubMed_ID  \n",
       "0    whole blood       NaN                 1   22532803  \n",
       "1    whole blood       NaN                 1   22532803  \n",
       "2    whole blood       NaN                 1   22532803  \n",
       "3    whole blood       NaN                 1   22532803  \n",
       "4    whole blood       NaN                 1   22532803  "
      ]
     },
     "execution_count": 3,
     "metadata": {},
     "output_type": "execute_result"
    }
   ],
   "source": [
    "df = pd.read_table(data, sep=\"\\t\")\n",
    "df.head()"
   ]
  },
  {
   "cell_type": "code",
   "execution_count": 4,
   "metadata": {},
   "outputs": [
    {
     "name": "stdout",
     "output_type": "stream",
     "text": [
      "971732\n",
      "971718\n"
     ]
    }
   ],
   "source": [
    "print(len(df))\n",
    "df_1 = df[~df[\"RS_ID\"].str.startswith(\"AFFX-SNP_\", na=False)]\n",
    "print(len(df_1))"
   ]
  },
  {
   "cell_type": "code",
   "execution_count": 6,
   "metadata": {},
   "outputs": [
    {
     "name": "stdout",
     "output_type": "stream",
     "text": [
      "5192\n",
      "[29476079]\n"
     ]
    }
   ],
   "source": [
    "df_abnormal = df_1[df_1[\"RS_ID\"].str.contains(\"_\", na=False)]\n",
    "print(len(df_abnormal))\n",
    "pubmed_list = list(set(df_abnormal[\"PubMed_ID\"].tolist()))\n",
    "print(pubmed_list)"
   ]
  }
 ],
 "metadata": {
  "kernelspec": {
   "display_name": "Python 3",
   "language": "python",
   "name": "python3"
  },
  "language_info": {
   "codemirror_mode": {
    "name": "ipython",
    "version": 3
   },
   "file_extension": ".py",
   "mimetype": "text/x-python",
   "name": "python",
   "nbconvert_exporter": "python",
   "pygments_lexer": "ipython3",
   "version": "3.6.7"
  }
 },
 "nbformat": 4,
 "nbformat_minor": 2
}
