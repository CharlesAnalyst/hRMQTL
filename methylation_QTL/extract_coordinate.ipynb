{
 "cells": [
  {
   "cell_type": "code",
   "execution_count": 46,
   "metadata": {},
   "outputs": [],
   "source": [
    "import os\n",
    "import sys\n",
    "import csv\n",
    "import datetime\n",
    "import shutil\n",
    "import random\n",
    "import glob\n",
    "import collections\n",
    "import subprocess\n",
    "import pandas as pd\n",
    "import numpy as np"
   ]
  },
  {
   "cell_type": "markdown",
   "metadata": {},
   "source": [
    "#### Format annotation database: three different types of CG probes."
   ]
  },
  {
   "cell_type": "code",
   "execution_count": 57,
   "metadata": {},
   "outputs": [],
   "source": [
    "#\n",
    "db_dir = \"/home/galaxy/project/m6AQTL/data/meqtl/\"\n",
    "os.chdir(db_dir)\n",
    "file_1, file_2, file_3 = \"hm450.hg38.manifest.tsv\", \"hm27.hg38.manifest.tsv\",\"EPIC.hg38.manifest.gencode.v22.tsv\"\n",
    "df_1 = pd.read_table(file_1, sep=\"\\t\")[[\"probeID\", \"gene_HGNC\", \"CpG_chrm\", \"probeBeg\", \"probeEnd\"]]\n",
    "df_2 = pd.read_table(file_2, sep=\"\\t\")[[\"probeID\", \"gene_HGNC\", \"CpG_chrm\", \"probeBeg\", \"probeEnd\"]]\n",
    "# df_3 = pd.read_table(file_3, sep=\"\\t\")[[\"probeID\", \"geneNames\", \"CGI\"]].dropna(how=\"any\")\n",
    "# print(df_3.head())\n",
    "# df_3 = df_3[df_3[\"CGI\"] != \"NA\"]\n",
    "# print(df_3.head())\n",
    "# df_3[\"CpG_chrm\"] = df_3[\"CGI\"].str.split(\":\").str[1]\n",
    "# df_3[\"probeBeg\"] = df_3[\"CGI\"].astype(str).str.split(\":\").str[2].str.split(\"-\").str[0]\n",
    "# df_3[\"probeEnd\"] = df_3[\"CGI\"].str.split(\"-\").str[1]\n",
    "# df_3[\"gene_HGNC\"] = df_3[\"geneNames\"]\n",
    "# df_3 = df_3[[\"probeID\", \"gene_HGNC\", \"CpG_chrm\", \"probeBeg\", \"probeEnd\"]]\n",
    "df = pd.concat([df_1, df_2]).drop_duplicates().sort_values([\"probeID\"]) # df_3\n",
    "df[\"probeEnd\"] = df[\"probeEnd\"].astype(int)\n",
    "# df.to_csv(\"hg450-hg27.hg38.mainfest.tsv\", sep=\"\\t\", index=False)\n",
    "anno_dict = {}\n",
    "df_db = df\n",
    "for i, values in df_db.iterrows():\n",
    "    feature_id = \"%s:%s-%s\" % (values[\"CpG_chrm\"], str(values[\"probeBeg\"]), str(int(values[\"probeEnd\"])))\n",
    "    anno_dict[values[\"probeID\"]] = {\"Gene\": values[\"gene_HGNC\"], \"ID\": feature_id}"
   ]
  },
  {
   "cell_type": "markdown",
   "metadata": {},
   "source": [
    "#### annotate meQTL based on db;"
   ]
  },
  {
   "cell_type": "code",
   "execution_count": 67,
   "metadata": {
    "collapsed": true
   },
   "outputs": [
    {
     "name": "stderr",
     "output_type": "stream",
     "text": [
      "/home/galaxy/anaconda3/lib/python3.6/site-packages/IPython/core/interactiveshell.py:3020: DtypeWarning: Columns (10,12) have mixed types. Specify dtype option on import or set low_memory=False.\n",
      "  interactivity=interactivity, compiler=compiler, result=result)\n"
     ]
    },
    {
     "name": "stdout",
     "output_type": "stream",
     "text": [
      "   Ensembl_ID      Gene_Name                        ID  Probe_Name  \\\n",
      "0         NaN           HOPX    chr4:56657611-56657660  cg19978674   \n",
      "1         NaN  CYREN;TMEM140  chr7:135164832-135164881  cg07876788   \n",
      "2         NaN         UBAP2L  chr1:154265790-154265839  cg14859874   \n",
      "3         NaN          BTNL9  chr5:181051136-181051185  cg00299286   \n",
      "4         NaN       ARHGAP25    chr2:68816329-68816378  cg23817627   \n",
      "\n",
      "        RS_ID REF ALT meQTL_type Cutoff         Pvalue Corrected_pvalue  \\\n",
      "0   rs7664589   C   T        cis  250kb  3.270000e-310                0   \n",
      "1  rs11970825   C   T        cis  250kb  3.270000e-310                0   \n",
      "2   rs1194596   G   A        cis  250kb  3.270000e-310                0   \n",
      "3   rs9686314   A   G        cis  250kb  3.270000e-310                0   \n",
      "4   rs6546439   G   A        cis  250kb  3.270000e-310                0   \n",
      "\n",
      "  Measure     Value    Cell_or_tissue  Condition  Experimental_tag  PubMed_ID  \n",
      "0    Beta  0.917694  peripheral blood        NaN                 1   29476079  \n",
      "1    Beta  0.920469  peripheral blood        NaN                 1   29476079  \n",
      "2    Beta  0.915111  peripheral blood        NaN                 1   29476079  \n",
      "3    Beta -0.899028  peripheral blood        NaN                 1   29476079  \n",
      "4    Beta -0.902706  peripheral blood        NaN                 1   29476079  \n"
     ]
    }
   ],
   "source": [
    "meqtl = \"/home/lzg/1906/QTL_data/unfiltered/get_meQTL/meQTL_db_standard.txt\"\n",
    "#####################################################################################\n",
    "df_meqtl = pd.read_table(meqtl, sep=\"\\t\", skiprows=1)\n",
    "gene_list, id_list = [], []\n",
    "probe_list = [str(x).strip() for x in df_meqtl[\"Probe_Name\"].tolist()]\n",
    "for i in range(len(probe_list)):\n",
    "    probe = probe_list[i]\n",
    "    if probe in anno_dict:\n",
    "        gene_list.append(anno_dict[probe][\"Gene\"])\n",
    "        id_list.append(anno_dict[probe][\"ID\"])\n",
    "    else:\n",
    "#         gene_list.append(df_meqtl.iloc[i, 1]) # keep the old records.\n",
    "#         id_list.append(df_meqtl.iloc[i, 2])\n",
    "        gene_list.append(np.nan) # replace the old records with np.nan.\n",
    "        id_list.append(np.nan)\n",
    "df_meqtl[\"Ensembl_ID\"],df_meqtl[\"Gene_Name\"],df_meqtl[\"ID\"]  = np.nan, gene_list, id_list\n",
    "print(df_meqtl.head())"
   ]
  },
  {
   "cell_type": "code",
   "execution_count": 68,
   "metadata": {
    "collapsed": true
   },
   "outputs": [
    {
     "name": "stdout",
     "output_type": "stream",
     "text": [
      "\t95814\n",
      "\t95814\n"
     ]
    }
   ],
   "source": [
    "# filter out ID(null) rows.\n",
    "print(\"\\t%d\" % len(df_meqtl))\n",
    "df_meqtl = df_meqtl[~df_meqtl[\"ID\"].isnull()]\n",
    "print(\"\\t%d\" % len(df_meqtl))"
   ]
  },
  {
   "cell_type": "code",
   "execution_count": 69,
   "metadata": {},
   "outputs": [],
   "source": [
    "result_list = []\n",
    "for i, values in df_meqtl.iterrows():\n",
    "    gene, i_list = str(values[\"Gene_Name\"]), values.tolist()\n",
    "    for x in list(set(gene.split(\";\"))):\n",
    "        i_list[1] = x\n",
    "        result_list.append(i_list)\n",
    "df_result = pd.DataFrame(result_list, columns=df_meqtl.columns).drop_duplicates()\n",
    "df_result.to_csv(\"/home/galaxy/project/m6AQTL/data/meqtl/total_data/meQTL_db.txt\", sep=\"\\t\", index=False)"
   ]
  },
  {
   "cell_type": "code",
   "execution_count": 63,
   "metadata": {
    "collapsed": true
   },
   "outputs": [
    {
     "name": "stdout",
     "output_type": "stream",
     "text": [
      "95814\n",
      "95814\n"
     ]
    }
   ],
   "source": [
    "# can't find \"cg080995532\" which position endswith NCBI build 36 in hm27.hg38.manifest.tsv;\n",
    "print(\"\\t%d\" % len(df_result))\n",
    "df_result = df_result[~df_result[\"ID\"].str.contains(\"NCBI build 36\", na=False)]\n",
    "print(\"\\t%d\" % len(df_result))\n",
    "# can't find \"ch_11_110329410F\" which position endswith hg19 in hm450.hg38.manifest.tsv;\n",
    "print(\"\\t%d\" % len(df_result))\n",
    "df_result = df_result[~df_result[\"Probe_Name\"].str.startswith(\"ch_\", na=False)]\n",
    "print(\"\\t%d\" % len(df_result))"
   ]
  },
  {
   "cell_type": "markdown",
   "metadata": {},
   "source": [
    "#### liftover"
   ]
  },
  {
   "cell_type": "code",
   "execution_count": 65,
   "metadata": {},
   "outputs": [
    {
     "name": "stdout",
     "output_type": "stream",
     "text": [
      "[]\n"
     ]
    }
   ],
   "source": [
    "print(list(set([str(x).split(\":\")[-1] for x in df_result[\"ID\"].tolist() if len(str(x).split(\":\"))>2])))"
   ]
  },
  {
   "cell_type": "code",
   "execution_count": 54,
   "metadata": {},
   "outputs": [],
   "source": [
    "# ### output hg19\n",
    "df_hg19 = df_result[df_result[\"ID\"].str.contains(\"hg19\", na=False)]\n",
    "print(\"\\t%d\" % len(df_hg19))\n",
    "id_list = df_hg19[\"ID\"].tolist()\n",
    "bed_list = []\n",
    "for x in id_list:\n",
    "    if len(x.split(\":\")[1].split(\"-\")) < 2:\n",
    "        print(x)\n",
    "    else:\n",
    "        bed_list.append(\"\\t\".join([x.split(\":\")[0], x.split(\":\")[1].split(\"-\")[0], x.split(\":\")[1].split(\"-\")[1], x]))\n",
    "content = \"\\n\".join(bed_list)\n",
    "hg19_bed = \"/home/galaxy/project/m6AQTL/data/meqtl/total_data/liftover/hg19.bed\"\n",
    "with open(hg19_bed, 'w') as fw:\n",
    "    fw.write(content)\n",
    "# ### liftover\n",
    "chain_file, failure_file = \"/data/database/chain_file/hg19ToHg38.over.chain\", \"/home/galaxy/failure.txt\"\n",
    "hg38_bed = \"/home/galaxy/project/m6AQTL/data/meqtl/total_data/liftover/hg38.bed\"\n",
    "command = \"liftOver %s %s %s %s\" % (hg19_bed, chain_file, hg38_bed, failure_file)\n",
    "os.system(command)"
   ]
  },
  {
   "cell_type": "code",
   "execution_count": 55,
   "metadata": {
    "collapsed": true
   },
   "outputs": [
    {
     "name": "stdout",
     "output_type": "stream",
     "text": [
      "\t284475\n"
     ]
    },
    {
     "name": "stderr",
     "output_type": "stream",
     "text": [
      "/home/galaxy/anaconda3/lib/python3.6/site-packages/ipykernel_launcher.py:12: SettingWithCopyWarning: \n",
      "A value is trying to be set on a copy of a slice from a DataFrame.\n",
      "Try using .loc[row_indexer,col_indexer] = value instead\n",
      "\n",
      "See the caveats in the documentation: http://pandas.pydata.org/pandas-docs/stable/indexing.html#indexing-view-versus-copy\n",
      "  if sys.path[0] == '':\n"
     ]
    }
   ],
   "source": [
    "#### Replace hg19 ID with hg38 ID;\n",
    "df_hg38 = df_result[~df_result[\"ID\"].str.contains(\"hg19\", na=False)]\n",
    "print(\"\\t%d\" % len(df_hg38))\n",
    "######\n",
    "hg38_bed = \"/home/galaxy/project/m6AQTL/data/meqtl/total_data/liftover/hg38.bed\"\n",
    "df_bed = pd.read_table(hg38_bed, sep=\"\\t\", header=None)\n",
    "df_bed[\"hg38_ID\"] = df_bed.iloc[:, 0] + \":\" + df_bed.iloc[:, 1].astype(str) + \"-\" + df_bed.iloc[:, 2].astype(str)\n",
    "# print(df_bed.head())\n",
    "hg_dict = dict(zip(df_bed.iloc[:, 3], df_bed[\"hg38_ID\"]))\n",
    "#\n",
    "hg38_list = [hg_dict[x] if x in hg_dict else np.nan for x in df_hg19[\"ID\"].tolist()]\n",
    "df_hg19[\"ID\"] = hg38_list\n",
    "df_hg19 = df_hg19[~df_hg19[\"ID\"].str.contains(\"hg19\", na=False)]\n",
    "#\n",
    "df_final = pd.concat([df_hg38, df_hg19]).sort_values([\"PubMed_ID\"])\n",
    "df_final.to_csv(\"/home/galaxy/project/m6AQTL/data/meqtl/total_data/meQTL_paper.txt\", sep=\"\\t\", index=False)"
   ]
  },
  {
   "cell_type": "markdown",
   "metadata": {},
   "source": [
    "#### add Ensembl ID "
   ]
  },
  {
   "cell_type": "code",
   "execution_count": 73,
   "metadata": {
    "collapsed": true
   },
   "outputs": [
    {
     "name": "stderr",
     "output_type": "stream",
     "text": [
      "/home/galaxy/anaconda3/lib/python3.6/site-packages/IPython/core/interactiveshell.py:3020: DtypeWarning: Columns (10,12) have mixed types. Specify dtype option on import or set low_memory=False.\n",
      "  interactivity=interactivity, compiler=compiler, result=result)\n",
      "/home/galaxy/anaconda3/lib/python3.6/site-packages/IPython/core/interactiveshell.py:3020: DtypeWarning: Columns (3,5,6,8,10,11,14) have mixed types. Specify dtype option on import or set low_memory=False.\n",
      "  interactivity=interactivity, compiler=compiler, result=result)\n"
     ]
    }
   ],
   "source": [
    "file_1 = \"/home/galaxy/project/m6AQTL/data/meqtl/total_data/meQTL_db.txt\"\n",
    "file_2 = \"/home/galaxy/project/m6AQTL/data/meqtl/total_data/meQTL_paper.txt\"\n",
    "gene_type = \"/home/lzg/1906/QTL_data/unused_qtl_database/eqtl/no_genename_or_ensgid/gene_type.txt\"\n",
    "df = pd.read_table(gene_type, sep=\"\\t\", header=None)\n",
    "df.columns = [\"Ensembl_ID\", \"Gene_Name\", \"Gene_Type\"]\n",
    "df[\"New_Ensembl\"] = [x.split(\".\")[0] for x in df[\"Ensembl_ID\"].tolist()]\n",
    "type_dict = dict(zip(df[\"Gene_Name\"], df[\"New_Ensembl\"]))\n",
    "######\n",
    "for x in [file_1, file_2]:\n",
    "    df_i = pd.read_table(x, sep=\"\\t\")\n",
    "    name_list = df_i[\"Gene_Name\"].tolist()\n",
    "    ensembl_list = [type_dict[name] if name in type_dict else np.nan for name in name_list]\n",
    "    df_i[\"Ensembl_ID\"] = ensembl_list\n",
    "    df_i.to_csv(x.replace(\".txt\", \"_with_Ensembl.txt\"), sep=\"\\t\", index=False)"
   ]
  }
 ],
 "metadata": {
  "kernelspec": {
   "display_name": "Python 3",
   "language": "python",
   "name": "python3"
  },
  "language_info": {
   "codemirror_mode": {
    "name": "ipython",
    "version": 3
   },
   "file_extension": ".py",
   "mimetype": "text/x-python",
   "name": "python",
   "nbconvert_exporter": "python",
   "pygments_lexer": "ipython3",
   "version": "3.6.7"
  }
 },
 "nbformat": 4,
 "nbformat_minor": 2
}
