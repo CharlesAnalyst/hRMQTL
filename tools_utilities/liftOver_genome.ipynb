{
 "cells": [
  {
   "cell_type": "code",
   "execution_count": 1,
   "metadata": {},
   "outputs": [],
   "source": [
    "import os\n",
    "import sys\n",
    "import csv\n",
    "# sys.setdefaultencoding(\"utf-8\")\n",
    "import shutil\n",
    "import random\n",
    "import glob\n",
    "import pandas as pd\n",
    "import numpy as np\n",
    "from scipy import stats\n",
    "import subprocess\n",
    "import matplotlib.mlab as mlab\n",
    "import matplotlib.pyplot as plt\n",
    "import seaborn as sns\n",
    "%matplotlib inline\n",
    "%config InlineBackend.figure_format = 'svg'\n",
    "from multiprocessing import Pool"
   ]
  },
  {
   "cell_type": "code",
   "execution_count": 7,
   "metadata": {},
   "outputs": [],
   "source": [
    "#########################################################################################################\n",
    "in_dir = \"/home/galaxy/data/QTL/m6a_related_SNPs/sQTL/sQTLSeekeR_Transcript-Ratio/m6a_qtl_bed\"\n",
    "result_dir = \"/home/galaxy/data/QTL/m6a_related_SNPs/sQTL/sQTLSeekeR_Transcript-Ratio/hg19_m6a_qtl_bed\"\n",
    "if not os.path.exists(result_dir):\n",
    "    os.makedirs(result_dir)\n",
    "chain_file = \"/data/database/chain_file/hg38ToHg19.over.chain\"\n",
    "#########################################################################################################\n",
    "postfix = \".bed\"\n",
    "in_list = glob.glob(\"%s/*%s\" % (in_dir, postfix))\n",
    "for in_bed in in_list:\n",
    "    liftover_version(in_bed)"
   ]
  },
  {
   "cell_type": "code",
   "execution_count": 2,
   "metadata": {},
   "outputs": [],
   "source": [
    "def liftover_version(in_bed):\n",
    "    out_bed = os.path.join(result_dir, os.path.basename(in_bed))\n",
    "    un_lift = os.path.join(result_dir, \"un_lift.txt\")\n",
    "    os.system(\"liftOver %s %s %s %s\" % (in_bed, chain_file, out_bed, un_lift))\n",
    "    os.system(\"rm %s\" % un_lift)"
   ]
  }
 ],
 "metadata": {
  "kernelspec": {
   "display_name": "Python 3",
   "language": "python",
   "name": "python3"
  },
  "language_info": {
   "codemirror_mode": {
    "name": "ipython",
    "version": 3
   },
   "file_extension": ".py",
   "mimetype": "text/x-python",
   "name": "python",
   "nbconvert_exporter": "python",
   "pygments_lexer": "ipython3",
   "version": "3.6.7"
  }
 },
 "nbformat": 4,
 "nbformat_minor": 2
}
