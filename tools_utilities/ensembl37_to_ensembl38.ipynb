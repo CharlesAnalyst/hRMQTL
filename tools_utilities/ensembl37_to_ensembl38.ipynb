{
 "cells": [
  {
   "cell_type": "code",
   "execution_count": 69,
   "metadata": {},
   "outputs": [],
   "source": [
    "import os\n",
    "import pandas as pd\n",
    "import numpy as np\n",
    "import collections"
   ]
  },
  {
   "cell_type": "code",
   "execution_count": 70,
   "metadata": {},
   "outputs": [],
   "source": [
    "grch37 = \"/data/database/GRCh37/gencode.v19.annotation.gff3\"\n",
    "grch38 = \"/data/database/GRCh38/GENCODE/gencode.v27.annotation.gff3\""
   ]
  },
  {
   "cell_type": "code",
   "execution_count": 78,
   "metadata": {},
   "outputs": [],
   "source": [
    "def generate_dict(a_list, b_list):\n",
    "    raw_dict, result_dict = {}, {}\n",
    "    assert len(a_list) == len(b_list)\n",
    "    for i in range(len(a_list)):\n",
    "        raw_dict[a_list[i]] = raw_dict.get(a_list[i], []) + [b_list[i]]\n",
    "    for a, b in raw_dict.items():\n",
    "        result_dict[a] = \";\".join(sorted(list(set(b))))\n",
    "    return result_dict\n",
    "\n",
    "def generate_grch_dict(gff3):\n",
    "    df = pd.read_table(gff3, sep=\"\\t\", comment=\"#\", header=None)\n",
    "    df_gene = df[df.iloc[:, 2].str.contains(\"gene\")]\n",
    "    df_gene[\"Ensembl_ID\"] = df_gene.iloc[:, 8].str.split(\"ID=\").str[1].str.split(\".\").str[0]\n",
    "    df_gene[\"Symbol\"] = df_gene.iloc[:, 8].str.split(\"gene_name=\").str[1].str.split(\";\").str[0]\n",
    "    grch_dict = generate_dict(df_gene[\"Symbol\"].tolist(), df_gene[\"Ensembl_ID\"].tolist())\n",
    "    return grch_dict"
   ]
  },
  {
   "cell_type": "code",
   "execution_count": 79,
   "metadata": {
    "collapsed": true
   },
   "outputs": [
    {
     "name": "stderr",
     "output_type": "stream",
     "text": [
      "/home/galaxy/anaconda3/lib/python3.6/site-packages/ipykernel_launcher.py:13: SettingWithCopyWarning: \n",
      "A value is trying to be set on a copy of a slice from a DataFrame.\n",
      "Try using .loc[row_indexer,col_indexer] = value instead\n",
      "\n",
      "See the caveats in the documentation: http://pandas.pydata.org/pandas-docs/stable/indexing.html#indexing-view-versus-copy\n",
      "  del sys.path[0]\n",
      "/home/galaxy/anaconda3/lib/python3.6/site-packages/ipykernel_launcher.py:14: SettingWithCopyWarning: \n",
      "A value is trying to be set on a copy of a slice from a DataFrame.\n",
      "Try using .loc[row_indexer,col_indexer] = value instead\n",
      "\n",
      "See the caveats in the documentation: http://pandas.pydata.org/pandas-docs/stable/indexing.html#indexing-view-versus-copy\n",
      "  \n"
     ]
    }
   ],
   "source": [
    "grch37_dict = generate_grch_dict(grch37) # , \"GRCh37\"\n",
    "grch38_dict = generate_grch_dict(grch38) # , \"GRCh38\""
   ]
  },
  {
   "cell_type": "code",
   "execution_count": 80,
   "metadata": {},
   "outputs": [],
   "source": [
    "df_37 = pd.DataFrame.from_dict(grch37_dict, orient=\"index\", columns=['Ensembl_ID_37'])\n",
    "df_38 = pd.DataFrame.from_dict(grch38_dict, orient=\"index\", columns=['Ensembl_ID_38'])\n",
    "df_37[\"Symbol\"] = df_37.index\n",
    "df_38[\"Symbol\"] = df_38.index\n",
    "df_final = df_37.merge(df_38, how=\"outer\")\n",
    "# print(df_final.head())\n",
    "df_final.to_csv(\"/data/database/GRCh37/ensembl37_to_ensembl38.txt\", sep=\"\\t\", index=False)"
   ]
  }
 ],
 "metadata": {
  "kernelspec": {
   "display_name": "Python 3",
   "language": "python",
   "name": "python3"
  },
  "language_info": {
   "codemirror_mode": {
    "name": "ipython",
    "version": 3
   },
   "file_extension": ".py",
   "mimetype": "text/x-python",
   "name": "python",
   "nbconvert_exporter": "python",
   "pygments_lexer": "ipython3",
   "version": "3.6.7"
  }
 },
 "nbformat": 4,
 "nbformat_minor": 2
}
