{
 "cells": [
  {
   "cell_type": "code",
   "execution_count": 1,
   "metadata": {},
   "outputs": [],
   "source": [
    "import os\n",
    "import sys\n",
    "import csv\n",
    "import datetime\n",
    "import shutil\n",
    "import random\n",
    "import glob\n",
    "import pandas as pd\n",
    "import numpy as np"
   ]
  },
  {
   "cell_type": "code",
   "execution_count": 29,
   "metadata": {},
   "outputs": [
    {
     "name": "stdout",
     "output_type": "stream",
     "text": [
      "        Ensembl_ID Gene_Name Uniprot_ID Protein_Name         RS_ID  REF  ALT  \\\n",
      "0  ENSG00000120948    TARDBP        NaN       TARDBP  rs1471344782  NaN  NaN   \n",
      "1  ENSG00000168610     STAT3        NaN       STAT3A   rs993990873  NaN  NaN   \n",
      "2  ENSG00000100906    NFKBIA        NaN     IkBalpha  rs1477467102  NaN  NaN   \n",
      "3  ENSG00000188342    GTF2F2        NaN       GTF2F2  rs1051246129  NaN  NaN   \n",
      "4  ENSG00000270647     TAF15        NaN        TAF15  rs1452672552  NaN  NaN   \n",
      "\n",
      "  pQTL_type Cutoff        Pvalue Corrected_pvalue Measure     Value  \\\n",
      "0     trans   1 Mb  3.156591e-08            < 0.2      R2  0.224095   \n",
      "1       NaN    NaN  4.552463e-05              NaN       R  0.333490   \n",
      "2       NaN    NaN  1.834424e-04              NaN       R -0.419501   \n",
      "3       NaN    NaN  5.439675e-05              NaN       R  0.360772   \n",
      "4       NaN    NaN  2.251364e-05              NaN       R -0.473694   \n",
      "\n",
      "                     Cell_or_tissue     Condition  Experimental_tag PubMed_ID  \\\n",
      "0  lymphoblastoid cell lines (LCLs)           NaN                 1  25087611   \n",
      "1   ymphoblastoid cell lines (LCLs)       CisApop                 2  24699359   \n",
      "2   ymphoblastoid cell lines (LCLs)       CisApop                 2  24699359   \n",
      "3   ymphoblastoid cell lines (LCLs)    Pacli.Apop                 3  24699359   \n",
      "4   ymphoblastoid cell lines (LCLs)  PacLog2_12.5                 4  24699359   \n",
      "\n",
      "                           id  \n",
      "0  ENSG00000120948;1;25087611  \n",
      "1  ENSG00000168610;2;24699359  \n",
      "2  ENSG00000100906;2;24699359  \n",
      "3  ENSG00000188342;3;24699359  \n",
      "4  ENSG00000270647;4;24699359  \n"
     ]
    }
   ],
   "source": [
    "# less eQTL.txt | grep -P \"\\trs\" > eQTL.2.txt\n",
    "# sed -i \"1s/^/$(head -n1 eQTL.txt)\\n/\" eQTL.2.txt\n",
    "in_file = \"/home/galaxy/project/m6AQTL/data/pqtl/total_data/pQTL.txt\"\n",
    "df = pd.read_table(in_file, sep=\"\\t\", skiprows=1)  # , nrows=10 , skiprows=1\n",
    "df[\"id\"] = df[\"Ensembl_ID\"] + \";\" + df[\"Experimental_tag\"].astype(\n",
    "    str) + \";\" + df[\"PubMed_ID\"].astype(str)\n",
    "# df[\"Gene_name\"] = df.iloc[:, 3].str.split(\"|\").str[0]\n",
    "# df[\"Experimental_tag\"] = df.iloc[:, 3].str.split(\"|\").str.get(-2)\n",
    "# df[\"PubMed_ID\"] = df.iloc[:, 3].astype(str).str.split(\"|\").str[-1]\n",
    "# df[\"id\"] = df[\"Gene_name\"] + \";\" + df[\"Experimental_tag\"].astype(str) + \";\" + df[\"PubMed_ID\"].astype(str)\n",
    "# ## \n",
    "# remove snp without a RS ID\n",
    "df = df[df[\"RS_ID\"].str.startswith(\"rs\", na=False)]\n",
    "# remove QTL without a Ensembl ID\n",
    "df = df[df[\"id\"].str.startswith(\"ENSG\", na=False)]\n",
    "print(df.head())"
   ]
  },
  {
   "cell_type": "code",
   "execution_count": 5,
   "metadata": {
    "scrolled": false
   },
   "outputs": [
    {
     "name": "stdout",
     "output_type": "stream",
     "text": [
      "\t2097133\n"
     ]
    }
   ],
   "source": [
    "result_dir = \"/home/galaxy/project/m6AQTL/data/eqtl/total_data/\"\n",
    "# df_1 = df[df[\"Pvalue\"].astype(str).str.replace(\".\",\"\",1).str.replace(\"e\",\"\",1).str.replace(\"-\",\"\",1).str.isdigit()]\n",
    "df_1 = df[df[\"Pvalue\"].apply(lambda x: type(x) == float)]\n",
    "print(\"\\t\" + str(len(df_1)))\n",
    "df_result = df_1.groupby([\"id\"]).apply(pick_guard_snp)\n",
    "# # print(df_result.head())\n",
    "df_result.to_csv(\"%s/Guard_snp_from_paper.txt\" % result_dir, sep=\"\\t\", index=False)"
   ]
  },
  {
   "cell_type": "code",
   "execution_count": 4,
   "metadata": {},
   "outputs": [],
   "source": [
    "def pick_guard_snp(df):\n",
    "    df[\"Pvalue\"] = df[\"Pvalue\"].astype(float)\n",
    "    df_sort = df.sort_values([\"Pvalue\"])\n",
    "    return df_sort.iloc[0,:-1]"
   ]
  },
  {
   "cell_type": "code",
   "execution_count": 30,
   "metadata": {},
   "outputs": [
    {
     "name": "stderr",
     "output_type": "stream",
     "text": [
      "/home/galaxy/anaconda3/lib/python3.6/site-packages/ipykernel_launcher.py:16: SettingWithCopyWarning: \n",
      "A value is trying to be set on a copy of a slice from a DataFrame.\n",
      "Try using .loc[row_indexer,col_indexer] = value instead\n",
      "\n",
      "See the caveats in the documentation: http://pandas.pydata.org/pandas-docs/stable/indexing.html#indexing-view-versus-copy\n",
      "  app.launch_new_instance()\n"
     ]
    }
   ],
   "source": [
    "## filter by pvalue < CUTOFF\n",
    "# raw_file = \"/home/galaxy/project/m6AQTL/data/eqtl/total_data/Guard_snp_from_paper.txt\"\n",
    "# result_file = \"/home/galaxy/project/m6AQTL/data/eqtl/total_data/Final_snp_from_paper.txt\"\n",
    "# df = pd.read_table(raw_file, sep=\"\\t\")\n",
    "# df.head()\n",
    "#### First version:\n",
    "# Corrected_pvalue < 0.001 & Pvalue < 0.00001;\n",
    "#### Second version:\n",
    "# Corrected_pvalue < 0.05 & Pvalue < 0.00001;\n",
    "#### Third version:\n",
    "# Corrected_pvalue < 0.05 & Pvalue < 0.0001;\n",
    "#### Fourth version:\n",
    "#Corrected_pvalue < 0.001 & Pvalue < 0.00001;\n",
    "result_file = \"/home/galaxy/project/m6AQTL/data/pqtl/total_data/Final_snp.txt\"\n",
    "df_na = df[df[\"Pvalue\"].isnull()]\n",
    "df_na[\"Corrected_pvalue\"] = df_na[\"Corrected_pvalue\"].astype(float)\n",
    "df_na = df_na[df_na[\"Corrected_pvalue\"] < 0.001]\n",
    "df_value = df[~df[\"Pvalue\"].isnull()]\n",
    "df_value = df_value[df_value[\"Pvalue\"] < 0.00001]\n",
    "df_result = pd.concat([df_na, df_value])\n",
    "# df_result = df[df[\"Pvalue\"] < 0.00000005] # 0.00001 or FDR < 0.001\n",
    "# #\n",
    "# df_result[\"Experimental_tag\"] = df_result[\"Experimental_tag\"].astype(int)\n",
    "# df_result[\"PubMed_ID\"] = df_result[\"PubMed_ID\"].astype(int)\n",
    "del df_result[\"id\"]\n",
    "df_result.to_csv(result_file, sep=\"\\t\", index=False)"
   ]
  }
 ],
 "metadata": {
  "kernelspec": {
   "display_name": "Python 3",
   "language": "python",
   "name": "python3"
  },
  "language_info": {
   "codemirror_mode": {
    "name": "ipython",
    "version": 3
   },
   "file_extension": ".py",
   "mimetype": "text/x-python",
   "name": "python",
   "nbconvert_exporter": "python",
   "pygments_lexer": "ipython3",
   "version": "3.6.7"
  }
 },
 "nbformat": 4,
 "nbformat_minor": 2
}
