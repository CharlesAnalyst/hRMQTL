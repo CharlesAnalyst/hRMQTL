{
 "cells": [
  {
   "cell_type": "code",
   "execution_count": 3,
   "metadata": {},
   "outputs": [],
   "source": [
    "import os\n",
    "import glob"
   ]
  },
  {
   "cell_type": "code",
   "execution_count": 5,
   "metadata": {},
   "outputs": [],
   "source": [
    "data_dir = \"/home/galaxy/project/m6AQTL/data\"\n",
    "if not os.path.exists(data_dir):\n",
    "    os.makedirs(data_dir)\n",
    "for x in [\"postar\", \"starbase2\"]:\n",
    "    for y in [\"data_table\", \"data_bed\", \"matching_analysis/raw_result\", \"matching_analysis/basic_stats\"]:\n",
    "        for z in [\"eqtl\", \"pqtl\", \"sqtl\"]:\n",
    "            i_dir = \"/home/galaxy/project/m6AQTL/results/%s/rbp/%s/%s\" % (z,x,y)\n",
    "            if not os.path.exists(i_dir):\n",
    "                os.makedirs(i_dir)\n",
    "for y in [\"data_table\", \"data_bed\", \"matching_analysis/raw_result\", \"matching_analysis/basic_stats\"]:\n",
    "    for z in [\"eqtl\", \"pqtl\", \"sqtl\"]:\n",
    "        i_dir = \"/home/galaxy/project/m6AQTL/results/%s/mirna_areas/%s\" % (z,y)\n",
    "        if not os.path.exists(i_dir):\n",
    "            os.makedirs(i_dir)\n",
    "\n",
    "for y in [\"data_table\", \"data_bed\", \"matching_analysis/raw_result\", \"matching_analysis/basic_stats\"]:\n",
    "    for z in [\"eqtl\", \"pqtl\", \"sqtl\"]:\n",
    "        i_dir = \"/home/galaxy/project/m6AQTL/results/%s/splicing_sites/%s\" % (z,y)\n",
    "        if not os.path.exists(i_dir):\n",
    "            os.makedirs(i_dir)\n",
    "        \n",
    "for x in [\"gwas\", \"clinvar\"]:\n",
    "    for y in [\"data_table\", \"data_bed\", \"matching_analysis/raw_result\", \"matching_analysis/basic_stats\"]:\n",
    "        for z in [\"eqtl\", \"pqtl\", \"sqtl\"]:\n",
    "            i_dir = \"/home/galaxy/project/m6AQTL/results/%s/diseases/%s/%s\" % (z,x,y)\n",
    "            if not os.path.exists(i_dir):\n",
    "                os.makedirs(i_dir)"
   ]
  }
 ],
 "metadata": {
  "kernelspec": {
   "display_name": "Python 3",
   "language": "python",
   "name": "python3"
  },
  "language_info": {
   "codemirror_mode": {
    "name": "ipython",
    "version": 3
   },
   "file_extension": ".py",
   "mimetype": "text/x-python",
   "name": "python",
   "nbconvert_exporter": "python",
   "pygments_lexer": "ipython3",
   "version": "3.6.6"
  }
 },
 "nbformat": 4,
 "nbformat_minor": 2
}
