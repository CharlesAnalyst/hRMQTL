{
 "cells": [
  {
   "cell_type": "code",
   "execution_count": 1,
   "metadata": {},
   "outputs": [],
   "source": [
    "import os\n",
    "import glob\n",
    "import pandas as pd"
   ]
  },
  {
   "cell_type": "code",
   "execution_count": 6,
   "metadata": {},
   "outputs": [],
   "source": [
    "in_file = \"/home/galaxy/project/m6AQTL/2019_10_10/transcriptome_snp/SNPiR/shell/GATK_best_practices/SNP.txt\"\n",
    "\n",
    "df = pd.read_table(in_file, sep=\" \")\n",
    "del df[\"Unnamed: 1\"]\n",
    "df.head()\n",
    "df.to_csv(\"/home/galaxy/project/m6AQTL/2019_10_10/transcriptome_snp/SNPiR/shell/GATK_best_practices/SNP2.txt\", sep=\"\\t\", index=False)"
   ]
  }
 ],
 "metadata": {
  "kernelspec": {
   "display_name": "Python 3",
   "language": "python",
   "name": "python3"
  },
  "language_info": {
   "codemirror_mode": {
    "name": "ipython",
    "version": 3
   },
   "file_extension": ".py",
   "mimetype": "text/x-python",
   "name": "python",
   "nbconvert_exporter": "python",
   "pygments_lexer": "ipython3",
   "version": "3.7.0"
  }
 },
 "nbformat": 4,
 "nbformat_minor": 2
}
