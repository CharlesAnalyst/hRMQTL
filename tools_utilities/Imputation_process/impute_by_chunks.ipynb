{
 "cells": [
  {
   "cell_type": "code",
   "execution_count": 4,
   "metadata": {
    "scrolled": false
   },
   "outputs": [
    {
     "name": "stdout",
     "output_type": "stream",
     "text": [
      "['chr1', 'chr2', 'chr3', 'chr4', 'chr5', 'chr6', 'chr7', 'chr8', 'chr9', 'chr10', 'chr11', 'chr12', 'chr13', 'chr14', 'chr15', 'chr16', 'chr17', 'chr18', 'chr19', 'chr20', 'chr21', 'chr22']\n"
     ]
    }
   ],
   "source": [
    "import os\n",
    "import glob\n",
    "import argparse\n",
    "import pandas as pd\n",
    "from multiprocessing import Pool\n",
    "\n",
    "parser = argparse.ArgumentParser()\n",
    "parser.add_argument(\"--data_dir\", \"-d\", help=\"The run directory\")\n",
    "parser.add_argument(\"--chunk_file\", \"-c\", help=\"The chunk coordiantes of each chromosome\")\n",
    "parser.add_argument(\"--prephased_g\", \"-g\", help=\"The prephased result\")\n",
    "parser.add_argument(\"--genetic_map\", \"-m\", help=\"The genetic map which comes from HapMap\")\n",
    "parser.add_argument(\"--reference_hap\", \"-r\", help=\"The haplotype which comes from 1000 Genome\")\n",
    "parser.add_argument(\"--reference_legend\", \"-l\", help=\"The legend which comes from 1000 Genome\")\n",
    "# parser.add_argument(\"--result_file\", \"-o\", help=\"The imputed results\")\n",
    "args = parser.parse_args()\n",
    "#\n",
    "data_dir = args.data_dir\n",
    "chunk_file = args.chunk_file\n",
    "#\n",
    "prephased_g = args.prephased_g\n",
    "genetic_map = args.genetic_map\n",
    "reference_hap = args.reference_hap\n",
    "reference_legend = args.reference_legend\n",
    "# result_file = args.result_file\n",
    "######################\n",
    "os.chdir(data_dir)\n",
    "######################\n",
    "\n",
    "def impute_genotype(start, end):\n",
    "    prefix = data_dir.strip().split(os.sep)[-1]\n",
    "    chr_num = os.path.basename(chunk_file).split(\"_chr\")[1].split(\".txt\")[0]\n",
    "    result_file = \"%s.chr%s_chunk%s-%s.phased.impute2\" % (prefix, chr_num, str(start), str(end))\n",
    "    os.system(\"/home/software/impute_v2.3.2_x86_64_static/impute2 -use_prephased_g -m %s -h %s -l %s -known_haps_g %s -int %d %d -Ne 20000 -o %s -phase\" % (genetic_map, reference_hap, reference_legend, prephased_g, start, end, result_file))\n",
    "    \n",
    "\n",
    "df = pd.read_table(chunk_file, header=None)\n",
    "start_list, end_list = df.iloc[:, 1].tolist(), df.iloc[:, 2].tolist()\n",
    "assert len(start_list) == len(end_list)\n",
    "pool = Pool(processes=20)\n",
    "for i in range(len(start_list)):\n",
    "    pool.apply_async(impute_genotype, (start_list[i], end_list[i], ))\n",
    "pool.close()\n",
    "pool.join()"
   ]
  }
 ],
 "metadata": {
  "kernelspec": {
   "display_name": "Python 3",
   "language": "python",
   "name": "python3"
  },
  "language_info": {
   "codemirror_mode": {
    "name": "ipython",
    "version": 3
   },
   "file_extension": ".py",
   "mimetype": "text/x-python",
   "name": "python",
   "nbconvert_exporter": "python",
   "pygments_lexer": "ipython3",
   "version": "3.7.2"
  }
 },
 "nbformat": 4,
 "nbformat_minor": 2
}
