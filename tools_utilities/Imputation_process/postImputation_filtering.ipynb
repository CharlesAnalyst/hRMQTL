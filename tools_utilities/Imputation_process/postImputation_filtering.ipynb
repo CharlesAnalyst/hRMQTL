{
 "cells": [
  {
   "cell_type": "code",
   "execution_count": 9,
   "metadata": {},
   "outputs": [],
   "source": [
    "import os\n",
    "import pandas as pd\n",
    "import matplotlib.pyplot as plt"
   ]
  },
  {
   "cell_type": "code",
   "execution_count": 4,
   "metadata": {},
   "outputs": [],
   "source": [
    "data_dir = \"/home/galaxy/project/m6AQTL/2019_10_10/transcriptome_snp/SNPiR/shell/HeLa_cell/results/PE/results/input_snp/SRR6714644\"\n",
    "os.chdir(data_dir)"
   ]
  },
  {
   "cell_type": "code",
   "execution_count": 7,
   "metadata": {},
   "outputs": [
    {
     "data": {
      "text/html": [
       "<div>\n",
       "<style scoped>\n",
       "    .dataframe tbody tr th:only-of-type {\n",
       "        vertical-align: middle;\n",
       "    }\n",
       "\n",
       "    .dataframe tbody tr th {\n",
       "        vertical-align: top;\n",
       "    }\n",
       "\n",
       "    .dataframe thead th {\n",
       "        text-align: right;\n",
       "    }\n",
       "</style>\n",
       "<table border=\"1\" class=\"dataframe\">\n",
       "  <thead>\n",
       "    <tr style=\"text-align: right;\">\n",
       "      <th></th>\n",
       "      <th>snp_id</th>\n",
       "      <th>rs_id</th>\n",
       "      <th>position</th>\n",
       "      <th>a0</th>\n",
       "      <th>a1</th>\n",
       "      <th>exp_freq_a1</th>\n",
       "      <th>info</th>\n",
       "      <th>certainty</th>\n",
       "      <th>type</th>\n",
       "      <th>info_type0</th>\n",
       "      <th>concord_type0</th>\n",
       "      <th>r2_type0</th>\n",
       "    </tr>\n",
       "  </thead>\n",
       "  <tbody>\n",
       "    <tr>\n",
       "      <th>0</th>\n",
       "      <td>---</td>\n",
       "      <td>10:100000003:C:T</td>\n",
       "      <td>100000003</td>\n",
       "      <td>C</td>\n",
       "      <td>T</td>\n",
       "      <td>0.000</td>\n",
       "      <td>0.000</td>\n",
       "      <td>1.000</td>\n",
       "      <td>0</td>\n",
       "      <td>-1.0</td>\n",
       "      <td>-1.0</td>\n",
       "      <td>-1.0</td>\n",
       "    </tr>\n",
       "    <tr>\n",
       "      <th>1</th>\n",
       "      <td>---</td>\n",
       "      <td>rs147324274:100000012:G:A</td>\n",
       "      <td>100000012</td>\n",
       "      <td>G</td>\n",
       "      <td>A</td>\n",
       "      <td>0.033</td>\n",
       "      <td>0.032</td>\n",
       "      <td>0.935</td>\n",
       "      <td>0</td>\n",
       "      <td>-1.0</td>\n",
       "      <td>-1.0</td>\n",
       "      <td>-1.0</td>\n",
       "    </tr>\n",
       "    <tr>\n",
       "      <th>2</th>\n",
       "      <td>---</td>\n",
       "      <td>rs141059932:100000051:A:G</td>\n",
       "      <td>100000051</td>\n",
       "      <td>A</td>\n",
       "      <td>G</td>\n",
       "      <td>0.000</td>\n",
       "      <td>0.000</td>\n",
       "      <td>1.000</td>\n",
       "      <td>0</td>\n",
       "      <td>-1.0</td>\n",
       "      <td>-1.0</td>\n",
       "      <td>-1.0</td>\n",
       "    </tr>\n",
       "    <tr>\n",
       "      <th>3</th>\n",
       "      <td>---</td>\n",
       "      <td>rs144804129:100000122:T:A</td>\n",
       "      <td>100000122</td>\n",
       "      <td>T</td>\n",
       "      <td>A</td>\n",
       "      <td>0.032</td>\n",
       "      <td>0.033</td>\n",
       "      <td>0.936</td>\n",
       "      <td>0</td>\n",
       "      <td>-1.0</td>\n",
       "      <td>-1.0</td>\n",
       "      <td>-1.0</td>\n",
       "    </tr>\n",
       "    <tr>\n",
       "      <th>4</th>\n",
       "      <td>---</td>\n",
       "      <td>10:100000150:C:T</td>\n",
       "      <td>100000150</td>\n",
       "      <td>C</td>\n",
       "      <td>T</td>\n",
       "      <td>0.000</td>\n",
       "      <td>0.000</td>\n",
       "      <td>1.000</td>\n",
       "      <td>0</td>\n",
       "      <td>-1.0</td>\n",
       "      <td>-1.0</td>\n",
       "      <td>-1.0</td>\n",
       "    </tr>\n",
       "  </tbody>\n",
       "</table>\n",
       "</div>"
      ],
      "text/plain": [
       "  snp_id                      rs_id   position a0 a1  exp_freq_a1   info  \\\n",
       "0    ---           10:100000003:C:T  100000003  C  T        0.000  0.000   \n",
       "1    ---  rs147324274:100000012:G:A  100000012  G  A        0.033  0.032   \n",
       "2    ---  rs141059932:100000051:A:G  100000051  A  G        0.000  0.000   \n",
       "3    ---  rs144804129:100000122:T:A  100000122  T  A        0.032  0.033   \n",
       "4    ---           10:100000150:C:T  100000150  C  T        0.000  0.000   \n",
       "\n",
       "   certainty  type  info_type0  concord_type0  r2_type0  \n",
       "0      1.000     0        -1.0           -1.0      -1.0  \n",
       "1      0.935     0        -1.0           -1.0      -1.0  \n",
       "2      1.000     0        -1.0           -1.0      -1.0  \n",
       "3      0.936     0        -1.0           -1.0      -1.0  \n",
       "4      1.000     0        -1.0           -1.0      -1.0  "
      ]
     },
     "execution_count": 7,
     "metadata": {},
     "output_type": "execute_result"
    }
   ],
   "source": [
    "raw_file = \"SRR6714644.chr10_chunk100000001-105000000.phased.impute2_info\"\n",
    "df = pd.read_table(raw_file, sep=\" \")\n",
    "df.head()"
   ]
  },
  {
   "cell_type": "code",
   "execution_count": 18,
   "metadata": {},
   "outputs": [
    {
     "name": "stdout",
     "output_type": "stream",
     "text": [
      "133054\n",
      "3028\n",
      "0.02275767733401476\n"
     ]
    }
   ],
   "source": [
    "info_list = df[\"info\"].tolist()\n",
    "print(len(info_list))\n",
    "# df.boxplot([\"info\"])\n",
    "selected_list = [x for x in info_list if x > 0.1]\n",
    "print(len(selected_list))\n",
    "print(len(selected_list) / len(info_list))"
   ]
  }
 ],
 "metadata": {
  "kernelspec": {
   "display_name": "Python 3",
   "language": "python",
   "name": "python3"
  },
  "language_info": {
   "codemirror_mode": {
    "name": "ipython",
    "version": 3
   },
   "file_extension": ".py",
   "mimetype": "text/x-python",
   "name": "python",
   "nbconvert_exporter": "python",
   "pygments_lexer": "ipython3",
   "version": "3.7.2"
  }
 },
 "nbformat": 4,
 "nbformat_minor": 2
}
