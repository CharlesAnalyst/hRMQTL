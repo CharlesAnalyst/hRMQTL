{
 "cells": [
  {
   "cell_type": "code",
   "execution_count": null,
   "metadata": {},
   "outputs": [],
   "source": [
    "import os\n",
    "import glob\n",
    "\n",
    "def split_chunks():\n",
    "    len_file = \"/data/database/ucsc_phylo/placentalMammals/hg19.chrom.sizes\"\n",
    "    interval = 5000000\n",
    "    result_dict = {}\n",
    "\n",
    "    auto_chrs = [(\"chr%d\" % i) for i in range(1, 23)]\n",
    "    print(auto_chrs)\n",
    "    with open(len_file, 'r') as f:\n",
    "        for line in f.readlines():\n",
    "            chr_name = line.split()[0].strip()\n",
    "            if chr_name in auto_chrs:\n",
    "                chunk_list = []\n",
    "                chr_length = int(line.split()[1].strip())\n",
    "                for i in range(1, chr_length, interval):\n",
    "                    chunk_list.append([i, i+interval-1])\n",
    "                chunk_list[-1][1] = chr_length\n",
    "                result_dict[chr_name] = chunk_list\n",
    "    result_dir = \"/home/galaxy/project/m6AQTL/2019_10_10/transcriptome_snp/SNPiR/shell/HeLa_cell/results/PE/results/input_snp/\"\n",
    "    for chr_name, chunk_list in result_dict.items():\n",
    "        with open(os.path.join(result_dir, \"chunk_%s.txt\" % chr_name), 'w') as fw:\n",
    "            for i_chunk in chunk_list:\n",
    "                fw.write(\"%s\\t%d\\t%d\\n\" % (chr_name, i_chunk[0], i_chunk[1]))\n",
    "#     return result_dict\n",
    "\n",
    "chunk_dict = split_chunks()"
   ]
  }
 ],
 "metadata": {
  "kernelspec": {
   "display_name": "Python 3",
   "language": "python",
   "name": "python3"
  },
  "language_info": {
   "codemirror_mode": {
    "name": "ipython",
    "version": 3
   },
   "file_extension": ".py",
   "mimetype": "text/x-python",
   "name": "python",
   "nbconvert_exporter": "python",
   "pygments_lexer": "ipython3",
   "version": "3.7.2"
  }
 },
 "nbformat": 4,
 "nbformat_minor": 2
}
