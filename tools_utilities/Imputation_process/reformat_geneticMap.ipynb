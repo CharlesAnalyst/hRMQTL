{
 "cells": [
  {
   "cell_type": "code",
   "execution_count": 1,
   "metadata": {},
   "outputs": [],
   "source": [
    "import os\n",
    "import glob\n",
    "import pandas as pd"
   ]
  },
  {
   "cell_type": "code",
   "execution_count": 4,
   "metadata": {},
   "outputs": [],
   "source": [
    "raw_dir = \"/home/software/impute_v2.3.2_x86_64_static/genetic_map_HapMapII_GRCh37/raw_files\"\n",
    "raw_list = glob.glob(\"%s/*.txt\" % raw_dir)\n",
    "result_dir = \"/home/software/impute_v2.3.2_x86_64_static/genetic_map_HapMapII_GRCh37/modified_files\"\n",
    "for raw_file in raw_list:\n",
    "    df = pd.read_table(raw_file, sep=\"\\t\")\n",
    "    df_sub = df[[\"Position(bp)\", \"Rate(cM/Mb)\", \"Map(cM)\"]]\n",
    "#     print(df_sub.head())\n",
    "    df_sub.to_csv(\"%s/%s\" % (result_dir, os.path.basename(raw_file)), sep=\"\\t\", index=False)"
   ]
  }
 ],
 "metadata": {
  "kernelspec": {
   "display_name": "Python 3",
   "language": "python",
   "name": "python3"
  },
  "language_info": {
   "codemirror_mode": {
    "name": "ipython",
    "version": 3
   },
   "file_extension": ".py",
   "mimetype": "text/x-python",
   "name": "python",
   "nbconvert_exporter": "python",
   "pygments_lexer": "ipython3",
   "version": "3.7.2"
  }
 },
 "nbformat": 4,
 "nbformat_minor": 2
}
