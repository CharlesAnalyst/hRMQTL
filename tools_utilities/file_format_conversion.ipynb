{
 "cells": [
  {
   "cell_type": "code",
   "execution_count": 1,
   "metadata": {},
   "outputs": [],
   "source": [
    "import os\n",
    "import sys\n",
    "import csv\n",
    "# sys.setdefaultencoding(\"utf-8\")\n",
    "import shutil\n",
    "import random\n",
    "import glob\n",
    "import pandas as pd\n",
    "import numpy as np\n",
    "from scipy import stats\n",
    "import subprocess\n",
    "import matplotlib.mlab as mlab\n",
    "import matplotlib.pyplot as plt\n",
    "import seaborn as sns\n",
    "%matplotlib inline\n",
    "%config InlineBackend.figure_format = 'svg'\n",
    "from multiprocessing import Pool"
   ]
  },
  {
   "cell_type": "code",
   "execution_count": 4,
   "metadata": {},
   "outputs": [],
   "source": [
    "# From csv to txt\n",
    "def convert_file_format(in_csv):\n",
    "    df, out_txt = pd.read_csv(in_csv), in_csv.replace(\".csv\", \".bed\")\n",
    "    df[\"new_chr\"], df[\"new_start\"] = \"chr\" + df[\"chr_name\"], df[\"chrom_start\"] - 1\n",
    "    df = df[[\"new_chr\", \"new_start\", \"chrom_start\", \"refsnp_id\"]].sort_values([\"new_chr\", \"new_start\"])\n",
    "#     print(df.head())\n",
    "    df.to_csv(out_txt, sep=\"\\t\", header=False, index=False)"
   ]
  },
  {
   "cell_type": "code",
   "execution_count": 5,
   "metadata": {},
   "outputs": [],
   "source": [
    "in_dir = \"/home/galaxy/data/QTL/eQTL/sigle_tissue/data3/cis/cis_rs_position\"\n",
    "in_list = glob.glob(\"%s/*.csv\" % in_dir)\n",
    "for in_file in in_list:\n",
    "    convert_file_format(in_file)"
   ]
  }
 ],
 "metadata": {
  "kernelspec": {
   "display_name": "Python 3",
   "language": "python",
   "name": "python3"
  },
  "language_info": {
   "codemirror_mode": {
    "name": "ipython",
    "version": 3
   },
   "file_extension": ".py",
   "mimetype": "text/x-python",
   "name": "python",
   "nbconvert_exporter": "python",
   "pygments_lexer": "ipython3",
   "version": "3.6.7"
  }
 },
 "nbformat": 4,
 "nbformat_minor": 2
}
