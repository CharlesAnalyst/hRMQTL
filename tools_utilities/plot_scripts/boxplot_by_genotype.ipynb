{
 "cells": [
  {
   "cell_type": "code",
   "execution_count": 20,
   "metadata": {},
   "outputs": [],
   "source": [
    "import os\n",
    "import glob\n",
    "import math\n",
    "import numpy as np\n",
    "import pandas as pd"
   ]
  },
  {
   "cell_type": "code",
   "execution_count": 9,
   "metadata": {
    "scrolled": true
   },
   "outputs": [
    {
     "name": "stdout",
     "output_type": "stream",
     "text": [
      "             SRR5925271-  SRR5925272-  SRR5925287-  SRR5925288-  SRR5925299-  \\\n",
      "chr1:91515             0            1            0            0            0   \n",
      "chr1:91536             0            1            0            0            0   \n",
      "chr1:91581             0            1            0            0            0   \n",
      "chr1:122872            0            0            2            1            2   \n",
      "chr1:158006            0            0            1            0            2   \n",
      "\n",
      "             SRR5925300-  SRR6714636-  SRR6714637-  SRR6714640-  SRR6714641-  \\\n",
      "chr1:91515             0            0            0            2            0   \n",
      "chr1:91536             0            0            0            2            0   \n",
      "chr1:91581             0            0            0            2            0   \n",
      "chr1:122872            1            0            0            0            0   \n",
      "chr1:158006            1            0            0            2            0   \n",
      "\n",
      "             SRR6714644-  SRR6714645-  SRR847358-  SRR847359-  SRR847370-  \\\n",
      "chr1:91515             2            1           0           0           0   \n",
      "chr1:91536             2            1           0           0           0   \n",
      "chr1:91581             2            1           0           0           0   \n",
      "chr1:122872            1            1           1           0           0   \n",
      "chr1:158006            0            1           0           0           0   \n",
      "\n",
      "             SRR847371-  \n",
      "chr1:91515            0  \n",
      "chr1:91536            0  \n",
      "chr1:91581            0  \n",
      "chr1:122872           0  \n",
      "chr1:158006           0  \n"
     ]
    }
   ],
   "source": [
    "matrix = \"/home/galaxy/project/m6AQTL/2019_10_10/transcriptome_snp/SNPiR/shell/HeLa_cell/combined_results/results/MatrixEQTL_result/hg19_SNP.csv\"\n",
    "df_m = pd.read_csv(matrix)\n",
    "df_m = df_m.set_index([\"id\"])\n",
    "df_m.head()\n",
    "selected_list, index_list = [], []\n",
    "for index, values in df_m.iterrows():\n",
    "    values = values.tolist()\n",
    "    if (values.count(0) > 1) and (values.count(1) > 1) and (values.count(2) > 1):\n",
    "        selected_list.append(values)\n",
    "        index_list.append(index)\n",
    "df_geno = pd.DataFrame(selected_list, columns=df_m.columns, index=index_list)\n",
    "print(df_geno.head())"
   ]
  },
  {
   "cell_type": "code",
   "execution_count": 13,
   "metadata": {},
   "outputs": [],
   "source": [
    "mapping = \"/home/galaxy/project/m6AQTL/2019_10_10/transcriptome_snp/SNPiR/shell/HeLa_cell/combined_results/results/validation_result/m6AVar/m6AQTL_cis_linear_filter.txt\"\n",
    "df_map = pd.read_table(mapping, sep=\"\\t\", header=None)\n",
    "df_map.head()\n",
    "####\n",
    "index_list = index_list # SNP\n",
    "methy_list = [] # m6A\n",
    "map_dict = {}\n",
    "####\n",
    "for index, values in df_map.iterrows():\n",
    "    if values[0] in index_list:\n",
    "        methy_list.append(values[1])\n",
    "        map_dict[values[0]] = [values[1], values[2]]\n",
    "methy_list = list(set(methy_list))"
   ]
  },
  {
   "cell_type": "code",
   "execution_count": 14,
   "metadata": {},
   "outputs": [
    {
     "name": "stdout",
     "output_type": "stream",
     "text": [
      "                           SRR5925271-  SRR5925272-  SRR5925287-  SRR5925288-  \\\n",
      "id                                                                              \n",
      "chr14:100757429-100759901     2.973713     4.523478     4.772248     3.806934   \n",
      "chr2:85062924-85065374        1.262625     2.101578     1.155902     1.155795   \n",
      "chr21:46353613-46354147       1.645968     2.220213     3.364202     2.682206   \n",
      "chr7:1607061-1607583          1.491703     2.429535     4.004795     3.298926   \n",
      "chr1:227152636-227153237      1.239343     1.769380     1.956890     1.744201   \n",
      "\n",
      "                           SRR5925299-  SRR5925300-  SRR6714636-  SRR6714637-  \\\n",
      "id                                                                              \n",
      "chr14:100757429-100759901     3.249825     8.152294     0.831387     1.403842   \n",
      "chr2:85062924-85065374        0.805493     1.028246     0.702153     0.845930   \n",
      "chr21:46353613-46354147       2.171016     5.589816     0.946553     1.230527   \n",
      "chr7:1607061-1607583          2.314267     5.163748     0.645511     1.087363   \n",
      "chr1:227152636-227153237      1.482339     2.597852     0.816539     1.279399   \n",
      "\n",
      "                           SRR6714640-  SRR6714641-  SRR6714644-  SRR6714645-  \\\n",
      "id                                                                              \n",
      "chr14:100757429-100759901     4.717174     3.523727     0.322977     0.537204   \n",
      "chr2:85062924-85065374        1.907665     1.864018     4.179561     6.351586   \n",
      "chr21:46353613-46354147       2.589289     1.814837     0.554990     0.692805   \n",
      "chr7:1607061-1607583          2.546958     1.932344     0.409792     0.682852   \n",
      "chr1:227152636-227153237      1.909070     1.408415     0.148855     0.132436   \n",
      "\n",
      "                           SRR847358-  SRR847359-  SRR847370-  SRR847371-  \n",
      "id                                                                         \n",
      "chr14:100757429-100759901   10.692270    5.246210    8.271637    9.717184  \n",
      "chr2:85062924-85065374       3.386130    2.057050    3.784726    3.928652  \n",
      "chr21:46353613-46354147      3.082154    1.893480    2.259401    2.442702  \n",
      "chr7:1607061-1607583         3.493134    1.757854    4.221413    4.892443  \n",
      "chr1:227152636-227153237     4.925754    2.530520    3.044955    3.738053  \n"
     ]
    }
   ],
   "source": [
    "methy = \"/home/galaxy/project/m6AQTL/2019_10_10/transcriptome_snp/SNPiR/shell/HeLa_cell/combined_results/results/MatrixEQTL_result/hg19_quantification.matrix\"\n",
    "df_methy = pd.read_table(methy, sep=\"\\t\", index_col=0)\n",
    "# print(df_methy.head())\n",
    "df_pheno = df_methy[df_methy.index.isin(methy_list)]\n",
    "print(df_pheno.head())"
   ]
  },
  {
   "cell_type": "code",
   "execution_count": 23,
   "metadata": {},
   "outputs": [],
   "source": [
    "result_file = \"/home/galaxy/project/m6AQTL/2019_10_10/transcriptome_snp/SNPiR/shell/HeLa_cell/combined_results/results/MatrixEQTL_result/genotype_methy_boxplot_01_trend.txt\"\n",
    "\n",
    "with open(result_file, 'w') as fw:\n",
    "    fw.write(\"SNP\\tPeak\\tgenotype_0\\tgenotype_1\\tgenotype_1\\n\")\n",
    "    for snp, value_list in map_dict.items():\n",
    "        peak,effect_size = value_list[0], str(value_list[1])\n",
    "        values = df_geno.loc[snp, :].tolist()\n",
    "        zero_list = [i for i in range(len(values)) if values[i] == 0]\n",
    "        one_list = [i for i in range(len(values)) if values[i] == 1]\n",
    "        two_list = [i for i in range(len(values)) if values[i] == 2]\n",
    "        values = df_pheno.loc[peak, :].tolist()\n",
    "        zero_list = [(values[x]) for x in zero_list]\n",
    "        one_list = [(values[x]) for x in one_list]\n",
    "        two_list = [(values[x]) for x in two_list]\n",
    "        if float(effect_size) > 0 and (np.median(two_list) > np.median(one_list) > np.median(zero_list)):\n",
    "            zero_list = [str(x) for x in zero_list]\n",
    "            one_list = [str(x) for x in one_list]\n",
    "            two_list = [str(x) for x in two_list]\n",
    "            fw.write(\"\\t\".join([snp, peak, effect_size, \",\".join(zero_list), \",\".join(one_list), \",\".join(two_list)]) + \"\\n\")\n",
    "        if float(effect_size) < 0 and (np.median(two_list) < np.median(one_list) < np.median(zero_list)):\n",
    "            zero_list = [str(x) for x in zero_list]\n",
    "            one_list = [str(x) for x in one_list]\n",
    "            two_list = [str(x) for x in two_list]\n",
    "            fw.write(\"\\t\".join([snp, peak, effect_size, \",\".join(zero_list), \",\".join(one_list), \",\".join(two_list)]) + \"\\n\")"
   ]
  },
  {
   "cell_type": "code",
   "execution_count": 21,
   "metadata": {},
   "outputs": [
    {
     "data": {
      "text/plain": [
       "1.0"
      ]
     },
     "execution_count": 21,
     "metadata": {},
     "output_type": "execute_result"
    }
   ],
   "source": [
    "# filter results based on effect size\n",
    "np.median([1,1,1])"
   ]
  },
  {
   "cell_type": "code",
   "execution_count": null,
   "metadata": {},
   "outputs": [],
   "source": []
  }
 ],
 "metadata": {
  "kernelspec": {
   "display_name": "Python 3",
   "language": "python",
   "name": "python3"
  },
  "language_info": {
   "codemirror_mode": {
    "name": "ipython",
    "version": 3
   },
   "file_extension": ".py",
   "mimetype": "text/x-python",
   "name": "python",
   "nbconvert_exporter": "python",
   "pygments_lexer": "ipython3",
   "version": "3.7.2"
  }
 },
 "nbformat": 4,
 "nbformat_minor": 2
}
