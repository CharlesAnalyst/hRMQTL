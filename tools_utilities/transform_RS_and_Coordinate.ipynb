{
 "cells": [
  {
   "cell_type": "code",
   "execution_count": 3,
   "metadata": {},
   "outputs": [],
   "source": [
    "import os\n",
    "import glob\n",
    "import klepto\n",
    "from sklearn.externals import joblib\n",
    "import pandas as pd\n",
    "import numpy as np"
   ]
  },
  {
   "cell_type": "code",
   "execution_count": 4,
   "metadata": {},
   "outputs": [],
   "source": [
    "bed_dir = \"/home/galaxy/data/SNP/dbSNP/human_9606_b151_GRCh37p13/bed\"\n",
    "bed_list = glob.glob(\"%s/*.bed\" % bed_dir)\n",
    "# print(os.path.basename(bed_list))"
   ]
  },
  {
   "cell_type": "code",
   "execution_count": 10,
   "metadata": {
    "collapsed": true
   },
   "outputs": [
    {
     "name": "stdout",
     "output_type": "stream",
     "text": [
      "bed_chr_X.bed\n",
      "bed_chr_14.bed\n",
      "bed_chr_3.bed\n",
      "bed_chr_9.bed\n",
      "bed_chr_5.bed\n",
      "bed_chr_6.bed\n",
      "bed_chr_11.bed\n",
      "bed_chr_1.bed\n",
      "bed_chr_12.bed\n",
      "bed_chr_2.bed\n",
      "bed_chr_Y.bed\n",
      "bed_chr_21.bed\n",
      "bed_chr_13.bed\n",
      "bed_chr_16.bed\n",
      "bed_chr_22.bed\n",
      "bed_chr_4.bed\n",
      "bed_chr_10.bed\n",
      "bed_chr_8.bed\n",
      "bed_chr_15.bed\n",
      "bed_chr_20.bed\n",
      "bed_chr_17.bed\n",
      "bed_chr_7.bed\n",
      "bed_chr_19.bed\n",
      "bed_chr_18.bed\n"
     ]
    }
   ],
   "source": [
    "dict_list = []\n",
    "for bed in bed_list:\n",
    "    print(os.path.basename(bed))\n",
    "    df = pd.read_table(bed, sep=\"\\t\", skiprows=1)\n",
    "    df[\"ID\"] = df.iloc[:, 0].astype(str) + \":\" + df.iloc[:, 2].astype(str)\n",
    "    rs_dict = dict(zip(df[\"ID\"], df.iloc[:, 3]))\n",
    "    dict_list.append(rs_dict)\n",
    "#     print(df.head())\n",
    "#     break"
   ]
  },
  {
   "cell_type": "code",
   "execution_count": 13,
   "metadata": {
    "collapsed": true
   },
   "outputs": [
    {
     "name": "stdout",
     "output_type": "stream",
     "text": [
      "1\n",
      "2\n",
      "3\n",
      "4\n",
      "5\n",
      "6\n",
      "7\n",
      "8\n",
      "9\n",
      "10\n",
      "11\n",
      "12\n",
      "13\n",
      "14\n",
      "15\n",
      "16\n",
      "17\n",
      "18\n",
      "19\n",
      "20\n",
      "21\n",
      "22\n",
      "23\n",
      "24\n"
     ]
    }
   ],
   "source": [
    "total_dict = {}\n",
    "count = 0\n",
    "for i_dict in dict_list:\n",
    "    count += 1\n",
    "    print(count)\n",
    "#     total_dict = dict(list(total_dict.items()) + list(i_dict.items()))\n",
    "    total_dict = dict(total_dict, **i_dict)"
   ]
  },
  {
   "cell_type": "code",
   "execution_count": 29,
   "metadata": {},
   "outputs": [],
   "source": [
    "# ### Memory error occures, even using diff methods/packages.\n",
    "# d = klepto.archives.dir_archive('stuff', cached=True, serialized=True)\n",
    "# # d\n",
    "# d[\"RS_ID_Position\"] = total_dict\n",
    "# d.dump()\n",
    "# with open(\"RS_ID_Position.pickle\", 'wb') as handle:\n",
    "#     joblib.dump(total_dict, handle)\n",
    "# with open('RS_ID_Position.pickle', 'rb') as handle:\n",
    "#     total_dict = pickle.load(handle)"
   ]
  },
  {
   "cell_type": "code",
   "execution_count": 43,
   "metadata": {},
   "outputs": [
    {
     "name": "stderr",
     "output_type": "stream",
     "text": [
      "/home/galaxy/anaconda3/lib/python3.6/site-packages/IPython/core/interactiveshell.py:3020: DtypeWarning: Columns (3,5,6,8,10,11,14) have mixed types. Specify dtype option on import or set low_memory=False.\n",
      "  interactivity=interactivity, compiler=compiler, result=result)\n",
      "/home/galaxy/anaconda3/lib/python3.6/site-packages/ipykernel_launcher.py:7: SettingWithCopyWarning: \n",
      "A value is trying to be set on a copy of a slice from a DataFrame.\n",
      "Try using .loc[row_indexer,col_indexer] = value instead\n",
      "\n",
      "See the caveats in the documentation: http://pandas.pydata.org/pandas-docs/stable/indexing.html#indexing-view-versus-copy\n",
      "  import sys\n",
      "/home/galaxy/anaconda3/lib/python3.6/site-packages/ipykernel_launcher.py:9: SettingWithCopyWarning: \n",
      "A value is trying to be set on a copy of a slice from a DataFrame.\n",
      "Try using .loc[row_indexer,col_indexer] = value instead\n",
      "\n",
      "See the caveats in the documentation: http://pandas.pydata.org/pandas-docs/stable/indexing.html#indexing-view-versus-copy\n",
      "  if __name__ == '__main__':\n"
     ]
    }
   ],
   "source": [
    "data = \"/home/galaxy/project/m6AQTL/data/meqtl/total_data/meQTL_paper_with_Ensembl.txt\"\n",
    "result_file = \"/home/galaxy/project/m6AQTL/data/meqtl/total_data/meQTL_paper_with_Ensembl_corr.txt\"\n",
    "df = pd.read_table(data, sep=\"\\t\")\n",
    "df_1 = df[~df[\"RS_ID\"].str.startswith(\"AFFX-SNP_\", na=False)]\n",
    "df_abnormal = df_1[df_1[\"RS_ID\"].str.contains(\"_\", na=False)]\n",
    "df_normal = df_1[~df_1[\"RS_ID\"].str.contains(\"_\", na=False)]\n",
    "df_abnormal[\"RS_ID\"] = \"chr\" + df_abnormal[\"RS_ID\"].str.split(\"_\").str[0]\n",
    "rs_list = [total_dict[x] if x in total_dict else x for x in df_abnormal[\"RS_ID\"]]\n",
    "df_abnormal[\"RS_ID\"] = rs_list\n",
    "# remove transformation failure\n",
    "df_abnormal = df_abnormal[~df_abnormal[\"RS_ID\"].str.contains(\"_\", na=False)]\n",
    "# print(df_abnormal.head())\n",
    "df_final = pd.concat([df_normal, df_abnormal])\n",
    "df_final.to_csv(result_file, sep=\"\\t\", index=False)\n",
    "# pubmed_list = list(set(df_abnormal[\"PubMed_ID\"].tolist()))\n",
    "# print(pubmed_list)"
   ]
  },
  {
   "cell_type": "code",
   "execution_count": 1,
   "metadata": {},
   "outputs": [
    {
     "ename": "NameError",
     "evalue": "name 'total_dict' is not defined",
     "output_type": "error",
     "traceback": [
      "\u001b[0;31m---------------------------------------------------------------------------\u001b[0m",
      "\u001b[0;31mNameError\u001b[0m                                 Traceback (most recent call last)",
      "\u001b[0;32m<ipython-input-1-0c2d2a938184>\u001b[0m in \u001b[0;36m<module>\u001b[0;34m\u001b[0m\n\u001b[0;32m----> 1\u001b[0;31m \u001b[0mtotal_dict\u001b[0m\u001b[0;34m[\u001b[0m\u001b[0;34m\"chr2:242185654\"\u001b[0m\u001b[0;34m]\u001b[0m\u001b[0;34m\u001b[0m\u001b[0;34m\u001b[0m\u001b[0m\n\u001b[0m",
      "\u001b[0;31mNameError\u001b[0m: name 'total_dict' is not defined"
     ]
    }
   ],
   "source": [
    "total_dict[\"chr2:242185654\"]"
   ]
  },
  {
   "cell_type": "code",
   "execution_count": 5,
   "metadata": {},
   "outputs": [
    {
     "name": "stderr",
     "output_type": "stream",
     "text": [
      "/home/galaxy/anaconda3/lib/python3.6/site-packages/IPython/core/interactiveshell.py:3020: DtypeWarning: Columns (2,3,4,8,9) have mixed types. Specify dtype option on import or set low_memory=False.\n",
      "  interactivity=interactivity, compiler=compiler, result=result)\n"
     ]
    },
    {
     "name": "stdout",
     "output_type": "stream",
     "text": [
      "        Ensembl_ID Gene_Name RS_ID  REF  ALT eQTL_type Cutoff        Pvalue  \\\n",
      "0  ENSG00000085832     EPS15     .  NaN  NaN       cis   1 Mb  5.830000e-28   \n",
      "1  ENSG00000085832     EPS15     .  NaN  NaN       cis   1 Mb  5.880000e-06   \n",
      "2  ENSG00000085832     EPS15     .  NaN  NaN       cis   1 Mb  5.040000e-06   \n",
      "3  ENSG00000085832     EPS15     .  NaN  NaN       cis   1 Mb  1.300000e-31   \n",
      "4  ENSG00000085832     EPS15     .  NaN  NaN       cis   1 Mb  6.060000e-08   \n",
      "\n",
      "  Corrected_pvalue Measure  Value    Cell_or_tissue  Condition  \\\n",
      "0        <1.34e-05    Beta -0.298  peripheral blood        NaN   \n",
      "1         3.18e-02    Beta -0.229  peripheral blood        NaN   \n",
      "2         2.75e-02    Beta -0.276  peripheral blood        NaN   \n",
      "3        <1.34e-05    Beta -0.302  peripheral blood        NaN   \n",
      "4         5.35e-04    Beta -0.093  peripheral blood        NaN   \n",
      "\n",
      "   Experimental_tag  PubMed_ID  \n",
      "0                 1   28165122  \n",
      "1                 1   28165122  \n",
      "2                 1   28165122  \n",
      "3                 1   28165122  \n",
      "4                 1   28165122  \n"
     ]
    }
   ],
   "source": [
    "# transform eQTL db;\n",
    "# less /home/lzg/1906/QTL_data/unused_qtl_database/eqtl/ensg37to38/db_total.txt | grep -v -P \"\\trs\" > /home/galaxy/project/m6AQTL/data/eqtl/total_data/abnormal_db.txt\n",
    "eqtl = \"/home/galaxy/project/m6AQTL/data/eqtl/total_data/abnormal_db.txt\"\n",
    "result_file = \"/home/galaxy/project/m6AQTL/data/eqtl/total_data/eQTL_db.txt\"\n",
    "df = pd.read_table(eqtl, sep=\"\\t\", skiprows=1)\n",
    "print(df.head())\n",
    "# df[\"RS_ID\"] = \"chr\" + df[\"RS_ID\"].str.replace(\"_\", \":\")\n",
    "# rs_list = [total_dict[x] if x in total_dict else x for x in df[\"RS_ID\"]]\n",
    "# df[\"RS_ID\"] = rs_list\n",
    "# df = df[df[\"RS_ID\"].str.startswith(\"rs\", na=False)]\n",
    "# print(len(df))\n",
    "# df.to_csv(result_file, sep=\"\\t\", index=False)\n",
    "# print(df_abnormal[\"RS_ID\"].tolist())"
   ]
  },
  {
   "cell_type": "code",
   "execution_count": 6,
   "metadata": {},
   "outputs": [
    {
     "name": "stdout",
     "output_type": "stream",
     "text": [
      "[27918533, 31174959]\n"
     ]
    }
   ],
   "source": [
    "df_1 = df[~df[\"RS_ID\"].str.startswith(\".\", na=False)]\n",
    "df_2 = df_1[~df_1[\"RS_ID\"].isnull()]\n",
    "print(list(set(df_2[\"PubMed_ID\"].tolist())))"
   ]
  },
  {
   "cell_type": "code",
   "execution_count": 1,
   "metadata": {},
   "outputs": [
    {
     "name": "stdout",
     "output_type": "stream",
     "text": [
      "['chr1:179915634-179920175;chr1:179915634-179920178', 'chr4:167474976-167479675;chr4:167474973-167479675', 'chr4:167454373-167456577']\n"
     ]
    }
   ],
   "source": [
    "# chr_name        start          end  line_num                        id\n",
    "# 0     chr1  179915634.0  179920175.0       1.1  chr1:179915634-179920175\n",
    "# 1     chr1  179915634.0  179920178.0       1.2  chr1:179915634-179920178\n",
    "# 2     chr4  167474976.0  167479675.0       2.1  chr4:167474976-167479675\n",
    "# 3     chr4  167474973.0  167479675.0       2.2  chr4:167474973-167479675\n",
    "# 4     chr4  167454373.0  167456577.0       3.1  chr4:167454373-167456577\n",
    "id_list = [\"chr1:179915634-179920175\", \"chr1:179915634-179920178\", \"chr4:167474976-167479675\", \"chr4:167474973-167479675\", \"chr4:167454373-167456577\"]\n",
    "line_nums = [1.1, 1.2, 2.1, 2.2, 3.1]\n",
    "result_list = []\n",
    "for i in range(1, 4):\n",
    "    result_list.append(\";\".join([str(id_list[j]) for j in range(len(id_list)) if str(line_nums[j]).startswith(str(i)+\".\")]))\n",
    "print(result_list)"
   ]
  }
 ],
 "metadata": {
  "kernelspec": {
   "display_name": "Python 3",
   "language": "python",
   "name": "python3"
  },
  "language_info": {
   "codemirror_mode": {
    "name": "ipython",
    "version": 3
   },
   "file_extension": ".py",
   "mimetype": "text/x-python",
   "name": "python",
   "nbconvert_exporter": "python",
   "pygments_lexer": "ipython3",
   "version": "3.6.7"
  }
 },
 "nbformat": 4,
 "nbformat_minor": 2
}
