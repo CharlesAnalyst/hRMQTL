{
 "cells": [
  {
   "cell_type": "code",
   "execution_count": 1,
   "metadata": {},
   "outputs": [],
   "source": [
    "import os\n",
    "import sys\n",
    "import csv\n",
    "# sys.setdefaultencoding(\"utf-8\")\n",
    "import shutil\n",
    "import random\n",
    "import glob\n",
    "import pandas as pd\n",
    "import numpy as np\n",
    "from scipy import stats\n",
    "import subprocess\n",
    "import matplotlib.mlab as mlab\n",
    "import matplotlib.pyplot as plt\n",
    "import seaborn as sns\n",
    "%matplotlib inline\n",
    "%config InlineBackend.figure_format = 'svg'\n",
    "from multiprocessing import Pool"
   ]
  },
  {
   "cell_type": "code",
   "execution_count": 2,
   "metadata": {},
   "outputs": [],
   "source": [
    "#################################################################################################################\n",
    "bed_dir = \"/home/galaxy/project/QTL_analysis/intersected_with_m6a/eQTL/intersected_m6a_bed\"\n",
    "bed_list = glob.glob(\"%s/*.bed\" % bed_dir)\n",
    "result_dir = \"/home/galaxy/project/QTL_analysis/intersected_with_m6a/eQTL/intersected_m6a_bed/autosomal_m6a\"\n",
    "if not os.path.exists(result_dir):\n",
    "    os.makedirs(result_dir)\n",
    "#################################################################################################################\n",
    "\n",
    "def main():\n",
    "    for x in bed_list:\n",
    "        pick_chr1_22(x)\n",
    "\n",
    "def pick_chr1_22(in_bed):\n",
    "    result_file = os.path.join(result_dir, os.path.basename(in_bed))\n",
    "    # os.system(\"less %s | awk '$1 ~ /^chr(1?[0-9]|2[0-2]|X|Y)$/' > %s\" % (in_bed, result_file))\n",
    "    os.system(\"less %s | awk '$1 ~ /^chr(1?[0-9]|2[0-2])$/' | sort -k1,1 -k2,2n | uniq > %s\" % (in_bed, result_file))\n",
    "\n",
    "\n",
    "if __name__ == '__main__':\n",
    "    main()"
   ]
  }
 ],
 "metadata": {
  "kernelspec": {
   "display_name": "Python 3",
   "language": "python",
   "name": "python3"
  },
  "language_info": {
   "codemirror_mode": {
    "name": "ipython",
    "version": 3
   },
   "file_extension": ".py",
   "mimetype": "text/x-python",
   "name": "python",
   "nbconvert_exporter": "python",
   "pygments_lexer": "ipython3",
   "version": "3.7.0"
  }
 },
 "nbformat": 4,
 "nbformat_minor": 2
}
