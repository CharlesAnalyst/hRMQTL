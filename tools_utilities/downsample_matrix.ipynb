{
 "cells": [
  {
   "cell_type": "code",
   "execution_count": 1,
   "metadata": {},
   "outputs": [],
   "source": [
    "import os\n",
    "import pandas as pd"
   ]
  },
  {
   "cell_type": "code",
   "execution_count": 8,
   "metadata": {},
   "outputs": [],
   "source": [
    "os.chdir(\"/home/galaxy/project/m6AQTL/2019_10_10/transcriptome_snp/SNPiR/shell/HeLa_cell/results/PE/results/result_arranged/quantification/\")"
   ]
  },
  {
   "cell_type": "code",
   "execution_count": 3,
   "metadata": {},
   "outputs": [
    {
     "data": {
      "text/html": [
       "<div>\n",
       "<style scoped>\n",
       "    .dataframe tbody tr th:only-of-type {\n",
       "        vertical-align: middle;\n",
       "    }\n",
       "\n",
       "    .dataframe tbody tr th {\n",
       "        vertical-align: top;\n",
       "    }\n",
       "\n",
       "    .dataframe thead th {\n",
       "        text-align: right;\n",
       "    }\n",
       "</style>\n",
       "<table border=\"1\" class=\"dataframe\">\n",
       "  <thead>\n",
       "    <tr style=\"text-align: right;\">\n",
       "      <th></th>\n",
       "      <th>HeLa_07</th>\n",
       "      <th>HeLa_08</th>\n",
       "      <th>HeLa_09</th>\n",
       "      <th>HeLa_10</th>\n",
       "      <th>HeLa_11</th>\n",
       "      <th>HeLa_12</th>\n",
       "      <th>HeLa_13</th>\n",
       "      <th>HeLa_14</th>\n",
       "      <th>HeLa_15</th>\n",
       "      <th>HeLa_16</th>\n",
       "    </tr>\n",
       "  </thead>\n",
       "  <tbody>\n",
       "    <tr>\n",
       "      <th>chr1:14375-15199</th>\n",
       "      <td>0.095287</td>\n",
       "      <td>0.130410</td>\n",
       "      <td>3.795040</td>\n",
       "      <td>3.122531</td>\n",
       "      <td>2.681811</td>\n",
       "      <td>5.926238</td>\n",
       "      <td>4.836790</td>\n",
       "      <td>3.489376</td>\n",
       "      <td>2.222891</td>\n",
       "      <td>3.615374</td>\n",
       "    </tr>\n",
       "    <tr>\n",
       "      <th>chr1:15775-15947</th>\n",
       "      <td>0.075061</td>\n",
       "      <td>0.152445</td>\n",
       "      <td>2.750113</td>\n",
       "      <td>4.753469</td>\n",
       "      <td>2.328704</td>\n",
       "      <td>3.713092</td>\n",
       "      <td>3.506498</td>\n",
       "      <td>3.070094</td>\n",
       "      <td>2.075861</td>\n",
       "      <td>3.404565</td>\n",
       "    </tr>\n",
       "    <tr>\n",
       "      <th>chr1:17550-18075</th>\n",
       "      <td>0.094129</td>\n",
       "      <td>0.162054</td>\n",
       "      <td>1.714294</td>\n",
       "      <td>1.286574</td>\n",
       "      <td>2.586371</td>\n",
       "      <td>4.642287</td>\n",
       "      <td>2.948946</td>\n",
       "      <td>2.579499</td>\n",
       "      <td>1.336284</td>\n",
       "      <td>1.871561</td>\n",
       "    </tr>\n",
       "    <tr>\n",
       "      <th>chr1:135075-135475</th>\n",
       "      <td>2.220172</td>\n",
       "      <td>4.514938</td>\n",
       "      <td>3.031161</td>\n",
       "      <td>2.179602</td>\n",
       "      <td>0.808414</td>\n",
       "      <td>1.797029</td>\n",
       "      <td>2.709423</td>\n",
       "      <td>2.097538</td>\n",
       "      <td>1.892073</td>\n",
       "      <td>2.519826</td>\n",
       "    </tr>\n",
       "    <tr>\n",
       "      <th>chr1:184950-185716</th>\n",
       "      <td>1.021473</td>\n",
       "      <td>2.045605</td>\n",
       "      <td>2.426888</td>\n",
       "      <td>2.651058</td>\n",
       "      <td>1.563617</td>\n",
       "      <td>3.195416</td>\n",
       "      <td>4.249028</td>\n",
       "      <td>3.454610</td>\n",
       "      <td>2.195510</td>\n",
       "      <td>3.098933</td>\n",
       "    </tr>\n",
       "  </tbody>\n",
       "</table>\n",
       "</div>"
      ],
      "text/plain": [
       "                     HeLa_07   HeLa_08   HeLa_09   HeLa_10   HeLa_11  \\\n",
       "chr1:14375-15199    0.095287  0.130410  3.795040  3.122531  2.681811   \n",
       "chr1:15775-15947    0.075061  0.152445  2.750113  4.753469  2.328704   \n",
       "chr1:17550-18075    0.094129  0.162054  1.714294  1.286574  2.586371   \n",
       "chr1:135075-135475  2.220172  4.514938  3.031161  2.179602  0.808414   \n",
       "chr1:184950-185716  1.021473  2.045605  2.426888  2.651058  1.563617   \n",
       "\n",
       "                     HeLa_12   HeLa_13   HeLa_14   HeLa_15   HeLa_16  \n",
       "chr1:14375-15199    5.926238  4.836790  3.489376  2.222891  3.615374  \n",
       "chr1:15775-15947    3.713092  3.506498  3.070094  2.075861  3.404565  \n",
       "chr1:17550-18075    4.642287  2.948946  2.579499  1.336284  1.871561  \n",
       "chr1:135075-135475  1.797029  2.709423  2.097538  1.892073  2.519826  \n",
       "chr1:184950-185716  3.195416  4.249028  3.454610  2.195510  3.098933  "
      ]
     },
     "execution_count": 3,
     "metadata": {},
     "output_type": "execute_result"
    }
   ],
   "source": [
    "matrix = \"bedtools_quantification.matrix\"\n",
    "df = pd.read_table(matrix, sep=\"\\t\")\n",
    "df.head()"
   ]
  },
  {
   "cell_type": "code",
   "execution_count": 12,
   "metadata": {},
   "outputs": [],
   "source": [
    "df.index.set_names([\"m6AID\"], inplace=True)\n",
    "df_sub = df.sample(n=10000)\n",
    "df_sub.to_csv(\"subset_quantification.matrix\")"
   ]
  }
 ],
 "metadata": {
  "kernelspec": {
   "display_name": "Python 3",
   "language": "python",
   "name": "python3"
  },
  "language_info": {
   "codemirror_mode": {
    "name": "ipython",
    "version": 3
   },
   "file_extension": ".py",
   "mimetype": "text/x-python",
   "name": "python",
   "nbconvert_exporter": "python",
   "pygments_lexer": "ipython3",
   "version": "3.7.2"
  }
 },
 "nbformat": 4,
 "nbformat_minor": 2
}
