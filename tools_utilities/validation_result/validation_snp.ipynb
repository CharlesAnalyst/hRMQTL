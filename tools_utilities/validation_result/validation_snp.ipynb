{
 "cells": [
  {
   "cell_type": "code",
   "execution_count": 1,
   "metadata": {},
   "outputs": [],
   "source": [
    "import os\n",
    "import glob\n",
    "import pandas as pd"
   ]
  },
  {
   "cell_type": "code",
   "execution_count": 3,
   "metadata": {},
   "outputs": [],
   "source": [
    "work_dir = \"/home/galaxy/project/m6AQTL/2019_10_10/transcriptome_snp/SNPiR/shell/HeLa_cell/combined_results/results/validation_result/m6AVar\"\n",
    "os.chdir(work_dir)"
   ]
  },
  {
   "cell_type": "code",
   "execution_count": 9,
   "metadata": {},
   "outputs": [],
   "source": [
    "hela_cis = \"m6AQTL_cis_linear_filter.txt\"\n",
    "m6avar_cis = \"m6avar_snp.txt\"\n",
    "df_hela = pd.read_table(hela_cis, sep=\"\\t\", header=None)\n",
    "df_m6avar = pd.read_table(m6avar_cis, sep=\"\\t\", header=None)"
   ]
  },
  {
   "cell_type": "code",
   "execution_count": 7,
   "metadata": {},
   "outputs": [
    {
     "data": {
      "text/html": [
       "<div>\n",
       "<style scoped>\n",
       "    .dataframe tbody tr th:only-of-type {\n",
       "        vertical-align: middle;\n",
       "    }\n",
       "\n",
       "    .dataframe tbody tr th {\n",
       "        vertical-align: top;\n",
       "    }\n",
       "\n",
       "    .dataframe thead th {\n",
       "        text-align: right;\n",
       "    }\n",
       "</style>\n",
       "<table border=\"1\" class=\"dataframe\">\n",
       "  <thead>\n",
       "    <tr style=\"text-align: right;\">\n",
       "      <th></th>\n",
       "      <th>0</th>\n",
       "      <th>1</th>\n",
       "      <th>2</th>\n",
       "      <th>3</th>\n",
       "      <th>4</th>\n",
       "      <th>5</th>\n",
       "    </tr>\n",
       "  </thead>\n",
       "  <tbody>\n",
       "    <tr>\n",
       "      <th>0</th>\n",
       "      <td>chr17:400389</td>\n",
       "      <td>chr17:1302126-1302174</td>\n",
       "      <td>-346.189575</td>\n",
       "      <td>-345.482079</td>\n",
       "      <td>5.517077e-18</td>\n",
       "      <td>6.994581e-12</td>\n",
       "    </tr>\n",
       "    <tr>\n",
       "      <th>1</th>\n",
       "      <td>chr17:404300</td>\n",
       "      <td>chr17:1302126-1302174</td>\n",
       "      <td>-346.189575</td>\n",
       "      <td>-345.482079</td>\n",
       "      <td>5.517077e-18</td>\n",
       "      <td>6.994581e-12</td>\n",
       "    </tr>\n",
       "    <tr>\n",
       "      <th>2</th>\n",
       "      <td>chr17:407465</td>\n",
       "      <td>chr17:1302126-1302174</td>\n",
       "      <td>-346.189575</td>\n",
       "      <td>-345.482079</td>\n",
       "      <td>5.517077e-18</td>\n",
       "      <td>6.994581e-12</td>\n",
       "    </tr>\n",
       "    <tr>\n",
       "      <th>3</th>\n",
       "      <td>chr17:408125</td>\n",
       "      <td>chr17:1302126-1302174</td>\n",
       "      <td>-346.189575</td>\n",
       "      <td>-345.482079</td>\n",
       "      <td>5.517077e-18</td>\n",
       "      <td>6.994581e-12</td>\n",
       "    </tr>\n",
       "    <tr>\n",
       "      <th>4</th>\n",
       "      <td>chr17:408873</td>\n",
       "      <td>chr17:1302126-1302174</td>\n",
       "      <td>-346.189575</td>\n",
       "      <td>-345.482079</td>\n",
       "      <td>5.517077e-18</td>\n",
       "      <td>6.994581e-12</td>\n",
       "    </tr>\n",
       "  </tbody>\n",
       "</table>\n",
       "</div>"
      ],
      "text/plain": [
       "              0                      1           2           3             4  \\\n",
       "0  chr17:400389  chr17:1302126-1302174 -346.189575 -345.482079  5.517077e-18   \n",
       "1  chr17:404300  chr17:1302126-1302174 -346.189575 -345.482079  5.517077e-18   \n",
       "2  chr17:407465  chr17:1302126-1302174 -346.189575 -345.482079  5.517077e-18   \n",
       "3  chr17:408125  chr17:1302126-1302174 -346.189575 -345.482079  5.517077e-18   \n",
       "4  chr17:408873  chr17:1302126-1302174 -346.189575 -345.482079  5.517077e-18   \n",
       "\n",
       "              5  \n",
       "0  6.994581e-12  \n",
       "1  6.994581e-12  \n",
       "2  6.994581e-12  \n",
       "3  6.994581e-12  \n",
       "4  6.994581e-12  "
      ]
     },
     "execution_count": 7,
     "metadata": {},
     "output_type": "execute_result"
    }
   ],
   "source": [
    "df_hela.head()"
   ]
  },
  {
   "cell_type": "code",
   "execution_count": 10,
   "metadata": {},
   "outputs": [
    {
     "data": {
      "text/html": [
       "<div>\n",
       "<style scoped>\n",
       "    .dataframe tbody tr th:only-of-type {\n",
       "        vertical-align: middle;\n",
       "    }\n",
       "\n",
       "    .dataframe tbody tr th {\n",
       "        vertical-align: top;\n",
       "    }\n",
       "\n",
       "    .dataframe thead th {\n",
       "        text-align: right;\n",
       "    }\n",
       "</style>\n",
       "<table border=\"1\" class=\"dataframe\">\n",
       "  <thead>\n",
       "    <tr style=\"text-align: right;\">\n",
       "      <th></th>\n",
       "      <th>0</th>\n",
       "    </tr>\n",
       "  </thead>\n",
       "  <tbody>\n",
       "    <tr>\n",
       "      <th>0</th>\n",
       "      <td>chr10:100003916</td>\n",
       "    </tr>\n",
       "    <tr>\n",
       "      <th>1</th>\n",
       "      <td>chr10:100004052</td>\n",
       "    </tr>\n",
       "    <tr>\n",
       "      <th>2</th>\n",
       "      <td>chr10:100011457</td>\n",
       "    </tr>\n",
       "    <tr>\n",
       "      <th>3</th>\n",
       "      <td>chr10:100013348</td>\n",
       "    </tr>\n",
       "    <tr>\n",
       "      <th>4</th>\n",
       "      <td>chr10:100013367</td>\n",
       "    </tr>\n",
       "  </tbody>\n",
       "</table>\n",
       "</div>"
      ],
      "text/plain": [
       "                 0\n",
       "0  chr10:100003916\n",
       "1  chr10:100004052\n",
       "2  chr10:100011457\n",
       "3  chr10:100013348\n",
       "4  chr10:100013367"
      ]
     },
     "execution_count": 10,
     "metadata": {},
     "output_type": "execute_result"
    }
   ],
   "source": [
    "df_m6avar.head()"
   ]
  },
  {
   "cell_type": "code",
   "execution_count": 11,
   "metadata": {},
   "outputs": [
    {
     "name": "stdout",
     "output_type": "stream",
     "text": [
      "chr17:400389\n",
      "chr10:100003916\n"
     ]
    }
   ],
   "source": [
    "hela_list = df_hela.iloc[:, 0].tolist()\n",
    "print(hela_list[0])\n",
    "m6avar_list = df_m6avar.iloc[:, 0].tolist()\n",
    "print(m6avar_list[0])"
   ]
  },
  {
   "cell_type": "code",
   "execution_count": 13,
   "metadata": {},
   "outputs": [
    {
     "name": "stdout",
     "output_type": "stream",
     "text": [
      "chr19:14675072\n",
      "chr9:139693596\n",
      "chr9:139694569\n",
      "chr9:139693596\n",
      "chr9:139694569\n",
      "chr1:183112041\n",
      "chr1:183112505\n",
      "chr1:1233431\n",
      "chr1:1234057\n",
      "chr1:1233431\n",
      "chr1:1234057\n",
      "chr16:58314598\n",
      "chr1:1233431\n",
      "chr1:1234057\n",
      "chr22:24813694\n",
      "chr1:1233431\n",
      "chr1:1234057\n",
      "chr9:139693596\n",
      "chr9:139694569\n",
      "chr1:1233431\n",
      "chr1:1234057\n",
      "chr20:37079237\n",
      "chr9:139693596\n",
      "chr9:139694569\n",
      "chr1:1233431\n",
      "chr1:1234057\n",
      "chr20:37079237\n",
      "chr1:115601528\n",
      "chr15:82443939\n",
      "chr19:14675072\n",
      "chr9:139693596\n",
      "chr9:139694569\n",
      "chr9:130700727\n",
      "33 0.0019149306562989614 0.00011227506710986965\n"
     ]
    }
   ],
   "source": [
    "count = 0\n",
    "for x in hela_list:\n",
    "    if x in m6avar_list:\n",
    "        count += 1\n",
    "        print(x)\n",
    "print(count, count/len(hela_list), count/len(m6avar_list))"
   ]
  },
  {
   "cell_type": "code",
   "execution_count": 3,
   "metadata": {},
   "outputs": [],
   "source": [
    "#### \n",
    "work_dir = \"/home/galaxy/project/m6AQTL/2019_10_10/transcriptome_snp/SNPiR/shell/HeLa_cell/results/PE/results/input_snp/SNP_matrix/matrix_data/m6aVar_db\"\n",
    "os.chdir(work_dir)"
   ]
  },
  {
   "cell_type": "code",
   "execution_count": 11,
   "metadata": {},
   "outputs": [
    {
     "name": "stderr",
     "output_type": "stream",
     "text": [
      "/home/galaxy/anaconda3/lib/python3.7/site-packages/IPython/core/interactiveshell.py:2785: DtypeWarning: Columns (12,13) have mixed types. Specify dtype option on import or set low_memory=False.\n",
      "  interactivity=interactivity, compiler=compiler, result=result)\n"
     ]
    },
    {
     "name": "stdout",
     "output_type": "stream",
     "text": [
      "  Chromosome   Position Confidence_Level     m6A_Function        Rs_ID  \\\n",
      "0       chr1   22356993    miCLIP:(High)  Functional Loss  rs796168639   \n",
      "1       chr3  196670271    miCLIP:(High)  Functional Loss  rs867970992   \n",
      "2       chr3  196670271    miCLIP:(High)  Functional Loss  rs181749993   \n",
      "3       chr3  196670271    miCLIP:(High)  Functional Loss  rs181749993   \n",
      "4       chr4    6676735    miCLIP:(High)  Functional Loss  rs868142670   \n",
      "\n",
      "  SNP_Chromosome  Start_position  \\\n",
      "0           chr1        22356993   \n",
      "1           chr3       196670270   \n",
      "2           chr3       196670272   \n",
      "3           chr3       196670272   \n",
      "4           chr4         6676735   \n",
      "\n",
      "                                  Sample_Information  \\\n",
      "0  A549;HepG2 cells;HeLa;human embryonic stem cel...   \n",
      "1                                               A549   \n",
      "2                                               A549   \n",
      "3                                               A549   \n",
      "4  A549;hek293.sysy.CITS;HepG2 cells;HeLa;GM12878...   \n",
      "\n",
      "                                       Sample_PeakID  \n",
      "0  chr1:22356618..22357430;chr1:22356591..2235757...  \n",
      "1                                                NaN  \n",
      "2                                                NaN  \n",
      "3                                                NaN  \n",
      "4  chr4:6676375..6677939;chr4:6676465..6677937;ch...  \n"
     ]
    }
   ],
   "source": [
    "raw_file = \"m6avar.txt\"\n",
    "df = pd.read_table(raw_file, sep=\"\\t\")\n",
    "df_sub = df[[\"Chromosome\", \"Position\", \"Confidence_Level\", \"m6A_Function\", \"Rs_ID\", \"SNP_Chromosome\", \"Start_position\", \"Sample_Information\", \"Sample_PeakID\"]]\n",
    "print(df_sub.head())"
   ]
  },
  {
   "cell_type": "code",
   "execution_count": 12,
   "metadata": {},
   "outputs": [
    {
     "name": "stdout",
     "output_type": "stream",
     "text": [
      "25605\n"
     ]
    },
    {
     "data": {
      "text/html": [
       "<div>\n",
       "<style scoped>\n",
       "    .dataframe tbody tr th:only-of-type {\n",
       "        vertical-align: middle;\n",
       "    }\n",
       "\n",
       "    .dataframe tbody tr th {\n",
       "        vertical-align: top;\n",
       "    }\n",
       "\n",
       "    .dataframe thead th {\n",
       "        text-align: right;\n",
       "    }\n",
       "</style>\n",
       "<table border=\"1\" class=\"dataframe\">\n",
       "  <thead>\n",
       "    <tr style=\"text-align: right;\">\n",
       "      <th></th>\n",
       "      <th>Chromosome</th>\n",
       "      <th>Position</th>\n",
       "      <th>Confidence_Level</th>\n",
       "      <th>m6A_Function</th>\n",
       "      <th>Rs_ID</th>\n",
       "      <th>SNP_Chromosome</th>\n",
       "      <th>Start_position</th>\n",
       "      <th>Sample_Information</th>\n",
       "      <th>Sample_PeakID</th>\n",
       "    </tr>\n",
       "  </thead>\n",
       "  <tbody>\n",
       "    <tr>\n",
       "      <th>0</th>\n",
       "      <td>chr1</td>\n",
       "      <td>22356993</td>\n",
       "      <td>miCLIP:(High)</td>\n",
       "      <td>Functional Loss</td>\n",
       "      <td>rs796168639</td>\n",
       "      <td>chr1</td>\n",
       "      <td>22356993</td>\n",
       "      <td>A549;HepG2 cells;HeLa;human embryonic stem cel...</td>\n",
       "      <td>chr1:22356618..22357430;chr1:22356591..2235757...</td>\n",
       "    </tr>\n",
       "    <tr>\n",
       "      <th>4</th>\n",
       "      <td>chr4</td>\n",
       "      <td>6676735</td>\n",
       "      <td>miCLIP:(High)</td>\n",
       "      <td>Functional Loss</td>\n",
       "      <td>rs868142670</td>\n",
       "      <td>chr4</td>\n",
       "      <td>6676735</td>\n",
       "      <td>A549;hek293.sysy.CITS;HepG2 cells;HeLa;GM12878...</td>\n",
       "      <td>chr4:6676375..6677939;chr4:6676465..6677937;ch...</td>\n",
       "    </tr>\n",
       "    <tr>\n",
       "      <th>11</th>\n",
       "      <td>chr11</td>\n",
       "      <td>65267747</td>\n",
       "      <td>miCLIP:(High)</td>\n",
       "      <td>Functional Loss</td>\n",
       "      <td>rs747212980</td>\n",
       "      <td>chr11</td>\n",
       "      <td>65267747</td>\n",
       "      <td>A549;CD8T;hek293.abcam.CIMS;hek293.sysy.CITS;H...</td>\n",
       "      <td>chr11:65266727..65268782;chr11:65267643..65268...</td>\n",
       "    </tr>\n",
       "    <tr>\n",
       "      <th>12</th>\n",
       "      <td>chr11</td>\n",
       "      <td>65267809</td>\n",
       "      <td>miCLIP:(High)</td>\n",
       "      <td>Functional Loss</td>\n",
       "      <td>rs776053831</td>\n",
       "      <td>chr11</td>\n",
       "      <td>65267809</td>\n",
       "      <td>A549;CD8T;hek293.abcam.CIMS;HepG2 cells;HeLa;h...</td>\n",
       "      <td>chr11:65266727..65268782;chr11:65267643..65268...</td>\n",
       "    </tr>\n",
       "    <tr>\n",
       "      <th>13</th>\n",
       "      <td>chr11</td>\n",
       "      <td>65267809</td>\n",
       "      <td>miCLIP:(High)</td>\n",
       "      <td>Functional Loss</td>\n",
       "      <td>rs746122827</td>\n",
       "      <td>chr11</td>\n",
       "      <td>65267810</td>\n",
       "      <td>A549;CD8T;hek293.abcam.CIMS;HepG2 cells;HeLa;h...</td>\n",
       "      <td>chr11:65266727..65268782;chr11:65267643..65268...</td>\n",
       "    </tr>\n",
       "  </tbody>\n",
       "</table>\n",
       "</div>"
      ],
      "text/plain": [
       "   Chromosome  Position Confidence_Level     m6A_Function        Rs_ID  \\\n",
       "0        chr1  22356993    miCLIP:(High)  Functional Loss  rs796168639   \n",
       "4        chr4   6676735    miCLIP:(High)  Functional Loss  rs868142670   \n",
       "11      chr11  65267747    miCLIP:(High)  Functional Loss  rs747212980   \n",
       "12      chr11  65267809    miCLIP:(High)  Functional Loss  rs776053831   \n",
       "13      chr11  65267809    miCLIP:(High)  Functional Loss  rs746122827   \n",
       "\n",
       "   SNP_Chromosome  Start_position  \\\n",
       "0            chr1        22356993   \n",
       "4            chr4         6676735   \n",
       "11          chr11        65267747   \n",
       "12          chr11        65267809   \n",
       "13          chr11        65267810   \n",
       "\n",
       "                                   Sample_Information  \\\n",
       "0   A549;HepG2 cells;HeLa;human embryonic stem cel...   \n",
       "4   A549;hek293.sysy.CITS;HepG2 cells;HeLa;GM12878...   \n",
       "11  A549;CD8T;hek293.abcam.CIMS;hek293.sysy.CITS;H...   \n",
       "12  A549;CD8T;hek293.abcam.CIMS;HepG2 cells;HeLa;h...   \n",
       "13  A549;CD8T;hek293.abcam.CIMS;HepG2 cells;HeLa;h...   \n",
       "\n",
       "                                        Sample_PeakID  \n",
       "0   chr1:22356618..22357430;chr1:22356591..2235757...  \n",
       "4   chr4:6676375..6677939;chr4:6676465..6677937;ch...  \n",
       "11  chr11:65266727..65268782;chr11:65267643..65268...  \n",
       "12  chr11:65266727..65268782;chr11:65267643..65268...  \n",
       "13  chr11:65266727..65268782;chr11:65267643..65268...  "
      ]
     },
     "execution_count": 12,
     "metadata": {},
     "output_type": "execute_result"
    }
   ],
   "source": [
    "df_hela = df_sub[df_sub[\"Sample_Information\"].str.contains(\"HeLa\", na=False)]\n",
    "print(len(df_hela))\n",
    "df_hela.head()"
   ]
  },
  {
   "cell_type": "code",
   "execution_count": 5,
   "metadata": {},
   "outputs": [
    {
     "name": "stdout",
     "output_type": "stream",
     "text": [
      "1:13116\n",
      "17:400389\n",
      "171401 1901716 76422\n"
     ]
    }
   ],
   "source": [
    "a_file = \"/home/galaxy/project/m6AQTL/2019_10_10/transcriptome_snp/SNPiR/shell/HeLa_cell/combined_results/results/input_snp/all_rs.txt\"\n",
    "df_a = pd.read_table(a_file, sep=\":\", header=None)\n",
    "df_a[\"snpid\"] = df_a.iloc[:, 0].astype(str) + \":\" + df_a.iloc[:, 1].astype(str)\n",
    "rs_list = df_a[\"snpid\"].tolist()\n",
    "print(rs_list[0])\n",
    "\n",
    "b_file = \"/home/galaxy/project/m6AQTL/2019_10_10/transcriptome_snp/SNPiR/shell/HeLa_cell/combined_results/results/validation_result/m6AVar/cis.txt\"\n",
    "df_b = pd.read_table(b_file)\n",
    "hela_list = df_b[\"SNP\"].tolist()\n",
    "print(hela_list[0])\n",
    "\n",
    "c_list = list(set(hela_list).intersection(set(rs_list)))\n",
    "print(len(hela_list), len(rs_list), len(c_list))"
   ]
  },
  {
   "cell_type": "markdown",
   "metadata": {},
   "source": [
    "#### CMplot"
   ]
  },
  {
   "cell_type": "code",
   "execution_count": 16,
   "metadata": {},
   "outputs": [
    {
     "data": {
      "text/html": [
       "<div>\n",
       "<style scoped>\n",
       "    .dataframe tbody tr th:only-of-type {\n",
       "        vertical-align: middle;\n",
       "    }\n",
       "\n",
       "    .dataframe tbody tr th {\n",
       "        vertical-align: top;\n",
       "    }\n",
       "\n",
       "    .dataframe thead th {\n",
       "        text-align: right;\n",
       "    }\n",
       "</style>\n",
       "<table border=\"1\" class=\"dataframe\">\n",
       "  <thead>\n",
       "    <tr style=\"text-align: right;\">\n",
       "      <th></th>\n",
       "      <th>SNP</th>\n",
       "      <th>gene</th>\n",
       "      <th>beta</th>\n",
       "      <th>t-stat</th>\n",
       "      <th>p-value</th>\n",
       "      <th>FDR</th>\n",
       "    </tr>\n",
       "  </thead>\n",
       "  <tbody>\n",
       "    <tr>\n",
       "      <th>0</th>\n",
       "      <td>chr17:400389</td>\n",
       "      <td>chr17:1302126-1302174</td>\n",
       "      <td>-346.189575</td>\n",
       "      <td>-345.482079</td>\n",
       "      <td>5.517077e-18</td>\n",
       "      <td>6.994581e-12</td>\n",
       "    </tr>\n",
       "    <tr>\n",
       "      <th>1</th>\n",
       "      <td>chr17:404300</td>\n",
       "      <td>chr17:1302126-1302174</td>\n",
       "      <td>-346.189575</td>\n",
       "      <td>-345.482079</td>\n",
       "      <td>5.517077e-18</td>\n",
       "      <td>6.994581e-12</td>\n",
       "    </tr>\n",
       "    <tr>\n",
       "      <th>2</th>\n",
       "      <td>chr17:407465</td>\n",
       "      <td>chr17:1302126-1302174</td>\n",
       "      <td>-346.189575</td>\n",
       "      <td>-345.482079</td>\n",
       "      <td>5.517077e-18</td>\n",
       "      <td>6.994581e-12</td>\n",
       "    </tr>\n",
       "    <tr>\n",
       "      <th>3</th>\n",
       "      <td>chr17:408125</td>\n",
       "      <td>chr17:1302126-1302174</td>\n",
       "      <td>-346.189575</td>\n",
       "      <td>-345.482079</td>\n",
       "      <td>5.517077e-18</td>\n",
       "      <td>6.994581e-12</td>\n",
       "    </tr>\n",
       "    <tr>\n",
       "      <th>4</th>\n",
       "      <td>chr17:408873</td>\n",
       "      <td>chr17:1302126-1302174</td>\n",
       "      <td>-346.189575</td>\n",
       "      <td>-345.482079</td>\n",
       "      <td>5.517077e-18</td>\n",
       "      <td>6.994581e-12</td>\n",
       "    </tr>\n",
       "  </tbody>\n",
       "</table>\n",
       "</div>"
      ],
      "text/plain": [
       "            SNP                   gene        beta      t-stat       p-value  \\\n",
       "0  chr17:400389  chr17:1302126-1302174 -346.189575 -345.482079  5.517077e-18   \n",
       "1  chr17:404300  chr17:1302126-1302174 -346.189575 -345.482079  5.517077e-18   \n",
       "2  chr17:407465  chr17:1302126-1302174 -346.189575 -345.482079  5.517077e-18   \n",
       "3  chr17:408125  chr17:1302126-1302174 -346.189575 -345.482079  5.517077e-18   \n",
       "4  chr17:408873  chr17:1302126-1302174 -346.189575 -345.482079  5.517077e-18   \n",
       "\n",
       "            FDR  \n",
       "0  6.994581e-12  \n",
       "1  6.994581e-12  \n",
       "2  6.994581e-12  \n",
       "3  6.994581e-12  \n",
       "4  6.994581e-12  "
      ]
     },
     "execution_count": 16,
     "metadata": {},
     "output_type": "execute_result"
    }
   ],
   "source": [
    "raw_file = \"m6AQTL_cis_linear_filter.txt\"\n",
    "title = [\"SNP\",\"gene\",\"beta\",\"t-stat\",\"p-value\",\"FDR\"]\n",
    "df_raw = pd.read_table(raw_file, sep=\"\\t\", header=None)\n",
    "df_raw.columns = title\n",
    "df_raw.head()"
   ]
  },
  {
   "cell_type": "code",
   "execution_count": 17,
   "metadata": {},
   "outputs": [],
   "source": [
    "df_raw[\"chr_name\"] = df_raw[\"SNP\"].str.split(\":\").str[0]\n",
    "df_raw[\"position\"] = df_raw[\"SNP\"].str.split(\":\").str[1]"
   ]
  },
  {
   "cell_type": "code",
   "execution_count": 19,
   "metadata": {},
   "outputs": [
    {
     "name": "stdout",
     "output_type": "stream",
     "text": [
      "            SNP chr_name position       p-value           FDR\n",
      "0  chr17:400389    chr17   400389  5.517077e-18  6.994581e-12\n",
      "1  chr17:404300    chr17   404300  5.517077e-18  6.994581e-12\n",
      "2  chr17:407465    chr17   407465  5.517077e-18  6.994581e-12\n",
      "3  chr17:408125    chr17   408125  5.517077e-18  6.994581e-12\n",
      "4  chr17:408873    chr17   408873  5.517077e-18  6.994581e-12\n"
     ]
    }
   ],
   "source": [
    "df_cm = df_raw[[\"SNP\", \"chr_name\", \"position\", \"p-value\", \"FDR\"]]\n",
    "print(df_cm.head())\n",
    "df_cm.to_csv(\"cmplot/HeLa_cis.txt\", sep=\"\\t\", index=False)"
   ]
  }
 ],
 "metadata": {
  "kernelspec": {
   "display_name": "Python 3",
   "language": "python",
   "name": "python3"
  },
  "language_info": {
   "codemirror_mode": {
    "name": "ipython",
    "version": 3
   },
   "file_extension": ".py",
   "mimetype": "text/x-python",
   "name": "python",
   "nbconvert_exporter": "python",
   "pygments_lexer": "ipython3",
   "version": "3.7.2"
  }
 },
 "nbformat": 4,
 "nbformat_minor": 2
}
