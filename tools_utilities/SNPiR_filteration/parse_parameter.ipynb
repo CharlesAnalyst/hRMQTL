{
 "cells": [
  {
   "cell_type": "code",
   "execution_count": null,
   "metadata": {},
   "outputs": [],
   "source": [
    "import argparse\n",
    "\n",
    "parser = argparse.ArgumentParser()\n",
    "parser.add_argument(\"--dataDir\", \"-d\", help=\"The run directory\")\n",
    "parser.add_argument(\"--preifx\", \"-p\", help=\"The prefix of input fastq file\")\n",
    "args = parser.parse_args()\n",
    "data_dir = args.dataDir\n",
    "prefix = args.preifx\n",
    "\n",
    "\n",
    "def print_argument():\n",
    "    print(data_dir)\n",
    "    print(prefix)"
   ]
  }
 ],
 "metadata": {
  "kernelspec": {
   "display_name": "Python 3",
   "language": "python",
   "name": "python3"
  },
  "language_info": {
   "codemirror_mode": {
    "name": "ipython",
    "version": 3
   },
   "file_extension": ".py",
   "mimetype": "text/x-python",
   "name": "python",
   "nbconvert_exporter": "python",
   "pygments_lexer": "ipython3",
   "version": "3.7.2"
  }
 },
 "nbformat": 4,
 "nbformat_minor": 2
}
