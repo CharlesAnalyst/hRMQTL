{
 "cells": [
  {
   "cell_type": "code",
   "execution_count": 1,
   "metadata": {},
   "outputs": [],
   "source": [
    "import os\n",
    "import argparse\n",
    "##########################################\n",
    "parser = argparse.ArgumentParser()\n",
    "parser.add_argument(\"--dataDir\", \"-d\", help=\"The run directory\")\n",
    "parser.add_argument(\"--prefix\", \"-p\", help=\"The prefix of input fastq file\")\n",
    "args = parser.parse_args()\n",
    "data_dir = args.dataDir\n",
    "prefix = args.prefix\n",
    "########\n",
    "edit_bed = \"/home/database/RNA_editing/REDIportal/table1_full.bed\"\n",
    "cmd_1 = \"'\" + '{OFS=\"\\t\";$2=$2-1\"\\t\"$2;print $0}' + \"'\"\n",
    "os.system(\"awk %s %s/%srmhex.rmsk.rmintron.rmhom.rmblat.txt | intersectBed -a stdin -b %s -v > %s/%srmhex.rmsk.rmintron.rmhom.rmblat.rmedit.bed\" % (cmd_1, data_dir, prefix, edit_bed, data_dir, prefix))\n",
    "##################################################################################\n",
    "# %%bash\n",
    "# data_dir=/home/galaxy/project/m6AQTL/2019_10_10/transcriptome_snp/SNPiR/shell/GATK_best_practices/heart_3\n",
    "# prefix=heart_3_L6-\n",
    "# edit_bed=/home/database/RNA_editing/REDIportal/table1_full.bed\n",
    "# awk '{OFS=\"\\t\";$2=$2-1\"\\t\"$2;print $0}' $data_dir/${prefix}rmhex.rmsk.rmintron.rmhom.rmblat.txt | intersectBed -a stdin -b $edit_bed -v > $data_dir/${prefix}rmhex.rmsk.rmintron.rmhom.rmblat.rmedit.bed\n",
    "##########################################"
   ]
  }
 ],
 "metadata": {
  "kernelspec": {
   "display_name": "Python 3",
   "language": "python",
   "name": "python3"
  },
  "language_info": {
   "codemirror_mode": {
    "name": "ipython",
    "version": 3
   },
   "file_extension": ".py",
   "mimetype": "text/x-python",
   "name": "python",
   "nbconvert_exporter": "python",
   "pygments_lexer": "ipython3",
   "version": "3.7.0"
  }
 },
 "nbformat": 4,
 "nbformat_minor": 2
}
