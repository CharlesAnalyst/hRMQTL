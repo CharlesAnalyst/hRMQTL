{
 "cells": [
  {
   "cell_type": "code",
   "execution_count": 19,
   "metadata": {},
   "outputs": [
    {
     "name": "stdout",
     "output_type": "stream",
     "text": [
      "['/home/galaxy/project/m6AQTL/2019_10_10/transcriptome_snp/SNPiR/shell/GATK_best_practices/heart_1/heart_1_L6-gene_abund.out', '/home/galaxy/project/m6AQTL/2019_10_10/transcriptome_snp/SNPiR/shell/GATK_best_practices/heart_2/heart_2_L7-gene_abund.out', '/home/galaxy/project/m6AQTL/2019_10_10/transcriptome_snp/SNPiR/shell/GATK_best_practices/heart_3/heart_3_L6-gene_abund.out']\n"
     ]
    }
   ],
   "source": [
    "import os\n",
    "import glob\n",
    "import argparse\n",
    "import pandas as pd\n",
    "\n",
    "parser = argparse.ArgumentParser()\n",
    "parser.add_argument(\"--baseDir\", \"-b\", help=\"The root directory\")  # the same as the result directory\n",
    "parser.add_argument(\"--suffix\", \"-s\", help=\"The suffix of input gene expression file\")\n",
    "parser.add_argument(\"--prefix\", \"-p\", help=\"The prefix of running sample\")\n",
    "args = parser.parse_args()\n",
    "baseDir = args.baseDir\n",
    "suffix = args.suffix\n",
    "prefix = args.prefix\n",
    "########################################################################################################\n",
    "# base_dir = \"/home/galaxy/project/m6AQTL/2019_10_10/transcriptome_snp/SNPiR/shell/GATK_best_practices\"\n",
    "# prefix = \"heart\"\n",
    "# suffix = \"gene_abund.out\"\n",
    "################################\n",
    "gene_files = glob.glob(\"%s/heart_*/*%s\" % (base_dir, suffix))\n",
    "gene_files.sort()\n",
    "ge = \"%s/GE.txt\" % base_dir\n",
    "geneloc = \"%s/geneloc.txt\" % base_dir\n",
    "###########################################################################################################\n",
    "\n",
    "# gene expression (TPM)\n",
    "in_file = gene_files[0]\n",
    "df_t = pd.read_table(in_file, sep=\"\\t\").loc[:, [\"Gene ID\", \"TPM\", \"Reference\", \"Start\", \"End\"]]\n",
    "df_t.columns = [\"geneid\", os.path.basename(in_file).split(\"gene_abund.out\")[0], \"chr\", \"left\", \"right\"]\n",
    "\n",
    "for expre in gene_files[1:]:\n",
    "    df = pd.read_table(expre, sep=\"\\t\").loc[:, [\"Gene ID\", \"TPM\"]]\n",
    "    df.columns = [\"geneid\", os.path.basename(expre).split(\"gene_abund.out\")[0]]\n",
    "    df_t = df_t.merge(df, on=\"geneid\", how=\"left\")\n",
    "# print(df_t.head())\n",
    "\n",
    "selected_cols = [\"geneid\"] + [x for x in df_t.columns if prefix in x] \n",
    "df_t.loc[:, selected_cols].to_csv(ge, sep=\"\\t\", index=False)\n",
    "selected_cols = [\"geneid\", \"chr\", \"left\", \"right\"]\n",
    "df_t.loc[:, selected_cols].to_csv(geneloc, sep=\"\\t\", index=False)"
   ]
  }
 ],
 "metadata": {
  "kernelspec": {
   "display_name": "Python 3",
   "language": "python",
   "name": "python3"
  },
  "language_info": {
   "codemirror_mode": {
    "name": "ipython",
    "version": 3
   },
   "file_extension": ".py",
   "mimetype": "text/x-python",
   "name": "python",
   "nbconvert_exporter": "python",
   "pygments_lexer": "ipython3",
   "version": "3.7.2"
  }
 },
 "nbformat": 4,
 "nbformat_minor": 2
}
