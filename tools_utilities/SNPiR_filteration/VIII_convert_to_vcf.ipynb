{
 "cells": [
  {
   "cell_type": "code",
   "execution_count": 11,
   "metadata": {},
   "outputs": [],
   "source": [
    "import os\n",
    "import glob\n",
    "import argparse\n",
    "import pandas as pd\n",
    "from tqdm import tqdm\n",
    "from multiprocessing import Pool\n",
    "\n",
    "##########################################\n",
    "parser = argparse.ArgumentParser()\n",
    "parser.add_argument(\"--dataDir\", \"-d\", help=\"The run directory\")\n",
    "parser.add_argument(\"--prefix\", \"-p\", help=\"The prefix of input fastq file\")\n",
    "parser.add_argument(\"--thread\", \"-t\", help=\"Thread number to run\")\n",
    "args = parser.parse_args()\n",
    "data_dir = args.dataDir\n",
    "prefix = args.prefix\n",
    "file_number = int(args.thread)\n",
    "#########################\n",
    "# data_dir = \"/home/galaxy/project/m6AQTL/2019_10_10/transcriptome_snp/SNPiR/shell/GATK_best_practices/heart_3\"\n",
    "# prefix= \"heart_3_L6-\"\n",
    "# file_number = 25\n",
    "##########################################\n",
    "filtered_result = \"%s/%srmhex.rmsk.rmintron.rmhom.rmblat.rmedit.bed\" % (data_dir, prefix)\n",
    "raw_vcf = \"%s/%sUnifiedGenotyper_variants.vcf\" % (data_dir, prefix)\n",
    "filtered_vcf = \"%s/%sfiltered_variants.vcf\" % (data_dir, prefix)\n",
    "\n",
    "df = pd.read_table(filtered_result, sep=\"\\t\", header=None)\n",
    "chr_list, pos_list = df.iloc[:, 0].tolist(), df.iloc[:, 2].tolist()\n",
    "query_list = [\"%s\\t%s\" % (chr_list[i], pos_list[i]) for i in range(len(chr_list))]\n",
    "# ! grep \"#\" $raw_vcf > $filtered_vcf\n",
    "os.system(\"grep '#' %s > %s\" (raw_vcf, filtered_vcf))\n",
    "df_vcf = pd.read_table(raw_vcf, sep=\"\\t\", header=None, comment=\"#\")\n",
    "vchr_list, vpos_list = df_vcf.iloc[:, 0].tolist(), df_vcf.iloc[:, 1].tolist()\n",
    "search_list = [\"%s\\t%s\" % (vchr_list[i], vpos_list[i]) for i in range(len(vchr_list))]\n",
    "#\n",
    "def index_value(x_term):\n",
    "    return search_list.index(x_term)\n",
    "line_nums = []\n",
    "pool = Pool(processes=file_number)\n",
    "for x in query_list:\n",
    "    line_nums.append(pool.apply_async(index_value, (x, )))\n",
    "pool.close()\n",
    "pool.join()\n",
    "\n",
    "line_nums = [int(x.get()) for x in line_nums]\n",
    "df_filter = df_vcf.iloc[line_nums, :]\n",
    "with open(filtered_vcf, 'a') as fw:\n",
    "    df_filter.to_csv(fw, sep=\"\\t\", header=False, index=False)"
   ]
  }
 ],
 "metadata": {
  "kernelspec": {
   "display_name": "Python 3",
   "language": "python",
   "name": "python3"
  },
  "language_info": {
   "codemirror_mode": {
    "name": "ipython",
    "version": 3
   },
   "file_extension": ".py",
   "mimetype": "text/x-python",
   "name": "python",
   "nbconvert_exporter": "python",
   "pygments_lexer": "ipython3",
   "version": "3.7.0"
  }
 },
 "nbformat": 4,
 "nbformat_minor": 2
}
