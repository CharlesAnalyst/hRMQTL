{
 "cells": [
  {
   "cell_type": "code",
   "execution_count": 4,
   "metadata": {},
   "outputs": [],
   "source": [
    "import os\n",
    "import argparse\n",
    "\n",
    "parser = argparse.ArgumentParser()\n",
    "parser.add_argument(\"--dataDir\", \"-d\", help=\"The run directory\")\n",
    "parser.add_argument(\"--prefix\", \"-p\", help=\"The prefix of input fastq file\")\n",
    "args = parser.parse_args()\n",
    "data_dir = args.dataDir\n",
    "prefix = args.prefix\n",
    "repeat_bed = \"/home/galaxy/project/m6AQTL/2019_10_10/transcriptome_snp/SNPiR/shell/SNPiR-master/data/Repeats_ucsc_hg38.bed\"\n",
    "cmd_1 = \"'\" + '{OFS=\"\\t\";$2=$2-1\"\\t\"$2;print $0}' + \"'\"\n",
    "os.system(\"awk %s %s/%srmhex.txt | intersectBed -a stdin -b %s -v | cut -f1,3-7 > %s/%srmhex.rmsk.txt\" % (cmd_1, data_dir, prefix, repeat_bed, data_dir, prefix))\n",
    "##########################################\n",
    "# %%bash\n",
    "# data_dir=/home/galaxy/project/m6AQTL/2019_10_10/transcriptome_snp/SNPiR/shell/GATK_best_practices/heart_3\n",
    "# prefix=heart_3_L6-\n",
    "# repeat_bed=/home/galaxy/project/m6AQTL/2019_10_10/transcriptome_snp/SNPiR/shell/SNPiR-master/data/Repeats_ucsc_hg38.bed\n",
    "# awk '{OFS=\"\\t\";$2=$2-1\"\\t\"$2;print $0}' ${data_dir}/${prefix}rmhex.txt | intersectBed -a stdin -b $repeat_bed -v | cut -f1,3-7 > $data_dir/${prefix}rmhex.rmsk.txt\n",
    "##############################################"
   ]
  }
 ],
 "metadata": {
  "kernelspec": {
   "display_name": "Python 3",
   "language": "python",
   "name": "python3"
  },
  "language_info": {
   "codemirror_mode": {
    "name": "ipython",
    "version": 3
   },
   "file_extension": ".py",
   "mimetype": "text/x-python",
   "name": "python",
   "nbconvert_exporter": "python",
   "pygments_lexer": "ipython3",
   "version": "3.7.0"
  }
 },
 "nbformat": 4,
 "nbformat_minor": 2
}
