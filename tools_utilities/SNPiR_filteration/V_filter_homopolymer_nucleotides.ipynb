{
 "cells": [
  {
   "cell_type": "code",
   "execution_count": 1,
   "metadata": {},
   "outputs": [
    {
     "data": {
      "text/plain": [
       "0"
      ]
     },
     "execution_count": 1,
     "metadata": {},
     "output_type": "execute_result"
    }
   ],
   "source": [
    "import os\n",
    "import glob\n",
    "import argparse\n",
    "import pandas as pd\n",
    "from multiprocessing import Pool\n",
    "\n",
    "# split into 25 files\n",
    "parser = argparse.ArgumentParser()\n",
    "parser.add_argument(\"--dataDir\", \"-d\", help=\"The run directory\")\n",
    "parser.add_argument(\"--prefix\", \"-p\", help=\"The prefix of input fastq file\")\n",
    "parser.add_argument(\"--thread\", \"-t\", help=\"Thread number to run\")\n",
    "args = parser.parse_args()\n",
    "data_dir = args.dataDir\n",
    "prefix = args.prefix\n",
    "file_number = int(args.thread)\n",
    "###################################################################\n",
    "# data_dir = \"/home/galaxy/project/m6AQTL/2019_10_10/transcriptome_snp/SNPiR/shell/GATK_best_practices/heart_3\"\n",
    "# prefix = \"heart_3_L6-\"\n",
    "# file_number = 25\n",
    "###################################################################\n",
    "in_file=\"%s/%srmhex.rmsk.rmintron.txt\" % (data_dir, prefix)\n",
    "result_dir = os.path.join(os.path.dirname(in_file), \"filter_homopolymer_nucleotides\")\n",
    "result_file = os.path.join(os.path.dirname(in_file), \"%srmhex.rmsk.rmintron.rmhom.txt\" % prefix)\n",
    "snpir_dir = \"/home/galaxy/project/m6AQTL/2019_10_10/transcriptome_snp/SNPiR/shell/SNPiR-master/\"\n",
    "##############################################################################################################\n",
    "if not os.path.exists(result_dir):\n",
    "    os.makedirs(result_dir)\n",
    "os.chdir(result_dir)\n",
    "total_lines = int(os.popen(\"wc -l %s\" % in_file).read().split()[0])\n",
    "line_number = int(total_lines / file_number) + 1\n",
    "os.system(\"split -l %d %s %s\" % (line_number, in_file, prefix))\n",
    "\n",
    "# filter_mismatch_first6bp\n",
    "def filter_homopolymer_nucleotides(in_file):\n",
    "    os.chdir(snpir_dir)\n",
    "    refgenome = \"/home/galaxy/project/m6AQTL/2019_10_10/transcriptome_snp/SNPiR/shell/SNPiR-master/data/formal_chr/hg38.fa\"\n",
    "    os.system(\"./filter_homopolymer_nucleotides.pl -infile %s -outfile %s/result_%s -refgenome %s\" % (in_file, result_dir, os.path.basename(in_file), refgenome))\n",
    "    \n",
    "in_list = glob.glob(\"%s/%s*\" % (result_dir, prefix))\n",
    "pool = Pool(processes=file_number)\n",
    "for x in in_list:\n",
    "    pool.apply_async(filter_homopolymer_nucleotides, (x, ))\n",
    "pool.close()\n",
    "pool.join()\n",
    "\n",
    "# merge result\n",
    "i_list = [x for x in glob.glob(\"%s/result_*\" % result_dir) if \"_tmp\" not in x if \"_failed\" not in x]\n",
    "os.system(\"cat %s | sort -k1,1 -k2,2n > %s\" % (\" \".join(i_list), result_file))"
   ]
  }
 ],
 "metadata": {
  "kernelspec": {
   "display_name": "Python 3",
   "language": "python",
   "name": "python3"
  },
  "language_info": {
   "codemirror_mode": {
    "name": "ipython",
    "version": 3
   },
   "file_extension": ".py",
   "mimetype": "text/x-python",
   "name": "python",
   "nbconvert_exporter": "python",
   "pygments_lexer": "ipython3",
   "version": "3.7.0"
  }
 },
 "nbformat": 4,
 "nbformat_minor": 2
}
