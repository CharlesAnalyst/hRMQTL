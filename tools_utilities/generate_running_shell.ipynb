{
 "cells": [
  {
   "cell_type": "markdown",
   "metadata": {},
   "source": [
    "#### Generate GATK_best_practices_PE.sh in each sub directory(data_dir)"
   ]
  },
  {
   "cell_type": "code",
   "execution_count": 1,
   "metadata": {},
   "outputs": [],
   "source": [
    "import os\n",
    "import glob\n",
    "import pandas as pd"
   ]
  },
  {
   "cell_type": "code",
   "execution_count": 4,
   "metadata": {},
   "outputs": [
    {
     "name": "stdout",
     "output_type": "stream",
     "text": [
      "['SRR4042267', 'SRR7130867', 'SRR494618', 'SRR7130874', 'SRR1777362', 'SRR7130854', 'SRR2079349-54', 'SRR5978883-89', 'SRR7130862', 'SRR1035216', 'SRR2079363-68', 'SRR2079356-61', 'SRR7130859', 'SRR1035214', 'SRR5978834-40', 'SRR5934169', 'SRR494616', 'SRR1035220', 'SRR494614', 'SRR456936', 'SRR7130864', 'SRR4310479', 'SRR1035218']\n"
     ]
    }
   ],
   "source": [
    "data_dir = \"/home/galaxy/project/m6AQTL/2019_10_10/transcriptome_snp/SNPiR/shell/all_samples/data/sra/ip/SE\"\n",
    "base_dir = \"/home/galaxy/project/m6AQTL/2019_10_10/transcriptome_snp/SNPiR/shell/all_samples/results/ip_bams_hg19\"\n",
    "standard_file = \"%s/mapping_SE.sh\" % base_dir\n",
    "# result_dir = \"%s/results/input_snp/SE\" % base_dir\n",
    "result_dir = base_dir\n",
    "file_list = glob.glob(\"%s/*.fastq.gz\" % data_dir)\n",
    "prefix_list = list(set([os.path.basename(x).split(\".fastq.gz\")[0] for x in file_list]))\n",
    "\n",
    "# x_dir = \"/home/galaxy/project/m6AQTL/2019_10_10/transcriptome_snp/SNPiR/shell/all_samples/data/sra/input/SE\"\n",
    "# # prefix_list = [x for x in os.listdir(x_dir) if os.path.isdir(os.path.join(x_dir, x))]\n",
    "# prefix_list = [os.path.basename(x).split(\".\")[0] for x in glob.glob(\"%s/*.fastq\" % x_dir, recursive=False)]\n",
    "# prefix_list = list(set(prefix_list))\n",
    "print(prefix_list)\n",
    "\n",
    "\n",
    "for prefix in prefix_list:\n",
    "    sub_dir = os.path.join(result_dir, prefix)\n",
    "    if not os.path.exists(sub_dir):\n",
    "        os.makedirs(sub_dir)\n",
    "    shell = os.path.join(sub_dir, os.path.basename(standard_file))\n",
    "    with open(shell, 'w') as fw:\n",
    "        with open(standard_file, 'r') as f:\n",
    "            new_text = f.read().replace(\"SRR5978890-96\", prefix)\n",
    "            fw.write(new_text)"
   ]
  },
  {
   "cell_type": "code",
   "execution_count": 12,
   "metadata": {},
   "outputs": [
    {
     "name": "stdout",
     "output_type": "stream",
     "text": [
      "['SRR494613', 'SRR1182602', 'SRR5080302', 'SRR1182600', 'SRR2079369', 'SRR1035213', 'SRR1777361', 'SRR494617', 'SRR5934172', 'SRR2079355', 'SRR1035217', 'SRR5978890-96', 'SRR5978827-33', 'SRR1182585-86', 'SRR1035215', 'SRR1035219', 'SRR5573025', 'SRR494615', 'SRR4310473', 'SRR1182596', 'SRR1811016', 'SRR456937', 'SRR2079362', 'SRR1182589-90', 'SRR1811010', 'SRR4042261', 'SRR1182598']\n"
     ]
    }
   ],
   "source": [
    "base_dir = \"/home/galaxy/project/m6AQTL/2019_10_10/transcriptome_snp/SNPiR/shell/all_samples/\"\n",
    "standard_file = \"%s/imputation_genotype.sh\" % base_dir\n",
    "result_dir = \"%s/results/input_snp/\" % base_dir\n",
    "\n",
    "x_dir = \"/home/galaxy/project/m6AQTL/2019_10_10/transcriptome_snp/SNPiR/shell/all_samples/results/input_snp/\"\n",
    "# prefix_list = [x for x in os.listdir(x_dir) if os.path.isdir(os.path.join(x_dir, x))]\n",
    "prefix_list = [os.path.basename(x).split(\".\")[0] for x in glob.glob(\"%s/*\" % x_dir, recursive=False)]\n",
    "prefix_list = [x for x in prefix_list if x != \"SE\"]\n",
    "prefix_list = list(set(prefix_list))\n",
    "print(prefix_list)\n",
    "\n",
    "\n",
    "for prefix in prefix_list:\n",
    "    sub_dir = os.path.join(result_dir, prefix)\n",
    "    if not os.path.exists(sub_dir):\n",
    "        os.makedirs(sub_dir)\n",
    "    shell = os.path.join(sub_dir, os.path.basename(standard_file))\n",
    "    with open(shell, 'w') as fw:\n",
    "        with open(standard_file, 'r') as f:\n",
    "            new_text = f.read().replace(\"SRR6714636\", prefix)\n",
    "            fw.write(new_text)"
   ]
  },
  {
   "cell_type": "code",
   "execution_count": 5,
   "metadata": {},
   "outputs": [
    {
     "name": "stdout",
     "output_type": "stream",
     "text": [
      "['SRR4310473', 'SRR1035217', 'SRR5978890-96', 'SRR5934172', 'SRR456937', 'SRR2079355', 'SRR4042261', 'SRR1035213', 'SRR1035219', 'SRR2079362', 'SRR494615', 'SRR494613', 'SRR1777361', 'SRR494617', 'SRR5978827-33', 'SRR2079369', 'SRR1035215']\n"
     ]
    }
   ],
   "source": [
    "base_dir = \"/home/galaxy/project/m6AQTL/2019_10_10/transcriptome_snp/SNPiR/shell/all_samples/data/sra/input/\"\n",
    "se_dir = \"%s/SE/\" % base_dir\n",
    "pe_dir = \"%s/PE/\" % base_dir\n",
    "result_dir = \"/home/galaxy/project/m6AQTL/2019_10_10/transcriptome_snp/SNPiR/shell/all_samples/results/input_bams_hg19/second_run/\"\n",
    "\n",
    "# PE\n",
    "os.chdir(se_dir)\n",
    "main_word = \".fastq.gz\" # _1.fastq.gz\n",
    "prefix_list = [x.split(main_word)[0] for x in glob.glob(\"*%s\" % main_word)]\n",
    "print(prefix_list)\n",
    "standard_file = \"/home/galaxy/project/m6AQTL/2019_10_10/transcriptome_snp/SNPiR/shell/all_samples/results/input_bams_hg19/second_run/mapping_SE.sh\" # quantitative_m6A_SE.sh\n",
    "for prefix in prefix_list:\n",
    "    sub_dir = os.path.join(result_dir, prefix)\n",
    "    if not os.path.exists(sub_dir):\n",
    "        os.makedirs(sub_dir)\n",
    "    shell = os.path.join(sub_dir, os.path.basename(standard_file))\n",
    "    with open(shell, 'w') as fw:\n",
    "        with open(standard_file, 'r') as f:\n",
    "            new_text = f.read().replace(\"SRR5978890-96\", prefix)\n",
    "            fw.write(new_text)"
   ]
  },
  {
   "cell_type": "code",
   "execution_count": 5,
   "metadata": {},
   "outputs": [],
   "source": [
    "base_dir = \"/home/galaxy/project/m6AQTL/2019_10_10/transcriptome_snp/SNPiR/shell/all_samples/results/input_snp_hg19/split_by_ind/pass_variants\"\n",
    "prefix_list = [os.path.basename(x).split(\".vcf\")[0] for x in glob.glob(\"%s/*.vcf\" % base_dir)]\n",
    "result_dir = \"/home/galaxy/project/m6AQTL/2019_10_10/transcriptome_snp/SNPiR/shell/all_samples/results/input_snp_hg19/imputation\"\n",
    "standard_file = \"/home/galaxy/project/m6AQTL/2019_10_10/transcriptome_snp/SNPiR/shell/all_samples/results/input_snp_hg19/imputation/imputation_2.sh\"\n",
    "\n",
    "for prefix in prefix_list:\n",
    "    sub_dir = os.path.join(result_dir, prefix)\n",
    "    if not os.path.exists(sub_dir):\n",
    "        os.makedirs(sub_dir)\n",
    "    shell = os.path.join(sub_dir, os.path.basename(standard_file))\n",
    "    with open(shell, 'w') as fw:\n",
    "        with open(standard_file, 'r') as f:\n",
    "            new_text = f.read().replace(\"SRR1182602\", prefix)\n",
    "            fw.write(new_text)"
   ]
  }
 ],
 "metadata": {
  "kernelspec": {
   "display_name": "Python 3",
   "language": "python",
   "name": "python3"
  },
  "language_info": {
   "codemirror_mode": {
    "name": "ipython",
    "version": 3
   },
   "file_extension": ".py",
   "mimetype": "text/x-python",
   "name": "python",
   "nbconvert_exporter": "python",
   "pygments_lexer": "ipython3",
   "version": "3.7.2"
  }
 },
 "nbformat": 4,
 "nbformat_minor": 2
}
