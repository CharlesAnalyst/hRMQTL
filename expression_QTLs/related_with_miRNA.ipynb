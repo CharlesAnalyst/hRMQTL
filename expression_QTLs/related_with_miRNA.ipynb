{
 "cells": [
  {
   "cell_type": "code",
   "execution_count": 1,
   "metadata": {},
   "outputs": [],
   "source": [
    "import os\n",
    "import sys\n",
    "import csv\n",
    "import datetime\n",
    "import shutil\n",
    "import random\n",
    "import glob\n",
    "import pandas as pd\n",
    "import numpy as np\n",
    "from scipy import stats\n",
    "import subprocess\n",
    "from multiprocessing import Pool"
   ]
  },
  {
   "cell_type": "code",
   "execution_count": 8,
   "metadata": {},
   "outputs": [],
   "source": [
    "mirna = \"/home/galaxy/data/miRNA_area/starBase2/human_hg19/miRNA_interaction.txt\"\n",
    "eQTL_dir = \"/home/galaxy/data/QTL/m6a_related_SNPs/eQTL/m6a_qtl_bed/\"\n",
    "HapMap_snp = \"/home/galaxy/data/QTL/HapMap_SNP/autosomal_GRCh38_snp.bed\"\n",
    "result_dir = \"/home/galaxy/data/miRNA_area/starBase2/human_hg19/bed_dir\""
   ]
  },
  {
   "cell_type": "code",
   "execution_count": 4,
   "metadata": {},
   "outputs": [
    {
     "data": {
      "text/html": [
       "<div>\n",
       "<style scoped>\n",
       "    .dataframe tbody tr th:only-of-type {\n",
       "        vertical-align: middle;\n",
       "    }\n",
       "\n",
       "    .dataframe tbody tr th {\n",
       "        vertical-align: top;\n",
       "    }\n",
       "\n",
       "    .dataframe thead th {\n",
       "        text-align: right;\n",
       "    }\n",
       "</style>\n",
       "<table border=\"1\" class=\"dataframe\">\n",
       "  <thead>\n",
       "    <tr style=\"text-align: right;\">\n",
       "      <th></th>\n",
       "      <th>name</th>\n",
       "      <th>geneName</th>\n",
       "      <th>position</th>\n",
       "    </tr>\n",
       "  </thead>\n",
       "  <tbody>\n",
       "    <tr>\n",
       "      <th>0</th>\n",
       "      <td>hsa-miR-200b-3p</td>\n",
       "      <td>DEK</td>\n",
       "      <td>chr6:18225142-18225166[-]</td>\n",
       "    </tr>\n",
       "    <tr>\n",
       "      <th>1</th>\n",
       "      <td>hsa-miR-200b-3p</td>\n",
       "      <td>PELO</td>\n",
       "      <td>chr5:52097819-52097842[+]</td>\n",
       "    </tr>\n",
       "    <tr>\n",
       "      <th>2</th>\n",
       "      <td>hsa-miR-200b-3p</td>\n",
       "      <td>FBN2</td>\n",
       "      <td>chr5:127593766-127593772[-]</td>\n",
       "    </tr>\n",
       "    <tr>\n",
       "      <th>3</th>\n",
       "      <td>hsa-miR-200b-3p</td>\n",
       "      <td>MAN2A1</td>\n",
       "      <td>chr5:109202925-109202945[+]</td>\n",
       "    </tr>\n",
       "    <tr>\n",
       "      <th>4</th>\n",
       "      <td>hsa-miR-200b-3p</td>\n",
       "      <td>RNF160</td>\n",
       "      <td>chr21:30301135-30301157[-]</td>\n",
       "    </tr>\n",
       "  </tbody>\n",
       "</table>\n",
       "</div>"
      ],
      "text/plain": [
       "              name geneName                     position\n",
       "0  hsa-miR-200b-3p      DEK    chr6:18225142-18225166[-]\n",
       "1  hsa-miR-200b-3p     PELO    chr5:52097819-52097842[+]\n",
       "2  hsa-miR-200b-3p     FBN2  chr5:127593766-127593772[-]\n",
       "3  hsa-miR-200b-3p   MAN2A1  chr5:109202925-109202945[+]\n",
       "4  hsa-miR-200b-3p   RNF160   chr21:30301135-30301157[-]"
      ]
     },
     "execution_count": 4,
     "metadata": {},
     "output_type": "execute_result"
    }
   ],
   "source": [
    "df_total = pd.read_table(mirna, sep=\"\\t\")\n",
    "df_total.head()"
   ]
  },
  {
   "cell_type": "code",
   "execution_count": 26,
   "metadata": {},
   "outputs": [
    {
     "data": {
      "text/html": [
       "<div>\n",
       "<style scoped>\n",
       "    .dataframe tbody tr th:only-of-type {\n",
       "        vertical-align: middle;\n",
       "    }\n",
       "\n",
       "    .dataframe tbody tr th {\n",
       "        vertical-align: top;\n",
       "    }\n",
       "\n",
       "    .dataframe thead th {\n",
       "        text-align: right;\n",
       "    }\n",
       "</style>\n",
       "<table border=\"1\" class=\"dataframe\">\n",
       "  <thead>\n",
       "    <tr style=\"text-align: right;\">\n",
       "      <th></th>\n",
       "    </tr>\n",
       "  </thead>\n",
       "  <tbody>\n",
       "  </tbody>\n",
       "</table>\n",
       "</div>"
      ],
      "text/plain": [
       "Empty DataFrame\n",
       "Columns: []\n",
       "Index: []"
      ]
     },
     "execution_count": 26,
     "metadata": {},
     "output_type": "execute_result"
    }
   ],
   "source": [
    "df_total.groupby([\"name\"]).apply(format_data)"
   ]
  },
  {
   "cell_type": "code",
   "execution_count": 25,
   "metadata": {},
   "outputs": [],
   "source": [
    "def format_data(df):\n",
    "    mirna = df[\"name\"].tolist()[0]\n",
    "    df[\"ID\"] = df[\"name\"] + \";\" + df[\"geneName\"] + \";\" + df[\"position\"]\n",
    "    df[\"Chr name\"] = df[\"position\"].str.split(\":\").str[0]\n",
    "    df[\"Start\"] = df[\"position\"].str.split(\":\").str[1].str.split(\"-\").str[0].astype(int)\n",
    "    df[\"End\"] = df[\"position\"].str.split(\"-\").str[1].str.split(\"[\").str[0].astype(int)\n",
    "    df_result = df[[\"Chr name\", \"Start\", \"End\", \"ID\"]]\n",
    "    df_result = df_result.sort_values([\"Chr name\", \"Start\"])\n",
    "    result_file = os.path.join(result_dir, \"%s.bed\" % mirna)\n",
    "    df_result.to_csv(result_file, sep=\"\\t\", header=False, index=False)"
   ]
  },
  {
   "cell_type": "markdown",
   "metadata": {},
   "source": [
    "#### Generate Data Table"
   ]
  },
  {
   "cell_type": "code",
   "execution_count": 33,
   "metadata": {},
   "outputs": [],
   "source": [
    "# Map m6a-related eQTL SNPs to the miRNA sites\n",
    "##############################################################################################\n",
    "data_dir = \"/home/galaxy/data/miRNA_area/starBase2/GRCh38_bed_dir\"\n",
    "eqtl_dir = \"/home/galaxy/data/QTL/m6a_related_SNPs/eQTL/m6a_qtl_bed/\"\n",
    "result_dir = \"/home/galaxy/project/QTL_analysis/related_with_miRNA/eQTL/data_table\"\n",
    "##############################################################################################\n",
    "mirna_list = glob.glob(\"%s/*.bed\" % data_dir)\n",
    "eqtl_list = glob.glob(\"%s/*.bed\" % eqtl_dir)\n",
    "for eqtl in eqtl_list:\n",
    "    for mirna in mirna_list:\n",
    "        basename = \"%s-%s\" % (os.path.basename(eqtl).split(\".bed\")[0], os.path.basename(mirna))\n",
    "        result_file = os.path.join(result_dir, basename)\n",
    "        os.system(\"bedtools intersect -a %s -b %s -wa -wb > %s\" % (eqtl, mirna, result_file))"
   ]
  },
  {
   "cell_type": "markdown",
   "metadata": {},
   "source": [
    "#### Enrichment analysis"
   ]
  },
  {
   "cell_type": "code",
   "execution_count": 30,
   "metadata": {},
   "outputs": [],
   "source": [
    "data_dir = \"/home/galaxy/data/miRNA_area/starBase2/GRCh38_bed_dir\"\n",
    "mirna_list = glob.glob(\"%s/*.bed\" % data_dir)\n",
    "eQTL_dir = \"/home/galaxy/data/QTL/m6a_related_SNPs/eQTL/m6a_qtl_bed/\"\n",
    "eQTL_list = glob.glob(\"%s/*.bed\" % eQTL_dir)\n",
    "HapMap_NUMBER = 81039058\n",
    "result_dir = \"/home/galaxy/project/QTL_analysis/related_with_miRNA/eQTL/Fisher_exact_test\""
   ]
  },
  {
   "cell_type": "code",
   "execution_count": 31,
   "metadata": {},
   "outputs": [],
   "source": [
    "def write_to_file(res_list, res_file):\n",
    "    res_list = [\"%s\\n\" % x.get() for x in res_list]\n",
    "    with open(res_file, \"w\") as fw:\n",
    "        fw.writelines(res_list)\n",
    "\n",
    "def fisher_test(eqtl_bed, RPB_bed):\n",
    "         #              RPB_bed       x\n",
    "        # QTL_SNP         a       m6a - a\n",
    "        # HapMap_SNP      c       con - c\n",
    "    QTL_num = stat_file_line_numbers(eqtl_bed)\n",
    "    a = os.popen(\"bedtools intersect -a %s -b %s -wa |sort| uniq | wc -l\" % (eqtl_bed, RPB_bed)).read()\n",
    "    c = os.popen(\"bedtools intersect -a %s -b %s -wa |sort| uniq | wc -l\" % (HapMap_snp, RPB_bed)).read()\n",
    "    b, d = QTL_num - int(a), HapMap_NUMBER - int(c)\n",
    "    oddsratio, pvalue = stats.fisher_exact([[int(a), b], [int(c), d]])\n",
    "    line=\"%s\\t%s\\t%f\\t%f\"%(os.path.basename(eqtl_bed).split(\"-\")[0], os.path.basename(RPB_bed), oddsratio, pvalue)\n",
    "    return line\n",
    "\n",
    "def stat_file_line_numbers(in_file):\n",
    "    raw_return = os.popen(\"wc -l %s\" % in_file)\n",
    "    line_num = int(raw_return.read().split()[0])\n",
    "    return line_num\n",
    "\n",
    "#####\n",
    "for eqtl in eQTL_list:\n",
    "    res_list, pool = [], Pool(processes=30)\n",
    "    for mirna in mirna_list:\n",
    "#         res_list = fisher_test(eqtl, rbp)\n",
    "        res = pool.apply_async(fisher_test, (eqtl, mirna, ))\n",
    "        res_list.append(res)\n",
    "    pool.close()\n",
    "    pool.join()\n",
    "    write_to_file(res_list, os.path.join(result_dir, os.path.basename(eqtl).split(\"-\")[0]))"
   ]
  }
 ],
 "metadata": {
  "kernelspec": {
   "display_name": "Python 3",
   "language": "python",
   "name": "python3"
  },
  "language_info": {
   "codemirror_mode": {
    "name": "ipython",
    "version": 3
   },
   "file_extension": ".py",
   "mimetype": "text/x-python",
   "name": "python",
   "nbconvert_exporter": "python",
   "pygments_lexer": "ipython3",
   "version": "3.6.6"
  }
 },
 "nbformat": 4,
 "nbformat_minor": 2
}
