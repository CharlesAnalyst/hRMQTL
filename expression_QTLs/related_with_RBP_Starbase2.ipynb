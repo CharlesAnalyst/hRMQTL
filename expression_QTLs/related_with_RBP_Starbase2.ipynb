{
 "cells": [
  {
   "cell_type": "code",
   "execution_count": 7,
   "metadata": {},
   "outputs": [],
   "source": [
    "import os\n",
    "import sys\n",
    "import csv\n",
    "import datetime\n",
    "import shutil\n",
    "import random\n",
    "import glob\n",
    "import pandas as pd\n",
    "from multiprocessing import Pool\n",
    "import numpy as np\n",
    "from scipy import stats\n",
    "import subprocess"
   ]
  },
  {
   "cell_type": "code",
   "execution_count": 2,
   "metadata": {},
   "outputs": [],
   "source": [
    "# formatted by lzg"
   ]
  },
  {
   "cell_type": "code",
   "execution_count": 3,
   "metadata": {},
   "outputs": [],
   "source": [
    "#########\n",
    "rbp_dir = \"/home/galaxy/data/RBP/Starbase2/2019_2_20\"\n",
    "lncRNA = \"%s/LncRNA_total.txt\" % rbp_dir\n",
    "mRNA = \"%s/mRNA_total.txt\" % rbp_dir\n",
    "Pseudogene = \"%s/Pseudogene_total.txt\" % rbp_dir\n",
    "SncRNA = \"%s/SncRNA_total.txt\" % rbp_dir\n",
    "###\n",
    "files = [lncRNA, mRNA, Pseudogene, SncRNA]\n",
    "# rbp = os.path.join(rbp_dir, \"\")\n",
    "# os.system(\"cat %s > %s\" % (files, ))\n",
    "#########\n",
    "tmp_dir = \"/home/galaxy/data/RBP/Starbase2/2019_1_22/tmp\"\n",
    "if not os.path.exists(tmp_dir):\n",
    "    os.makedirs(tmp_dir)\n",
    "result_dir = \"/home/galaxy/data/RBP/Starbase2/2019_2_20/GRCh38_bed_dir\""
   ]
  },
  {
   "cell_type": "markdown",
   "metadata": {},
   "source": [
    "#### Generate Data Table"
   ]
  },
  {
   "cell_type": "code",
   "execution_count": 9,
   "metadata": {},
   "outputs": [],
   "source": [
    "###################################################################################\n",
    "rbp_dir =\"/home/galaxy/data/RBP/Starbase2/2019_2_20/GRCh38_merged_dir/\"\n",
    "eQTL_dir = \"/home/galaxy/data/QTL/m6a_related_SNPs/eQTL/m6a_qtl_bed/\"\n",
    "result_dir = \"/home/galaxy/project/QTL_analysis/related_with_RBP/Starbase2/data_table\"\n",
    "######################################################################################\n",
    "rbp_list = glob.glob(\"%s/*.bed\" % rbp_dir)\n",
    "eqtl_list = glob.glob(\"%s/*.bed\" % eQTL_dir)\n",
    "for eqtl in eqtl_list:\n",
    "    for rbp in rbp_list:\n",
    "        basename = \"%s-%s\" % (os.path.basename(eqtl).split(\".bed\")[0], os.path.basename(rbp))\n",
    "        result_file = os.path.join(result_dir, basename)\n",
    "        os.system(\"bedtools intersect -a %s -b %s -wa -wb > %s\" % (eqtl, rbp, result_file))"
   ]
  },
  {
   "cell_type": "markdown",
   "metadata": {},
   "source": [
    "#### Enrichment analysis"
   ]
  },
  {
   "cell_type": "code",
   "execution_count": 4,
   "metadata": {},
   "outputs": [],
   "source": [
    "rbp_dir = \"/home/galaxy/data/RBP/Starbase2/2019_2_20/GRCh38_merged_dir/\"\n",
    "eQTL_dir = \"/home/galaxy/data/QTL/m6a_related_SNPs/eQTL/m6a_qtl_bed/\"\n",
    "HapMap_snp = \"/home/galaxy/data/QTL/HapMap_SNP/autosomal_GRCh38_snp.bed\"\n",
    "result_dir = \"/home/galaxy/project/QTL_analysis/related_with_RBP/Starbase2/Fisher_test\"\n",
    "rbp_list = glob.glob(\"%s/*.bed\" % rbp_dir)\n",
    "eQTL_list = glob.glob(\"%s/*.bed\" % eQTL_dir)\n",
    "HapMap_NUMBER = 81039058"
   ]
  },
  {
   "cell_type": "code",
   "execution_count": 8,
   "metadata": {},
   "outputs": [],
   "source": [
    "# run this at tonight 20:00\n",
    "def write_to_file(res_list, res_file):\n",
    "    res_list = [\"%s\\n\" % x.get() for x in res_list]\n",
    "    with open(res_file, \"w\") as fw:\n",
    "        fw.writelines(res_list)\n",
    "\n",
    "def fisher_test(eqtl_bed, RPB_bed):\n",
    "         #              RPB_bed       x\n",
    "        # QTL_SNP         a       m6a - a\n",
    "        # HapMap_SNP      c       con - c\n",
    "    QTL_num = stat_file_line_numbers(eqtl_bed)\n",
    "    a = os.popen(\"bedtools intersect -a %s -b %s -wa |sort| uniq | wc -l\" % (eqtl_bed, RPB_bed)).read()\n",
    "    c = os.popen(\"bedtools intersect -a %s -b %s -wa |sort| uniq | wc -l\" % (HapMap_snp, RPB_bed)).read()\n",
    "    b, d = QTL_num - int(a), HapMap_NUMBER - int(c)\n",
    "    oddsratio, pvalue = stats.fisher_exact([[int(a), b], [int(c), d]])\n",
    "    line=\"%s\\t%s\\t%f\\t%f\"%(os.path.basename(eqtl_bed).split(\"-\")[0], os.path.basename(RPB_bed), oddsratio, pvalue)\n",
    "    return line\n",
    "\n",
    "def stat_file_line_numbers(in_file):\n",
    "    raw_return = os.popen(\"wc -l %s\" % in_file)\n",
    "    line_num = int(raw_return.read().split()[0])\n",
    "    return line_num\n",
    "\n",
    "#####\n",
    "for eqtl in eQTL_list:\n",
    "    res_list, pool = [], Pool(processes=30)\n",
    "#     for mirna in mirna_list:\n",
    "    for rbp in rbp_list:\n",
    "#         res_list = fisher_test(eqtl, rbp)\n",
    "        res = pool.apply_async(fisher_test, (eqtl, rbp, ))\n",
    "        res_list.append(res)\n",
    "    pool.close()\n",
    "    pool.join()\n",
    "    write_to_file(res_list, os.path.join(result_dir, os.path.basename(eqtl).split(\"-\")[0]))"
   ]
  }
 ],
 "metadata": {
  "kernelspec": {
   "display_name": "Python 3",
   "language": "python",
   "name": "python3"
  },
  "language_info": {
   "codemirror_mode": {
    "name": "ipython",
    "version": 3
   },
   "file_extension": ".py",
   "mimetype": "text/x-python",
   "name": "python",
   "nbconvert_exporter": "python",
   "pygments_lexer": "ipython3",
   "version": "3.6.6"
  }
 },
 "nbformat": 4,
 "nbformat_minor": 2
}
