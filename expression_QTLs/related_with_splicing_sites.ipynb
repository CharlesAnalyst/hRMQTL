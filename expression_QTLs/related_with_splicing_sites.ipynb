{
 "cells": [
  {
   "cell_type": "code",
   "execution_count": 14,
   "metadata": {},
   "outputs": [],
   "source": [
    "import os\n",
    "import sys\n",
    "import shutil\n",
    "import random\n",
    "import glob\n",
    "from collections import Counter\n",
    "import pandas as pd\n",
    "import numpy as np\n",
    "from scipy import stats\n",
    "import subprocess\n",
    "from multiprocessing import Pool"
   ]
  },
  {
   "cell_type": "code",
   "execution_count": 3,
   "metadata": {},
   "outputs": [],
   "source": [
    "# Map m6a-related eQTL SNPs to the splicing sites\n",
    "##############################################################################################\n",
    "eqtl_dir = \"/home/galaxy/data/QTL/m6a_related_SNPs/eQTL/m6a_qtl_bed/\"\n",
    "sp_bed = \"/home/galaxy/data/splicing_sites/splice_sites_flank.bed\"\n",
    "result_dir = \"/home/galaxy/project/QTL_analysis/related_with_splicing/eQTL\"\n",
    "##############################################################################################\n",
    "eqtl_list = glob.glob(\"%s/*.bed\" % eqtl_dir)\n",
    "for eqtl in eqtl_list:\n",
    "    result_file = os.path.join(result_dir, os.path.basename(eqtl).replace(\".bed\", \".bed\"))\n",
    "    os.system(\"bedtools intersect -a %s -b %s -wa -wb > %s\" % (eqtl, sp_bed, result_file))"
   ]
  },
  {
   "cell_type": "code",
   "execution_count": 10,
   "metadata": {},
   "outputs": [
    {
     "name": "stderr",
     "output_type": "stream",
     "text": [
      "/home/galaxy/anaconda3/lib/python3.6/site-packages/ipykernel_launcher.py:14: SettingWithCopyWarning: \n",
      "A value is trying to be set on a copy of a slice from a DataFrame.\n",
      "Try using .loc[row_indexer,col_indexer] = value instead\n",
      "\n",
      "See the caveats in the documentation: http://pandas.pydata.org/pandas-docs/stable/indexing.html#indexing-view-versus-copy\n",
      "  \n"
     ]
    }
   ],
   "source": [
    "# Stat the number of gene isoforms\n",
    "#~2min\n",
    "#################################################################################\n",
    "result_dir = \"/home/galaxy/project/QTL_analysis/related_with_splicing\"\n",
    "human_gff = \"/data/database/GRCh38/GENCODE/gencode.v27.annotation.gff3\"\n",
    "res_count = os.path.join(result_dir, \"isoform_count.txt\")\n",
    "gene_bed = os.path.join(result_dir, \"GRCh38_gene.bed\")\n",
    "# human_gff = \"/home/galaxy/data/splicing_sites/test.gff3\"\n",
    "####################################################################################\n",
    "names = [\"Chr\", \"DB\", \"Feature\", \"Start\", \"End\", \"Pot_1\", \"Strand\", \"Pot_2\", \"Info\"]\n",
    "df = pd.read_table(human_gff, sep=\"\\t\", header=None, names=names, comment=\"#\")\n",
    "df[\"Gene_id\"] = df[\"Info\"].str.split(\"gene_id=\").str[1].str.split(\";\").str[0]\n",
    "df_sub = df[(df[\"Feature\"] == \"gene\") | (df[\"Feature\"] == \"transcript\")]\n",
    "df_sub[\"dot\"] = \".\"\n",
    "df_bed = df_sub[[\"Chr\", \"Start\", \"End\", \"Gene_id\", \"dot\", \"Strand\", \"Feature\"]]\n",
    "# print(df_bed.head())\n",
    "df_gene = df_bed[df_bed[\"Feature\"] == \"gene\"][[\"Chr\", \"Start\", \"End\", \"Gene_id\", \"dot\", \"Strand\"]]\n",
    "df_gene.to_csv(gene_bed, sep=\"\\t\", header=False, index=False)\n",
    "#\n",
    "df_res = df_bed.groupby([\"Gene_id\"]).apply(count_isoform)\n",
    "df_res.to_csv(res_count, sep=\"\\t\", header=False) # , index=False"
   ]
  },
  {
   "cell_type": "code",
   "execution_count": 8,
   "metadata": {},
   "outputs": [],
   "source": [
    "def count_isoform(df):\n",
    "    count = 0\n",
    "    f_list = df[\"Feature\"].tolist()\n",
    "    for x in f_list:\n",
    "        if x == \"transcript\":\n",
    "            count += 1\n",
    "    return count"
   ]
  },
  {
   "cell_type": "code",
   "execution_count": 32,
   "metadata": {},
   "outputs": [],
   "source": [
    "# eQTL SNPs overlap with Gene\n",
    "result_dir = \"/home/galaxy/project/QTL_analysis/related_with_splicing/eQTL/snp_and_isoform\"\n",
    "########\n",
    "data_dir = \"/home/galaxy/project/QTL_analysis/related_with_splicing/\"\n",
    "res_count = os.path.join(data_dir, \"isoform_count.txt\")\n",
    "df_count = pd.read_table(res_count, sep=\"\\t\", header=None, names=[\"Gene ID\", \"Number\"])\n",
    "iso_dict = dict(zip(df_count[\"Gene ID\"], df_count[\"Number\"]))\n",
    "gene_bed = os.path.join(data_dir, \"GRCh38_gene.bed\")\n",
    "#######\n",
    "eqtl_dir = \"/home/galaxy/data/QTL/m6a_related_SNPs/eQTL/m6a_qtl_bed/\"\n",
    "##############################################################################################\n",
    "eqtl_list = glob.glob(\"%s/*.bed\" % eqtl_dir)\n",
    "for eqtl in eqtl_list:\n",
    "    result_file = os.path.join(result_dir, os.path.basename(eqtl).replace(\".bed\", \".txt\"))\n",
    "    command = \"bedtools intersect -a %s -b %s -wa -wb | cut -f 8\" % (eqtl, gene_bed)\n",
    "    sub_p = subprocess.Popen(command, shell=True, stdout=subprocess.PIPE)\n",
    "    genes_str = str(sub_p.communicate()[0].decode('utf-8').strip()) #\n",
    "    gene_list = [x.strip() for x in genes_str.split(\"\\n\")] #\n",
    "    num_dict = Counter(gene_list)\n",
    "    snps, isos = [], []\n",
    "    for gene, snp_num in dict(num_dict).items():\n",
    "        if gene in iso_dict:\n",
    "            iso_num = iso_dict[gene]\n",
    "            isos.append(str(iso_num))\n",
    "            snps.append(str(snp_num))\n",
    "#                 fw.write(\"%s\\t%s\\n\" % (str(iso_num), str(snp_num)))\n",
    "        else:\n",
    "            print(\"%s not in isoform_count.txt\" % gene)\n",
    "    res_dict = {}\n",
    "    for i in range(len(isos)):\n",
    "        res_dict[isos[i]] = res_dict.get(isos[i], []) + [int(snps[i])]\n",
    "    with open(result_file, 'w') as fw:\n",
    "        for iso, snp in res_dict.items():\n",
    "            fw.write(\"%s\\t%s\\n\" % (iso, str(sum(snp))))"
   ]
  }
 ],
 "metadata": {
  "kernelspec": {
   "display_name": "Python 3",
   "language": "python",
   "name": "python3"
  },
  "language_info": {
   "codemirror_mode": {
    "name": "ipython",
    "version": 3
   },
   "file_extension": ".py",
   "mimetype": "text/x-python",
   "name": "python",
   "nbconvert_exporter": "python",
   "pygments_lexer": "ipython3",
   "version": "3.6.6"
  }
 },
 "nbformat": 4,
 "nbformat_minor": 2
}
