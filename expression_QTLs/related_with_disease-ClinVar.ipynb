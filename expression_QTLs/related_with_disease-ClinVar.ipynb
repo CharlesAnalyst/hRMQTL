{
 "cells": [
  {
   "cell_type": "code",
   "execution_count": 1,
   "metadata": {},
   "outputs": [],
   "source": [
    "import os\n",
    "import sys\n",
    "import csv\n",
    "import datetime\n",
    "import shutil\n",
    "import random\n",
    "import glob\n",
    "import pandas as pd\n",
    "import numpy as np\n",
    "from scipy import stats\n",
    "import subprocess"
   ]
  },
  {
   "cell_type": "code",
   "execution_count": 3,
   "metadata": {},
   "outputs": [],
   "source": [
    "clinvar = \"/home/galaxy/data/disease/ClinVar/total_result.txt\"\n",
    "eqtl_dir = \"/home/galaxy/data/QTL/m6a_related_SNPs/eQTL/m6a_qtl_bed/\"\n",
    "eqtl_list = glob.glob(\"%s/*.bed\" % eqtl_dir)\n",
    "result_dir = \"/home/galaxy/project/QTL_analysis/related_with_disease/ClinVar/eQTL\""
   ]
  },
  {
   "cell_type": "code",
   "execution_count": 7,
   "metadata": {},
   "outputs": [
    {
     "data": {
      "text/html": [
       "<div>\n",
       "<style scoped>\n",
       "    .dataframe tbody tr th:only-of-type {\n",
       "        vertical-align: middle;\n",
       "    }\n",
       "\n",
       "    .dataframe tbody tr th {\n",
       "        vertical-align: top;\n",
       "    }\n",
       "\n",
       "    .dataframe thead th {\n",
       "        text-align: right;\n",
       "    }\n",
       "</style>\n",
       "<table border=\"1\" class=\"dataframe\">\n",
       "  <thead>\n",
       "    <tr style=\"text-align: right;\">\n",
       "      <th></th>\n",
       "      <th>Disease</th>\n",
       "      <th>ID</th>\n",
       "      <th>Accession</th>\n",
       "      <th>Revies status</th>\n",
       "      <th>Rs ID</th>\n",
       "      <th>Significant</th>\n",
       "      <th>Study name</th>\n",
       "    </tr>\n",
       "  </thead>\n",
       "  <tbody>\n",
       "    <tr>\n",
       "      <th>0</th>\n",
       "      <td>multiple conditions</td>\n",
       "      <td>36037642</td>\n",
       "      <td>SCV000266334.1</td>\n",
       "      <td>no assertion criteria provided</td>\n",
       "      <td>rs758432471</td>\n",
       "      <td>Pathogenic</td>\n",
       "      <td>UniProtKB:ClinVar:OMIM:HGNC:MedGen:HP:ClinGen</td>\n",
       "    </tr>\n",
       "    <tr>\n",
       "      <th>1</th>\n",
       "      <td>Left ventricular noncompaction cardiomyopathy</td>\n",
       "      <td>36540647</td>\n",
       "      <td>SCV000390731.2</td>\n",
       "      <td>criteria provided, single submitter</td>\n",
       "      <td>rs886051092</td>\n",
       "      <td>Uncertain significance</td>\n",
       "      <td>ClinVar:OMIM:HGNC:MedGen:ClinGen</td>\n",
       "    </tr>\n",
       "    <tr>\n",
       "      <th>2</th>\n",
       "      <td>See cases</td>\n",
       "      <td>27389576</td>\n",
       "      <td>SCV000584735.1</td>\n",
       "      <td>no assertion criteria provided</td>\n",
       "      <td>NaN</td>\n",
       "      <td>Microarray</td>\n",
       "      <td>HGNC:dbVar:HP:OMIM</td>\n",
       "    </tr>\n",
       "    <tr>\n",
       "      <th>3</th>\n",
       "      <td>Porphobilinogen synthase deficiency</td>\n",
       "      <td>35468001</td>\n",
       "      <td>SCV000476652.2</td>\n",
       "      <td>criteria provided, single submitter</td>\n",
       "      <td>rs142213018</td>\n",
       "      <td>Likely benign</td>\n",
       "      <td>SNOMED CT:ClinVar:OMIM:HGNC:Orphanet:MedGen:Cl...</td>\n",
       "    </tr>\n",
       "    <tr>\n",
       "      <th>4</th>\n",
       "      <td>not specified</td>\n",
       "      <td>36562345</td>\n",
       "      <td>SCV000332741.4</td>\n",
       "      <td>criteria provided, single submitter</td>\n",
       "      <td>rs201967064</td>\n",
       "      <td>Likely benign</td>\n",
       "      <td>ClinVar:OMIM:HGNC:MedGen:ClinGen</td>\n",
       "    </tr>\n",
       "  </tbody>\n",
       "</table>\n",
       "</div>"
      ],
      "text/plain": [
       "                                         Disease        ID       Accession  \\\n",
       "0                            multiple conditions  36037642  SCV000266334.1   \n",
       "1  Left ventricular noncompaction cardiomyopathy  36540647  SCV000390731.2   \n",
       "2                                      See cases  27389576  SCV000584735.1   \n",
       "3            Porphobilinogen synthase deficiency  35468001  SCV000476652.2   \n",
       "4                                  not specified  36562345  SCV000332741.4   \n",
       "\n",
       "                         Revies status        Rs ID             Significant  \\\n",
       "0       no assertion criteria provided  rs758432471              Pathogenic   \n",
       "1  criteria provided, single submitter  rs886051092  Uncertain significance   \n",
       "2       no assertion criteria provided          NaN              Microarray   \n",
       "3  criteria provided, single submitter  rs142213018           Likely benign   \n",
       "4  criteria provided, single submitter  rs201967064           Likely benign   \n",
       "\n",
       "                                          Study name  \n",
       "0      UniProtKB:ClinVar:OMIM:HGNC:MedGen:HP:ClinGen  \n",
       "1                   ClinVar:OMIM:HGNC:MedGen:ClinGen  \n",
       "2                                 HGNC:dbVar:HP:OMIM  \n",
       "3  SNOMED CT:ClinVar:OMIM:HGNC:Orphanet:MedGen:Cl...  \n",
       "4                   ClinVar:OMIM:HGNC:MedGen:ClinGen  "
      ]
     },
     "execution_count": 7,
     "metadata": {},
     "output_type": "execute_result"
    }
   ],
   "source": [
    "names = [\"Disease\", \"ID\", \"Accession\", \"Revies status\", \"Rs ID\", \"Significant\", \"Study name\"]\n",
    "df_clinvar = pd.read_table(clinvar, sep=\"\\t\", header=None, names=names)\n",
    "df_clinvar.head()"
   ]
  },
  {
   "cell_type": "code",
   "execution_count": 11,
   "metadata": {},
   "outputs": [],
   "source": [
    "for eqtl in eqtl_list:\n",
    "    result_file = os.path.join(result_dir, os.path.basename(eqtl).replace(\".bed\", \".txt\"))\n",
    "    df_eqtl = pd.read_table(eqtl, sep=\"\\t\", header=None, names=[\"Chr\", \"Start\", \"End\", \"Info\"])\n",
    "    df_eqtl[\"Rs ID\"] = df_eqtl.iloc[:, 3].str.split(\";\").str[2]\n",
    "    df_eqtl[\"Gene\"] = df_eqtl.iloc[:, 3].str.split(\";\").str[0]\n",
    "#     print(df_eqtl.head())\n",
    "    df_merge = df_eqtl.merge(df_clinvar, how=\"left\")\n",
    "    df_merge.to_csv(result_file, sep=\"\\t\", index=False)"
   ]
  },
  {
   "cell_type": "markdown",
   "metadata": {},
   "source": [
    "#### parse ClinVar result"
   ]
  },
  {
   "cell_type": "code",
   "execution_count": 3,
   "metadata": {},
   "outputs": [
    {
     "name": "stdout",
     "output_type": "stream",
     "text": [
      "    Chr    Start      End                                               Info  \\\n",
      "0  chr1   843188   843189  ENSG00000188976.6;0.0125;rs2977615;A;G;chr1:84...   \n",
      "1  chr1   857099   857100  ENSG00000188976.6;0.0125;rs2905036;C;T;chr1:85...   \n",
      "2  chr1  1300329  1300330  ENSG00000235098.4;0.1625;rs640712;T;A;chr1:130...   \n",
      "3  chr1  1307602  1307603  ENSG00000235098.4;0.1625;rs2887285;G;A;chr1:13...   \n",
      "4  chr1  1319062  1319063  ENSG00000235098.4;0.125;rs1886772;G;A;chr1:131...   \n",
      "\n",
      "       Rs ID               Gene Disease  ID Accession Revies status  \\\n",
      "0  rs2977615  ENSG00000188976.6     NaN NaN       NaN           NaN   \n",
      "1  rs2905036  ENSG00000188976.6     NaN NaN       NaN           NaN   \n",
      "2   rs640712  ENSG00000235098.4     NaN NaN       NaN           NaN   \n",
      "3  rs2887285  ENSG00000235098.4     NaN NaN       NaN           NaN   \n",
      "4  rs1886772  ENSG00000235098.4     NaN NaN       NaN           NaN   \n",
      "\n",
      "  Significant Study name  \n",
      "0         NaN        NaN  \n",
      "1         NaN        NaN  \n",
      "2         NaN        NaN  \n",
      "3         NaN        NaN  \n",
      "4         NaN        NaN  \n",
      "      Chr      Start        End  \\\n",
      "86   chr1  212858366  212858367   \n",
      "87   chr1  212858605  212858606   \n",
      "88   chr1  212858605  212858606   \n",
      "91   chr1  234373512  234373513   \n",
      "168  chr2  190319748  190319749   \n",
      "\n",
      "                                                  Info       Rs ID  \\\n",
      "86   ENSG00000198468.3;0.5;rs2201603;C;G,T;chr1:212...   rs2201603   \n",
      "87   ENSG00000198468.3;0.5;rs11120047;G;C,T;chr1:21...  rs11120047   \n",
      "88   ENSG00000198468.3;0.5;rs11120047;G;C,T;chr1:21...  rs11120047   \n",
      "91   ENSG00000168275.10;0.4375;rs10910420;G;C,T;chr...  rs10910420   \n",
      "168  ENSG00000198130.10;0.3875;rs291466;A;G;chr2:19...    rs291466   \n",
      "\n",
      "                   Gene                                            Disease  \\\n",
      "86    ENSG00000198468.3  Posterior column ataxia with retinitis pigmentosa   \n",
      "87    ENSG00000198468.3  Posterior column ataxia with retinitis pigmentosa   \n",
      "88    ENSG00000198468.3                                      not specified   \n",
      "91   ENSG00000168275.10                                      not specified   \n",
      "168  ENSG00000198130.10                                      not specified   \n",
      "\n",
      "             ID       Accession                        Revies status  \\\n",
      "86   36101243.0  SCV000353957.2  criteria provided, single submitter   \n",
      "87   36558234.0  SCV000744814.1  criteria provided, single submitter   \n",
      "88   36500380.0  SCV000339817.4  criteria provided, single submitter   \n",
      "91   36220578.0  SCV000517657.4  criteria provided, single submitter   \n",
      "168  36232021.0  SCV000517593.4  criteria provided, single submitter   \n",
      "\n",
      "    Significant                                   Study name  \n",
      "86       Benign    ClinVar:OMIM:HGNC:Orphanet:MedGen:ClinGen  \n",
      "87       Benign  UniProtKB:OMIM:HGNC:Orphanet:MedGen:ClinGen  \n",
      "88       Benign           UniProtKB:OMIM:HGNC:MedGen:ClinGen  \n",
      "91       Benign             ClinVar:OMIM:HGNC:MedGen:ClinGen  \n",
      "168      Benign             ClinVar:OMIM:HGNC:MedGen:ClinGen  \n"
     ]
    },
    {
     "ename": "SystemExit",
     "evalue": "1",
     "output_type": "error",
     "traceback": [
      "An exception has occurred, use %tb to see the full traceback.\n",
      "\u001b[0;31mSystemExit\u001b[0m\u001b[0;31m:\u001b[0m 1\n"
     ]
    },
    {
     "name": "stderr",
     "output_type": "stream",
     "text": [
      "/home/galaxy/anaconda3/lib/python3.6/site-packages/IPython/core/interactiveshell.py:3275: UserWarning: To exit: use 'exit', 'quit', or Ctrl-D.\n",
      "  warn(\"To exit: use 'exit', 'quit', or Ctrl-D.\", stacklevel=1)\n"
     ]
    }
   ],
   "source": [
    "raw_dir = \"/home/galaxy/project/QTL_analysis/related_with_disease/ClinVar/eQTL\"\n",
    "raw_list = glob.glob(\"%s/*.txt\" % raw_dir)\n",
    "for raw in raw_list:\n",
    "    df = pd.read_table(raw, sep=\"\\t\")\n",
    "    print(df.head())\n",
    "    df_disease = df[~df[\"Disease\"].isna()]\n",
    "    print(df_disease.head())\n",
    "    sys.exit(1)"
   ]
  }
 ],
 "metadata": {
  "kernelspec": {
   "display_name": "Python 3",
   "language": "python",
   "name": "python3"
  },
  "language_info": {
   "codemirror_mode": {
    "name": "ipython",
    "version": 3
   },
   "file_extension": ".py",
   "mimetype": "text/x-python",
   "name": "python",
   "nbconvert_exporter": "python",
   "pygments_lexer": "ipython3",
   "version": "3.6.7"
  }
 },
 "nbformat": 4,
 "nbformat_minor": 2
}
